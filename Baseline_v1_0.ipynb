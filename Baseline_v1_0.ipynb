{
  "nbformat": 4,
  "nbformat_minor": 0,
  "metadata": {
    "colab": {
      "name": "Baseline_v1.0.ipynb",
      "provenance": [],
      "authorship_tag": "ABX9TyM8VmoYbrafNGLFMAx+RRPF",
      "include_colab_link": true
    },
    "kernelspec": {
      "name": "python3",
      "display_name": "Python 3"
    },
    "language_info": {
      "name": "python"
    },
    "accelerator": "GPU"
  },
  "cells": [
    {
      "cell_type": "markdown",
      "metadata": {
        "id": "view-in-github",
        "colab_type": "text"
      },
      "source": [
        "<a href=\"https://colab.research.google.com/github/SongheeJo/aiffelthon/blob/main/Baseline_v1_0.ipynb\" target=\"_parent\"><img src=\"https://colab.research.google.com/assets/colab-badge.svg\" alt=\"Open In Colab\"/></a>"
      ]
    },
    {
      "cell_type": "markdown",
      "source": [
        "1. **Load data**\n",
        "    1. sampling rate 지정\n",
        "        \n",
        "        respireNet에서는 4kHz로 down sampling\n",
        "\n",
        "    2. librosa.load 사용\n",
        "    \n",
        "    load 시 sampling rate 파라미터로 전체 data에 일괄 적용 가능\n",
        "\n",
        "2. **Pre-processing**\n",
        "    1. better SNR\n",
        "        - `tfio.experimental.audio.trim()` tensorflow-io 패키지 노이즈 제거 ⇒ 들어보기\n",
        "        - split & pad\n",
        "            - 7초?\n",
        "            - padding\n",
        "              tfio.experimental.audio.fade tensorflow-io 패키지 페이딩 기술 ⇒ 현재 data에도 유용할까?\n",
        "        - butterworth filter\n",
        "            - `scipy.signal.butter()`\n",
        "\n",
        "3. **Train_val_test_split**\n",
        "    1. data imbalance 해결을 위해 파라미터 stratify 조정\n",
        "\n",
        "4. **Augmentation**\n",
        "    1. 일단 없이 진행 후 결과 보기\n",
        "    2. 구현된 기본적인 augmentation 방법 적용해보고 결과 보기\n",
        "        - 각 방법 별로 얼마나 결과가 좋아졌는지 저장 해둘 것\n",
        "        - 각각 했을 때 vs 몇 개 같이 했을 때 결과 비교\n",
        "\n",
        "\n",
        "5. **Feature Extraction**\n",
        "\n",
        "6. **Build model**\n",
        "   - transfer learning\n",
        "\n",
        "7. **Evaluate**\n",
        "    1. classification report text file 로 저장하는 module 생성\n",
        "    2. recall 값과 f1 값"
      ],
      "metadata": {
        "id": "ukanzdUsBMka"
      }
    },
    {
      "cell_type": "markdown",
      "source": [
        "## 1. Load data"
      ],
      "metadata": {
        "id": "R5__MIb8CkrH"
      }
    },
    {
      "cell_type": "code",
      "execution_count": 1,
      "metadata": {
        "id": "ZFblUJaS-iM8",
        "colab": {
          "base_uri": "https://localhost:8080/"
        },
        "outputId": "f972940c-ab98-4fa0-ee09-25237e8277be"
      },
      "outputs": [
        {
          "output_type": "stream",
          "name": "stdout",
          "text": [
            "Mounted at /content/drive\n"
          ]
        }
      ],
      "source": [
        "from google.colab import drive\n",
        "drive.mount('/content/drive')"
      ]
    },
    {
      "cell_type": "code",
      "source": [
        "import numpy as np\n",
        "import pandas as pd\n",
        "import tensorflow as tf\n",
        "from tensorflow import keras\n",
        "import matplotlib.pyplot as plt\n",
        "import seaborn as sns\n",
        "import librosa.display\n",
        "import soundfile as sf\n",
        "import librosa as lb\n",
        "import os\n",
        "\n",
        "root = '/content/drive/MyDrive/aiffel/aiffelthon/'"
      ],
      "metadata": {
        "id": "spwnbKjyCoq1"
      },
      "execution_count": 2,
      "outputs": []
    },
    {
      "cell_type": "markdown",
      "source": [
        "###Data analysis (Disease)\n",
        "crack & wheeze는 나중에\n"
      ],
      "metadata": {
        "id": "nKfYwg7c-o42"
      }
    },
    {
      "cell_type": "code",
      "source": [
        "diagnosis=pd.read_csv(root + 'archive/Respiratory_Sound_Database/Respiratory_Sound_Database/patient_diagnosis.csv',names=['pid','disease'])\n",
        "diagnosis.head()"
      ],
      "metadata": {
        "id": "9j70wJrvDD5f",
        "colab": {
          "base_uri": "https://localhost:8080/",
          "height": 206
        },
        "outputId": "8672eed2-14d8-4362-c5b9-fb79ddf7f117"
      },
      "execution_count": 7,
      "outputs": [
        {
          "output_type": "execute_result",
          "data": {
            "text/plain": [
              "   pid  disease\n",
              "0  101     URTI\n",
              "1  102  Healthy\n",
              "2  103   Asthma\n",
              "3  104     COPD\n",
              "4  105     URTI"
            ],
            "text/html": [
              "\n",
              "  <div id=\"df-d21e9e94-b145-4b7c-9207-68c7f6a15dc4\">\n",
              "    <div class=\"colab-df-container\">\n",
              "      <div>\n",
              "<style scoped>\n",
              "    .dataframe tbody tr th:only-of-type {\n",
              "        vertical-align: middle;\n",
              "    }\n",
              "\n",
              "    .dataframe tbody tr th {\n",
              "        vertical-align: top;\n",
              "    }\n",
              "\n",
              "    .dataframe thead th {\n",
              "        text-align: right;\n",
              "    }\n",
              "</style>\n",
              "<table border=\"1\" class=\"dataframe\">\n",
              "  <thead>\n",
              "    <tr style=\"text-align: right;\">\n",
              "      <th></th>\n",
              "      <th>pid</th>\n",
              "      <th>disease</th>\n",
              "    </tr>\n",
              "  </thead>\n",
              "  <tbody>\n",
              "    <tr>\n",
              "      <th>0</th>\n",
              "      <td>101</td>\n",
              "      <td>URTI</td>\n",
              "    </tr>\n",
              "    <tr>\n",
              "      <th>1</th>\n",
              "      <td>102</td>\n",
              "      <td>Healthy</td>\n",
              "    </tr>\n",
              "    <tr>\n",
              "      <th>2</th>\n",
              "      <td>103</td>\n",
              "      <td>Asthma</td>\n",
              "    </tr>\n",
              "    <tr>\n",
              "      <th>3</th>\n",
              "      <td>104</td>\n",
              "      <td>COPD</td>\n",
              "    </tr>\n",
              "    <tr>\n",
              "      <th>4</th>\n",
              "      <td>105</td>\n",
              "      <td>URTI</td>\n",
              "    </tr>\n",
              "  </tbody>\n",
              "</table>\n",
              "</div>\n",
              "      <button class=\"colab-df-convert\" onclick=\"convertToInteractive('df-d21e9e94-b145-4b7c-9207-68c7f6a15dc4')\"\n",
              "              title=\"Convert this dataframe to an interactive table.\"\n",
              "              style=\"display:none;\">\n",
              "        \n",
              "  <svg xmlns=\"http://www.w3.org/2000/svg\" height=\"24px\"viewBox=\"0 0 24 24\"\n",
              "       width=\"24px\">\n",
              "    <path d=\"M0 0h24v24H0V0z\" fill=\"none\"/>\n",
              "    <path d=\"M18.56 5.44l.94 2.06.94-2.06 2.06-.94-2.06-.94-.94-2.06-.94 2.06-2.06.94zm-11 1L8.5 8.5l.94-2.06 2.06-.94-2.06-.94L8.5 2.5l-.94 2.06-2.06.94zm10 10l.94 2.06.94-2.06 2.06-.94-2.06-.94-.94-2.06-.94 2.06-2.06.94z\"/><path d=\"M17.41 7.96l-1.37-1.37c-.4-.4-.92-.59-1.43-.59-.52 0-1.04.2-1.43.59L10.3 9.45l-7.72 7.72c-.78.78-.78 2.05 0 2.83L4 21.41c.39.39.9.59 1.41.59.51 0 1.02-.2 1.41-.59l7.78-7.78 2.81-2.81c.8-.78.8-2.07 0-2.86zM5.41 20L4 18.59l7.72-7.72 1.47 1.35L5.41 20z\"/>\n",
              "  </svg>\n",
              "      </button>\n",
              "      \n",
              "  <style>\n",
              "    .colab-df-container {\n",
              "      display:flex;\n",
              "      flex-wrap:wrap;\n",
              "      gap: 12px;\n",
              "    }\n",
              "\n",
              "    .colab-df-convert {\n",
              "      background-color: #E8F0FE;\n",
              "      border: none;\n",
              "      border-radius: 50%;\n",
              "      cursor: pointer;\n",
              "      display: none;\n",
              "      fill: #1967D2;\n",
              "      height: 32px;\n",
              "      padding: 0 0 0 0;\n",
              "      width: 32px;\n",
              "    }\n",
              "\n",
              "    .colab-df-convert:hover {\n",
              "      background-color: #E2EBFA;\n",
              "      box-shadow: 0px 1px 2px rgba(60, 64, 67, 0.3), 0px 1px 3px 1px rgba(60, 64, 67, 0.15);\n",
              "      fill: #174EA6;\n",
              "    }\n",
              "\n",
              "    [theme=dark] .colab-df-convert {\n",
              "      background-color: #3B4455;\n",
              "      fill: #D2E3FC;\n",
              "    }\n",
              "\n",
              "    [theme=dark] .colab-df-convert:hover {\n",
              "      background-color: #434B5C;\n",
              "      box-shadow: 0px 1px 3px 1px rgba(0, 0, 0, 0.15);\n",
              "      filter: drop-shadow(0px 1px 2px rgba(0, 0, 0, 0.3));\n",
              "      fill: #FFFFFF;\n",
              "    }\n",
              "  </style>\n",
              "\n",
              "      <script>\n",
              "        const buttonEl =\n",
              "          document.querySelector('#df-d21e9e94-b145-4b7c-9207-68c7f6a15dc4 button.colab-df-convert');\n",
              "        buttonEl.style.display =\n",
              "          google.colab.kernel.accessAllowed ? 'block' : 'none';\n",
              "\n",
              "        async function convertToInteractive(key) {\n",
              "          const element = document.querySelector('#df-d21e9e94-b145-4b7c-9207-68c7f6a15dc4');\n",
              "          const dataTable =\n",
              "            await google.colab.kernel.invokeFunction('convertToInteractive',\n",
              "                                                     [key], {});\n",
              "          if (!dataTable) return;\n",
              "\n",
              "          const docLinkHtml = 'Like what you see? Visit the ' +\n",
              "            '<a target=\"_blank\" href=https://colab.research.google.com/notebooks/data_table.ipynb>data table notebook</a>'\n",
              "            + ' to learn more about interactive tables.';\n",
              "          element.innerHTML = '';\n",
              "          dataTable['output_type'] = 'display_data';\n",
              "          await google.colab.output.renderOutput(dataTable, element);\n",
              "          const docLink = document.createElement('div');\n",
              "          docLink.innerHTML = docLinkHtml;\n",
              "          element.appendChild(docLink);\n",
              "        }\n",
              "      </script>\n",
              "    </div>\n",
              "  </div>\n",
              "  "
            ]
          },
          "metadata": {},
          "execution_count": 7
        }
      ]
    },
    {
      "cell_type": "code",
      "source": [
        "df=pd.read_csv(root + 'archive/Respiratory_Sound_Database/Respiratory_Sound_Database/audio_and_txt_files/160_1b3_Al_mc_AKGC417L.txt',sep='\\t', names = ['start', 'end', 'crackles', 'weezels'])\n",
        "df.head()"
      ],
      "metadata": {
        "id": "KWirwZKbDD3c",
        "colab": {
          "base_uri": "https://localhost:8080/",
          "height": 206
        },
        "outputId": "70405a20-0c56-4a3d-a27f-d8b15978414d"
      },
      "execution_count": 8,
      "outputs": [
        {
          "output_type": "execute_result",
          "data": {
            "text/plain": [
              "    start     end  crackles  weezels\n",
              "0   1.862   5.718         0        1\n",
              "1   5.718   9.725         1        1\n",
              "2   9.725  13.614         0        1\n",
              "3  13.614  17.671         0        1\n",
              "4  17.671  19.541         0        0"
            ],
            "text/html": [
              "\n",
              "  <div id=\"df-d24e674b-2c0f-4159-94c0-0c43a1280dc9\">\n",
              "    <div class=\"colab-df-container\">\n",
              "      <div>\n",
              "<style scoped>\n",
              "    .dataframe tbody tr th:only-of-type {\n",
              "        vertical-align: middle;\n",
              "    }\n",
              "\n",
              "    .dataframe tbody tr th {\n",
              "        vertical-align: top;\n",
              "    }\n",
              "\n",
              "    .dataframe thead th {\n",
              "        text-align: right;\n",
              "    }\n",
              "</style>\n",
              "<table border=\"1\" class=\"dataframe\">\n",
              "  <thead>\n",
              "    <tr style=\"text-align: right;\">\n",
              "      <th></th>\n",
              "      <th>start</th>\n",
              "      <th>end</th>\n",
              "      <th>crackles</th>\n",
              "      <th>weezels</th>\n",
              "    </tr>\n",
              "  </thead>\n",
              "  <tbody>\n",
              "    <tr>\n",
              "      <th>0</th>\n",
              "      <td>1.862</td>\n",
              "      <td>5.718</td>\n",
              "      <td>0</td>\n",
              "      <td>1</td>\n",
              "    </tr>\n",
              "    <tr>\n",
              "      <th>1</th>\n",
              "      <td>5.718</td>\n",
              "      <td>9.725</td>\n",
              "      <td>1</td>\n",
              "      <td>1</td>\n",
              "    </tr>\n",
              "    <tr>\n",
              "      <th>2</th>\n",
              "      <td>9.725</td>\n",
              "      <td>13.614</td>\n",
              "      <td>0</td>\n",
              "      <td>1</td>\n",
              "    </tr>\n",
              "    <tr>\n",
              "      <th>3</th>\n",
              "      <td>13.614</td>\n",
              "      <td>17.671</td>\n",
              "      <td>0</td>\n",
              "      <td>1</td>\n",
              "    </tr>\n",
              "    <tr>\n",
              "      <th>4</th>\n",
              "      <td>17.671</td>\n",
              "      <td>19.541</td>\n",
              "      <td>0</td>\n",
              "      <td>0</td>\n",
              "    </tr>\n",
              "  </tbody>\n",
              "</table>\n",
              "</div>\n",
              "      <button class=\"colab-df-convert\" onclick=\"convertToInteractive('df-d24e674b-2c0f-4159-94c0-0c43a1280dc9')\"\n",
              "              title=\"Convert this dataframe to an interactive table.\"\n",
              "              style=\"display:none;\">\n",
              "        \n",
              "  <svg xmlns=\"http://www.w3.org/2000/svg\" height=\"24px\"viewBox=\"0 0 24 24\"\n",
              "       width=\"24px\">\n",
              "    <path d=\"M0 0h24v24H0V0z\" fill=\"none\"/>\n",
              "    <path d=\"M18.56 5.44l.94 2.06.94-2.06 2.06-.94-2.06-.94-.94-2.06-.94 2.06-2.06.94zm-11 1L8.5 8.5l.94-2.06 2.06-.94-2.06-.94L8.5 2.5l-.94 2.06-2.06.94zm10 10l.94 2.06.94-2.06 2.06-.94-2.06-.94-.94-2.06-.94 2.06-2.06.94z\"/><path d=\"M17.41 7.96l-1.37-1.37c-.4-.4-.92-.59-1.43-.59-.52 0-1.04.2-1.43.59L10.3 9.45l-7.72 7.72c-.78.78-.78 2.05 0 2.83L4 21.41c.39.39.9.59 1.41.59.51 0 1.02-.2 1.41-.59l7.78-7.78 2.81-2.81c.8-.78.8-2.07 0-2.86zM5.41 20L4 18.59l7.72-7.72 1.47 1.35L5.41 20z\"/>\n",
              "  </svg>\n",
              "      </button>\n",
              "      \n",
              "  <style>\n",
              "    .colab-df-container {\n",
              "      display:flex;\n",
              "      flex-wrap:wrap;\n",
              "      gap: 12px;\n",
              "    }\n",
              "\n",
              "    .colab-df-convert {\n",
              "      background-color: #E8F0FE;\n",
              "      border: none;\n",
              "      border-radius: 50%;\n",
              "      cursor: pointer;\n",
              "      display: none;\n",
              "      fill: #1967D2;\n",
              "      height: 32px;\n",
              "      padding: 0 0 0 0;\n",
              "      width: 32px;\n",
              "    }\n",
              "\n",
              "    .colab-df-convert:hover {\n",
              "      background-color: #E2EBFA;\n",
              "      box-shadow: 0px 1px 2px rgba(60, 64, 67, 0.3), 0px 1px 3px 1px rgba(60, 64, 67, 0.15);\n",
              "      fill: #174EA6;\n",
              "    }\n",
              "\n",
              "    [theme=dark] .colab-df-convert {\n",
              "      background-color: #3B4455;\n",
              "      fill: #D2E3FC;\n",
              "    }\n",
              "\n",
              "    [theme=dark] .colab-df-convert:hover {\n",
              "      background-color: #434B5C;\n",
              "      box-shadow: 0px 1px 3px 1px rgba(0, 0, 0, 0.15);\n",
              "      filter: drop-shadow(0px 1px 2px rgba(0, 0, 0, 0.3));\n",
              "      fill: #FFFFFF;\n",
              "    }\n",
              "  </style>\n",
              "\n",
              "      <script>\n",
              "        const buttonEl =\n",
              "          document.querySelector('#df-d24e674b-2c0f-4159-94c0-0c43a1280dc9 button.colab-df-convert');\n",
              "        buttonEl.style.display =\n",
              "          google.colab.kernel.accessAllowed ? 'block' : 'none';\n",
              "\n",
              "        async function convertToInteractive(key) {\n",
              "          const element = document.querySelector('#df-d24e674b-2c0f-4159-94c0-0c43a1280dc9');\n",
              "          const dataTable =\n",
              "            await google.colab.kernel.invokeFunction('convertToInteractive',\n",
              "                                                     [key], {});\n",
              "          if (!dataTable) return;\n",
              "\n",
              "          const docLinkHtml = 'Like what you see? Visit the ' +\n",
              "            '<a target=\"_blank\" href=https://colab.research.google.com/notebooks/data_table.ipynb>data table notebook</a>'\n",
              "            + ' to learn more about interactive tables.';\n",
              "          element.innerHTML = '';\n",
              "          dataTable['output_type'] = 'display_data';\n",
              "          await google.colab.output.renderOutput(dataTable, element);\n",
              "          const docLink = document.createElement('div');\n",
              "          docLink.innerHTML = docLinkHtml;\n",
              "          element.appendChild(docLink);\n",
              "        }\n",
              "      </script>\n",
              "    </div>\n",
              "  </div>\n",
              "  "
            ]
          },
          "metadata": {},
          "execution_count": 8
        }
      ]
    },
    {
      "cell_type": "code",
      "source": [
        "path=root + 'archive/Respiratory_Sound_Database/Respiratory_Sound_Database/audio_and_txt_files/'\n",
        "files=[s.split('.')[0] for s in os.listdir(path) if '.txt' in s]\n",
        "files[:5]"
      ],
      "metadata": {
        "colab": {
          "base_uri": "https://localhost:8080/"
        },
        "id": "0D9a5-WHxkAm",
        "outputId": "fec72949-854d-4045-fc67-3ebca41d3804"
      },
      "execution_count": 10,
      "outputs": [
        {
          "output_type": "execute_result",
          "data": {
            "text/plain": [
              "['160_1b3_Al_mc_AKGC417L',\n",
              " '160_1b3_Pr_mc_AKGC417L',\n",
              " '160_1b3_Ar_mc_AKGC417L',\n",
              " '160_1b3_Tc_mc_AKGC417L',\n",
              " '160_1b4_Ar_mc_AKGC417L']"
            ]
          },
          "metadata": {},
          "execution_count": 10
        }
      ]
    },
    {
      "cell_type": "code",
      "source": [
        "def getFilenameInfo(file):\n",
        "    return file.split('_')"
      ],
      "metadata": {
        "id": "MQELs-m2DD1x"
      },
      "execution_count": 9,
      "outputs": []
    },
    {
      "cell_type": "code",
      "source": [
        "files_data=[]\n",
        "for file in files:\n",
        "    data=pd.read_csv(path + file + '.txt',sep='\\t',names=['start','end','crackles','weezels'])\n",
        "    name_data=getFilenameInfo(file)\n",
        "    data['pid']=name_data[0]\n",
        "    data['mode']=name_data[-2]\n",
        "    data['filename']=file\n",
        "    files_data.append(data)\n",
        "files_df=pd.concat(files_data)\n",
        "files_df.reset_index()\n",
        "files_df.head()"
      ],
      "metadata": {
        "id": "HEFSVrIcDVKN",
        "colab": {
          "base_uri": "https://localhost:8080/",
          "height": 206
        },
        "outputId": "a07c6af7-fb71-439d-9294-a05cf83c208a"
      },
      "execution_count": 11,
      "outputs": [
        {
          "output_type": "execute_result",
          "data": {
            "text/plain": [
              "    start     end  crackles  weezels  pid mode                filename\n",
              "0   1.862   5.718         0        1  160   mc  160_1b3_Al_mc_AKGC417L\n",
              "1   5.718   9.725         1        1  160   mc  160_1b3_Al_mc_AKGC417L\n",
              "2   9.725  13.614         0        1  160   mc  160_1b3_Al_mc_AKGC417L\n",
              "3  13.614  17.671         0        1  160   mc  160_1b3_Al_mc_AKGC417L\n",
              "4  17.671  19.541         0        0  160   mc  160_1b3_Al_mc_AKGC417L"
            ],
            "text/html": [
              "\n",
              "  <div id=\"df-41f2658f-5c29-4f5b-ac5f-a8e557aa9d82\">\n",
              "    <div class=\"colab-df-container\">\n",
              "      <div>\n",
              "<style scoped>\n",
              "    .dataframe tbody tr th:only-of-type {\n",
              "        vertical-align: middle;\n",
              "    }\n",
              "\n",
              "    .dataframe tbody tr th {\n",
              "        vertical-align: top;\n",
              "    }\n",
              "\n",
              "    .dataframe thead th {\n",
              "        text-align: right;\n",
              "    }\n",
              "</style>\n",
              "<table border=\"1\" class=\"dataframe\">\n",
              "  <thead>\n",
              "    <tr style=\"text-align: right;\">\n",
              "      <th></th>\n",
              "      <th>start</th>\n",
              "      <th>end</th>\n",
              "      <th>crackles</th>\n",
              "      <th>weezels</th>\n",
              "      <th>pid</th>\n",
              "      <th>mode</th>\n",
              "      <th>filename</th>\n",
              "    </tr>\n",
              "  </thead>\n",
              "  <tbody>\n",
              "    <tr>\n",
              "      <th>0</th>\n",
              "      <td>1.862</td>\n",
              "      <td>5.718</td>\n",
              "      <td>0</td>\n",
              "      <td>1</td>\n",
              "      <td>160</td>\n",
              "      <td>mc</td>\n",
              "      <td>160_1b3_Al_mc_AKGC417L</td>\n",
              "    </tr>\n",
              "    <tr>\n",
              "      <th>1</th>\n",
              "      <td>5.718</td>\n",
              "      <td>9.725</td>\n",
              "      <td>1</td>\n",
              "      <td>1</td>\n",
              "      <td>160</td>\n",
              "      <td>mc</td>\n",
              "      <td>160_1b3_Al_mc_AKGC417L</td>\n",
              "    </tr>\n",
              "    <tr>\n",
              "      <th>2</th>\n",
              "      <td>9.725</td>\n",
              "      <td>13.614</td>\n",
              "      <td>0</td>\n",
              "      <td>1</td>\n",
              "      <td>160</td>\n",
              "      <td>mc</td>\n",
              "      <td>160_1b3_Al_mc_AKGC417L</td>\n",
              "    </tr>\n",
              "    <tr>\n",
              "      <th>3</th>\n",
              "      <td>13.614</td>\n",
              "      <td>17.671</td>\n",
              "      <td>0</td>\n",
              "      <td>1</td>\n",
              "      <td>160</td>\n",
              "      <td>mc</td>\n",
              "      <td>160_1b3_Al_mc_AKGC417L</td>\n",
              "    </tr>\n",
              "    <tr>\n",
              "      <th>4</th>\n",
              "      <td>17.671</td>\n",
              "      <td>19.541</td>\n",
              "      <td>0</td>\n",
              "      <td>0</td>\n",
              "      <td>160</td>\n",
              "      <td>mc</td>\n",
              "      <td>160_1b3_Al_mc_AKGC417L</td>\n",
              "    </tr>\n",
              "  </tbody>\n",
              "</table>\n",
              "</div>\n",
              "      <button class=\"colab-df-convert\" onclick=\"convertToInteractive('df-41f2658f-5c29-4f5b-ac5f-a8e557aa9d82')\"\n",
              "              title=\"Convert this dataframe to an interactive table.\"\n",
              "              style=\"display:none;\">\n",
              "        \n",
              "  <svg xmlns=\"http://www.w3.org/2000/svg\" height=\"24px\"viewBox=\"0 0 24 24\"\n",
              "       width=\"24px\">\n",
              "    <path d=\"M0 0h24v24H0V0z\" fill=\"none\"/>\n",
              "    <path d=\"M18.56 5.44l.94 2.06.94-2.06 2.06-.94-2.06-.94-.94-2.06-.94 2.06-2.06.94zm-11 1L8.5 8.5l.94-2.06 2.06-.94-2.06-.94L8.5 2.5l-.94 2.06-2.06.94zm10 10l.94 2.06.94-2.06 2.06-.94-2.06-.94-.94-2.06-.94 2.06-2.06.94z\"/><path d=\"M17.41 7.96l-1.37-1.37c-.4-.4-.92-.59-1.43-.59-.52 0-1.04.2-1.43.59L10.3 9.45l-7.72 7.72c-.78.78-.78 2.05 0 2.83L4 21.41c.39.39.9.59 1.41.59.51 0 1.02-.2 1.41-.59l7.78-7.78 2.81-2.81c.8-.78.8-2.07 0-2.86zM5.41 20L4 18.59l7.72-7.72 1.47 1.35L5.41 20z\"/>\n",
              "  </svg>\n",
              "      </button>\n",
              "      \n",
              "  <style>\n",
              "    .colab-df-container {\n",
              "      display:flex;\n",
              "      flex-wrap:wrap;\n",
              "      gap: 12px;\n",
              "    }\n",
              "\n",
              "    .colab-df-convert {\n",
              "      background-color: #E8F0FE;\n",
              "      border: none;\n",
              "      border-radius: 50%;\n",
              "      cursor: pointer;\n",
              "      display: none;\n",
              "      fill: #1967D2;\n",
              "      height: 32px;\n",
              "      padding: 0 0 0 0;\n",
              "      width: 32px;\n",
              "    }\n",
              "\n",
              "    .colab-df-convert:hover {\n",
              "      background-color: #E2EBFA;\n",
              "      box-shadow: 0px 1px 2px rgba(60, 64, 67, 0.3), 0px 1px 3px 1px rgba(60, 64, 67, 0.15);\n",
              "      fill: #174EA6;\n",
              "    }\n",
              "\n",
              "    [theme=dark] .colab-df-convert {\n",
              "      background-color: #3B4455;\n",
              "      fill: #D2E3FC;\n",
              "    }\n",
              "\n",
              "    [theme=dark] .colab-df-convert:hover {\n",
              "      background-color: #434B5C;\n",
              "      box-shadow: 0px 1px 3px 1px rgba(0, 0, 0, 0.15);\n",
              "      filter: drop-shadow(0px 1px 2px rgba(0, 0, 0, 0.3));\n",
              "      fill: #FFFFFF;\n",
              "    }\n",
              "  </style>\n",
              "\n",
              "      <script>\n",
              "        const buttonEl =\n",
              "          document.querySelector('#df-41f2658f-5c29-4f5b-ac5f-a8e557aa9d82 button.colab-df-convert');\n",
              "        buttonEl.style.display =\n",
              "          google.colab.kernel.accessAllowed ? 'block' : 'none';\n",
              "\n",
              "        async function convertToInteractive(key) {\n",
              "          const element = document.querySelector('#df-41f2658f-5c29-4f5b-ac5f-a8e557aa9d82');\n",
              "          const dataTable =\n",
              "            await google.colab.kernel.invokeFunction('convertToInteractive',\n",
              "                                                     [key], {});\n",
              "          if (!dataTable) return;\n",
              "\n",
              "          const docLinkHtml = 'Like what you see? Visit the ' +\n",
              "            '<a target=\"_blank\" href=https://colab.research.google.com/notebooks/data_table.ipynb>data table notebook</a>'\n",
              "            + ' to learn more about interactive tables.';\n",
              "          element.innerHTML = '';\n",
              "          dataTable['output_type'] = 'display_data';\n",
              "          await google.colab.output.renderOutput(dataTable, element);\n",
              "          const docLink = document.createElement('div');\n",
              "          docLink.innerHTML = docLinkHtml;\n",
              "          element.appendChild(docLink);\n",
              "        }\n",
              "      </script>\n",
              "    </div>\n",
              "  </div>\n",
              "  "
            ]
          },
          "metadata": {},
          "execution_count": 11
        }
      ]
    },
    {
      "cell_type": "code",
      "source": [
        "diagnosis.info()"
      ],
      "metadata": {
        "colab": {
          "base_uri": "https://localhost:8080/"
        },
        "id": "rPlgqrjfzF7d",
        "outputId": "b657f0d0-11b0-44fa-88c0-71fec24de1f9"
      },
      "execution_count": 14,
      "outputs": [
        {
          "output_type": "stream",
          "name": "stdout",
          "text": [
            "<class 'pandas.core.frame.DataFrame'>\n",
            "RangeIndex: 126 entries, 0 to 125\n",
            "Data columns (total 2 columns):\n",
            " #   Column   Non-Null Count  Dtype \n",
            "---  ------   --------------  ----- \n",
            " 0   pid      126 non-null    int64 \n",
            " 1   disease  126 non-null    object\n",
            "dtypes: int64(1), object(1)\n",
            "memory usage: 2.1+ KB\n"
          ]
        }
      ]
    },
    {
      "cell_type": "code",
      "source": [
        "files_df.info()"
      ],
      "metadata": {
        "colab": {
          "base_uri": "https://localhost:8080/"
        },
        "id": "Mv2Zfm1UzJvG",
        "outputId": "223106d9-203b-4fea-a890-05ac73f720ba"
      },
      "execution_count": 15,
      "outputs": [
        {
          "output_type": "stream",
          "name": "stdout",
          "text": [
            "<class 'pandas.core.frame.DataFrame'>\n",
            "Int64Index: 6898 entries, 0 to 3\n",
            "Data columns (total 7 columns):\n",
            " #   Column    Non-Null Count  Dtype  \n",
            "---  ------    --------------  -----  \n",
            " 0   start     6898 non-null   float64\n",
            " 1   end       6898 non-null   float64\n",
            " 2   crackles  6898 non-null   int64  \n",
            " 3   weezels   6898 non-null   int64  \n",
            " 4   pid       6898 non-null   object \n",
            " 5   mode      6898 non-null   object \n",
            " 6   filename  6898 non-null   object \n",
            "dtypes: float64(2), int64(2), object(3)\n",
            "memory usage: 431.1+ KB\n"
          ]
        }
      ]
    },
    {
      "cell_type": "markdown",
      "source": [
        "두 데이터프레임을 merge하기 위해 같은 타입으로 통일해줍니다"
      ],
      "metadata": {
        "id": "Vl_qNbOozVIf"
      }
    },
    {
      "cell_type": "code",
      "source": [
        "diagnosis.pid=diagnosis.pid.astype('int32')\n",
        "files_df.pid=files_df.pid.astype('int32')"
      ],
      "metadata": {
        "id": "rzYa_68gzOK9"
      },
      "execution_count": 17,
      "outputs": []
    },
    {
      "cell_type": "code",
      "source": [
        "sns.set_theme(style=\"darkgrid\")\n",
        "sns.countplot(diagnosis.disease)\n",
        "plt.xticks(rotation=90)"
      ],
      "metadata": {
        "id": "-AljHeBTDVIO",
        "colab": {
          "base_uri": "https://localhost:8080/",
          "height": 427
        },
        "outputId": "b82eb0d7-3a19-41e5-8538-edeba0d22341"
      },
      "execution_count": 18,
      "outputs": [
        {
          "output_type": "stream",
          "name": "stderr",
          "text": [
            "/usr/local/lib/python3.7/dist-packages/seaborn/_decorators.py:43: FutureWarning: Pass the following variable as a keyword arg: x. From version 0.12, the only valid positional argument will be `data`, and passing other arguments without an explicit keyword will result in an error or misinterpretation.\n",
            "  FutureWarning\n"
          ]
        },
        {
          "output_type": "execute_result",
          "data": {
            "text/plain": [
              "(array([0, 1, 2, 3, 4, 5, 6, 7]), <a list of 8 Text major ticklabel objects>)"
            ]
          },
          "metadata": {},
          "execution_count": 18
        },
        {
          "output_type": "display_data",
          "data": {
            "text/plain": [
              "<Figure size 432x288 with 1 Axes>"
            ],
            "image/png": "[encoded data removed]"
          },
          "metadata": {}
        }
      ]
    },
    {
      "cell_type": "code",
      "source": [
        "data=pd.merge(files_df,diagnosis,on='pid')\n",
        "data.head()"
      ],
      "metadata": {
        "id": "Vwo2jERKDVGK",
        "colab": {
          "base_uri": "https://localhost:8080/",
          "height": 206
        },
        "outputId": "c8112d8a-d0c7-405b-c86c-ba0bec3ec6ca"
      },
      "execution_count": 19,
      "outputs": [
        {
          "output_type": "execute_result",
          "data": {
            "text/plain": [
              "    start     end  crackles  weezels  pid mode                filename disease\n",
              "0   1.862   5.718         0        1  160   mc  160_1b3_Al_mc_AKGC417L    COPD\n",
              "1   5.718   9.725         1        1  160   mc  160_1b3_Al_mc_AKGC417L    COPD\n",
              "2   9.725  13.614         0        1  160   mc  160_1b3_Al_mc_AKGC417L    COPD\n",
              "3  13.614  17.671         0        1  160   mc  160_1b3_Al_mc_AKGC417L    COPD\n",
              "4  17.671  19.541         0        0  160   mc  160_1b3_Al_mc_AKGC417L    COPD"
            ],
            "text/html": [
              "\n",
              "  <div id=\"df-0db857d3-285b-4e75-94c5-e54d5ccda391\">\n",
              "    <div class=\"colab-df-container\">\n",
              "      <div>\n",
              "<style scoped>\n",
              "    .dataframe tbody tr th:only-of-type {\n",
              "        vertical-align: middle;\n",
              "    }\n",
              "\n",
              "    .dataframe tbody tr th {\n",
              "        vertical-align: top;\n",
              "    }\n",
              "\n",
              "    .dataframe thead th {\n",
              "        text-align: right;\n",
              "    }\n",
              "</style>\n",
              "<table border=\"1\" class=\"dataframe\">\n",
              "  <thead>\n",
              "    <tr style=\"text-align: right;\">\n",
              "      <th></th>\n",
              "      <th>start</th>\n",
              "      <th>end</th>\n",
              "      <th>crackles</th>\n",
              "      <th>weezels</th>\n",
              "      <th>pid</th>\n",
              "      <th>mode</th>\n",
              "      <th>filename</th>\n",
              "      <th>disease</th>\n",
              "    </tr>\n",
              "  </thead>\n",
              "  <tbody>\n",
              "    <tr>\n",
              "      <th>0</th>\n",
              "      <td>1.862</td>\n",
              "      <td>5.718</td>\n",
              "      <td>0</td>\n",
              "      <td>1</td>\n",
              "      <td>160</td>\n",
              "      <td>mc</td>\n",
              "      <td>160_1b3_Al_mc_AKGC417L</td>\n",
              "      <td>COPD</td>\n",
              "    </tr>\n",
              "    <tr>\n",
              "      <th>1</th>\n",
              "      <td>5.718</td>\n",
              "      <td>9.725</td>\n",
              "      <td>1</td>\n",
              "      <td>1</td>\n",
              "      <td>160</td>\n",
              "      <td>mc</td>\n",
              "      <td>160_1b3_Al_mc_AKGC417L</td>\n",
              "      <td>COPD</td>\n",
              "    </tr>\n",
              "    <tr>\n",
              "      <th>2</th>\n",
              "      <td>9.725</td>\n",
              "      <td>13.614</td>\n",
              "      <td>0</td>\n",
              "      <td>1</td>\n",
              "      <td>160</td>\n",
              "      <td>mc</td>\n",
              "      <td>160_1b3_Al_mc_AKGC417L</td>\n",
              "      <td>COPD</td>\n",
              "    </tr>\n",
              "    <tr>\n",
              "      <th>3</th>\n",
              "      <td>13.614</td>\n",
              "      <td>17.671</td>\n",
              "      <td>0</td>\n",
              "      <td>1</td>\n",
              "      <td>160</td>\n",
              "      <td>mc</td>\n",
              "      <td>160_1b3_Al_mc_AKGC417L</td>\n",
              "      <td>COPD</td>\n",
              "    </tr>\n",
              "    <tr>\n",
              "      <th>4</th>\n",
              "      <td>17.671</td>\n",
              "      <td>19.541</td>\n",
              "      <td>0</td>\n",
              "      <td>0</td>\n",
              "      <td>160</td>\n",
              "      <td>mc</td>\n",
              "      <td>160_1b3_Al_mc_AKGC417L</td>\n",
              "      <td>COPD</td>\n",
              "    </tr>\n",
              "  </tbody>\n",
              "</table>\n",
              "</div>\n",
              "      <button class=\"colab-df-convert\" onclick=\"convertToInteractive('df-0db857d3-285b-4e75-94c5-e54d5ccda391')\"\n",
              "              title=\"Convert this dataframe to an interactive table.\"\n",
              "              style=\"display:none;\">\n",
              "        \n",
              "  <svg xmlns=\"http://www.w3.org/2000/svg\" height=\"24px\"viewBox=\"0 0 24 24\"\n",
              "       width=\"24px\">\n",
              "    <path d=\"M0 0h24v24H0V0z\" fill=\"none\"/>\n",
              "    <path d=\"M18.56 5.44l.94 2.06.94-2.06 2.06-.94-2.06-.94-.94-2.06-.94 2.06-2.06.94zm-11 1L8.5 8.5l.94-2.06 2.06-.94-2.06-.94L8.5 2.5l-.94 2.06-2.06.94zm10 10l.94 2.06.94-2.06 2.06-.94-2.06-.94-.94-2.06-.94 2.06-2.06.94z\"/><path d=\"M17.41 7.96l-1.37-1.37c-.4-.4-.92-.59-1.43-.59-.52 0-1.04.2-1.43.59L10.3 9.45l-7.72 7.72c-.78.78-.78 2.05 0 2.83L4 21.41c.39.39.9.59 1.41.59.51 0 1.02-.2 1.41-.59l7.78-7.78 2.81-2.81c.8-.78.8-2.07 0-2.86zM5.41 20L4 18.59l7.72-7.72 1.47 1.35L5.41 20z\"/>\n",
              "  </svg>\n",
              "      </button>\n",
              "      \n",
              "  <style>\n",
              "    .colab-df-container {\n",
              "      display:flex;\n",
              "      flex-wrap:wrap;\n",
              "      gap: 12px;\n",
              "    }\n",
              "\n",
              "    .colab-df-convert {\n",
              "      background-color: #E8F0FE;\n",
              "      border: none;\n",
              "      border-radius: 50%;\n",
              "      cursor: pointer;\n",
              "      display: none;\n",
              "      fill: #1967D2;\n",
              "      height: 32px;\n",
              "      padding: 0 0 0 0;\n",
              "      width: 32px;\n",
              "    }\n",
              "\n",
              "    .colab-df-convert:hover {\n",
              "      background-color: #E2EBFA;\n",
              "      box-shadow: 0px 1px 2px rgba(60, 64, 67, 0.3), 0px 1px 3px 1px rgba(60, 64, 67, 0.15);\n",
              "      fill: #174EA6;\n",
              "    }\n",
              "\n",
              "    [theme=dark] .colab-df-convert {\n",
              "      background-color: #3B4455;\n",
              "      fill: #D2E3FC;\n",
              "    }\n",
              "\n",
              "    [theme=dark] .colab-df-convert:hover {\n",
              "      background-color: #434B5C;\n",
              "      box-shadow: 0px 1px 3px 1px rgba(0, 0, 0, 0.15);\n",
              "      filter: drop-shadow(0px 1px 2px rgba(0, 0, 0, 0.3));\n",
              "      fill: #FFFFFF;\n",
              "    }\n",
              "  </style>\n",
              "\n",
              "      <script>\n",
              "        const buttonEl =\n",
              "          document.querySelector('#df-0db857d3-285b-4e75-94c5-e54d5ccda391 button.colab-df-convert');\n",
              "        buttonEl.style.display =\n",
              "          google.colab.kernel.accessAllowed ? 'block' : 'none';\n",
              "\n",
              "        async function convertToInteractive(key) {\n",
              "          const element = document.querySelector('#df-0db857d3-285b-4e75-94c5-e54d5ccda391');\n",
              "          const dataTable =\n",
              "            await google.colab.kernel.invokeFunction('convertToInteractive',\n",
              "                                                     [key], {});\n",
              "          if (!dataTable) return;\n",
              "\n",
              "          const docLinkHtml = 'Like what you see? Visit the ' +\n",
              "            '<a target=\"_blank\" href=https://colab.research.google.com/notebooks/data_table.ipynb>data table notebook</a>'\n",
              "            + ' to learn more about interactive tables.';\n",
              "          element.innerHTML = '';\n",
              "          dataTable['output_type'] = 'display_data';\n",
              "          await google.colab.output.renderOutput(dataTable, element);\n",
              "          const docLink = document.createElement('div');\n",
              "          docLink.innerHTML = docLinkHtml;\n",
              "          element.appendChild(docLink);\n",
              "        }\n",
              "      </script>\n",
              "    </div>\n",
              "  </div>\n",
              "  "
            ]
          },
          "metadata": {},
          "execution_count": 19
        }
      ]
    },
    {
      "cell_type": "code",
      "source": [
        "data.to_csv('/content/drive/MyDrive/aiffel/aiffelthon/csv_data/data.csv',index=False)"
      ],
      "metadata": {
        "id": "DZEnrDcvDVEL"
      },
      "execution_count": null,
      "outputs": []
    },
    {
      "cell_type": "markdown",
      "source": [
        "##2. Pre-processing\n"
      ],
      "metadata": {
        "id": "wf_h_xEp_yP-"
      }
    },
    {
      "cell_type": "markdown",
      "source": [
        "###Divide Data\n",
        "데이터 자르면서 crack_wheeze가 포함된 새로운 컬럼을 만듭니다."
      ],
      "metadata": {
        "id": "OVIL4agaIAgy"
      }
    },
    {
      "cell_type": "code",
      "source": [
        "def getPureSample(raw_data,start,end,sr=22050):\n",
        "    \n",
        "    '''\n",
        "    Takes a numpy array and spilts its using start and end args\n",
        "    \n",
        "    raw_data=numpy array of audio sample\n",
        "    start=time\n",
        "    end=time\n",
        "    sr=sampling_rate\n",
        "    mode=mono/stereo\n",
        "    '''\n",
        "\n",
        "    max_ind = len(raw_data) #원본 데이터\n",
        "    start_ind = min(int(start * sr), max_ind) #시작 시간 x sample rate\n",
        "    end_ind = min(int(end * sr), max_ind)\n",
        "    return raw_data[start_ind: end_ind]"
      ],
      "metadata": {
        "id": "pfZRqJFAJfnU"
      },
      "execution_count": null,
      "outputs": []
    },
    {
      "cell_type": "code",
      "source": [
        "i,c=0,0\n",
        "\n",
        "filename2 = []\n",
        "start2 = []\n",
        "end2 = []\n",
        "pid2 = []\n",
        "mode2 = []\n",
        "disease2 = []\n",
        "crack_wheeze = []\n",
        "for index,row in data.iterrows(): #enumerte 과 비슷\n",
        "    start=row['start']\n",
        "    end=row['end']\n",
        "    filename=row['filename']\n",
        "    \n",
        "    audio_file_loc=path + filename + '.wav' #wav 파일 경로 저장\n",
        "    \n",
        "    if index > 0:\n",
        "        #check if more cycles exits for same patient if so then add i to change filename\n",
        "        if data.iloc[index-1]['filename']==filename:\n",
        "            i+=1\n",
        "        else:\n",
        "            i=0\n",
        "    filename= filename + '_' + str(i) + '.wav' #새로운 파일 이름\n",
        "\n",
        "    filename2.append(filename)\n",
        "    start2.append(row['start'])\n",
        "    end2.append(row['end'])\n",
        "    pid2.append(row['pid'])\n",
        "    mode2.append(row['mode'])\n",
        "    disease2.append(row['disease'])\n",
        "\n",
        "    if row['crackles'] == 0 and row['weezels'] == 0:\n",
        "      crack_wheeze.append(0)\n",
        "    elif row['crackles'] == 1 and row['weezels'] == 0:\n",
        "      crack_wheeze.append(1)\n",
        "    elif row['crackles'] == 0 and row['weezels'] == 1:\n",
        "      crack_wheeze.append(2)\n",
        "    else:\n",
        "      crack_wheeze.append(3)\n",
        "    \n",
        "    save_path='/content/drive/MyDrive/aiffel/aiffelthon/processed_audio_files_8/' + filename\n",
        "    c+=1 #파일 개수 세기\n",
        "    \n",
        "    audioArr,sampleRate=lb.load(audio_file_loc, sr = 16000)\n",
        "    pureSample=getPureSample(audioArr,start,end,sampleRate) #잘린 데이터 return, 길이는 상관 없음\n",
        "\n",
        "    if c % 100 == 0:\n",
        "      print(c)\n",
        "    \n",
        "    \n",
        "    sf.write(file=save_path,data=pureSample,samplerate=sampleRate)\n",
        "print('Total Files Processed: ',c)"
      ],
      "metadata": {
        "id": "sMtirz3iIgrG"
      },
      "execution_count": null,
      "outputs": []
    },
    {
      "cell_type": "code",
      "source": [
        "processed = pd.DataFrame(columns=['start','end','pid','mode','filename','disease','crack_wheeze'])\n",
        "processed['start'] = start2\n",
        "processed['end'] = end2\n",
        "processed['pid'] = pid2\n",
        "processed['mode'] = mode2\n",
        "processed['filename'] = filename2\n",
        "processed['disease'] = disease2\n",
        "processed['crack_wheeze'] = crack_wheeze\n",
        "\n",
        "processed.to_csv(root + 'processed.csv')"
      ],
      "metadata": {
        "id": "MP94aoGvI9DA"
      },
      "execution_count": null,
      "outputs": []
    },
    {
      "cell_type": "code",
      "source": [
        "processed = pd.read_csv(root + 'processed.csv') #우리가 계속 쓸 컬럼입니다"
      ],
      "metadata": {
        "id": "dWFaKwD8AKJS"
      },
      "execution_count": 3,
      "outputs": []
    },
    {
      "cell_type": "markdown",
      "source": [
        "원하는 길이로 패딩해서 wav로 저장합니다"
      ],
      "metadata": {
        "id": "qG50K4sPKEk5"
      }
    },
    {
      "cell_type": "code",
      "source": [
        "sr=16000\n",
        "\n",
        "def zero_padding(pureSample, reqLen = 7 * sr):\n",
        "  padded = lb.util.pad_center(pureSample, reqLen)\n",
        "  return padded"
      ],
      "metadata": {
        "id": "-XwXhoDj_6WO"
      },
      "execution_count": null,
      "outputs": []
    },
    {
      "cell_type": "code",
      "source": [
        "for index,row in processed.iterrows():\n",
        "  maxLen=7 #5,6,7 선택\n",
        "  start=row['start']\n",
        "  end=row['end']\n",
        "  filename=row['filename']\n",
        "    \n",
        "  audio_file_loc= root + 'processed_audio_files/' + filename #5,6,7 선택\n",
        "  processed_sample, _ = lb.load(audio_file_loc, sr = sr) #자르고 전처리한 데이터\n",
        "\n",
        "  #If len > maxLen , change it to maxLen\n",
        "  if end-start>maxLen:\n",
        "      end=start+maxLen\n",
        "      processed_sample = processed_sample[int(start * sr) : int(end * sr)] #초에 맞춰주기\n",
        "  \n",
        "  padded_data = zero_padding(processed_sample,7 * sr)\n",
        "  \n",
        "  save_path = root + 'processed_audio_files_7sec_22050/' + filename\n",
        "\n",
        "  sf.write(file=save_path,data=padded_data,samplerate = sr)\n",
        "  \n"
      ],
      "metadata": {
        "id": "uwX4nYNbALoI"
      },
      "execution_count": null,
      "outputs": []
    },
    {
      "cell_type": "markdown",
      "source": [
        "###butter worth filter()"
      ],
      "metadata": {
        "id": "N2k0cSpt-o0F"
      }
    },
    {
      "cell_type": "markdown",
      "source": [
        "##3. Train_val_test_split"
      ],
      "metadata": {
        "id": "X8YsKm75-oIv"
      }
    },
    {
      "cell_type": "code",
      "source": [
        "from sklearn.model_selection import train_test_split\n",
        "\n",
        "Xtrain,Xval,ytrain,yval=train_test_split( #disease 분류\n",
        "    processed,processed.disease,stratify=processed.disease,random_state=42,test_size=0.2)\n",
        "\n",
        "Xtrain_1,Xval_1,ytrain_1,yval_1=train_test_split( #crack_wheeze 분류\n",
        "    processed,processed.crack_wheeze,stratify=processed.crack_wheeze,random_state=42,test_size=0.2)"
      ],
      "metadata": {
        "id": "pIzypd7V-n4S"
      },
      "execution_count": 13,
      "outputs": []
    },
    {
      "cell_type": "markdown",
      "source": [
        "disease 비율"
      ],
      "metadata": {
        "id": "OVplH4JHGutk"
      }
    },
    {
      "cell_type": "code",
      "source": [
        "Xtrain.disease.value_counts()/Xtrain.shape[0]"
      ],
      "metadata": {
        "id": "D1vM9IJp-n2N",
        "colab": {
          "base_uri": "https://localhost:8080/"
        },
        "outputId": "ec97b3dd-8b30-4f9b-a50b-41baabe41bd4"
      },
      "execution_count": 5,
      "outputs": [
        {
          "output_type": "execute_result",
          "data": {
            "text/plain": [
              "COPD              0.832910\n",
              "Healthy           0.046756\n",
              "Pneumonia         0.041319\n",
              "URTI              0.035158\n",
              "Bronchiolitis     0.023197\n",
              "Bronchiectasis    0.015042\n",
              "LRTI              0.004712\n",
              "Asthma            0.000906\n",
              "Name: disease, dtype: float64"
            ]
          },
          "metadata": {},
          "execution_count": 5
        }
      ]
    },
    {
      "cell_type": "markdown",
      "source": [
        "crackle & wheeze 비율"
      ],
      "metadata": {
        "id": "qIt8x5vTGyq_"
      }
    },
    {
      "cell_type": "code",
      "source": [
        "Xtrain_1.crack_wheeze.value_counts()/Xtrain_1.shape[0]"
      ],
      "metadata": {
        "id": "LjcDvvzf-nzv",
        "colab": {
          "base_uri": "https://localhost:8080/"
        },
        "outputId": "8342d62e-e16b-40fd-b942-ff1da24d6639"
      },
      "execution_count": 6,
      "outputs": [
        {
          "output_type": "execute_result",
          "data": {
            "text/plain": [
              "0    0.527909\n",
              "1    0.270207\n",
              "2    0.128489\n",
              "3    0.073396\n",
              "Name: crack_wheeze, dtype: float64"
            ]
          },
          "metadata": {},
          "execution_count": 6
        }
      ]
    },
    {
      "cell_type": "code",
      "source": [
        "Xtrain.to_csv('train.csv')\n",
        "Xval.to_csv('val.csv')"
      ],
      "metadata": {
        "id": "x3_srP3X1iG0"
      },
      "execution_count": null,
      "outputs": []
    },
    {
      "cell_type": "markdown",
      "source": [
        "label 인코딩\n",
        "- disease 라벨에만 적용 시킵니다\n",
        "- crackle & wheeze 라벨은 이미 int로 되어있습니다"
      ],
      "metadata": {
        "id": "E_UWfb6PHWDT"
      }
    },
    {
      "cell_type": "code",
      "source": [
        "from sklearn.preprocessing import LabelEncoder\n",
        "le=LabelEncoder()\n",
        "ytrain=le.fit_transform(ytrain)\n",
        "yval=le.transform(yval)"
      ],
      "metadata": {
        "id": "lJpDrw8M-nxg"
      },
      "execution_count": 14,
      "outputs": []
    },
    {
      "cell_type": "markdown",
      "source": [
        "##4. Augmentation(추후 추가)\n"
      ],
      "metadata": {
        "id": "mFHqlHL1tpZX"
      }
    },
    {
      "cell_type": "markdown",
      "source": [
        "##5. Feature Extraction\n",
        "\n",
        "- Mel spectrogram"
      ],
      "metadata": {
        "id": "kA6DoagAt4sd"
      }
    },
    {
      "cell_type": "code",
      "source": [
        "def getFeatures(path):\n",
        "    soundArr,sr=lb.load(path)\n",
        "    mSpec=lb.feature.melspectrogram(y=soundArr,sr=sr) #sr=16000\n",
        "    return mSpec"
      ],
      "metadata": {
        "id": "Unalz9Oz-nva"
      },
      "execution_count": 6,
      "outputs": []
    },
    {
      "cell_type": "markdown",
      "source": [
        "**default 값**\n",
        "\n",
        "sr=22050, S=None, n_fft=2048, hop_length=512, win_length=None, window='hann', center=True, pad_mode='constant', power=2.0,"
      ],
      "metadata": {
        "id": "8qCrKf_G3ZQb"
      }
    },
    {
      "cell_type": "code",
      "source": [
        "root_path= root + 'processed_audio_files_7sec_22050/'\n",
        "mSpec_v=[]\n",
        "for idx,row in Xval.iterrows():\n",
        "    path=root_path + row['filename']\n",
        "    c=getFeatures(path)\n",
        "    mSpec_v.append(c)\n",
        "\n",
        "mSpec_val=np.array(mSpec_v)"
      ],
      "metadata": {
        "id": "lp-JQmar-ntG"
      },
      "execution_count": 8,
      "outputs": []
    },
    {
      "cell_type": "code",
      "source": [
        "mSpec_val.shape"
      ],
      "metadata": {
        "colab": {
          "base_uri": "https://localhost:8080/"
        },
        "id": "g17Si_L4_A_7",
        "outputId": "d19e8d42-dd6f-47fc-b9e5-79d9933fe0f4"
      },
      "execution_count": 11,
      "outputs": [
        {
          "output_type": "execute_result",
          "data": {
            "text/plain": [
              "(1380, 128, 302)"
            ]
          },
          "metadata": {},
          "execution_count": 11
        }
      ]
    },
    {
      "cell_type": "code",
      "source": [
        "root_path= root + 'processed_audio_files_7sec_22050/'\n",
        "mSpec_t=[]\n",
        "for idx,row in Xtrain.iterrows():\n",
        "    path=root_path + row['filename']\n",
        "    c=getFeatures(path)\n",
        "    mSpec_t.append(c)\n",
        "\n",
        "mSpec_train=np.array(mSpec_t)"
      ],
      "metadata": {
        "id": "mFqQM2eq1kRS"
      },
      "execution_count": 14,
      "outputs": []
    },
    {
      "cell_type": "code",
      "source": [
        "np.save(root + 'Mel_spectrogram_train_7sec.npy',mSpec_train)\n",
        "np.save(root + 'Mel_spectrogram_val_7sec.npy',mSpec_train)"
      ],
      "metadata": {
        "id": "kbjYL7Dh1pms"
      },
      "execution_count": 15,
      "outputs": []
    },
    {
      "cell_type": "code",
      "source": [
        "mSpec_train = np.load(root + 'Mel_spectrogram_train_7sec.npy')\n",
        "mSpec_val = np.load(root + 'Mel_spectrogram_val_7sec.npy')"
      ],
      "metadata": {
        "id": "yFDhirm074-z"
      },
      "execution_count": 5,
      "outputs": []
    },
    {
      "cell_type": "code",
      "source": [
        "sr=16000\n",
        "randFiles = [10 * x for x in range(1,5)]\n",
        "\n",
        "for i,audioFile in enumerate(randFiles):\n",
        "  \n",
        "  plt.figure(figsize=(10, 4))\n",
        "  plt.title('Mel-Spectrogram') \n",
        "  librosa.display.specshow(\n",
        "      librosa.power_to_db(mSpec_train[audioFile], ref=np.max), y_axis='mel', sr=sr, hop_length=512, x_axis='time')\n",
        "  plt.colorbar(format='%+2.0f dB')\n",
        "  \n",
        "  plt.tight_layout()\n",
        "  plt.savefig('Mel-Spectrogram example.png')\n",
        "  plt.show()"
      ],
      "metadata": {
        "colab": {
          "base_uri": "https://localhost:8080/",
          "height": 1000
        },
        "id": "LtpID3dL2qS2",
        "outputId": "825533a7-1179-4491-ba2e-c146738a3d41"
      },
      "execution_count": 7,
      "outputs": [
        {
          "output_type": "display_data",
          "data": {
            "text/plain": [
              "<Figure size 720x288 with 2 Axes>"
            ],
            "image/png": "[encoded data removed]"
          },
          "metadata": {
            "needs_background": "light"
          }
        },
        {
          "output_type": "display_data",
          "data": {
            "text/plain": [
              "<Figure size 720x288 with 2 Axes>"
            ],
            "image/png": "[encoded data removed]"
          },
          "metadata": {
            "needs_background": "light"
          }
        },
        {
          "output_type": "display_data",
          "data": {
            "text/plain": [
              "<Figure size 720x288 with 2 Axes>"
            ],
            "image/png": "[encoded data removed]"
          },
          "metadata": {
            "needs_background": "light"
          }
        },
        {
          "output_type": "display_data",
          "data": {
            "text/plain": [
              "<Figure size 720x288 with 2 Axes>"
            ],
            "image/png": "[encoded data removed]"
          },
          "metadata": {
            "needs_background": "light"
          }
        }
      ]
    },
    {
      "cell_type": "markdown",
      "source": [
        "##6. Build model"
      ],
      "metadata": {
        "id": "B9FHy93Hw6Aj"
      }
    },
    {
      "cell_type": "markdown",
      "source": [
        "- Depthwise Convolution\n",
        "- ResNet\n",
        "- Efficient Net"
      ],
      "metadata": {
        "id": "XVYBBkipDz17"
      }
    },
    {
      "cell_type": "markdown",
      "source": [
        "disese model"
      ],
      "metadata": {
        "id": "BPvz1DUeAfdn"
      }
    },
    {
      "cell_type": "code",
      "source": [
        "mSpec_input=keras.layers.Input(shape=(128,302,1),name=\"mSpecInput\")\n",
        "\n",
        "x = keras.layers.Conv2D(\n",
        "                filters=32,\n",
        "                kernel_size=5,\n",
        "                strides=(2,3),\n",
        "                activation='relu',\n",
        "                kernel_initializer='he_normal',\n",
        "                padding='same'\n",
        "            )(mSpec_input)\n",
        "\n",
        "x=keras.layers.MaxPooling2D(pool_size=2,padding='valid')(x)\n",
        "\n",
        "x = keras.layers.Conv2D(\n",
        "                filters=64,\n",
        "                kernel_size=3,\n",
        "                strides=(1,2),\n",
        "                activation='relu',\n",
        "                kernel_initializer='he_normal',\n",
        "                padding='same'\n",
        "            )(x)\n",
        "\n",
        "x=keras.layers.MaxPooling2D(pool_size=2,padding='valid')(x)\n",
        "\n",
        "x = keras.layers.Conv2D(\n",
        "                filters=96,\n",
        "                kernel_size=2,\n",
        "                strides=(2,3),\n",
        "                activation='relu',\n",
        "                kernel_initializer='he_normal',\n",
        "                padding='same'\n",
        "            )(x)\n",
        "\n",
        "x=keras.layers.MaxPooling2D(pool_size=2,padding='valid')(x)\n",
        "\n",
        "x = keras.layers.Conv2D(\n",
        "                filters=128,\n",
        "                kernel_size=2,\n",
        "                activation='relu',\n",
        "                kernel_initializer='he_normal',\n",
        "                padding='same'\n",
        "            )(x)\n",
        "\n",
        "x=keras.layers.GlobalMaxPooling2D()(x)\n",
        "\n",
        "x=keras.layers.Dropout(0.2)(x)\n",
        "x=keras.layers.Dense(50,activation='relu')(x)\n",
        "x=keras.layers.Dropout(0.3)(x)\n",
        "x=keras.layers.Dense(25,activation='relu')(x)\n",
        "x=keras.layers.Dropout(0.3)(x)\n",
        "output=keras.layers.Dense(8,activation='softmax')(x)\n",
        "\n",
        "mSpec_model=keras.Model(mSpec_input, output, name=\"mSpecModel\")"
      ],
      "metadata": {
        "id": "ohS9ghUP7ybn"
      },
      "execution_count": 8,
      "outputs": []
    },
    {
      "cell_type": "code",
      "source": [
        "mSpec_model.summary()"
      ],
      "metadata": {
        "colab": {
          "base_uri": "https://localhost:8080/"
        },
        "id": "oBw2g70H4HHl",
        "outputId": "4f8e4693-d818-43ba-d2ec-ef76571b4426"
      },
      "execution_count": 9,
      "outputs": [
        {
          "output_type": "stream",
          "name": "stdout",
          "text": [
            "Model: \"mSpecModel\"\n",
            "_________________________________________________________________\n",
            " Layer (type)                Output Shape              Param #   \n",
            "=================================================================\n",
            " mSpecInput (InputLayer)     [(None, 128, 302, 1)]     0         \n",
            "                                                                 \n",
            " conv2d (Conv2D)             (None, 64, 101, 32)       832       \n",
            "                                                                 \n",
            " max_pooling2d (MaxPooling2D  (None, 32, 50, 32)       0         \n",
            " )                                                               \n",
            "                                                                 \n",
            " conv2d_1 (Conv2D)           (None, 32, 25, 64)        18496     \n",
            "                                                                 \n",
            " max_pooling2d_1 (MaxPooling  (None, 16, 12, 64)       0         \n",
            " 2D)                                                             \n",
            "                                                                 \n",
            " conv2d_2 (Conv2D)           (None, 8, 4, 96)          24672     \n",
            "                                                                 \n",
            " max_pooling2d_2 (MaxPooling  (None, 4, 2, 96)         0         \n",
            " 2D)                                                             \n",
            "                                                                 \n",
            " conv2d_3 (Conv2D)           (None, 4, 2, 128)         49280     \n",
            "                                                                 \n",
            " global_max_pooling2d (Globa  (None, 128)              0         \n",
            " lMaxPooling2D)                                                  \n",
            "                                                                 \n",
            " dropout (Dropout)           (None, 128)               0         \n",
            "                                                                 \n",
            " dense (Dense)               (None, 50)                6450      \n",
            "                                                                 \n",
            " dropout_1 (Dropout)         (None, 50)                0         \n",
            "                                                                 \n",
            " dense_1 (Dense)             (None, 25)                1275      \n",
            "                                                                 \n",
            " dropout_2 (Dropout)         (None, 25)                0         \n",
            "                                                                 \n",
            " dense_2 (Dense)             (None, 8)                 208       \n",
            "                                                                 \n",
            "=================================================================\n",
            "Total params: 101,213\n",
            "Trainable params: 101,213\n",
            "Non-trainable params: 0\n",
            "_________________________________________________________________\n"
          ]
        }
      ]
    },
    {
      "cell_type": "markdown",
      "source": [
        "crack & wheeze model"
      ],
      "metadata": {
        "id": "F09l_StTAkjs"
      }
    },
    {
      "cell_type": "code",
      "source": [
        "mSpec_input=keras.layers.Input(shape=(128,302,1),name=\"mSpecInput\")\n",
        "\n",
        "x = keras.layers.Conv2D(\n",
        "                filters=32,\n",
        "                kernel_size=5,\n",
        "                strides=(2,3),\n",
        "                activation='relu',\n",
        "                kernel_initializer='he_normal',\n",
        "                padding='same'\n",
        "            )(mSpec_input)\n",
        "\n",
        "x=keras.layers.MaxPooling2D(pool_size=2,padding='valid')(x)\n",
        "\n",
        "x = keras.layers.Conv2D(\n",
        "                filters=64,\n",
        "                kernel_size=3,\n",
        "                strides=(1,2),\n",
        "                activation='relu',\n",
        "                kernel_initializer='he_normal',\n",
        "                padding='same'\n",
        "            )(x)\n",
        "\n",
        "x=keras.layers.MaxPooling2D(pool_size=2,padding='valid')(x)\n",
        "\n",
        "x = keras.layers.Conv2D(\n",
        "                filters=96,\n",
        "                kernel_size=2,\n",
        "                strides=(2,3),\n",
        "                activation='relu',\n",
        "                kernel_initializer='he_normal',\n",
        "                padding='same'\n",
        "            )(x)\n",
        "\n",
        "x=keras.layers.MaxPooling2D(pool_size=2,padding='valid')(x)\n",
        "\n",
        "x = keras.layers.Conv2D(\n",
        "                filters=128,\n",
        "                kernel_size=2,\n",
        "                activation='relu',\n",
        "                kernel_initializer='he_normal',\n",
        "                padding='same'\n",
        "            )(x)\n",
        "\n",
        "x=keras.layers.GlobalMaxPooling2D()(x)\n",
        "\n",
        "x=keras.layers.Dropout(0.2)(x)\n",
        "x=keras.layers.Dense(50,activation='relu')(x)\n",
        "x=keras.layers.Dropout(0.3)(x)\n",
        "x=keras.layers.Dense(25,activation='relu')(x)\n",
        "x=keras.layers.Dropout(0.3)(x)\n",
        "output=keras.layers.Dense(4,activation='softmax')(x) #class 변화 주의\n",
        "\n",
        "mSpec_model_cw=keras.Model(mSpec_input, output, name=\"mSpecModel\")"
      ],
      "metadata": {
        "id": "03fhNMJnAjsN"
      },
      "execution_count": 22,
      "outputs": []
    },
    {
      "cell_type": "markdown",
      "source": [
        "###training(disease)"
      ],
      "metadata": {
        "id": "6IoUXl7H9MM3"
      }
    },
    {
      "cell_type": "code",
      "source": [
        "accuracy='sparse_categorical_accuracy'\n",
        "sparseLoss=keras.losses.SparseCategoricalCrossentropy()\n",
        "\n",
        "from keras import backend as K\n",
        "K.clear_session()\n",
        "mSpec_model.compile(optimizer='nadam', loss=sparseLoss, metrics=[accuracy])\n",
        "K.set_value(mSpec_model.optimizer.learning_rate, 0.001)"
      ],
      "metadata": {
        "id": "L1IyGFp44HEc"
      },
      "execution_count": 10,
      "outputs": []
    },
    {
      "cell_type": "code",
      "source": [
        "file_name = '/content/drive/MyDrive/aiffel/aiffelthon/model/checkpoint-only-zero-7sec-001.h5'\n",
        "my_callbacks = [\n",
        "    tf.keras.callbacks.EarlyStopping(patience=10),\n",
        "    tf.keras.callbacks.ReduceLROnPlateau(monitor='val_loss', factor=0.1,\n",
        "                              patience=3, min_lr=1e-12,mode='min'), #미분하다 막히면 lr 변경해줌\n",
        "    tf.keras.callbacks.ModelCheckpoint(file_name, monitor='val_loss', verbose=0, save_best_only=True,)\n",
        "]"
      ],
      "metadata": {
        "id": "Fm63C7HY9PmY"
      },
      "execution_count": 11,
      "outputs": []
    },
    {
      "cell_type": "code",
      "source": [
        "history=mSpec_model.fit(\n",
        "    mSpec_train, # fit 할 때 ndarray > tensor로 바꾸는 느낌?\n",
        "    ytrain,\n",
        "    validation_data=(mSpec_val,yval),\n",
        "    epochs=100,verbose=1,\n",
        "    callbacks=my_callbacks\n",
        ")"
      ],
      "metadata": {
        "colab": {
          "base_uri": "https://localhost:8080/"
        },
        "id": "nIa3Ut5f9PkN",
        "outputId": "657c7a50-9a2f-4fa3-ce33-dc84f808817f"
      },
      "execution_count": 15,
      "outputs": [
        {
          "output_type": "stream",
          "name": "stdout",
          "text": [
            "Epoch 1/100\n",
            "173/173 [==============================] - 17s 18ms/step - loss: 27.6935 - sparse_categorical_accuracy: 0.6665 - val_loss: 3.4452 - val_sparse_categorical_accuracy: 0.8333 - lr: 0.0010\n",
            "Epoch 2/100\n",
            "173/173 [==============================] - 3s 15ms/step - loss: 3.3318 - sparse_categorical_accuracy: 0.7532 - val_loss: 1.1296 - val_sparse_categorical_accuracy: 0.8333 - lr: 0.0010\n",
            "Epoch 3/100\n",
            "173/173 [==============================] - 3s 15ms/step - loss: 1.8807 - sparse_categorical_accuracy: 0.7706 - val_loss: 0.8136 - val_sparse_categorical_accuracy: 0.8326 - lr: 0.0010\n",
            "Epoch 4/100\n",
            "173/173 [==============================] - 3s 15ms/step - loss: 1.4743 - sparse_categorical_accuracy: 0.7943 - val_loss: 0.7762 - val_sparse_categorical_accuracy: 0.8333 - lr: 0.0010\n",
            "Epoch 5/100\n",
            "173/173 [==============================] - 3s 15ms/step - loss: 1.2548 - sparse_categorical_accuracy: 0.7983 - val_loss: 0.6766 - val_sparse_categorical_accuracy: 0.8333 - lr: 0.0010\n",
            "Epoch 6/100\n",
            "173/173 [==============================] - 2s 14ms/step - loss: 1.0364 - sparse_categorical_accuracy: 0.8066 - val_loss: 0.7041 - val_sparse_categorical_accuracy: 0.8333 - lr: 0.0010\n",
            "Epoch 7/100\n",
            "173/173 [==============================] - 3s 15ms/step - loss: 0.8454 - sparse_categorical_accuracy: 0.8215 - val_loss: 0.6763 - val_sparse_categorical_accuracy: 0.8333 - lr: 0.0010\n",
            "Epoch 8/100\n",
            "173/173 [==============================] - 3s 15ms/step - loss: 0.7807 - sparse_categorical_accuracy: 0.8235 - val_loss: 0.6521 - val_sparse_categorical_accuracy: 0.8333 - lr: 0.0010\n",
            "Epoch 9/100\n",
            "173/173 [==============================] - 3s 15ms/step - loss: 0.7868 - sparse_categorical_accuracy: 0.8248 - val_loss: 0.6481 - val_sparse_categorical_accuracy: 0.8333 - lr: 0.0010\n",
            "Epoch 10/100\n",
            "173/173 [==============================] - 3s 14ms/step - loss: 0.7530 - sparse_categorical_accuracy: 0.8248 - val_loss: 0.6547 - val_sparse_categorical_accuracy: 0.8333 - lr: 0.0010\n",
            "Epoch 11/100\n",
            "173/173 [==============================] - 3s 15ms/step - loss: 0.7181 - sparse_categorical_accuracy: 0.8271 - val_loss: 0.6341 - val_sparse_categorical_accuracy: 0.8333 - lr: 0.0010\n",
            "Epoch 12/100\n",
            "173/173 [==============================] - 3s 15ms/step - loss: 0.7193 - sparse_categorical_accuracy: 0.8293 - val_loss: 0.6386 - val_sparse_categorical_accuracy: 0.8333 - lr: 0.0010\n",
            "Epoch 13/100\n",
            "173/173 [==============================] - 3s 15ms/step - loss: 0.6712 - sparse_categorical_accuracy: 0.8293 - val_loss: 0.6259 - val_sparse_categorical_accuracy: 0.8333 - lr: 0.0010\n",
            "Epoch 14/100\n",
            "173/173 [==============================] - 3s 15ms/step - loss: 0.6677 - sparse_categorical_accuracy: 0.8306 - val_loss: 0.6176 - val_sparse_categorical_accuracy: 0.8333 - lr: 0.0010\n",
            "Epoch 15/100\n",
            "173/173 [==============================] - 3s 17ms/step - loss: 0.6527 - sparse_categorical_accuracy: 0.8315 - val_loss: 0.6229 - val_sparse_categorical_accuracy: 0.8333 - lr: 0.0010\n",
            "Epoch 16/100\n",
            "173/173 [==============================] - 3s 16ms/step - loss: 0.6494 - sparse_categorical_accuracy: 0.8295 - val_loss: 0.6150 - val_sparse_categorical_accuracy: 0.8333 - lr: 0.0010\n",
            "Epoch 17/100\n",
            "173/173 [==============================] - 3s 15ms/step - loss: 0.6381 - sparse_categorical_accuracy: 0.8306 - val_loss: 0.6151 - val_sparse_categorical_accuracy: 0.8333 - lr: 0.0010\n",
            "Epoch 18/100\n",
            "173/173 [==============================] - 3s 15ms/step - loss: 0.6421 - sparse_categorical_accuracy: 0.8313 - val_loss: 0.6183 - val_sparse_categorical_accuracy: 0.8333 - lr: 0.0010\n",
            "Epoch 19/100\n",
            "173/173 [==============================] - 3s 15ms/step - loss: 0.6535 - sparse_categorical_accuracy: 0.8313 - val_loss: 0.6161 - val_sparse_categorical_accuracy: 0.8333 - lr: 0.0010\n",
            "Epoch 20/100\n",
            "173/173 [==============================] - 3s 15ms/step - loss: 0.6427 - sparse_categorical_accuracy: 0.8318 - val_loss: 0.6191 - val_sparse_categorical_accuracy: 0.8333 - lr: 1.0000e-04\n",
            "Epoch 21/100\n",
            "173/173 [==============================] - 3s 15ms/step - loss: 0.6321 - sparse_categorical_accuracy: 0.8318 - val_loss: 0.6166 - val_sparse_categorical_accuracy: 0.8333 - lr: 1.0000e-04\n",
            "Epoch 22/100\n",
            "173/173 [==============================] - 2s 14ms/step - loss: 0.6232 - sparse_categorical_accuracy: 0.8325 - val_loss: 0.6157 - val_sparse_categorical_accuracy: 0.8333 - lr: 1.0000e-04\n",
            "Epoch 23/100\n",
            "173/173 [==============================] - 2s 14ms/step - loss: 0.6349 - sparse_categorical_accuracy: 0.8324 - val_loss: 0.6159 - val_sparse_categorical_accuracy: 0.8333 - lr: 1.0000e-05\n",
            "Epoch 24/100\n",
            "173/173 [==============================] - 3s 15ms/step - loss: 0.6327 - sparse_categorical_accuracy: 0.8325 - val_loss: 0.6160 - val_sparse_categorical_accuracy: 0.8333 - lr: 1.0000e-05\n",
            "Epoch 25/100\n",
            "173/173 [==============================] - 2s 14ms/step - loss: 0.6298 - sparse_categorical_accuracy: 0.8318 - val_loss: 0.6159 - val_sparse_categorical_accuracy: 0.8333 - lr: 1.0000e-05\n",
            "Epoch 26/100\n",
            "173/173 [==============================] - 2s 14ms/step - loss: 0.6286 - sparse_categorical_accuracy: 0.8324 - val_loss: 0.6159 - val_sparse_categorical_accuracy: 0.8333 - lr: 1.0000e-06\n"
          ]
        }
      ]
    },
    {
      "cell_type": "code",
      "source": [
        "y_pred = mSpec_model.predict(mSpec_val)"
      ],
      "metadata": {
        "id": "Cf2VmKWB_YFK"
      },
      "execution_count": 17,
      "outputs": []
    },
    {
      "cell_type": "markdown",
      "source": [
        "###training(crackle & wheeze)"
      ],
      "metadata": {
        "id": "B9WrzZNX_LPk"
      }
    },
    {
      "cell_type": "code",
      "source": [
        "accuracy='sparse_categorical_accuracy'\n",
        "sparseLoss=keras.losses.SparseCategoricalCrossentropy()\n",
        "\n",
        "from keras import backend as K\n",
        "K.clear_session()\n",
        "mSpec_model_cw.compile(optimizer='nadam', loss=sparseLoss, metrics=[accuracy])\n",
        "K.set_value(mSpec_model_cw.optimizer.learning_rate, 0.001)"
      ],
      "metadata": {
        "id": "6nM3HfcmBTWu"
      },
      "execution_count": 25,
      "outputs": []
    },
    {
      "cell_type": "code",
      "source": [
        "file_name = '/content/drive/MyDrive/aiffel/aiffelthon/model/checkpoint-only-zero-7sec-cw-001.h5'\n",
        "my_callbacks_1 = [\n",
        "    tf.keras.callbacks.EarlyStopping(patience=10),\n",
        "    tf.keras.callbacks.ReduceLROnPlateau(monitor='val_loss', factor=0.1,\n",
        "                              patience=3, min_lr=1e-12,mode='min'), #미분하다 막히면 lr 변경해줌\n",
        "    tf.keras.callbacks.ModelCheckpoint(file_name, monitor='val_loss', verbose=0, save_best_only=True,)\n",
        "]"
      ],
      "metadata": {
        "id": "QrpicNYl_rxU"
      },
      "execution_count": 23,
      "outputs": []
    },
    {
      "cell_type": "code",
      "source": [
        "history=mSpec_model_cw.fit(\n",
        "    mSpec_train, # fit 할 때 ndarray > tensor로 바꾸는 느낌?\n",
        "    ytrain_1,\n",
        "    validation_data=(mSpec_val,yval_1),\n",
        "    epochs=100,verbose=1,\n",
        "    callbacks=my_callbacks_1\n",
        ")"
      ],
      "metadata": {
        "colab": {
          "base_uri": "https://localhost:8080/"
        },
        "id": "CfU92zc3_LBI",
        "outputId": "47f5015f-63ad-4a59-a47b-6aeb86c82d4b"
      },
      "execution_count": 26,
      "outputs": [
        {
          "output_type": "stream",
          "name": "stdout",
          "text": [
            "Epoch 1/100\n",
            "173/173 [==============================] - 4s 17ms/step - loss: 44.5667 - sparse_categorical_accuracy: 0.4014 - val_loss: 1.2621 - val_sparse_categorical_accuracy: 0.5319 - lr: 0.0010\n",
            "Epoch 2/100\n",
            "173/173 [==============================] - 3s 15ms/step - loss: 2.2065 - sparse_categorical_accuracy: 0.5116 - val_loss: 1.1858 - val_sparse_categorical_accuracy: 0.5283 - lr: 0.0010\n",
            "Epoch 3/100\n",
            "173/173 [==============================] - 3s 15ms/step - loss: 1.5845 - sparse_categorical_accuracy: 0.5227 - val_loss: 1.1612 - val_sparse_categorical_accuracy: 0.5283 - lr: 0.0010\n",
            "Epoch 4/100\n",
            "173/173 [==============================] - 3s 16ms/step - loss: 1.4064 - sparse_categorical_accuracy: 0.5256 - val_loss: 1.1524 - val_sparse_categorical_accuracy: 0.5283 - lr: 0.0010\n",
            "Epoch 5/100\n",
            "173/173 [==============================] - 3s 15ms/step - loss: 1.2278 - sparse_categorical_accuracy: 0.5268 - val_loss: 1.1487 - val_sparse_categorical_accuracy: 0.5283 - lr: 0.0010\n",
            "Epoch 6/100\n",
            "173/173 [==============================] - 3s 15ms/step - loss: 1.2176 - sparse_categorical_accuracy: 0.5265 - val_loss: 1.1472 - val_sparse_categorical_accuracy: 0.5283 - lr: 0.0010\n",
            "Epoch 7/100\n",
            "173/173 [==============================] - 3s 15ms/step - loss: 1.1844 - sparse_categorical_accuracy: 0.5279 - val_loss: 1.1465 - val_sparse_categorical_accuracy: 0.5283 - lr: 0.0010\n",
            "Epoch 8/100\n",
            "173/173 [==============================] - 3s 15ms/step - loss: 1.1777 - sparse_categorical_accuracy: 0.5265 - val_loss: 1.1461 - val_sparse_categorical_accuracy: 0.5283 - lr: 0.0010\n",
            "Epoch 9/100\n",
            "173/173 [==============================] - 3s 15ms/step - loss: 1.2198 - sparse_categorical_accuracy: 0.5274 - val_loss: 1.1459 - val_sparse_categorical_accuracy: 0.5283 - lr: 0.0010\n",
            "Epoch 10/100\n",
            "173/173 [==============================] - 3s 15ms/step - loss: 1.1897 - sparse_categorical_accuracy: 0.5279 - val_loss: 1.1458 - val_sparse_categorical_accuracy: 0.5283 - lr: 0.0010\n",
            "Epoch 11/100\n",
            "173/173 [==============================] - 3s 15ms/step - loss: 1.1986 - sparse_categorical_accuracy: 0.5270 - val_loss: 1.1457 - val_sparse_categorical_accuracy: 0.5283 - lr: 0.0010\n",
            "Epoch 12/100\n",
            "173/173 [==============================] - 3s 15ms/step - loss: 1.1547 - sparse_categorical_accuracy: 0.5277 - val_loss: 1.1457 - val_sparse_categorical_accuracy: 0.5283 - lr: 0.0010\n",
            "Epoch 13/100\n",
            "173/173 [==============================] - 3s 15ms/step - loss: 1.1580 - sparse_categorical_accuracy: 0.5268 - val_loss: 1.1456 - val_sparse_categorical_accuracy: 0.5283 - lr: 0.0010\n",
            "Epoch 14/100\n",
            "173/173 [==============================] - 3s 15ms/step - loss: 1.1585 - sparse_categorical_accuracy: 0.5275 - val_loss: 1.1457 - val_sparse_categorical_accuracy: 0.5283 - lr: 0.0010\n",
            "Epoch 15/100\n",
            "173/173 [==============================] - 3s 15ms/step - loss: 1.1493 - sparse_categorical_accuracy: 0.5279 - val_loss: 1.1456 - val_sparse_categorical_accuracy: 0.5283 - lr: 0.0010\n",
            "Epoch 16/100\n",
            "173/173 [==============================] - 3s 15ms/step - loss: 1.1803 - sparse_categorical_accuracy: 0.5274 - val_loss: 1.1456 - val_sparse_categorical_accuracy: 0.5283 - lr: 0.0010\n",
            "Epoch 17/100\n",
            "173/173 [==============================] - 2s 14ms/step - loss: 1.1757 - sparse_categorical_accuracy: 0.5279 - val_loss: 1.1456 - val_sparse_categorical_accuracy: 0.5283 - lr: 1.0000e-04\n",
            "Epoch 18/100\n",
            "173/173 [==============================] - 2s 14ms/step - loss: 1.1515 - sparse_categorical_accuracy: 0.5281 - val_loss: 1.1456 - val_sparse_categorical_accuracy: 0.5283 - lr: 1.0000e-04\n",
            "Epoch 19/100\n",
            "173/173 [==============================] - 2s 14ms/step - loss: 1.1885 - sparse_categorical_accuracy: 0.5277 - val_loss: 1.1456 - val_sparse_categorical_accuracy: 0.5283 - lr: 1.0000e-04\n",
            "Epoch 20/100\n",
            "173/173 [==============================] - 2s 14ms/step - loss: 1.1495 - sparse_categorical_accuracy: 0.5279 - val_loss: 1.1456 - val_sparse_categorical_accuracy: 0.5283 - lr: 1.0000e-05\n",
            "Epoch 21/100\n",
            "173/173 [==============================] - 2s 14ms/step - loss: 1.1667 - sparse_categorical_accuracy: 0.5275 - val_loss: 1.1456 - val_sparse_categorical_accuracy: 0.5283 - lr: 1.0000e-05\n",
            "Epoch 22/100\n",
            "173/173 [==============================] - 3s 15ms/step - loss: 1.1519 - sparse_categorical_accuracy: 0.5279 - val_loss: 1.1456 - val_sparse_categorical_accuracy: 0.5283 - lr: 1.0000e-05\n",
            "Epoch 23/100\n",
            "173/173 [==============================] - 3s 15ms/step - loss: 1.1672 - sparse_categorical_accuracy: 0.5275 - val_loss: 1.1456 - val_sparse_categorical_accuracy: 0.5283 - lr: 1.0000e-06\n"
          ]
        }
      ]
    },
    {
      "cell_type": "code",
      "source": [
        "y_pred_1 = mSpec_model_cw.predict(mSpec_val)"
      ],
      "metadata": {
        "id": "OagihSjKAFcf"
      },
      "execution_count": 29,
      "outputs": []
    },
    {
      "cell_type": "markdown",
      "source": [
        "##7. Evaluate\n",
        "disease"
      ],
      "metadata": {
        "id": "WlaBHigUw5-6"
      }
    },
    {
      "cell_type": "code",
      "source": [
        "from sklearn.metrics import confusion_matrix, plot_confusion_matrix\n",
        "confusion_matrix(np.argmax(y_pred, axis = 1), yval)"
      ],
      "metadata": {
        "colab": {
          "base_uri": "https://localhost:8080/"
        },
        "id": "dcM6T-I6_VpH",
        "outputId": "8e1c4f8d-68f6-4b0b-ef68-e5e352607ae8"
      },
      "execution_count": 18,
      "outputs": [
        {
          "output_type": "execute_result",
          "data": {
            "text/plain": [
              "array([[   0,    0,    0,    0,    0,    0,    0,    0],\n",
              "       [   0,    0,    0,    0,    0,    0,    0,    0],\n",
              "       [   0,    0,    0,    0,    0,    0,    0,    0],\n",
              "       [   1,   21,   32, 1150,   64,    6,   57,   49],\n",
              "       [   0,    0,    0,    0,    0,    0,    0,    0],\n",
              "       [   0,    0,    0,    0,    0,    0,    0,    0],\n",
              "       [   0,    0,    0,    0,    0,    0,    0,    0],\n",
              "       [   0,    0,    0,    0,    0,    0,    0,    0]])"
            ]
          },
          "metadata": {},
          "execution_count": 18
        }
      ]
    },
    {
      "cell_type": "code",
      "source": [
        "from sklearn.metrics import classification_report\n",
        "\n",
        "target_names=['URTI', 'Healthy', 'Asthma', 'COPD', 'LRTI', 'Bronchiectasis', 'Pheumonia', 'Bronchiolitis']\n",
        "\n",
        "with open( root+ \"clf_report_zero_7sec.txt\", \"w\") as text_file:\n",
        "    print(classification_report(yval, np.argmax(y_pred, axis = 1), target_names=target_names), file=text_file)\n",
        "\n",
        "print(classification_report(yval, np.argmax(y_pred, axis = 1), target_names=target_names))"
      ],
      "metadata": {
        "colab": {
          "base_uri": "https://localhost:8080/"
        },
        "id": "WzETe2Jo_0_a",
        "outputId": "1ee89267-7b10-4943-9cc9-a70b5cf2ca8d"
      },
      "execution_count": 21,
      "outputs": [
        {
          "output_type": "stream",
          "name": "stdout",
          "text": [
            "                precision    recall  f1-score   support\n",
            "\n",
            "          URTI       0.00      0.00      0.00         1\n",
            "       Healthy       0.00      0.00      0.00        21\n",
            "        Asthma       0.00      0.00      0.00        32\n",
            "          COPD       0.83      1.00      0.91      1150\n",
            "          LRTI       0.00      0.00      0.00        64\n",
            "Bronchiectasis       0.00      0.00      0.00         6\n",
            "     Pheumonia       0.00      0.00      0.00        57\n",
            " Bronchiolitis       0.00      0.00      0.00        49\n",
            "\n",
            "      accuracy                           0.83      1380\n",
            "     macro avg       0.10      0.12      0.11      1380\n",
            "  weighted avg       0.69      0.83      0.76      1380\n",
            "\n"
          ]
        },
        {
          "output_type": "stream",
          "name": "stderr",
          "text": [
            "/usr/local/lib/python3.7/dist-packages/sklearn/metrics/_classification.py:1318: UndefinedMetricWarning: Precision and F-score are ill-defined and being set to 0.0 in labels with no predicted samples. Use `zero_division` parameter to control this behavior.\n",
            "  _warn_prf(average, modifier, msg_start, len(result))\n",
            "/usr/local/lib/python3.7/dist-packages/sklearn/metrics/_classification.py:1318: UndefinedMetricWarning: Precision and F-score are ill-defined and being set to 0.0 in labels with no predicted samples. Use `zero_division` parameter to control this behavior.\n",
            "  _warn_prf(average, modifier, msg_start, len(result))\n",
            "/usr/local/lib/python3.7/dist-packages/sklearn/metrics/_classification.py:1318: UndefinedMetricWarning: Precision and F-score are ill-defined and being set to 0.0 in labels with no predicted samples. Use `zero_division` parameter to control this behavior.\n",
            "  _warn_prf(average, modifier, msg_start, len(result))\n",
            "/usr/local/lib/python3.7/dist-packages/sklearn/metrics/_classification.py:1318: UndefinedMetricWarning: Precision and F-score are ill-defined and being set to 0.0 in labels with no predicted samples. Use `zero_division` parameter to control this behavior.\n",
            "  _warn_prf(average, modifier, msg_start, len(result))\n",
            "/usr/local/lib/python3.7/dist-packages/sklearn/metrics/_classification.py:1318: UndefinedMetricWarning: Precision and F-score are ill-defined and being set to 0.0 in labels with no predicted samples. Use `zero_division` parameter to control this behavior.\n",
            "  _warn_prf(average, modifier, msg_start, len(result))\n",
            "/usr/local/lib/python3.7/dist-packages/sklearn/metrics/_classification.py:1318: UndefinedMetricWarning: Precision and F-score are ill-defined and being set to 0.0 in labels with no predicted samples. Use `zero_division` parameter to control this behavior.\n",
            "  _warn_prf(average, modifier, msg_start, len(result))\n"
          ]
        }
      ]
    },
    {
      "cell_type": "markdown",
      "source": [
        "crackle & wheeze"
      ],
      "metadata": {
        "id": "UIPQEd55__H1"
      }
    },
    {
      "cell_type": "code",
      "source": [
        "confusion_matrix(np.argmax(y_pred_1, axis = 1), yval_1)"
      ],
      "metadata": {
        "colab": {
          "base_uri": "https://localhost:8080/"
        },
        "id": "bNCuv3HS__eF",
        "outputId": "f0ed1c5d-8ba1-40a1-d749-14737c74b606"
      },
      "execution_count": 30,
      "outputs": [
        {
          "output_type": "execute_result",
          "data": {
            "text/plain": [
              "array([[729, 373, 177, 101],\n",
              "       [  0,   0,   0,   0],\n",
              "       [  0,   0,   0,   0],\n",
              "       [  0,   0,   0,   0]])"
            ]
          },
          "metadata": {},
          "execution_count": 30
        }
      ]
    },
    {
      "cell_type": "code",
      "source": [
        "target_names=['Normal', 'crackle', 'wheeze', 'both']\n",
        "\n",
        "with open( root+ \"clf_report_zero_7sec_cw.txt\", \"w\") as text_file:\n",
        "    print(classification_report(yval_1, np.argmax(y_pred_1, axis = 1), target_names=target_names), file=text_file)\n",
        "\n",
        "print(classification_report(yval_1, np.argmax(y_pred_1, axis = 1), target_names=target_names))"
      ],
      "metadata": {
        "colab": {
          "base_uri": "https://localhost:8080/"
        },
        "id": "gr7AaHwuARYw",
        "outputId": "59c73392-7403-441d-d92c-1b352247251b"
      },
      "execution_count": 31,
      "outputs": [
        {
          "output_type": "stream",
          "name": "stdout",
          "text": [
            "              precision    recall  f1-score   support\n",
            "\n",
            "      Normal       0.53      1.00      0.69       729\n",
            "     crackle       0.00      0.00      0.00       373\n",
            "      wheeze       0.00      0.00      0.00       177\n",
            "        both       0.00      0.00      0.00       101\n",
            "\n",
            "    accuracy                           0.53      1380\n",
            "   macro avg       0.13      0.25      0.17      1380\n",
            "weighted avg       0.28      0.53      0.37      1380\n",
            "\n"
          ]
        },
        {
          "output_type": "stream",
          "name": "stderr",
          "text": [
            "/usr/local/lib/python3.7/dist-packages/sklearn/metrics/_classification.py:1318: UndefinedMetricWarning: Precision and F-score are ill-defined and being set to 0.0 in labels with no predicted samples. Use `zero_division` parameter to control this behavior.\n",
            "  _warn_prf(average, modifier, msg_start, len(result))\n",
            "/usr/local/lib/python3.7/dist-packages/sklearn/metrics/_classification.py:1318: UndefinedMetricWarning: Precision and F-score are ill-defined and being set to 0.0 in labels with no predicted samples. Use `zero_division` parameter to control this behavior.\n",
            "  _warn_prf(average, modifier, msg_start, len(result))\n",
            "/usr/local/lib/python3.7/dist-packages/sklearn/metrics/_classification.py:1318: UndefinedMetricWarning: Precision and F-score are ill-defined and being set to 0.0 in labels with no predicted samples. Use `zero_division` parameter to control this behavior.\n",
            "  _warn_prf(average, modifier, msg_start, len(result))\n",
            "/usr/local/lib/python3.7/dist-packages/sklearn/metrics/_classification.py:1318: UndefinedMetricWarning: Precision and F-score are ill-defined and being set to 0.0 in labels with no predicted samples. Use `zero_division` parameter to control this behavior.\n",
            "  _warn_prf(average, modifier, msg_start, len(result))\n",
            "/usr/local/lib/python3.7/dist-packages/sklearn/metrics/_classification.py:1318: UndefinedMetricWarning: Precision and F-score are ill-defined and being set to 0.0 in labels with no predicted samples. Use `zero_division` parameter to control this behavior.\n",
            "  _warn_prf(average, modifier, msg_start, len(result))\n",
            "/usr/local/lib/python3.7/dist-packages/sklearn/metrics/_classification.py:1318: UndefinedMetricWarning: Precision and F-score are ill-defined and being set to 0.0 in labels with no predicted samples. Use `zero_division` parameter to control this behavior.\n",
            "  _warn_prf(average, modifier, msg_start, len(result))\n"
          ]
        }
      ]
    }
  ]
}