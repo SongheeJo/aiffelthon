{
  "nbformat": 4,
  "nbformat_minor": 0,
  "metadata": {
    "colab": {
      "name": "second_trial_part2_augmentation_feature_extraction.ipynb",
      "provenance": [],
      "machine_shape": "hm"
    },
    "kernelspec": {
      "name": "python3",
      "display_name": "Python 3"
    },
    "language_info": {
      "name": "python"
    }
  },
  "cells": [
    {
      "cell_type": "markdown",
      "source": [
        "## Importing Dependencies\n"
      ],
      "metadata": {
        "id": "Zpb0QuSxkkPE"
      }
    },
    {
      "cell_type": "code",
      "execution_count": null,
      "metadata": {
        "id": "5a9vLsYAUpSl"
      },
      "outputs": [],
      "source": [
        "!pip install tensorflow-io[tensorflow]"
      ]
    },
    {
      "cell_type": "code",
      "source": [
        "!pip install nlpaug"
      ],
      "metadata": {
        "id": "0rp3KuKcVNBy"
      },
      "execution_count": null,
      "outputs": []
    },
    {
      "cell_type": "code",
      "source": [
        "!pip install cmapy"
      ],
      "metadata": {
        "id": "u_rBc4N4VOaR"
      },
      "execution_count": null,
      "outputs": []
    },
    {
      "cell_type": "code",
      "source": [
        "import os\n",
        "import cv2\n",
        "import random\n",
        "import cmapy\n",
        "import pandas as pd\n",
        "import numpy as np\n",
        "import matplotlib.pyplot as plt\n",
        "import librosa as lb\n",
        "import librosa.display as lbd\n",
        "import soundfile as sf\n",
        "\n",
        "#augmentation\n",
        "import tensorflow_io as tfio\n",
        "import nlpaug.augmenter.audio as naa\n",
        "\n",
        "#train_test_split\n",
        "from sklearn.model_selection import train_test_split"
      ],
      "metadata": {
        "id": "alcuXzyaVPMk"
      },
      "execution_count": 13,
      "outputs": []
    },
    {
      "cell_type": "markdown",
      "source": [
        "## Load Data"
      ],
      "metadata": {
        "id": "nFSmDgTpkjGK"
      }
    },
    {
      "cell_type": "code",
      "source": [
        "root = '/content/drive/MyDrive/hack/datasets/'"
      ],
      "metadata": {
        "id": "0ljBBW8vVTDd"
      },
      "execution_count": 5,
      "outputs": []
    },
    {
      "cell_type": "code",
      "source": [
        "df = pd.read_csv(root + 'processed.csv')\n",
        "df.head()"
      ],
      "metadata": {
        "colab": {
          "base_uri": "https://localhost:8080/",
          "height": 206
        },
        "id": "M3iD_TWnVUuv",
        "outputId": "a9c7ed72-f11d-42ec-a006-2b329c128839"
      },
      "execution_count": 7,
      "outputs": [
        {
          "output_type": "execute_result",
          "data": {
            "text/plain": [
              "    start     end  pid mode                      filename disease  \\\n",
              "0   1.862   5.718  160   mc  160_1b3_Al_mc_AKGC417L_0.wav    COPD   \n",
              "1   5.718   9.725  160   mc  160_1b3_Al_mc_AKGC417L_1.wav    COPD   \n",
              "2   9.725  13.614  160   mc  160_1b3_Al_mc_AKGC417L_2.wav    COPD   \n",
              "3  13.614  17.671  160   mc  160_1b3_Al_mc_AKGC417L_3.wav    COPD   \n",
              "4  17.671  19.541  160   mc  160_1b3_Al_mc_AKGC417L_4.wav    COPD   \n",
              "\n",
              "   crack_wheeze  \n",
              "0             2  \n",
              "1             3  \n",
              "2             2  \n",
              "3             2  \n",
              "4             0  "
            ],
            "text/html": [
              "\n",
              "  <div id=\"df-650ee629-c963-4283-8363-047854a59b69\">\n",
              "    <div class=\"colab-df-container\">\n",
              "      <div>\n",
              "<style scoped>\n",
              "    .dataframe tbody tr th:only-of-type {\n",
              "        vertical-align: middle;\n",
              "    }\n",
              "\n",
              "    .dataframe tbody tr th {\n",
              "        vertical-align: top;\n",
              "    }\n",
              "\n",
              "    .dataframe thead th {\n",
              "        text-align: right;\n",
              "    }\n",
              "</style>\n",
              "<table border=\"1\" class=\"dataframe\">\n",
              "  <thead>\n",
              "    <tr style=\"text-align: right;\">\n",
              "      <th></th>\n",
              "      <th>start</th>\n",
              "      <th>end</th>\n",
              "      <th>pid</th>\n",
              "      <th>mode</th>\n",
              "      <th>filename</th>\n",
              "      <th>disease</th>\n",
              "      <th>crack_wheeze</th>\n",
              "    </tr>\n",
              "  </thead>\n",
              "  <tbody>\n",
              "    <tr>\n",
              "      <th>0</th>\n",
              "      <td>1.862</td>\n",
              "      <td>5.718</td>\n",
              "      <td>160</td>\n",
              "      <td>mc</td>\n",
              "      <td>160_1b3_Al_mc_AKGC417L_0.wav</td>\n",
              "      <td>COPD</td>\n",
              "      <td>2</td>\n",
              "    </tr>\n",
              "    <tr>\n",
              "      <th>1</th>\n",
              "      <td>5.718</td>\n",
              "      <td>9.725</td>\n",
              "      <td>160</td>\n",
              "      <td>mc</td>\n",
              "      <td>160_1b3_Al_mc_AKGC417L_1.wav</td>\n",
              "      <td>COPD</td>\n",
              "      <td>3</td>\n",
              "    </tr>\n",
              "    <tr>\n",
              "      <th>2</th>\n",
              "      <td>9.725</td>\n",
              "      <td>13.614</td>\n",
              "      <td>160</td>\n",
              "      <td>mc</td>\n",
              "      <td>160_1b3_Al_mc_AKGC417L_2.wav</td>\n",
              "      <td>COPD</td>\n",
              "      <td>2</td>\n",
              "    </tr>\n",
              "    <tr>\n",
              "      <th>3</th>\n",
              "      <td>13.614</td>\n",
              "      <td>17.671</td>\n",
              "      <td>160</td>\n",
              "      <td>mc</td>\n",
              "      <td>160_1b3_Al_mc_AKGC417L_3.wav</td>\n",
              "      <td>COPD</td>\n",
              "      <td>2</td>\n",
              "    </tr>\n",
              "    <tr>\n",
              "      <th>4</th>\n",
              "      <td>17.671</td>\n",
              "      <td>19.541</td>\n",
              "      <td>160</td>\n",
              "      <td>mc</td>\n",
              "      <td>160_1b3_Al_mc_AKGC417L_4.wav</td>\n",
              "      <td>COPD</td>\n",
              "      <td>0</td>\n",
              "    </tr>\n",
              "  </tbody>\n",
              "</table>\n",
              "</div>\n",
              "      <button class=\"colab-df-convert\" onclick=\"convertToInteractive('df-650ee629-c963-4283-8363-047854a59b69')\"\n",
              "              title=\"Convert this dataframe to an interactive table.\"\n",
              "              style=\"display:none;\">\n",
              "        \n",
              "  <svg xmlns=\"http://www.w3.org/2000/svg\" height=\"24px\"viewBox=\"0 0 24 24\"\n",
              "       width=\"24px\">\n",
              "    <path d=\"M0 0h24v24H0V0z\" fill=\"none\"/>\n",
              "    <path d=\"M18.56 5.44l.94 2.06.94-2.06 2.06-.94-2.06-.94-.94-2.06-.94 2.06-2.06.94zm-11 1L8.5 8.5l.94-2.06 2.06-.94-2.06-.94L8.5 2.5l-.94 2.06-2.06.94zm10 10l.94 2.06.94-2.06 2.06-.94-2.06-.94-.94-2.06-.94 2.06-2.06.94z\"/><path d=\"M17.41 7.96l-1.37-1.37c-.4-.4-.92-.59-1.43-.59-.52 0-1.04.2-1.43.59L10.3 9.45l-7.72 7.72c-.78.78-.78 2.05 0 2.83L4 21.41c.39.39.9.59 1.41.59.51 0 1.02-.2 1.41-.59l7.78-7.78 2.81-2.81c.8-.78.8-2.07 0-2.86zM5.41 20L4 18.59l7.72-7.72 1.47 1.35L5.41 20z\"/>\n",
              "  </svg>\n",
              "      </button>\n",
              "      \n",
              "  <style>\n",
              "    .colab-df-container {\n",
              "      display:flex;\n",
              "      flex-wrap:wrap;\n",
              "      gap: 12px;\n",
              "    }\n",
              "\n",
              "    .colab-df-convert {\n",
              "      background-color: #E8F0FE;\n",
              "      border: none;\n",
              "      border-radius: 50%;\n",
              "      cursor: pointer;\n",
              "      display: none;\n",
              "      fill: #1967D2;\n",
              "      height: 32px;\n",
              "      padding: 0 0 0 0;\n",
              "      width: 32px;\n",
              "    }\n",
              "\n",
              "    .colab-df-convert:hover {\n",
              "      background-color: #E2EBFA;\n",
              "      box-shadow: 0px 1px 2px rgba(60, 64, 67, 0.3), 0px 1px 3px 1px rgba(60, 64, 67, 0.15);\n",
              "      fill: #174EA6;\n",
              "    }\n",
              "\n",
              "    [theme=dark] .colab-df-convert {\n",
              "      background-color: #3B4455;\n",
              "      fill: #D2E3FC;\n",
              "    }\n",
              "\n",
              "    [theme=dark] .colab-df-convert:hover {\n",
              "      background-color: #434B5C;\n",
              "      box-shadow: 0px 1px 3px 1px rgba(0, 0, 0, 0.15);\n",
              "      filter: drop-shadow(0px 1px 2px rgba(0, 0, 0, 0.3));\n",
              "      fill: #FFFFFF;\n",
              "    }\n",
              "  </style>\n",
              "\n",
              "      <script>\n",
              "        const buttonEl =\n",
              "          document.querySelector('#df-650ee629-c963-4283-8363-047854a59b69 button.colab-df-convert');\n",
              "        buttonEl.style.display =\n",
              "          google.colab.kernel.accessAllowed ? 'block' : 'none';\n",
              "\n",
              "        async function convertToInteractive(key) {\n",
              "          const element = document.querySelector('#df-650ee629-c963-4283-8363-047854a59b69');\n",
              "          const dataTable =\n",
              "            await google.colab.kernel.invokeFunction('convertToInteractive',\n",
              "                                                     [key], {});\n",
              "          if (!dataTable) return;\n",
              "\n",
              "          const docLinkHtml = 'Like what you see? Visit the ' +\n",
              "            '<a target=\"_blank\" href=https://colab.research.google.com/notebooks/data_table.ipynb>data table notebook</a>'\n",
              "            + ' to learn more about interactive tables.';\n",
              "          element.innerHTML = '';\n",
              "          dataTable['output_type'] = 'display_data';\n",
              "          await google.colab.output.renderOutput(dataTable, element);\n",
              "          const docLink = document.createElement('div');\n",
              "          docLink.innerHTML = docLinkHtml;\n",
              "          element.appendChild(docLink);\n",
              "        }\n",
              "      </script>\n",
              "    </div>\n",
              "  </div>\n",
              "  "
            ]
          },
          "metadata": {},
          "execution_count": 7
        }
      ]
    },
    {
      "cell_type": "code",
      "source": [
        "concat_df = pd.read_csv(root + 'final_concat_df.csv', index_col=[0])\n",
        "concat_df.head()"
      ],
      "metadata": {
        "colab": {
          "base_uri": "https://localhost:8080/",
          "height": 206
        },
        "id": "VWzp3HniVmAw",
        "outputId": "8b95a032-40be-4c45-df22-bb7721444a65"
      },
      "execution_count": 9,
      "outputs": [
        {
          "output_type": "execute_result",
          "data": {
            "text/plain": [
              "   start  end  pid  mode             filename  disease  crack_wheeze\n",
              "0    NaN  NaN  NaN   NaN  aug_crackle_450.wav      NaN             1\n",
              "1    NaN  NaN  NaN   NaN  aug_crackle_451.wav      NaN             1\n",
              "2    NaN  NaN  NaN   NaN  aug_crackle_452.wav      NaN             1\n",
              "3    NaN  NaN  NaN   NaN  aug_crackle_453.wav      NaN             1\n",
              "4    NaN  NaN  NaN   NaN  aug_crackle_454.wav      NaN             1"
            ],
            "text/html": [
              "\n",
              "  <div id=\"df-40838500-2b97-44fb-ab25-12d44d370684\">\n",
              "    <div class=\"colab-df-container\">\n",
              "      <div>\n",
              "<style scoped>\n",
              "    .dataframe tbody tr th:only-of-type {\n",
              "        vertical-align: middle;\n",
              "    }\n",
              "\n",
              "    .dataframe tbody tr th {\n",
              "        vertical-align: top;\n",
              "    }\n",
              "\n",
              "    .dataframe thead th {\n",
              "        text-align: right;\n",
              "    }\n",
              "</style>\n",
              "<table border=\"1\" class=\"dataframe\">\n",
              "  <thead>\n",
              "    <tr style=\"text-align: right;\">\n",
              "      <th></th>\n",
              "      <th>start</th>\n",
              "      <th>end</th>\n",
              "      <th>pid</th>\n",
              "      <th>mode</th>\n",
              "      <th>filename</th>\n",
              "      <th>disease</th>\n",
              "      <th>crack_wheeze</th>\n",
              "    </tr>\n",
              "  </thead>\n",
              "  <tbody>\n",
              "    <tr>\n",
              "      <th>0</th>\n",
              "      <td>NaN</td>\n",
              "      <td>NaN</td>\n",
              "      <td>NaN</td>\n",
              "      <td>NaN</td>\n",
              "      <td>aug_crackle_450.wav</td>\n",
              "      <td>NaN</td>\n",
              "      <td>1</td>\n",
              "    </tr>\n",
              "    <tr>\n",
              "      <th>1</th>\n",
              "      <td>NaN</td>\n",
              "      <td>NaN</td>\n",
              "      <td>NaN</td>\n",
              "      <td>NaN</td>\n",
              "      <td>aug_crackle_451.wav</td>\n",
              "      <td>NaN</td>\n",
              "      <td>1</td>\n",
              "    </tr>\n",
              "    <tr>\n",
              "      <th>2</th>\n",
              "      <td>NaN</td>\n",
              "      <td>NaN</td>\n",
              "      <td>NaN</td>\n",
              "      <td>NaN</td>\n",
              "      <td>aug_crackle_452.wav</td>\n",
              "      <td>NaN</td>\n",
              "      <td>1</td>\n",
              "    </tr>\n",
              "    <tr>\n",
              "      <th>3</th>\n",
              "      <td>NaN</td>\n",
              "      <td>NaN</td>\n",
              "      <td>NaN</td>\n",
              "      <td>NaN</td>\n",
              "      <td>aug_crackle_453.wav</td>\n",
              "      <td>NaN</td>\n",
              "      <td>1</td>\n",
              "    </tr>\n",
              "    <tr>\n",
              "      <th>4</th>\n",
              "      <td>NaN</td>\n",
              "      <td>NaN</td>\n",
              "      <td>NaN</td>\n",
              "      <td>NaN</td>\n",
              "      <td>aug_crackle_454.wav</td>\n",
              "      <td>NaN</td>\n",
              "      <td>1</td>\n",
              "    </tr>\n",
              "  </tbody>\n",
              "</table>\n",
              "</div>\n",
              "      <button class=\"colab-df-convert\" onclick=\"convertToInteractive('df-40838500-2b97-44fb-ab25-12d44d370684')\"\n",
              "              title=\"Convert this dataframe to an interactive table.\"\n",
              "              style=\"display:none;\">\n",
              "        \n",
              "  <svg xmlns=\"http://www.w3.org/2000/svg\" height=\"24px\"viewBox=\"0 0 24 24\"\n",
              "       width=\"24px\">\n",
              "    <path d=\"M0 0h24v24H0V0z\" fill=\"none\"/>\n",
              "    <path d=\"M18.56 5.44l.94 2.06.94-2.06 2.06-.94-2.06-.94-.94-2.06-.94 2.06-2.06.94zm-11 1L8.5 8.5l.94-2.06 2.06-.94-2.06-.94L8.5 2.5l-.94 2.06-2.06.94zm10 10l.94 2.06.94-2.06 2.06-.94-2.06-.94-.94-2.06-.94 2.06-2.06.94z\"/><path d=\"M17.41 7.96l-1.37-1.37c-.4-.4-.92-.59-1.43-.59-.52 0-1.04.2-1.43.59L10.3 9.45l-7.72 7.72c-.78.78-.78 2.05 0 2.83L4 21.41c.39.39.9.59 1.41.59.51 0 1.02-.2 1.41-.59l7.78-7.78 2.81-2.81c.8-.78.8-2.07 0-2.86zM5.41 20L4 18.59l7.72-7.72 1.47 1.35L5.41 20z\"/>\n",
              "  </svg>\n",
              "      </button>\n",
              "      \n",
              "  <style>\n",
              "    .colab-df-container {\n",
              "      display:flex;\n",
              "      flex-wrap:wrap;\n",
              "      gap: 12px;\n",
              "    }\n",
              "\n",
              "    .colab-df-convert {\n",
              "      background-color: #E8F0FE;\n",
              "      border: none;\n",
              "      border-radius: 50%;\n",
              "      cursor: pointer;\n",
              "      display: none;\n",
              "      fill: #1967D2;\n",
              "      height: 32px;\n",
              "      padding: 0 0 0 0;\n",
              "      width: 32px;\n",
              "    }\n",
              "\n",
              "    .colab-df-convert:hover {\n",
              "      background-color: #E2EBFA;\n",
              "      box-shadow: 0px 1px 2px rgba(60, 64, 67, 0.3), 0px 1px 3px 1px rgba(60, 64, 67, 0.15);\n",
              "      fill: #174EA6;\n",
              "    }\n",
              "\n",
              "    [theme=dark] .colab-df-convert {\n",
              "      background-color: #3B4455;\n",
              "      fill: #D2E3FC;\n",
              "    }\n",
              "\n",
              "    [theme=dark] .colab-df-convert:hover {\n",
              "      background-color: #434B5C;\n",
              "      box-shadow: 0px 1px 3px 1px rgba(0, 0, 0, 0.15);\n",
              "      filter: drop-shadow(0px 1px 2px rgba(0, 0, 0, 0.3));\n",
              "      fill: #FFFFFF;\n",
              "    }\n",
              "  </style>\n",
              "\n",
              "      <script>\n",
              "        const buttonEl =\n",
              "          document.querySelector('#df-40838500-2b97-44fb-ab25-12d44d370684 button.colab-df-convert');\n",
              "        buttonEl.style.display =\n",
              "          google.colab.kernel.accessAllowed ? 'block' : 'none';\n",
              "\n",
              "        async function convertToInteractive(key) {\n",
              "          const element = document.querySelector('#df-40838500-2b97-44fb-ab25-12d44d370684');\n",
              "          const dataTable =\n",
              "            await google.colab.kernel.invokeFunction('convertToInteractive',\n",
              "                                                     [key], {});\n",
              "          if (!dataTable) return;\n",
              "\n",
              "          const docLinkHtml = 'Like what you see? Visit the ' +\n",
              "            '<a target=\"_blank\" href=https://colab.research.google.com/notebooks/data_table.ipynb>data table notebook</a>'\n",
              "            + ' to learn more about interactive tables.';\n",
              "          element.innerHTML = '';\n",
              "          dataTable['output_type'] = 'display_data';\n",
              "          await google.colab.output.renderOutput(dataTable, element);\n",
              "          const docLink = document.createElement('div');\n",
              "          docLink.innerHTML = docLinkHtml;\n",
              "          element.appendChild(docLink);\n",
              "        }\n",
              "      </script>\n",
              "    </div>\n",
              "  </div>\n",
              "  "
            ]
          },
          "metadata": {},
          "execution_count": 9
        }
      ]
    },
    {
      "cell_type": "code",
      "source": [
        "sr = 16000\n",
        "maxLen = 7"
      ],
      "metadata": {
        "id": "po_muRowVrFK"
      },
      "execution_count": 10,
      "outputs": []
    },
    {
      "cell_type": "code",
      "source": [
        "smart_pad = np.load(root+'smart_pad.npy')"
      ],
      "metadata": {
        "id": "W1alW0XtV2x9"
      },
      "execution_count": 11,
      "outputs": []
    },
    {
      "cell_type": "code",
      "source": [
        "concat_7sec = np.load(root+'concat_dupli_pad.npy')"
      ],
      "metadata": {
        "id": "r5p7JFKWjde1"
      },
      "execution_count": 29,
      "outputs": []
    },
    {
      "cell_type": "code",
      "source": [
        "concat_7sec_label = []\n",
        "for idx in range (len(concat_df)):\n",
        "    label = concat_df['crack_wheeze'][idx]\n",
        "    concat_7sec_label.append(label)"
      ],
      "metadata": {
        "id": "HRYFrJ4AiqXR"
      },
      "execution_count": 27,
      "outputs": []
    },
    {
      "cell_type": "markdown",
      "source": [
        "## Train_Test Split"
      ],
      "metadata": {
        "id": "7D_B122hkf19"
      }
    },
    {
      "cell_type": "code",
      "source": [
        "x_train, x_test, y_train, y_test = train_test_split(smart_pad, df.crack_wheeze,\n",
        "                                                    stratify=df['crack_wheeze'],\n",
        "                                                    random_state=42,\n",
        "                                                    test_size=0.4)"
      ],
      "metadata": {
        "id": "mSZxs4VzWG0H"
      },
      "execution_count": 14,
      "outputs": []
    },
    {
      "cell_type": "code",
      "source": [
        "print('train:', len(x_train), len(y_train))\n",
        "print('test:', len(x_test), len(y_test))"
      ],
      "metadata": {
        "colab": {
          "base_uri": "https://localhost:8080/"
        },
        "id": "cMxKS8HBWKk4",
        "outputId": "086cd74b-827b-4bab-c135-dfd1d5977b94"
      },
      "execution_count": 15,
      "outputs": [
        {
          "output_type": "stream",
          "name": "stdout",
          "text": [
            "train: 4138 4138\n",
            "test: 2760 2760\n"
          ]
        }
      ]
    },
    {
      "cell_type": "code",
      "source": [
        "import seaborn as sns\n",
        "sns.countplot(y_train)"
      ],
      "metadata": {
        "colab": {
          "base_uri": "https://localhost:8080/",
          "height": 355
        },
        "id": "fYSiGqUAWMCV",
        "outputId": "e4c004d4-5955-4741-844d-9750e67003ca"
      },
      "execution_count": 16,
      "outputs": [
        {
          "output_type": "stream",
          "name": "stderr",
          "text": [
            "/usr/local/lib/python3.7/dist-packages/seaborn/_decorators.py:43: FutureWarning: Pass the following variable as a keyword arg: x. From version 0.12, the only valid positional argument will be `data`, and passing other arguments without an explicit keyword will result in an error or misinterpretation.\n",
            "  FutureWarning\n"
          ]
        },
        {
          "output_type": "execute_result",
          "data": {
            "text/plain": [
              "<matplotlib.axes._subplots.AxesSubplot at 0x7f0bf0cac750>"
            ]
          },
          "metadata": {},
          "execution_count": 16
        },
        {
          "output_type": "display_data",
          "data": {
            "text/plain": [
              "<Figure size 432x288 with 1 Axes>"
            ],
            "image/png": "[encoded data removed]"
          },
          "metadata": {
            "needs_background": "light"
          }
        }
      ]
    },
    {
      "cell_type": "markdown",
      "source": [
        "## Augmentation"
      ],
      "metadata": {
        "id": "0xzDFakOkTyH"
      }
    },
    {
      "cell_type": "code",
      "source": [
        "#slicing\n",
        "def audio_slicing(signal, max = 7 * sr):\n",
        "    if len(signal) > max:\n",
        "        return signal[:max]\n",
        "    else:\n",
        "        return signal"
      ],
      "metadata": {
        "id": "GQjx0WFDWV64"
      },
      "execution_count": 20,
      "outputs": []
    },
    {
      "cell_type": "markdown",
      "source": [
        "#### Shift augmentation"
      ],
      "metadata": {
        "id": "HrtwZfeOkVUt"
      }
    },
    {
      "cell_type": "code",
      "source": [
        "def shift_aug(signal, sr=sr):\n",
        "    aug = naa.ShiftAug(sampling_rate=sr, duration=random.uniform(1.5, 3.5))\n",
        "    return aug.augment(signal)"
      ],
      "metadata": {
        "id": "888kp62mWNhA"
      },
      "execution_count": 17,
      "outputs": []
    },
    {
      "cell_type": "markdown",
      "source": [
        "#### Speed augmentation"
      ],
      "metadata": {
        "id": "dbhwt4vnkaXx"
      }
    },
    {
      "cell_type": "code",
      "source": [
        "def speed_aug(signal, sr=sr):\n",
        "    aug = naa.SpeedAug(zone=(0.2, 0.8), coverage=0.5, factor=(0.5, 1), stateless=True)\n",
        "    return aug.augment(signal)"
      ],
      "metadata": {
        "id": "91A62m8kWPNF"
      },
      "execution_count": 18,
      "outputs": []
    },
    {
      "cell_type": "markdown",
      "source": [
        "#### Applying augmentation"
      ],
      "metadata": {
        "id": "v1evPZtkkcbO"
      }
    },
    {
      "cell_type": "code",
      "source": [
        "def pre_aug(signal, label, sr=sr):\n",
        "    prob = np.random.randint(0,2)\n",
        "    if prob == 0:\n",
        "        return shift_aug(signal), label\n",
        "    else:\n",
        "        aug = speed_aug(signal)\n",
        "        return audio_slicing(aug), label"
      ],
      "metadata": {
        "id": "jEOB862rWQFa"
      },
      "execution_count": 19,
      "outputs": []
    },
    {
      "cell_type": "code",
      "source": [
        "train_arr = []\n",
        "for idx in range(len(x_train)):\n",
        "    augmented = pre_aug(np.array(x_train)[idx], np.array(y_train)[idx], sr=sr)\n",
        "    train_arr.append(augmented)"
      ],
      "metadata": {
        "id": "_SpN1K1GWRUP"
      },
      "execution_count": 21,
      "outputs": []
    },
    {
      "cell_type": "code",
      "source": [
        "len(train_arr)"
      ],
      "metadata": {
        "colab": {
          "base_uri": "https://localhost:8080/"
        },
        "id": "1UdzldIDWZ1B",
        "outputId": "b822c7f9-f7ea-4379-dbbf-e11e8be6f0e1"
      },
      "execution_count": 22,
      "outputs": [
        {
          "output_type": "execute_result",
          "data": {
            "text/plain": [
              "4138"
            ]
          },
          "metadata": {},
          "execution_count": 22
        }
      ]
    },
    {
      "cell_type": "code",
      "source": [
        "for idx in range(len(concat_7sec)):\n",
        "    augmented = pre_aug(concat_7sec[idx], concat_7sec_label[idx], sr=sr)\n",
        "    train_arr.append(augmented)"
      ],
      "metadata": {
        "id": "B8HLZ4rMWdOc"
      },
      "execution_count": 34,
      "outputs": []
    },
    {
      "cell_type": "code",
      "source": [
        "len(train_arr)"
      ],
      "metadata": {
        "colab": {
          "base_uri": "https://localhost:8080/"
        },
        "id": "64lcQYOsWeHu",
        "outputId": "abffbf79-3193-4201-ed49-0c00eb4772af"
      },
      "execution_count": 35,
      "outputs": [
        {
          "output_type": "execute_result",
          "data": {
            "text/plain": [
              "10271"
            ]
          },
          "metadata": {},
          "execution_count": 35
        }
      ]
    },
    {
      "cell_type": "code",
      "source": [
        "np.save(root+'train_arr.npy', train_arr)"
      ],
      "metadata": {
        "colab": {
          "base_uri": "https://localhost:8080/"
        },
        "id": "ONSorKBQkGj_",
        "outputId": "7c726b52-27ac-4141-b0cb-9de4d414666e"
      },
      "execution_count": 36,
      "outputs": [
        {
          "output_type": "stream",
          "name": "stderr",
          "text": [
            "/usr/local/lib/python3.7/dist-packages/numpy/lib/npyio.py:528: VisibleDeprecationWarning: Creating an ndarray from ragged nested sequences (which is a list-or-tuple of lists-or-tuples-or ndarrays with different lengths or shapes) is deprecated. If you meant to do this, you must specify 'dtype=object' when creating the ndarray.\n",
            "  arr = np.asanyarray(arr)\n"
          ]
        }
      ]
    },
    {
      "cell_type": "markdown",
      "source": [
        "## Mel feature extraction & Blank region clipping\n"
      ],
      "metadata": {
        "id": "ZGSo1YsjkGUE"
      }
    },
    {
      "cell_type": "markdown",
      "source": [
        "#### train set\n",
        "padded x_train, augmented x_train, padded_concat, augmented_concat "
      ],
      "metadata": {
        "id": "zPE2EWzYkRh8"
      }
    },
    {
      "cell_type": "code",
      "source": [
        "n_mels = 128\n",
        "f_min = 100\n",
        "f_max = 16000\n",
        "nfft = 2048\n",
        "hop = nfft//4"
      ],
      "metadata": {
        "id": "t63Mh1aNkDbR"
      },
      "execution_count": 37,
      "outputs": []
    },
    {
      "cell_type": "code",
      "source": [
        "#mel feature extraction\n",
        "def create_mel_raw(current_window, sr, n_mels=128, f_min=100, f_max=16000, nfft=2048, hop=512, resz=1):\n",
        "    S = lb.feature.melspectrogram(y=current_window, sr=sr, n_mels=n_mels, fmin=f_min, fmax=f_max, n_fft=nfft, hop_length=hop)\n",
        "    S = lb.power_to_db(S, ref=np.max)\n",
        "    S = (S-S.min()) / (S.max() - S.min())\n",
        "    S *= 255\n",
        "    img = cv2.applyColorMap(S.astype(np.uint8), cmapy.cmap('magma'))\n",
        "    height, width, _ = img.shape\n",
        "    if resz > 0:\n",
        "        img = cv2.resize(img, (width*resz, height*resz), interpolation=cv2.INTER_LINEAR) #bicubic interpolation\n",
        "    img = cv2.flip(img, 0)\n",
        "    return img"
      ],
      "metadata": {
        "id": "q7tXholMkreI"
      },
      "execution_count": 38,
      "outputs": []
    },
    {
      "cell_type": "code",
      "source": [
        "#blank region clipping\n",
        "blank_clipped_train = []\n",
        "for idx in range(len(train_arr)):\n",
        "    audio_image = cv2.cvtColor(create_mel_raw(np.array(train_arr)[idx][0], sr, n_mels, f_min, f_max, nfft, hop, resz=3), cv2.COLOR_BGR2RGB)\n",
        "    audio_raw_gray = cv2.cvtColor(create_mel_raw(np.array(train_arr)[idx][0], sr, n_mels, f_min, f_max, nfft, hop), cv2.COLOR_BGR2GRAY)\n",
        "\n",
        "    audio_raw_gray[audio_raw_gray < 10] = 0\n",
        "    for row in range(audio_raw_gray.shape[0]):\n",
        "        black_percent = len(np.where(audio_raw_gray[row,:]==0)[0])/len(audio_raw_gray[row,:])\n",
        "        if black_percent < 0.80:\n",
        "            break\n",
        "\n",
        "    if (row+1)*3 < audio_image.shape[0]:\n",
        "        audio_image = audio_image[(row+1)*3:, :, :]\n",
        "    audio_image = cv2.resize(audio_image, (audio_image.shape[1], n_mels*3), interpolation=cv2.INTER_LINEAR)\n",
        "    audio_image, _, __ = cv2.split(audio_image)\n",
        "    audio_image = cv2.resize(audio_image, (219, 128), interpolation=cv2.INTER_LINEAR)\n",
        "    audio_image = np.array(audio_image, dtype=float)\n",
        "\n",
        "    blank_clipped_train.append(audio_image)"
      ],
      "metadata": {
        "colab": {
          "base_uri": "https://localhost:8080/"
        },
        "id": "x8DJsRi9ksZ9",
        "outputId": "dfb2ce62-db83-4295-976d-fedbb5ed4229"
      },
      "execution_count": 39,
      "outputs": [
        {
          "output_type": "stream",
          "name": "stderr",
          "text": [
            "/usr/local/lib/python3.7/dist-packages/ipykernel_launcher.py:4: VisibleDeprecationWarning: Creating an ndarray from ragged nested sequences (which is a list-or-tuple of lists-or-tuples-or ndarrays with different lengths or shapes) is deprecated. If you meant to do this, you must specify 'dtype=object' when creating the ndarray.\n",
            "  after removing the cwd from sys.path.\n",
            "/usr/local/lib/python3.7/dist-packages/librosa/filters.py:239: UserWarning: Empty filters detected in mel frequency basis. Some channels will produce empty responses. Try increasing your sampling rate (and fmax) or reducing n_mels.\n",
            "  \"Empty filters detected in mel frequency basis. \"\n",
            "/usr/local/lib/python3.7/dist-packages/ipykernel_launcher.py:5: VisibleDeprecationWarning: Creating an ndarray from ragged nested sequences (which is a list-or-tuple of lists-or-tuples-or ndarrays with different lengths or shapes) is deprecated. If you meant to do this, you must specify 'dtype=object' when creating the ndarray.\n",
            "  \"\"\"\n"
          ]
        }
      ]
    },
    {
      "cell_type": "code",
      "source": [
        "def processed(signal, label):\n",
        "    return signal, label"
      ],
      "metadata": {
        "id": "iKzhnWiEkuik"
      },
      "execution_count": 40,
      "outputs": []
    },
    {
      "cell_type": "code",
      "source": [
        "train_list = []\n",
        "for i in range(len(train_arr)):\n",
        "    blank_t = processed(blank_clipped_train[i], train_arr[i][1])\n",
        "    train_list.append(blank_t)"
      ],
      "metadata": {
        "id": "Y71oIRLDkvKA"
      },
      "execution_count": 41,
      "outputs": []
    },
    {
      "cell_type": "code",
      "source": [
        "blank_clipped_concat = []\n",
        "for idx in range(len(concat_7sec)):\n",
        "    audio_image = cv2.cvtColor(create_mel_raw(np.array(concat_7sec)[idx], sr, n_mels, f_min, f_max, nfft, hop, resz=3), cv2.COLOR_BGR2RGB)\n",
        "    audio_raw_gray = cv2.cvtColor(create_mel_raw(np.array(concat_7sec)[idx], sr, n_mels, f_min, f_max, nfft, hop), cv2.COLOR_BGR2GRAY)\n",
        "\n",
        "    audio_raw_gray[audio_raw_gray < 10] = 0\n",
        "    for row in range(audio_raw_gray.shape[0]):\n",
        "        black_percent = len(np.where(audio_raw_gray[row,:]==0)[0])/len(audio_raw_gray[row,:])\n",
        "        if black_percent < 0.80:\n",
        "            break\n",
        "\n",
        "    if (row+1)*3 < audio_image.shape[0]:\n",
        "        audio_image = audio_image[(row+1)*3:, :, :]\n",
        "    audio_image = cv2.resize(audio_image, (audio_image.shape[1], n_mels*3), interpolation=cv2.INTER_LINEAR)\n",
        "    audio_image, _, __ = cv2.split(audio_image)\n",
        "    audio_image = cv2.resize(audio_image, (219, 128), interpolation=cv2.INTER_LINEAR)\n",
        "    audio_image = np.array(audio_image, dtype=float)\n",
        "\n",
        "    blank_clipped_concat.append(audio_image)"
      ],
      "metadata": {
        "colab": {
          "base_uri": "https://localhost:8080/"
        },
        "id": "dS74FUP-kwGE",
        "outputId": "945bcc4f-a834-4fe5-a881-a52e24216110"
      },
      "execution_count": 42,
      "outputs": [
        {
          "output_type": "stream",
          "name": "stderr",
          "text": [
            "/usr/local/lib/python3.7/dist-packages/librosa/filters.py:239: UserWarning: Empty filters detected in mel frequency basis. Some channels will produce empty responses. Try increasing your sampling rate (and fmax) or reducing n_mels.\n",
            "  \"Empty filters detected in mel frequency basis. \"\n"
          ]
        }
      ]
    },
    {
      "cell_type": "code",
      "source": [
        "for i in range(len(concat_7sec)):\n",
        "    blank_c = processed(blank_clipped_concat[i], concat_7sec_label[i])\n",
        "    train_list.append(blank_c)"
      ],
      "metadata": {
        "id": "YR1Xd-9qkxLx"
      },
      "execution_count": 43,
      "outputs": []
    },
    {
      "cell_type": "code",
      "source": [
        "blank_clipped_x_train = []\n",
        "for idx in range(len(x_train)):\n",
        "    audio_image = cv2.cvtColor(create_mel_raw(np.array(x_train)[idx], sr, n_mels, f_min, f_max, nfft, hop, resz=3), cv2.COLOR_BGR2RGB)\n",
        "    audio_raw_gray = cv2.cvtColor(create_mel_raw(np.array(x_train)[idx], sr, n_mels, f_min, f_max, nfft, hop), cv2.COLOR_BGR2GRAY)\n",
        "\n",
        "    audio_raw_gray[audio_raw_gray < 10] = 0\n",
        "    for row in range(audio_raw_gray.shape[0]):\n",
        "        black_percent = len(np.where(audio_raw_gray[row,:]==0)[0])/len(audio_raw_gray[row,:])\n",
        "        if black_percent < 0.80:\n",
        "            break\n",
        "\n",
        "    if (row+1)*3 < audio_image.shape[0]:\n",
        "        audio_image = audio_image[(row+1)*3:, :, :]\n",
        "    audio_image = cv2.resize(audio_image, (audio_image.shape[1], n_mels*3), interpolation=cv2.INTER_LINEAR)\n",
        "    audio_image, _, __ = cv2.split(audio_image)\n",
        "    audio_image = cv2.resize(audio_image, (219, 128), interpolation=cv2.INTER_LINEAR)\n",
        "    audio_image = np.array(audio_image, dtype=float)\n",
        "\n",
        "    blank_clipped_x_train.append(audio_image)"
      ],
      "metadata": {
        "colab": {
          "base_uri": "https://localhost:8080/"
        },
        "id": "qzh_LP1zk0Y9",
        "outputId": "7bdb0fd7-6036-4c66-b5ff-f4b6e665810f"
      },
      "execution_count": 44,
      "outputs": [
        {
          "output_type": "stream",
          "name": "stderr",
          "text": [
            "/usr/local/lib/python3.7/dist-packages/librosa/filters.py:239: UserWarning: Empty filters detected in mel frequency basis. Some channels will produce empty responses. Try increasing your sampling rate (and fmax) or reducing n_mels.\n",
            "  \"Empty filters detected in mel frequency basis. \"\n"
          ]
        }
      ]
    },
    {
      "cell_type": "code",
      "source": [
        "for i in range(len(x_train)):\n",
        "    blank_x = processed(blank_clipped_x_train[i], np.array(y_train)[i])\n",
        "    train_list.append(blank_x)"
      ],
      "metadata": {
        "id": "aDpj0nPTk20e"
      },
      "execution_count": 45,
      "outputs": []
    },
    {
      "cell_type": "code",
      "source": [
        "np.save(root+'train_list.npy', train_list)"
      ],
      "metadata": {
        "colab": {
          "base_uri": "https://localhost:8080/"
        },
        "id": "OnHkRUCrk7II",
        "outputId": "2cba22ed-b4e1-4624-818a-c31a53695b3c"
      },
      "execution_count": 46,
      "outputs": [
        {
          "output_type": "stream",
          "name": "stderr",
          "text": [
            "/usr/local/lib/python3.7/dist-packages/numpy/lib/npyio.py:528: VisibleDeprecationWarning: Creating an ndarray from ragged nested sequences (which is a list-or-tuple of lists-or-tuples-or ndarrays with different lengths or shapes) is deprecated. If you meant to do this, you must specify 'dtype=object' when creating the ndarray.\n",
            "  arr = np.asanyarray(arr)\n"
          ]
        }
      ]
    },
    {
      "cell_type": "code",
      "source": [
        "new_x_train = []\n",
        "new_y_train = []\n",
        "for i in range(len(train_list)):\n",
        "    new_x_train.append(train_list[i][0])\n",
        "    new_y_train.append(train_list[i][1])"
      ],
      "metadata": {
        "id": "sHcfutw8k8wm"
      },
      "execution_count": 54,
      "outputs": []
    },
    {
      "cell_type": "code",
      "source": [
        "print(len(new_x_train))\n",
        "print(len(new_y_train))"
      ],
      "metadata": {
        "colab": {
          "base_uri": "https://localhost:8080/"
        },
        "id": "vF2Vuv35k9wd",
        "outputId": "801d1321-a377-4e43-93ef-6e484c442d25"
      },
      "execution_count": 48,
      "outputs": [
        {
          "output_type": "stream",
          "name": "stdout",
          "text": [
            "20542\n",
            "20542\n"
          ]
        }
      ]
    },
    {
      "cell_type": "code",
      "source": [
        "from collections import Counter\n",
        "\n",
        "Counter(y_train)"
      ],
      "metadata": {
        "colab": {
          "base_uri": "https://localhost:8080/"
        },
        "id": "nN0dAgSXk-jd",
        "outputId": "10484eaa-a0a1-4bd4-eac7-c02cb92ab5d9"
      },
      "execution_count": 49,
      "outputs": [
        {
          "output_type": "execute_result",
          "data": {
            "text/plain": [
              "Counter({0: 2185, 1: 1118, 2: 531, 3: 304})"
            ]
          },
          "metadata": {},
          "execution_count": 49
        }
      ]
    },
    {
      "cell_type": "code",
      "source": [
        "Counter(new_y_train)"
      ],
      "metadata": {
        "colab": {
          "base_uri": "https://localhost:8080/"
        },
        "id": "aPUFW2CcsKcM",
        "outputId": "83c56693-521b-4565-fd8f-4bdecec804e9"
      },
      "execution_count": 55,
      "outputs": [
        {
          "output_type": "execute_result",
          "data": {
            "text/plain": [
              "Counter({0: 4370, 1: 5078, 2: 5470, 3: 5624})"
            ]
          },
          "metadata": {},
          "execution_count": 55
        }
      ]
    },
    {
      "cell_type": "code",
      "source": [
        "np.save(root+'x_train.npy', new_x_train)\n",
        "np.save(root+'y_train.npy', new_y_train)"
      ],
      "metadata": {
        "id": "ZPmxC3nhk_YY"
      },
      "execution_count": 50,
      "outputs": []
    },
    {
      "cell_type": "markdown",
      "source": [
        "#### test set"
      ],
      "metadata": {
        "id": "BQ5jw1vpk_s4"
      }
    },
    {
      "cell_type": "code",
      "source": [
        "blank_clipped_x_test = []\n",
        "for idx in range(len(x_test)):\n",
        "    audio_image = cv2.cvtColor(create_mel_raw(np.array(x_test)[idx], sr, n_mels, f_min, f_max, nfft, hop, resz=3), cv2.COLOR_BGR2RGB)\n",
        "    audio_raw_gray = cv2.cvtColor(create_mel_raw(np.array(x_test)[idx], sr, n_mels, f_min, f_max, nfft, hop), cv2.COLOR_BGR2GRAY)\n",
        "\n",
        "    audio_raw_gray[audio_raw_gray < 10] = 0\n",
        "    for row in range(audio_raw_gray.shape[0]):\n",
        "        black_percent = len(np.where(audio_raw_gray[row,:]==0)[0])/len(audio_raw_gray[row,:])\n",
        "        if black_percent < 0.80:\n",
        "            break\n",
        "\n",
        "    if (row+1)*3 < audio_image.shape[0]:\n",
        "        audio_image = audio_image[(row+1)*3:, :, :]\n",
        "    audio_image = cv2.resize(audio_image, (audio_image.shape[1], n_mels*3), interpolation=cv2.INTER_LINEAR)\n",
        "    audio_image, _, __ = cv2.split(audio_image)\n",
        "    audio_image = cv2.resize(audio_image, (219, 128), interpolation=cv2.INTER_LINEAR)\n",
        "    audio_image = np.array(audio_image, dtype=float)\n",
        "\n",
        "    blank_clipped_x_test.append(audio_image)"
      ],
      "metadata": {
        "colab": {
          "base_uri": "https://localhost:8080/"
        },
        "id": "K_9D7ErelBQ2",
        "outputId": "49245260-a64b-4ea8-aa60-13aa9a610544"
      },
      "execution_count": 51,
      "outputs": [
        {
          "output_type": "stream",
          "name": "stderr",
          "text": [
            "/usr/local/lib/python3.7/dist-packages/librosa/filters.py:239: UserWarning: Empty filters detected in mel frequency basis. Some channels will produce empty responses. Try increasing your sampling rate (and fmax) or reducing n_mels.\n",
            "  \"Empty filters detected in mel frequency basis. \"\n"
          ]
        }
      ]
    },
    {
      "cell_type": "code",
      "source": [
        "print(len(blank_clipped_x_test))\n",
        "print(len(y_test))"
      ],
      "metadata": {
        "colab": {
          "base_uri": "https://localhost:8080/"
        },
        "id": "9IItDE5YlDdo",
        "outputId": "38635103-c47a-456e-c90b-b038a31983cf"
      },
      "execution_count": 52,
      "outputs": [
        {
          "output_type": "stream",
          "name": "stdout",
          "text": [
            "2760\n",
            "2760\n"
          ]
        }
      ]
    },
    {
      "cell_type": "code",
      "source": [
        "Counter(y_test)"
      ],
      "metadata": {
        "colab": {
          "base_uri": "https://localhost:8080/"
        },
        "id": "yCEhQWrisS0B",
        "outputId": "1f65fc37-b673-436e-cbc5-5d723bbc89cf"
      },
      "execution_count": 56,
      "outputs": [
        {
          "output_type": "execute_result",
          "data": {
            "text/plain": [
              "Counter({0: 1457, 1: 746, 2: 355, 3: 202})"
            ]
          },
          "metadata": {},
          "execution_count": 56
        }
      ]
    },
    {
      "cell_type": "code",
      "source": [
        "np.save(root+'x_test.npy', blank_clipped_x_test)\n",
        "np.save(root+'y_test.npy', y_test)"
      ],
      "metadata": {
        "id": "mnTZ-zrTlF81"
      },
      "execution_count": 53,
      "outputs": []
    }
  ]
}