{
  "nbformat": 4,
  "nbformat_minor": 0,
  "metadata": {
    "colab": {
      "name": "disease_classification_base_v1.ipynb",
      "provenance": []
    },
    "kernelspec": {
      "name": "python3",
      "display_name": "Python 3"
    },
    "language_info": {
      "name": "python"
    }
  },
  "cells": [
    {
      "cell_type": "markdown",
      "source": [
        "# Respiratory Diseases Classification\n",
        "\n",
        "Dataset: [Respiratory Sound Database(ICBHI 2017 Challenge)](https://bhichallenge.med.auth.gr/ICBHI_2017_Challenge)\n",
        "\n",
        "---\n",
        "\n",
        "### Outline\n",
        "1. data exploration\n",
        "2. pre-processing\n",
        "3. train_val_test split\n",
        "4. feature extraction\n",
        "5. build CNN model\n",
        "6. evaluate - classification report\n",
        "\n",
        "---"
      ],
      "metadata": {
        "id": "mJiqvWXmn4Tu"
      }
    },
    {
      "cell_type": "markdown",
      "source": [
        "## Importing Dependencies"
      ],
      "metadata": {
        "id": "8pCMApD33wV2"
      }
    },
    {
      "cell_type": "code",
      "source": [
        "import os\n",
        "import numpy as np\n",
        "import pandas as pd\n",
        "import tensorflow as tf\n",
        "from tensorflow import keras\n",
        "import matplotlib.pyplot as plt\n",
        "import seaborn as sns\n",
        "from sklearn.model_selection import train_test_split\n",
        "from sklearn.preprocessing import LabelEncoder\n",
        "from keras import backend as K\n",
        "\n",
        "#audio\n",
        "import librosa as lb\n",
        "import librosa.display as lbd\n",
        "import soundfile as sf"
      ],
      "metadata": {
        "id": "1f86EvcXBG_b"
      },
      "execution_count": 3,
      "outputs": []
    },
    {
      "cell_type": "markdown",
      "source": [
        "## Data Exploration"
      ],
      "metadata": {
        "id": "drzqM5as34sW"
      }
    },
    {
      "cell_type": "code",
      "execution_count": 3,
      "metadata": {
        "colab": {
          "base_uri": "https://localhost:8080/",
          "height": 206
        },
        "id": "1CzkJ3XTAPiA",
        "outputId": "824e767b-4242-4288-b492-40b46079416f"
      },
      "outputs": [
        {
          "output_type": "execute_result",
          "data": {
            "text/plain": [
              "   pid  disease\n",
              "0  101     URTI\n",
              "1  102  Healthy\n",
              "2  103   Asthma\n",
              "3  104     COPD\n",
              "4  105     URTI"
            ],
            "text/html": [
              "\n",
              "  <div id=\"df-23fcb589-d06d-41cc-bebf-6ddfc82728ce\">\n",
              "    <div class=\"colab-df-container\">\n",
              "      <div>\n",
              "<style scoped>\n",
              "    .dataframe tbody tr th:only-of-type {\n",
              "        vertical-align: middle;\n",
              "    }\n",
              "\n",
              "    .dataframe tbody tr th {\n",
              "        vertical-align: top;\n",
              "    }\n",
              "\n",
              "    .dataframe thead th {\n",
              "        text-align: right;\n",
              "    }\n",
              "</style>\n",
              "<table border=\"1\" class=\"dataframe\">\n",
              "  <thead>\n",
              "    <tr style=\"text-align: right;\">\n",
              "      <th></th>\n",
              "      <th>pid</th>\n",
              "      <th>disease</th>\n",
              "    </tr>\n",
              "  </thead>\n",
              "  <tbody>\n",
              "    <tr>\n",
              "      <th>0</th>\n",
              "      <td>101</td>\n",
              "      <td>URTI</td>\n",
              "    </tr>\n",
              "    <tr>\n",
              "      <th>1</th>\n",
              "      <td>102</td>\n",
              "      <td>Healthy</td>\n",
              "    </tr>\n",
              "    <tr>\n",
              "      <th>2</th>\n",
              "      <td>103</td>\n",
              "      <td>Asthma</td>\n",
              "    </tr>\n",
              "    <tr>\n",
              "      <th>3</th>\n",
              "      <td>104</td>\n",
              "      <td>COPD</td>\n",
              "    </tr>\n",
              "    <tr>\n",
              "      <th>4</th>\n",
              "      <td>105</td>\n",
              "      <td>URTI</td>\n",
              "    </tr>\n",
              "  </tbody>\n",
              "</table>\n",
              "</div>\n",
              "      <button class=\"colab-df-convert\" onclick=\"convertToInteractive('df-23fcb589-d06d-41cc-bebf-6ddfc82728ce')\"\n",
              "              title=\"Convert this dataframe to an interactive table.\"\n",
              "              style=\"display:none;\">\n",
              "        \n",
              "  <svg xmlns=\"http://www.w3.org/2000/svg\" height=\"24px\"viewBox=\"0 0 24 24\"\n",
              "       width=\"24px\">\n",
              "    <path d=\"M0 0h24v24H0V0z\" fill=\"none\"/>\n",
              "    <path d=\"M18.56 5.44l.94 2.06.94-2.06 2.06-.94-2.06-.94-.94-2.06-.94 2.06-2.06.94zm-11 1L8.5 8.5l.94-2.06 2.06-.94-2.06-.94L8.5 2.5l-.94 2.06-2.06.94zm10 10l.94 2.06.94-2.06 2.06-.94-2.06-.94-.94-2.06-.94 2.06-2.06.94z\"/><path d=\"M17.41 7.96l-1.37-1.37c-.4-.4-.92-.59-1.43-.59-.52 0-1.04.2-1.43.59L10.3 9.45l-7.72 7.72c-.78.78-.78 2.05 0 2.83L4 21.41c.39.39.9.59 1.41.59.51 0 1.02-.2 1.41-.59l7.78-7.78 2.81-2.81c.8-.78.8-2.07 0-2.86zM5.41 20L4 18.59l7.72-7.72 1.47 1.35L5.41 20z\"/>\n",
              "  </svg>\n",
              "      </button>\n",
              "      \n",
              "  <style>\n",
              "    .colab-df-container {\n",
              "      display:flex;\n",
              "      flex-wrap:wrap;\n",
              "      gap: 12px;\n",
              "    }\n",
              "\n",
              "    .colab-df-convert {\n",
              "      background-color: #E8F0FE;\n",
              "      border: none;\n",
              "      border-radius: 50%;\n",
              "      cursor: pointer;\n",
              "      display: none;\n",
              "      fill: #1967D2;\n",
              "      height: 32px;\n",
              "      padding: 0 0 0 0;\n",
              "      width: 32px;\n",
              "    }\n",
              "\n",
              "    .colab-df-convert:hover {\n",
              "      background-color: #E2EBFA;\n",
              "      box-shadow: 0px 1px 2px rgba(60, 64, 67, 0.3), 0px 1px 3px 1px rgba(60, 64, 67, 0.15);\n",
              "      fill: #174EA6;\n",
              "    }\n",
              "\n",
              "    [theme=dark] .colab-df-convert {\n",
              "      background-color: #3B4455;\n",
              "      fill: #D2E3FC;\n",
              "    }\n",
              "\n",
              "    [theme=dark] .colab-df-convert:hover {\n",
              "      background-color: #434B5C;\n",
              "      box-shadow: 0px 1px 3px 1px rgba(0, 0, 0, 0.15);\n",
              "      filter: drop-shadow(0px 1px 2px rgba(0, 0, 0, 0.3));\n",
              "      fill: #FFFFFF;\n",
              "    }\n",
              "  </style>\n",
              "\n",
              "      <script>\n",
              "        const buttonEl =\n",
              "          document.querySelector('#df-23fcb589-d06d-41cc-bebf-6ddfc82728ce button.colab-df-convert');\n",
              "        buttonEl.style.display =\n",
              "          google.colab.kernel.accessAllowed ? 'block' : 'none';\n",
              "\n",
              "        async function convertToInteractive(key) {\n",
              "          const element = document.querySelector('#df-23fcb589-d06d-41cc-bebf-6ddfc82728ce');\n",
              "          const dataTable =\n",
              "            await google.colab.kernel.invokeFunction('convertToInteractive',\n",
              "                                                     [key], {});\n",
              "          if (!dataTable) return;\n",
              "\n",
              "          const docLinkHtml = 'Like what you see? Visit the ' +\n",
              "            '<a target=\"_blank\" href=https://colab.research.google.com/notebooks/data_table.ipynb>data table notebook</a>'\n",
              "            + ' to learn more about interactive tables.';\n",
              "          element.innerHTML = '';\n",
              "          dataTable['output_type'] = 'display_data';\n",
              "          await google.colab.output.renderOutput(dataTable, element);\n",
              "          const docLink = document.createElement('div');\n",
              "          docLink.innerHTML = docLinkHtml;\n",
              "          element.appendChild(docLink);\n",
              "        }\n",
              "      </script>\n",
              "    </div>\n",
              "  </div>\n",
              "  "
            ]
          },
          "metadata": {},
          "execution_count": 3
        }
      ],
      "source": [
        "patient_data = pd.read_csv('/content/drive/MyDrive/hack/Respiratory_Sound_Database/Respiratory_Sound_Database/patient_diagnosis.csv',names=['pid','disease'])\n",
        "patient_data.head()"
      ]
    },
    {
      "cell_type": "code",
      "source": [
        "patient_cycle = pd.read_csv('/content/drive/MyDrive/hack/Respiratory_Sound_Database/Respiratory_Sound_Database/audio_and_txt_files/101_1b1_Pr_sc_Meditron.txt', sep='\\t', names=['start', 'end', 'crackle', 'wheeze'])\n",
        "patient_cycle.head()"
      ],
      "metadata": {
        "colab": {
          "base_uri": "https://localhost:8080/",
          "height": 206
        },
        "id": "58a82JXwS6xV",
        "outputId": "88deefd7-9429-475b-c9a9-78249fa4cda6"
      },
      "execution_count": 15,
      "outputs": [
        {
          "output_type": "execute_result",
          "data": {
            "text/plain": [
              "   start    end  crackle  wheeze\n",
              "0  0.036  1.264        0       0\n",
              "1  1.264  3.422        0       0\n",
              "2  3.422  5.550        0       0\n",
              "3  5.550  7.436        0       0\n",
              "4  7.436  9.221        0       0"
            ],
            "text/html": [
              "\n",
              "  <div id=\"df-6354fbfa-2fd6-4924-aa36-928dd9c3bdc1\">\n",
              "    <div class=\"colab-df-container\">\n",
              "      <div>\n",
              "<style scoped>\n",
              "    .dataframe tbody tr th:only-of-type {\n",
              "        vertical-align: middle;\n",
              "    }\n",
              "\n",
              "    .dataframe tbody tr th {\n",
              "        vertical-align: top;\n",
              "    }\n",
              "\n",
              "    .dataframe thead th {\n",
              "        text-align: right;\n",
              "    }\n",
              "</style>\n",
              "<table border=\"1\" class=\"dataframe\">\n",
              "  <thead>\n",
              "    <tr style=\"text-align: right;\">\n",
              "      <th></th>\n",
              "      <th>start</th>\n",
              "      <th>end</th>\n",
              "      <th>crackle</th>\n",
              "      <th>wheeze</th>\n",
              "    </tr>\n",
              "  </thead>\n",
              "  <tbody>\n",
              "    <tr>\n",
              "      <th>0</th>\n",
              "      <td>0.036</td>\n",
              "      <td>1.264</td>\n",
              "      <td>0</td>\n",
              "      <td>0</td>\n",
              "    </tr>\n",
              "    <tr>\n",
              "      <th>1</th>\n",
              "      <td>1.264</td>\n",
              "      <td>3.422</td>\n",
              "      <td>0</td>\n",
              "      <td>0</td>\n",
              "    </tr>\n",
              "    <tr>\n",
              "      <th>2</th>\n",
              "      <td>3.422</td>\n",
              "      <td>5.550</td>\n",
              "      <td>0</td>\n",
              "      <td>0</td>\n",
              "    </tr>\n",
              "    <tr>\n",
              "      <th>3</th>\n",
              "      <td>5.550</td>\n",
              "      <td>7.436</td>\n",
              "      <td>0</td>\n",
              "      <td>0</td>\n",
              "    </tr>\n",
              "    <tr>\n",
              "      <th>4</th>\n",
              "      <td>7.436</td>\n",
              "      <td>9.221</td>\n",
              "      <td>0</td>\n",
              "      <td>0</td>\n",
              "    </tr>\n",
              "  </tbody>\n",
              "</table>\n",
              "</div>\n",
              "      <button class=\"colab-df-convert\" onclick=\"convertToInteractive('df-6354fbfa-2fd6-4924-aa36-928dd9c3bdc1')\"\n",
              "              title=\"Convert this dataframe to an interactive table.\"\n",
              "              style=\"display:none;\">\n",
              "        \n",
              "  <svg xmlns=\"http://www.w3.org/2000/svg\" height=\"24px\"viewBox=\"0 0 24 24\"\n",
              "       width=\"24px\">\n",
              "    <path d=\"M0 0h24v24H0V0z\" fill=\"none\"/>\n",
              "    <path d=\"M18.56 5.44l.94 2.06.94-2.06 2.06-.94-2.06-.94-.94-2.06-.94 2.06-2.06.94zm-11 1L8.5 8.5l.94-2.06 2.06-.94-2.06-.94L8.5 2.5l-.94 2.06-2.06.94zm10 10l.94 2.06.94-2.06 2.06-.94-2.06-.94-.94-2.06-.94 2.06-2.06.94z\"/><path d=\"M17.41 7.96l-1.37-1.37c-.4-.4-.92-.59-1.43-.59-.52 0-1.04.2-1.43.59L10.3 9.45l-7.72 7.72c-.78.78-.78 2.05 0 2.83L4 21.41c.39.39.9.59 1.41.59.51 0 1.02-.2 1.41-.59l7.78-7.78 2.81-2.81c.8-.78.8-2.07 0-2.86zM5.41 20L4 18.59l7.72-7.72 1.47 1.35L5.41 20z\"/>\n",
              "  </svg>\n",
              "      </button>\n",
              "      \n",
              "  <style>\n",
              "    .colab-df-container {\n",
              "      display:flex;\n",
              "      flex-wrap:wrap;\n",
              "      gap: 12px;\n",
              "    }\n",
              "\n",
              "    .colab-df-convert {\n",
              "      background-color: #E8F0FE;\n",
              "      border: none;\n",
              "      border-radius: 50%;\n",
              "      cursor: pointer;\n",
              "      display: none;\n",
              "      fill: #1967D2;\n",
              "      height: 32px;\n",
              "      padding: 0 0 0 0;\n",
              "      width: 32px;\n",
              "    }\n",
              "\n",
              "    .colab-df-convert:hover {\n",
              "      background-color: #E2EBFA;\n",
              "      box-shadow: 0px 1px 2px rgba(60, 64, 67, 0.3), 0px 1px 3px 1px rgba(60, 64, 67, 0.15);\n",
              "      fill: #174EA6;\n",
              "    }\n",
              "\n",
              "    [theme=dark] .colab-df-convert {\n",
              "      background-color: #3B4455;\n",
              "      fill: #D2E3FC;\n",
              "    }\n",
              "\n",
              "    [theme=dark] .colab-df-convert:hover {\n",
              "      background-color: #434B5C;\n",
              "      box-shadow: 0px 1px 3px 1px rgba(0, 0, 0, 0.15);\n",
              "      filter: drop-shadow(0px 1px 2px rgba(0, 0, 0, 0.3));\n",
              "      fill: #FFFFFF;\n",
              "    }\n",
              "  </style>\n",
              "\n",
              "      <script>\n",
              "        const buttonEl =\n",
              "          document.querySelector('#df-6354fbfa-2fd6-4924-aa36-928dd9c3bdc1 button.colab-df-convert');\n",
              "        buttonEl.style.display =\n",
              "          google.colab.kernel.accessAllowed ? 'block' : 'none';\n",
              "\n",
              "        async function convertToInteractive(key) {\n",
              "          const element = document.querySelector('#df-6354fbfa-2fd6-4924-aa36-928dd9c3bdc1');\n",
              "          const dataTable =\n",
              "            await google.colab.kernel.invokeFunction('convertToInteractive',\n",
              "                                                     [key], {});\n",
              "          if (!dataTable) return;\n",
              "\n",
              "          const docLinkHtml = 'Like what you see? Visit the ' +\n",
              "            '<a target=\"_blank\" href=https://colab.research.google.com/notebooks/data_table.ipynb>data table notebook</a>'\n",
              "            + ' to learn more about interactive tables.';\n",
              "          element.innerHTML = '';\n",
              "          dataTable['output_type'] = 'display_data';\n",
              "          await google.colab.output.renderOutput(dataTable, element);\n",
              "          const docLink = document.createElement('div');\n",
              "          docLink.innerHTML = docLinkHtml;\n",
              "          element.appendChild(docLink);\n",
              "        }\n",
              "      </script>\n",
              "    </div>\n",
              "  </div>\n",
              "  "
            ]
          },
          "metadata": {},
          "execution_count": 15
        }
      ]
    },
    {
      "cell_type": "code",
      "source": [
        "path = '/content/drive/MyDrive/hack/Respiratory_Sound_Database/Respiratory_Sound_Database/audio_and_txt_files/'\n",
        "files = [s.split('.')[0] for s in os.listdir(path) if '.txt' in s]\n",
        "files[:5]"
      ],
      "metadata": {
        "colab": {
          "base_uri": "https://localhost:8080/"
        },
        "id": "WBwlEU6rS8Y7",
        "outputId": "22da9387-a043-46bc-f804-a9017c8b3636"
      },
      "execution_count": 19,
      "outputs": [
        {
          "output_type": "execute_result",
          "data": {
            "text/plain": [
              "['160_1b2_Pr_mc_AKGC417L',\n",
              " '160_1b3_Lr_mc_AKGC417L',\n",
              " '160_1b3_Ar_mc_AKGC417L',\n",
              " '160_2b4_Ar_mc_AKGC417L',\n",
              " '160_1b4_Pl_mc_AKGC417L']"
            ]
          },
          "metadata": {},
          "execution_count": 19
        }
      ]
    },
    {
      "cell_type": "code",
      "source": [
        "def getFilenameInfo(file):\n",
        "    return file.split('_')"
      ],
      "metadata": {
        "id": "Lx1I1jbBS_EX"
      },
      "execution_count": 4,
      "outputs": []
    },
    {
      "cell_type": "code",
      "source": [
        "getFilenameInfo('101_1b1_Al_sc_Meditron')"
      ],
      "metadata": {
        "colab": {
          "base_uri": "https://localhost:8080/"
        },
        "id": "4OIqG5UfTAPG",
        "outputId": "328a28e1-8f70-4c3a-ea97-e9928c964a27"
      },
      "execution_count": 18,
      "outputs": [
        {
          "output_type": "execute_result",
          "data": {
            "text/plain": [
              "['101', '1b1', 'Al', 'sc', 'Meditron']"
            ]
          },
          "metadata": {},
          "execution_count": 18
        }
      ]
    },
    {
      "cell_type": "code",
      "source": [
        "files_data=[]\n",
        "for file in files:\n",
        "    data=pd.read_csv(path + file + '.txt', sep='\\t', names=['start', 'end', 'crackles', 'wheezes'])\n",
        "    name_data=getFilenameInfo(file)\n",
        "    data['pid']=name_data[0]\n",
        "    data['mode']=name_data[-2]\n",
        "    data['filename']=file\n",
        "    files_data.append(data)\n",
        "files_df=pd.concat(files_data)\n",
        "files_df.reset_index()\n",
        "files_df.head()"
      ],
      "metadata": {
        "colab": {
          "base_uri": "https://localhost:8080/",
          "height": 206
        },
        "id": "8zud9X4dTBPX",
        "outputId": "6e4a665e-1436-47f0-f820-cb07e5eae334"
      },
      "execution_count": 19,
      "outputs": [
        {
          "output_type": "execute_result",
          "data": {
            "text/plain": [
              "   start     end  crackles  wheezes  pid mode                filename\n",
              "0  0.109   4.766         1        1  160   mc  160_1b2_Pr_mc_AKGC417L\n",
              "1  4.766  10.342         0        1  160   mc  160_1b2_Pr_mc_AKGC417L\n",
              "0  1.862   5.718         0        1  160   mc  160_1b3_Lr_mc_AKGC417L\n",
              "1  5.718   9.725         0        1  160   mc  160_1b3_Lr_mc_AKGC417L\n",
              "2  9.725  13.614         0        1  160   mc  160_1b3_Lr_mc_AKGC417L"
            ],
            "text/html": [
              "\n",
              "  <div id=\"df-2f6a5223-4249-4f28-a69a-ddc7fc59c6de\">\n",
              "    <div class=\"colab-df-container\">\n",
              "      <div>\n",
              "<style scoped>\n",
              "    .dataframe tbody tr th:only-of-type {\n",
              "        vertical-align: middle;\n",
              "    }\n",
              "\n",
              "    .dataframe tbody tr th {\n",
              "        vertical-align: top;\n",
              "    }\n",
              "\n",
              "    .dataframe thead th {\n",
              "        text-align: right;\n",
              "    }\n",
              "</style>\n",
              "<table border=\"1\" class=\"dataframe\">\n",
              "  <thead>\n",
              "    <tr style=\"text-align: right;\">\n",
              "      <th></th>\n",
              "      <th>start</th>\n",
              "      <th>end</th>\n",
              "      <th>crackles</th>\n",
              "      <th>wheezes</th>\n",
              "      <th>pid</th>\n",
              "      <th>mode</th>\n",
              "      <th>filename</th>\n",
              "    </tr>\n",
              "  </thead>\n",
              "  <tbody>\n",
              "    <tr>\n",
              "      <th>0</th>\n",
              "      <td>0.109</td>\n",
              "      <td>4.766</td>\n",
              "      <td>1</td>\n",
              "      <td>1</td>\n",
              "      <td>160</td>\n",
              "      <td>mc</td>\n",
              "      <td>160_1b2_Pr_mc_AKGC417L</td>\n",
              "    </tr>\n",
              "    <tr>\n",
              "      <th>1</th>\n",
              "      <td>4.766</td>\n",
              "      <td>10.342</td>\n",
              "      <td>0</td>\n",
              "      <td>1</td>\n",
              "      <td>160</td>\n",
              "      <td>mc</td>\n",
              "      <td>160_1b2_Pr_mc_AKGC417L</td>\n",
              "    </tr>\n",
              "    <tr>\n",
              "      <th>0</th>\n",
              "      <td>1.862</td>\n",
              "      <td>5.718</td>\n",
              "      <td>0</td>\n",
              "      <td>1</td>\n",
              "      <td>160</td>\n",
              "      <td>mc</td>\n",
              "      <td>160_1b3_Lr_mc_AKGC417L</td>\n",
              "    </tr>\n",
              "    <tr>\n",
              "      <th>1</th>\n",
              "      <td>5.718</td>\n",
              "      <td>9.725</td>\n",
              "      <td>0</td>\n",
              "      <td>1</td>\n",
              "      <td>160</td>\n",
              "      <td>mc</td>\n",
              "      <td>160_1b3_Lr_mc_AKGC417L</td>\n",
              "    </tr>\n",
              "    <tr>\n",
              "      <th>2</th>\n",
              "      <td>9.725</td>\n",
              "      <td>13.614</td>\n",
              "      <td>0</td>\n",
              "      <td>1</td>\n",
              "      <td>160</td>\n",
              "      <td>mc</td>\n",
              "      <td>160_1b3_Lr_mc_AKGC417L</td>\n",
              "    </tr>\n",
              "  </tbody>\n",
              "</table>\n",
              "</div>\n",
              "      <button class=\"colab-df-convert\" onclick=\"convertToInteractive('df-2f6a5223-4249-4f28-a69a-ddc7fc59c6de')\"\n",
              "              title=\"Convert this dataframe to an interactive table.\"\n",
              "              style=\"display:none;\">\n",
              "        \n",
              "  <svg xmlns=\"http://www.w3.org/2000/svg\" height=\"24px\"viewBox=\"0 0 24 24\"\n",
              "       width=\"24px\">\n",
              "    <path d=\"M0 0h24v24H0V0z\" fill=\"none\"/>\n",
              "    <path d=\"M18.56 5.44l.94 2.06.94-2.06 2.06-.94-2.06-.94-.94-2.06-.94 2.06-2.06.94zm-11 1L8.5 8.5l.94-2.06 2.06-.94-2.06-.94L8.5 2.5l-.94 2.06-2.06.94zm10 10l.94 2.06.94-2.06 2.06-.94-2.06-.94-.94-2.06-.94 2.06-2.06.94z\"/><path d=\"M17.41 7.96l-1.37-1.37c-.4-.4-.92-.59-1.43-.59-.52 0-1.04.2-1.43.59L10.3 9.45l-7.72 7.72c-.78.78-.78 2.05 0 2.83L4 21.41c.39.39.9.59 1.41.59.51 0 1.02-.2 1.41-.59l7.78-7.78 2.81-2.81c.8-.78.8-2.07 0-2.86zM5.41 20L4 18.59l7.72-7.72 1.47 1.35L5.41 20z\"/>\n",
              "  </svg>\n",
              "      </button>\n",
              "      \n",
              "  <style>\n",
              "    .colab-df-container {\n",
              "      display:flex;\n",
              "      flex-wrap:wrap;\n",
              "      gap: 12px;\n",
              "    }\n",
              "\n",
              "    .colab-df-convert {\n",
              "      background-color: #E8F0FE;\n",
              "      border: none;\n",
              "      border-radius: 50%;\n",
              "      cursor: pointer;\n",
              "      display: none;\n",
              "      fill: #1967D2;\n",
              "      height: 32px;\n",
              "      padding: 0 0 0 0;\n",
              "      width: 32px;\n",
              "    }\n",
              "\n",
              "    .colab-df-convert:hover {\n",
              "      background-color: #E2EBFA;\n",
              "      box-shadow: 0px 1px 2px rgba(60, 64, 67, 0.3), 0px 1px 3px 1px rgba(60, 64, 67, 0.15);\n",
              "      fill: #174EA6;\n",
              "    }\n",
              "\n",
              "    [theme=dark] .colab-df-convert {\n",
              "      background-color: #3B4455;\n",
              "      fill: #D2E3FC;\n",
              "    }\n",
              "\n",
              "    [theme=dark] .colab-df-convert:hover {\n",
              "      background-color: #434B5C;\n",
              "      box-shadow: 0px 1px 3px 1px rgba(0, 0, 0, 0.15);\n",
              "      filter: drop-shadow(0px 1px 2px rgba(0, 0, 0, 0.3));\n",
              "      fill: #FFFFFF;\n",
              "    }\n",
              "  </style>\n",
              "\n",
              "      <script>\n",
              "        const buttonEl =\n",
              "          document.querySelector('#df-2f6a5223-4249-4f28-a69a-ddc7fc59c6de button.colab-df-convert');\n",
              "        buttonEl.style.display =\n",
              "          google.colab.kernel.accessAllowed ? 'block' : 'none';\n",
              "\n",
              "        async function convertToInteractive(key) {\n",
              "          const element = document.querySelector('#df-2f6a5223-4249-4f28-a69a-ddc7fc59c6de');\n",
              "          const dataTable =\n",
              "            await google.colab.kernel.invokeFunction('convertToInteractive',\n",
              "                                                     [key], {});\n",
              "          if (!dataTable) return;\n",
              "\n",
              "          const docLinkHtml = 'Like what you see? Visit the ' +\n",
              "            '<a target=\"_blank\" href=https://colab.research.google.com/notebooks/data_table.ipynb>data table notebook</a>'\n",
              "            + ' to learn more about interactive tables.';\n",
              "          element.innerHTML = '';\n",
              "          dataTable['output_type'] = 'display_data';\n",
              "          await google.colab.output.renderOutput(dataTable, element);\n",
              "          const docLink = document.createElement('div');\n",
              "          docLink.innerHTML = docLinkHtml;\n",
              "          element.appendChild(docLink);\n",
              "        }\n",
              "      </script>\n",
              "    </div>\n",
              "  </div>\n",
              "  "
            ]
          },
          "metadata": {},
          "execution_count": 19
        }
      ]
    },
    {
      "cell_type": "code",
      "source": [
        "print(patient_data.info(), '\\n\\n')\n",
        "print(files_df.info())"
      ],
      "metadata": {
        "colab": {
          "base_uri": "https://localhost:8080/"
        },
        "id": "GCPzwR-Kt4ll",
        "outputId": "9d0718d7-b090-4788-8330-cfa176bb408a"
      },
      "execution_count": 22,
      "outputs": [
        {
          "output_type": "stream",
          "name": "stdout",
          "text": [
            "<class 'pandas.core.frame.DataFrame'>\n",
            "RangeIndex: 126 entries, 0 to 125\n",
            "Data columns (total 2 columns):\n",
            " #   Column   Non-Null Count  Dtype \n",
            "---  ------   --------------  ----- \n",
            " 0   pid      126 non-null    int64 \n",
            " 1   disease  126 non-null    object\n",
            "dtypes: int64(1), object(1)\n",
            "memory usage: 2.1+ KB\n",
            "None \n",
            "\n",
            "\n",
            "<class 'pandas.core.frame.DataFrame'>\n",
            "Int64Index: 6898 entries, 0 to 4\n",
            "Data columns (total 7 columns):\n",
            " #   Column    Non-Null Count  Dtype  \n",
            "---  ------    --------------  -----  \n",
            " 0   start     6898 non-null   float64\n",
            " 1   end       6898 non-null   float64\n",
            " 2   crackles  6898 non-null   int64  \n",
            " 3   wheezes   6898 non-null   int64  \n",
            " 4   pid       6898 non-null   object \n",
            " 5   mode      6898 non-null   object \n",
            " 6   filename  6898 non-null   object \n",
            "dtypes: float64(2), int64(2), object(3)\n",
            "memory usage: 431.1+ KB\n",
            "None\n"
          ]
        }
      ]
    },
    {
      "cell_type": "code",
      "source": [
        "patient_data.pid=patient_data.pid.astype('int32')\n",
        "files_df.pid=files_df.pid.astype('int32')"
      ],
      "metadata": {
        "id": "r48-oPDSTDNC"
      },
      "execution_count": 23,
      "outputs": []
    },
    {
      "cell_type": "code",
      "source": [
        "data=pd.merge(files_df, patient_data, on='pid')\n",
        "data.head()"
      ],
      "metadata": {
        "colab": {
          "base_uri": "https://localhost:8080/",
          "height": 206
        },
        "id": "OTCd3-oiUiu7",
        "outputId": "fbbf1a42-127e-424a-b94b-89db0d875ce0"
      },
      "execution_count": 37,
      "outputs": [
        {
          "output_type": "execute_result",
          "data": {
            "text/plain": [
              "   start     end  crackles  wheezes  pid mode                filename disease\n",
              "0  0.109   4.766         1        1  160   mc  160_1b2_Pr_mc_AKGC417L    COPD\n",
              "1  4.766  10.342         0        1  160   mc  160_1b2_Pr_mc_AKGC417L    COPD\n",
              "2  1.862   5.718         0        1  160   mc  160_1b3_Lr_mc_AKGC417L    COPD\n",
              "3  5.718   9.725         0        1  160   mc  160_1b3_Lr_mc_AKGC417L    COPD\n",
              "4  9.725  13.614         0        1  160   mc  160_1b3_Lr_mc_AKGC417L    COPD"
            ],
            "text/html": [
              "\n",
              "  <div id=\"df-aa4dc30a-dbd3-4bb7-8130-563fa9f61354\">\n",
              "    <div class=\"colab-df-container\">\n",
              "      <div>\n",
              "<style scoped>\n",
              "    .dataframe tbody tr th:only-of-type {\n",
              "        vertical-align: middle;\n",
              "    }\n",
              "\n",
              "    .dataframe tbody tr th {\n",
              "        vertical-align: top;\n",
              "    }\n",
              "\n",
              "    .dataframe thead th {\n",
              "        text-align: right;\n",
              "    }\n",
              "</style>\n",
              "<table border=\"1\" class=\"dataframe\">\n",
              "  <thead>\n",
              "    <tr style=\"text-align: right;\">\n",
              "      <th></th>\n",
              "      <th>start</th>\n",
              "      <th>end</th>\n",
              "      <th>crackles</th>\n",
              "      <th>wheezes</th>\n",
              "      <th>pid</th>\n",
              "      <th>mode</th>\n",
              "      <th>filename</th>\n",
              "      <th>disease</th>\n",
              "    </tr>\n",
              "  </thead>\n",
              "  <tbody>\n",
              "    <tr>\n",
              "      <th>0</th>\n",
              "      <td>0.109</td>\n",
              "      <td>4.766</td>\n",
              "      <td>1</td>\n",
              "      <td>1</td>\n",
              "      <td>160</td>\n",
              "      <td>mc</td>\n",
              "      <td>160_1b2_Pr_mc_AKGC417L</td>\n",
              "      <td>COPD</td>\n",
              "    </tr>\n",
              "    <tr>\n",
              "      <th>1</th>\n",
              "      <td>4.766</td>\n",
              "      <td>10.342</td>\n",
              "      <td>0</td>\n",
              "      <td>1</td>\n",
              "      <td>160</td>\n",
              "      <td>mc</td>\n",
              "      <td>160_1b2_Pr_mc_AKGC417L</td>\n",
              "      <td>COPD</td>\n",
              "    </tr>\n",
              "    <tr>\n",
              "      <th>2</th>\n",
              "      <td>1.862</td>\n",
              "      <td>5.718</td>\n",
              "      <td>0</td>\n",
              "      <td>1</td>\n",
              "      <td>160</td>\n",
              "      <td>mc</td>\n",
              "      <td>160_1b3_Lr_mc_AKGC417L</td>\n",
              "      <td>COPD</td>\n",
              "    </tr>\n",
              "    <tr>\n",
              "      <th>3</th>\n",
              "      <td>5.718</td>\n",
              "      <td>9.725</td>\n",
              "      <td>0</td>\n",
              "      <td>1</td>\n",
              "      <td>160</td>\n",
              "      <td>mc</td>\n",
              "      <td>160_1b3_Lr_mc_AKGC417L</td>\n",
              "      <td>COPD</td>\n",
              "    </tr>\n",
              "    <tr>\n",
              "      <th>4</th>\n",
              "      <td>9.725</td>\n",
              "      <td>13.614</td>\n",
              "      <td>0</td>\n",
              "      <td>1</td>\n",
              "      <td>160</td>\n",
              "      <td>mc</td>\n",
              "      <td>160_1b3_Lr_mc_AKGC417L</td>\n",
              "      <td>COPD</td>\n",
              "    </tr>\n",
              "  </tbody>\n",
              "</table>\n",
              "</div>\n",
              "      <button class=\"colab-df-convert\" onclick=\"convertToInteractive('df-aa4dc30a-dbd3-4bb7-8130-563fa9f61354')\"\n",
              "              title=\"Convert this dataframe to an interactive table.\"\n",
              "              style=\"display:none;\">\n",
              "        \n",
              "  <svg xmlns=\"http://www.w3.org/2000/svg\" height=\"24px\"viewBox=\"0 0 24 24\"\n",
              "       width=\"24px\">\n",
              "    <path d=\"M0 0h24v24H0V0z\" fill=\"none\"/>\n",
              "    <path d=\"M18.56 5.44l.94 2.06.94-2.06 2.06-.94-2.06-.94-.94-2.06-.94 2.06-2.06.94zm-11 1L8.5 8.5l.94-2.06 2.06-.94-2.06-.94L8.5 2.5l-.94 2.06-2.06.94zm10 10l.94 2.06.94-2.06 2.06-.94-2.06-.94-.94-2.06-.94 2.06-2.06.94z\"/><path d=\"M17.41 7.96l-1.37-1.37c-.4-.4-.92-.59-1.43-.59-.52 0-1.04.2-1.43.59L10.3 9.45l-7.72 7.72c-.78.78-.78 2.05 0 2.83L4 21.41c.39.39.9.59 1.41.59.51 0 1.02-.2 1.41-.59l7.78-7.78 2.81-2.81c.8-.78.8-2.07 0-2.86zM5.41 20L4 18.59l7.72-7.72 1.47 1.35L5.41 20z\"/>\n",
              "  </svg>\n",
              "      </button>\n",
              "      \n",
              "  <style>\n",
              "    .colab-df-container {\n",
              "      display:flex;\n",
              "      flex-wrap:wrap;\n",
              "      gap: 12px;\n",
              "    }\n",
              "\n",
              "    .colab-df-convert {\n",
              "      background-color: #E8F0FE;\n",
              "      border: none;\n",
              "      border-radius: 50%;\n",
              "      cursor: pointer;\n",
              "      display: none;\n",
              "      fill: #1967D2;\n",
              "      height: 32px;\n",
              "      padding: 0 0 0 0;\n",
              "      width: 32px;\n",
              "    }\n",
              "\n",
              "    .colab-df-convert:hover {\n",
              "      background-color: #E2EBFA;\n",
              "      box-shadow: 0px 1px 2px rgba(60, 64, 67, 0.3), 0px 1px 3px 1px rgba(60, 64, 67, 0.15);\n",
              "      fill: #174EA6;\n",
              "    }\n",
              "\n",
              "    [theme=dark] .colab-df-convert {\n",
              "      background-color: #3B4455;\n",
              "      fill: #D2E3FC;\n",
              "    }\n",
              "\n",
              "    [theme=dark] .colab-df-convert:hover {\n",
              "      background-color: #434B5C;\n",
              "      box-shadow: 0px 1px 3px 1px rgba(0, 0, 0, 0.15);\n",
              "      filter: drop-shadow(0px 1px 2px rgba(0, 0, 0, 0.3));\n",
              "      fill: #FFFFFF;\n",
              "    }\n",
              "  </style>\n",
              "\n",
              "      <script>\n",
              "        const buttonEl =\n",
              "          document.querySelector('#df-aa4dc30a-dbd3-4bb7-8130-563fa9f61354 button.colab-df-convert');\n",
              "        buttonEl.style.display =\n",
              "          google.colab.kernel.accessAllowed ? 'block' : 'none';\n",
              "\n",
              "        async function convertToInteractive(key) {\n",
              "          const element = document.querySelector('#df-aa4dc30a-dbd3-4bb7-8130-563fa9f61354');\n",
              "          const dataTable =\n",
              "            await google.colab.kernel.invokeFunction('convertToInteractive',\n",
              "                                                     [key], {});\n",
              "          if (!dataTable) return;\n",
              "\n",
              "          const docLinkHtml = 'Like what you see? Visit the ' +\n",
              "            '<a target=\"_blank\" href=https://colab.research.google.com/notebooks/data_table.ipynb>data table notebook</a>'\n",
              "            + ' to learn more about interactive tables.';\n",
              "          element.innerHTML = '';\n",
              "          dataTable['output_type'] = 'display_data';\n",
              "          await google.colab.output.renderOutput(dataTable, element);\n",
              "          const docLink = document.createElement('div');\n",
              "          docLink.innerHTML = docLinkHtml;\n",
              "          element.appendChild(docLink);\n",
              "        }\n",
              "      </script>\n",
              "    </div>\n",
              "  </div>\n",
              "  "
            ]
          },
          "metadata": {},
          "execution_count": 37
        }
      ]
    },
    {
      "cell_type": "code",
      "source": [
        "#data.to_csv('/content/drive/MyDrive/hack/csv_data/data.csv', index=False)\n",
        "data = pd.read_csv('/content/drive/MyDrive/hack/csv_data/data.csv')\n",
        "data.head()"
      ],
      "metadata": {
        "colab": {
          "base_uri": "https://localhost:8080/",
          "height": 206
        },
        "id": "Q_gRxW9mUj9P",
        "outputId": "922f498f-127f-4b05-864e-67791def0085"
      },
      "execution_count": 5,
      "outputs": [
        {
          "output_type": "execute_result",
          "data": {
            "text/plain": [
              "   start     end  crackles  wheezes  pid mode                filename disease\n",
              "0  0.109   4.766         1        1  160   mc  160_1b2_Pr_mc_AKGC417L    COPD\n",
              "1  4.766  10.342         0        1  160   mc  160_1b2_Pr_mc_AKGC417L    COPD\n",
              "2  1.862   5.718         0        1  160   mc  160_1b3_Lr_mc_AKGC417L    COPD\n",
              "3  5.718   9.725         0        1  160   mc  160_1b3_Lr_mc_AKGC417L    COPD\n",
              "4  9.725  13.614         0        1  160   mc  160_1b3_Lr_mc_AKGC417L    COPD"
            ],
            "text/html": [
              "\n",
              "  <div id=\"df-0592c8fd-cffb-455f-b6ad-fb696dd1c690\">\n",
              "    <div class=\"colab-df-container\">\n",
              "      <div>\n",
              "<style scoped>\n",
              "    .dataframe tbody tr th:only-of-type {\n",
              "        vertical-align: middle;\n",
              "    }\n",
              "\n",
              "    .dataframe tbody tr th {\n",
              "        vertical-align: top;\n",
              "    }\n",
              "\n",
              "    .dataframe thead th {\n",
              "        text-align: right;\n",
              "    }\n",
              "</style>\n",
              "<table border=\"1\" class=\"dataframe\">\n",
              "  <thead>\n",
              "    <tr style=\"text-align: right;\">\n",
              "      <th></th>\n",
              "      <th>start</th>\n",
              "      <th>end</th>\n",
              "      <th>crackles</th>\n",
              "      <th>wheezes</th>\n",
              "      <th>pid</th>\n",
              "      <th>mode</th>\n",
              "      <th>filename</th>\n",
              "      <th>disease</th>\n",
              "    </tr>\n",
              "  </thead>\n",
              "  <tbody>\n",
              "    <tr>\n",
              "      <th>0</th>\n",
              "      <td>0.109</td>\n",
              "      <td>4.766</td>\n",
              "      <td>1</td>\n",
              "      <td>1</td>\n",
              "      <td>160</td>\n",
              "      <td>mc</td>\n",
              "      <td>160_1b2_Pr_mc_AKGC417L</td>\n",
              "      <td>COPD</td>\n",
              "    </tr>\n",
              "    <tr>\n",
              "      <th>1</th>\n",
              "      <td>4.766</td>\n",
              "      <td>10.342</td>\n",
              "      <td>0</td>\n",
              "      <td>1</td>\n",
              "      <td>160</td>\n",
              "      <td>mc</td>\n",
              "      <td>160_1b2_Pr_mc_AKGC417L</td>\n",
              "      <td>COPD</td>\n",
              "    </tr>\n",
              "    <tr>\n",
              "      <th>2</th>\n",
              "      <td>1.862</td>\n",
              "      <td>5.718</td>\n",
              "      <td>0</td>\n",
              "      <td>1</td>\n",
              "      <td>160</td>\n",
              "      <td>mc</td>\n",
              "      <td>160_1b3_Lr_mc_AKGC417L</td>\n",
              "      <td>COPD</td>\n",
              "    </tr>\n",
              "    <tr>\n",
              "      <th>3</th>\n",
              "      <td>5.718</td>\n",
              "      <td>9.725</td>\n",
              "      <td>0</td>\n",
              "      <td>1</td>\n",
              "      <td>160</td>\n",
              "      <td>mc</td>\n",
              "      <td>160_1b3_Lr_mc_AKGC417L</td>\n",
              "      <td>COPD</td>\n",
              "    </tr>\n",
              "    <tr>\n",
              "      <th>4</th>\n",
              "      <td>9.725</td>\n",
              "      <td>13.614</td>\n",
              "      <td>0</td>\n",
              "      <td>1</td>\n",
              "      <td>160</td>\n",
              "      <td>mc</td>\n",
              "      <td>160_1b3_Lr_mc_AKGC417L</td>\n",
              "      <td>COPD</td>\n",
              "    </tr>\n",
              "  </tbody>\n",
              "</table>\n",
              "</div>\n",
              "      <button class=\"colab-df-convert\" onclick=\"convertToInteractive('df-0592c8fd-cffb-455f-b6ad-fb696dd1c690')\"\n",
              "              title=\"Convert this dataframe to an interactive table.\"\n",
              "              style=\"display:none;\">\n",
              "        \n",
              "  <svg xmlns=\"http://www.w3.org/2000/svg\" height=\"24px\"viewBox=\"0 0 24 24\"\n",
              "       width=\"24px\">\n",
              "    <path d=\"M0 0h24v24H0V0z\" fill=\"none\"/>\n",
              "    <path d=\"M18.56 5.44l.94 2.06.94-2.06 2.06-.94-2.06-.94-.94-2.06-.94 2.06-2.06.94zm-11 1L8.5 8.5l.94-2.06 2.06-.94-2.06-.94L8.5 2.5l-.94 2.06-2.06.94zm10 10l.94 2.06.94-2.06 2.06-.94-2.06-.94-.94-2.06-.94 2.06-2.06.94z\"/><path d=\"M17.41 7.96l-1.37-1.37c-.4-.4-.92-.59-1.43-.59-.52 0-1.04.2-1.43.59L10.3 9.45l-7.72 7.72c-.78.78-.78 2.05 0 2.83L4 21.41c.39.39.9.59 1.41.59.51 0 1.02-.2 1.41-.59l7.78-7.78 2.81-2.81c.8-.78.8-2.07 0-2.86zM5.41 20L4 18.59l7.72-7.72 1.47 1.35L5.41 20z\"/>\n",
              "  </svg>\n",
              "      </button>\n",
              "      \n",
              "  <style>\n",
              "    .colab-df-container {\n",
              "      display:flex;\n",
              "      flex-wrap:wrap;\n",
              "      gap: 12px;\n",
              "    }\n",
              "\n",
              "    .colab-df-convert {\n",
              "      background-color: #E8F0FE;\n",
              "      border: none;\n",
              "      border-radius: 50%;\n",
              "      cursor: pointer;\n",
              "      display: none;\n",
              "      fill: #1967D2;\n",
              "      height: 32px;\n",
              "      padding: 0 0 0 0;\n",
              "      width: 32px;\n",
              "    }\n",
              "\n",
              "    .colab-df-convert:hover {\n",
              "      background-color: #E2EBFA;\n",
              "      box-shadow: 0px 1px 2px rgba(60, 64, 67, 0.3), 0px 1px 3px 1px rgba(60, 64, 67, 0.15);\n",
              "      fill: #174EA6;\n",
              "    }\n",
              "\n",
              "    [theme=dark] .colab-df-convert {\n",
              "      background-color: #3B4455;\n",
              "      fill: #D2E3FC;\n",
              "    }\n",
              "\n",
              "    [theme=dark] .colab-df-convert:hover {\n",
              "      background-color: #434B5C;\n",
              "      box-shadow: 0px 1px 3px 1px rgba(0, 0, 0, 0.15);\n",
              "      filter: drop-shadow(0px 1px 2px rgba(0, 0, 0, 0.3));\n",
              "      fill: #FFFFFF;\n",
              "    }\n",
              "  </style>\n",
              "\n",
              "      <script>\n",
              "        const buttonEl =\n",
              "          document.querySelector('#df-0592c8fd-cffb-455f-b6ad-fb696dd1c690 button.colab-df-convert');\n",
              "        buttonEl.style.display =\n",
              "          google.colab.kernel.accessAllowed ? 'block' : 'none';\n",
              "\n",
              "        async function convertToInteractive(key) {\n",
              "          const element = document.querySelector('#df-0592c8fd-cffb-455f-b6ad-fb696dd1c690');\n",
              "          const dataTable =\n",
              "            await google.colab.kernel.invokeFunction('convertToInteractive',\n",
              "                                                     [key], {});\n",
              "          if (!dataTable) return;\n",
              "\n",
              "          const docLinkHtml = 'Like what you see? Visit the ' +\n",
              "            '<a target=\"_blank\" href=https://colab.research.google.com/notebooks/data_table.ipynb>data table notebook</a>'\n",
              "            + ' to learn more about interactive tables.';\n",
              "          element.innerHTML = '';\n",
              "          dataTable['output_type'] = 'display_data';\n",
              "          await google.colab.output.renderOutput(dataTable, element);\n",
              "          const docLink = document.createElement('div');\n",
              "          docLink.innerHTML = docLinkHtml;\n",
              "          element.appendChild(docLink);\n",
              "        }\n",
              "      </script>\n",
              "    </div>\n",
              "  </div>\n",
              "  "
            ]
          },
          "metadata": {},
          "execution_count": 5
        }
      ]
    },
    {
      "cell_type": "code",
      "source": [
        "sns.countplot(patient_data.disease)\n",
        "plt.xticks(rotation=90)"
      ],
      "metadata": {
        "colab": {
          "base_uri": "https://localhost:8080/",
          "height": 417
        },
        "id": "oPdHFpcov7uE",
        "outputId": "3f94f26b-73ec-447a-dfce-89b14dbdb23e"
      },
      "execution_count": 28,
      "outputs": [
        {
          "output_type": "stream",
          "name": "stderr",
          "text": [
            "/usr/local/lib/python3.7/dist-packages/seaborn/_decorators.py:43: FutureWarning: Pass the following variable as a keyword arg: x. From version 0.12, the only valid positional argument will be `data`, and passing other arguments without an explicit keyword will result in an error or misinterpretation.\n",
            "  FutureWarning\n"
          ]
        },
        {
          "output_type": "execute_result",
          "data": {
            "text/plain": [
              "(array([0, 1, 2, 3, 4, 5, 6, 7]), <a list of 8 Text major ticklabel objects>)"
            ]
          },
          "metadata": {},
          "execution_count": 28
        },
        {
          "output_type": "display_data",
          "data": {
            "text/plain": [
              "<Figure size 432x288 with 1 Axes>"
            ],
            "image/png": "[encoded data removed]"
          },
          "metadata": {
            "needs_background": "light"
          }
        }
      ]
    },
    {
      "cell_type": "code",
      "source": [
        "sns.countplot(data.disease)\n",
        "plt.xticks(rotation=90)"
      ],
      "metadata": {
        "colab": {
          "base_uri": "https://localhost:8080/",
          "height": 420
        },
        "id": "s2xMrOc8vNn9",
        "outputId": "76b5cc15-07b4-433f-a214-d9dba645561a"
      },
      "execution_count": 26,
      "outputs": [
        {
          "output_type": "stream",
          "name": "stderr",
          "text": [
            "/usr/local/lib/python3.7/dist-packages/seaborn/_decorators.py:43: FutureWarning: Pass the following variable as a keyword arg: x. From version 0.12, the only valid positional argument will be `data`, and passing other arguments without an explicit keyword will result in an error or misinterpretation.\n",
            "  FutureWarning\n"
          ]
        },
        {
          "output_type": "execute_result",
          "data": {
            "text/plain": [
              "(array([0, 1, 2, 3, 4, 5, 6, 7]), <a list of 8 Text major ticklabel objects>)"
            ]
          },
          "metadata": {},
          "execution_count": 26
        },
        {
          "output_type": "display_data",
          "data": {
            "text/plain": [
              "<Figure size 432x288 with 1 Axes>"
            ],
            "image/png": "[encoded data removed]"
          },
          "metadata": {
            "needs_background": "light"
          }
        }
      ]
    },
    {
      "cell_type": "markdown",
      "source": [
        "audio_and_txt 폴더 내 txt 파일마다 기입된 호흡주기의 수가 다르기 때문에 merge 시켰을 때 data 분포에 변화가 생겼지만<br/> 여전히 **COPD**의 비율이 매우 높다.<br/>\n"
      ],
      "metadata": {
        "id": "mSO_Ca_Qv0n2"
      }
    },
    {
      "cell_type": "code",
      "source": [
        "def getPureSample(raw_data, start, end, sr=16000):\n",
        "    max_ind = len(raw_data)\n",
        "    start_ind = min(int(start * sr), max_ind)\n",
        "    end_ind = min(int(end * sr), max_ind)\n",
        "    return raw_data[start_ind: end_ind]"
      ],
      "metadata": {
        "id": "Z7z_ezJDU6fi"
      },
      "execution_count": 6,
      "outputs": []
    },
    {
      "cell_type": "code",
      "source": [
        "sns.scatterplot(x=(data.end-data.start), y=data.pid)"
      ],
      "metadata": {
        "colab": {
          "base_uri": "https://localhost:8080/",
          "height": 283
        },
        "id": "VrSG6stDVIDP",
        "outputId": "b6cc53d4-d389-4f45-fbec-db82ee48e88c"
      },
      "execution_count": 30,
      "outputs": [
        {
          "output_type": "execute_result",
          "data": {
            "text/plain": [
              "<matplotlib.axes._subplots.AxesSubplot at 0x7f0ec08ce110>"
            ]
          },
          "metadata": {},
          "execution_count": 30
        },
        {
          "output_type": "display_data",
          "data": {
            "text/plain": [
              "<Figure size 432x288 with 1 Axes>"
            ],
            "image/png": "[encoded data removed]"
          },
          "metadata": {
            "needs_background": "light"
          }
        }
      ]
    },
    {
      "cell_type": "code",
      "source": [
        "sns.boxplot(y=(data.end-data.start))"
      ],
      "metadata": {
        "colab": {
          "base_uri": "https://localhost:8080/",
          "height": 270
        },
        "id": "wiqTcE59VK9Y",
        "outputId": "46c38391-3fdd-45b7-8333-cd2779249e80"
      },
      "execution_count": 31,
      "outputs": [
        {
          "output_type": "execute_result",
          "data": {
            "text/plain": [
              "<matplotlib.axes._subplots.AxesSubplot at 0x7f0ec089dd10>"
            ]
          },
          "metadata": {},
          "execution_count": 31
        },
        {
          "output_type": "display_data",
          "data": {
            "text/plain": [
              "<Figure size 432x288 with 1 Axes>"
            ],
            "image/png": "[encoded data removed]"
          },
          "metadata": {
            "needs_background": "light"
          }
        }
      ]
    },
    {
      "cell_type": "markdown",
      "source": [
        "data 길이의 분포를 보았을 때 6초 이하로 길이를 설정하는 것이 이상적이다.<br/>\n",
        "6초 보다 짧은 data의 경우 padding을 통해 길이를 맞춰줘야 한다.<br/>\n",
        "note: zero padding means **silent**"
      ],
      "metadata": {
        "id": "p9xJT7Gfz4pt"
      }
    },
    {
      "cell_type": "markdown",
      "source": [
        "## Pre-Processing"
      ],
      "metadata": {
        "id": "iN5Ta3ocxdq-"
      }
    },
    {
      "cell_type": "code",
      "source": [
        "for index, row in data.iterrows():\n",
        "    print('Index ->', index)\n",
        "    print('Data ->\\n', row)\n",
        "    break"
      ],
      "metadata": {
        "colab": {
          "base_uri": "https://localhost:8080/"
        },
        "id": "4PNykjQOVMPJ",
        "outputId": "738be87b-c5b1-4aea-c669-09db61991491"
      },
      "execution_count": 7,
      "outputs": [
        {
          "output_type": "stream",
          "name": "stdout",
          "text": [
            "Index -> 0\n",
            "Data ->\n",
            " start                        0.109\n",
            "end                          4.766\n",
            "crackles                         1\n",
            "wheezes                          1\n",
            "pid                            160\n",
            "mode                            mc\n",
            "filename    160_1b2_Pr_mc_AKGC417L\n",
            "disease                       COPD\n",
            "Name: 0, dtype: object\n"
          ]
        }
      ]
    },
    {
      "cell_type": "code",
      "source": [
        "os.makedirs('/content/drive/MyDrive/hack/base_audio_files')"
      ],
      "metadata": {
        "id": "NFY8tx6zVR6q"
      },
      "execution_count": 8,
      "outputs": []
    },
    {
      "cell_type": "code",
      "source": [
        "filename_ncwb, start_ncwb, end_ncwb, pid_ncwb, mode_ncwb, disease_ncwb, crack_wheeze_ncwb = [],[],[],[],[],[],[]"
      ],
      "metadata": {
        "id": "-qUeg3uy3Cu0"
      },
      "execution_count": 9,
      "outputs": []
    },
    {
      "cell_type": "code",
      "source": [
        "i,c=0,0\n",
        "\n",
        "for index, row in data.iterrows():\n",
        "    start=row['start']\n",
        "    end=row['end']\n",
        "    filename=row['filename']\n",
        "    \n",
        "    audio_file_loc=path + filename + '.wav'\n",
        "\n",
        "    if index > 0:\n",
        "        if data.iloc[index-1]['filename']==filename:\n",
        "            i+=1\n",
        "    else:\n",
        "        i=0\n",
        "\n",
        "    filename=filename + '_' + str(i) + '.wav' #new filename\n",
        "\n",
        "    filename_ncwb.append(filename)\n",
        "    start_ncwb.append(row['start'])\n",
        "    end_ncwb.append(row['end'])\n",
        "    pid_ncwb.append(row['pid'])\n",
        "    mode_ncwb.append(row['mode'])\n",
        "    disease_ncwb.append(row['disease'])\n",
        "    \n",
        "    if row['crackles'] == 0 and row ['wheezes'] == 0:\n",
        "        crack_wheeze_ncwb.append(0)\n",
        "    elif row['crackles'] == 1 and row ['wheezes'] == 0:\n",
        "        crack_wheeze_ncwb.append(1)\n",
        "    elif row['crackles'] == 0 and row ['wheezes'] == 1:\n",
        "        crack_wheeze_ncwb.append(2)\n",
        "    else:\n",
        "        crack_wheeze_ncwb.append(3)\n",
        "\n",
        "    save_path='/content/drive/MyDrive/hack/base_audio_files/' + filename\n",
        "    c+=1\n",
        "\n",
        "    audioArr, sampleRate = lb.load(audio_file_loc, sr=16000)\n",
        "    pureSample = getPureSample(audioArr, start, end, sampleRate)\n",
        "\n",
        "    sf.write(file=save_path, data=pureSample, samplerate=sampleRate)\n",
        "\n",
        "print('Total Files Processed: ', c)"
      ],
      "metadata": {
        "id": "ZcVhV481VOyY",
        "colab": {
          "base_uri": "https://localhost:8080/"
        },
        "outputId": "bc42e83e-56ee-41f5-cf60-23e56c663f8e"
      },
      "execution_count": 20,
      "outputs": [
        {
          "output_type": "stream",
          "name": "stdout",
          "text": [
            "Total Files Processed:  6898\n"
          ]
        }
      ]
    },
    {
      "cell_type": "code",
      "source": [
        "ncwb = [filename_ncwb, start_ncwb, end_ncwb, pid_ncwb, mode_ncwb, disease_ncwb, crack_wheeze_ncwb]\n",
        "processed = pd.DataFrame(ncwb)\n",
        "processed = processed.transpose()\n",
        "processed.columns=['filename', 'start', 'end', 'pid', 'mode', 'disease', 'crackle_wheeze']\n",
        "processed.head()"
      ],
      "metadata": {
        "colab": {
          "base_uri": "https://localhost:8080/",
          "height": 206
        },
        "id": "vrmtWVhK6XSI",
        "outputId": "03c3fb19-2c94-43ae-8d29-612c9c90f683"
      },
      "execution_count": 27,
      "outputs": [
        {
          "output_type": "execute_result",
          "data": {
            "text/plain": [
              "                       filename  start     end  pid mode disease  \\\n",
              "0  160_1b2_Pr_mc_AKGC417L_0.wav  0.109   4.766  160   mc    COPD   \n",
              "1  160_1b2_Pr_mc_AKGC417L_1.wav  4.766  10.342  160   mc    COPD   \n",
              "2  160_1b3_Lr_mc_AKGC417L_1.wav  1.862   5.718  160   mc    COPD   \n",
              "3  160_1b3_Lr_mc_AKGC417L_2.wav  5.718   9.725  160   mc    COPD   \n",
              "4  160_1b3_Lr_mc_AKGC417L_3.wav  9.725  13.614  160   mc    COPD   \n",
              "\n",
              "  crackle_wheeze  \n",
              "0              3  \n",
              "1              2  \n",
              "2              2  \n",
              "3              2  \n",
              "4              2  "
            ],
            "text/html": [
              "\n",
              "  <div id=\"df-e89ab4af-1440-4195-a89d-a1cd353a1cbe\">\n",
              "    <div class=\"colab-df-container\">\n",
              "      <div>\n",
              "<style scoped>\n",
              "    .dataframe tbody tr th:only-of-type {\n",
              "        vertical-align: middle;\n",
              "    }\n",
              "\n",
              "    .dataframe tbody tr th {\n",
              "        vertical-align: top;\n",
              "    }\n",
              "\n",
              "    .dataframe thead th {\n",
              "        text-align: right;\n",
              "    }\n",
              "</style>\n",
              "<table border=\"1\" class=\"dataframe\">\n",
              "  <thead>\n",
              "    <tr style=\"text-align: right;\">\n",
              "      <th></th>\n",
              "      <th>filename</th>\n",
              "      <th>start</th>\n",
              "      <th>end</th>\n",
              "      <th>pid</th>\n",
              "      <th>mode</th>\n",
              "      <th>disease</th>\n",
              "      <th>crackle_wheeze</th>\n",
              "    </tr>\n",
              "  </thead>\n",
              "  <tbody>\n",
              "    <tr>\n",
              "      <th>0</th>\n",
              "      <td>160_1b2_Pr_mc_AKGC417L_0.wav</td>\n",
              "      <td>0.109</td>\n",
              "      <td>4.766</td>\n",
              "      <td>160</td>\n",
              "      <td>mc</td>\n",
              "      <td>COPD</td>\n",
              "      <td>3</td>\n",
              "    </tr>\n",
              "    <tr>\n",
              "      <th>1</th>\n",
              "      <td>160_1b2_Pr_mc_AKGC417L_1.wav</td>\n",
              "      <td>4.766</td>\n",
              "      <td>10.342</td>\n",
              "      <td>160</td>\n",
              "      <td>mc</td>\n",
              "      <td>COPD</td>\n",
              "      <td>2</td>\n",
              "    </tr>\n",
              "    <tr>\n",
              "      <th>2</th>\n",
              "      <td>160_1b3_Lr_mc_AKGC417L_1.wav</td>\n",
              "      <td>1.862</td>\n",
              "      <td>5.718</td>\n",
              "      <td>160</td>\n",
              "      <td>mc</td>\n",
              "      <td>COPD</td>\n",
              "      <td>2</td>\n",
              "    </tr>\n",
              "    <tr>\n",
              "      <th>3</th>\n",
              "      <td>160_1b3_Lr_mc_AKGC417L_2.wav</td>\n",
              "      <td>5.718</td>\n",
              "      <td>9.725</td>\n",
              "      <td>160</td>\n",
              "      <td>mc</td>\n",
              "      <td>COPD</td>\n",
              "      <td>2</td>\n",
              "    </tr>\n",
              "    <tr>\n",
              "      <th>4</th>\n",
              "      <td>160_1b3_Lr_mc_AKGC417L_3.wav</td>\n",
              "      <td>9.725</td>\n",
              "      <td>13.614</td>\n",
              "      <td>160</td>\n",
              "      <td>mc</td>\n",
              "      <td>COPD</td>\n",
              "      <td>2</td>\n",
              "    </tr>\n",
              "  </tbody>\n",
              "</table>\n",
              "</div>\n",
              "      <button class=\"colab-df-convert\" onclick=\"convertToInteractive('df-e89ab4af-1440-4195-a89d-a1cd353a1cbe')\"\n",
              "              title=\"Convert this dataframe to an interactive table.\"\n",
              "              style=\"display:none;\">\n",
              "        \n",
              "  <svg xmlns=\"http://www.w3.org/2000/svg\" height=\"24px\"viewBox=\"0 0 24 24\"\n",
              "       width=\"24px\">\n",
              "    <path d=\"M0 0h24v24H0V0z\" fill=\"none\"/>\n",
              "    <path d=\"M18.56 5.44l.94 2.06.94-2.06 2.06-.94-2.06-.94-.94-2.06-.94 2.06-2.06.94zm-11 1L8.5 8.5l.94-2.06 2.06-.94-2.06-.94L8.5 2.5l-.94 2.06-2.06.94zm10 10l.94 2.06.94-2.06 2.06-.94-2.06-.94-.94-2.06-.94 2.06-2.06.94z\"/><path d=\"M17.41 7.96l-1.37-1.37c-.4-.4-.92-.59-1.43-.59-.52 0-1.04.2-1.43.59L10.3 9.45l-7.72 7.72c-.78.78-.78 2.05 0 2.83L4 21.41c.39.39.9.59 1.41.59.51 0 1.02-.2 1.41-.59l7.78-7.78 2.81-2.81c.8-.78.8-2.07 0-2.86zM5.41 20L4 18.59l7.72-7.72 1.47 1.35L5.41 20z\"/>\n",
              "  </svg>\n",
              "      </button>\n",
              "      \n",
              "  <style>\n",
              "    .colab-df-container {\n",
              "      display:flex;\n",
              "      flex-wrap:wrap;\n",
              "      gap: 12px;\n",
              "    }\n",
              "\n",
              "    .colab-df-convert {\n",
              "      background-color: #E8F0FE;\n",
              "      border: none;\n",
              "      border-radius: 50%;\n",
              "      cursor: pointer;\n",
              "      display: none;\n",
              "      fill: #1967D2;\n",
              "      height: 32px;\n",
              "      padding: 0 0 0 0;\n",
              "      width: 32px;\n",
              "    }\n",
              "\n",
              "    .colab-df-convert:hover {\n",
              "      background-color: #E2EBFA;\n",
              "      box-shadow: 0px 1px 2px rgba(60, 64, 67, 0.3), 0px 1px 3px 1px rgba(60, 64, 67, 0.15);\n",
              "      fill: #174EA6;\n",
              "    }\n",
              "\n",
              "    [theme=dark] .colab-df-convert {\n",
              "      background-color: #3B4455;\n",
              "      fill: #D2E3FC;\n",
              "    }\n",
              "\n",
              "    [theme=dark] .colab-df-convert:hover {\n",
              "      background-color: #434B5C;\n",
              "      box-shadow: 0px 1px 3px 1px rgba(0, 0, 0, 0.15);\n",
              "      filter: drop-shadow(0px 1px 2px rgba(0, 0, 0, 0.3));\n",
              "      fill: #FFFFFF;\n",
              "    }\n",
              "  </style>\n",
              "\n",
              "      <script>\n",
              "        const buttonEl =\n",
              "          document.querySelector('#df-e89ab4af-1440-4195-a89d-a1cd353a1cbe button.colab-df-convert');\n",
              "        buttonEl.style.display =\n",
              "          google.colab.kernel.accessAllowed ? 'block' : 'none';\n",
              "\n",
              "        async function convertToInteractive(key) {\n",
              "          const element = document.querySelector('#df-e89ab4af-1440-4195-a89d-a1cd353a1cbe');\n",
              "          const dataTable =\n",
              "            await google.colab.kernel.invokeFunction('convertToInteractive',\n",
              "                                                     [key], {});\n",
              "          if (!dataTable) return;\n",
              "\n",
              "          const docLinkHtml = 'Like what you see? Visit the ' +\n",
              "            '<a target=\"_blank\" href=https://colab.research.google.com/notebooks/data_table.ipynb>data table notebook</a>'\n",
              "            + ' to learn more about interactive tables.';\n",
              "          element.innerHTML = '';\n",
              "          dataTable['output_type'] = 'display_data';\n",
              "          await google.colab.output.renderOutput(dataTable, element);\n",
              "          const docLink = document.createElement('div');\n",
              "          docLink.innerHTML = docLinkHtml;\n",
              "          element.appendChild(docLink);\n",
              "        }\n",
              "      </script>\n",
              "    </div>\n",
              "  </div>\n",
              "  "
            ]
          },
          "metadata": {},
          "execution_count": 27
        }
      ]
    },
    {
      "cell_type": "code",
      "source": [
        "processed.to_csv('/content/drive/MyDrive/hack/csv_data/processed.csv')"
      ],
      "metadata": {
        "id": "OM28nmk1IJBP"
      },
      "execution_count": 28,
      "outputs": []
    },
    {
      "cell_type": "markdown",
      "source": [
        "#### Zero Padding"
      ],
      "metadata": {
        "id": "sTOhNgr8CPzZ"
      }
    },
    {
      "cell_type": "code",
      "source": [
        "sr=16000\n",
        "\n",
        "def zero_padding(pureSample, reqLen = 6 * sr):\n",
        "    padded = lb.util.pad_center(pureSample, reqLen)\n",
        "    return padded"
      ],
      "metadata": {
        "id": "nbq3swyN9yVc"
      },
      "execution_count": 23,
      "outputs": []
    },
    {
      "cell_type": "code",
      "source": [
        "os.makedirs('/content/drive/MyDrive/hack/base_audio_files/zero_pad_6sec')"
      ],
      "metadata": {
        "id": "WkAMtWci_Pei"
      },
      "execution_count": 24,
      "outputs": []
    },
    {
      "cell_type": "code",
      "source": [
        "zero_padded_6sec = []\n",
        "\n",
        "for index,row in processed.iterrows():\n",
        "    maxLen=6\n",
        "    start=row['start']\n",
        "    end=row['end']\n",
        "    filename=row['filename']\n",
        "    \n",
        "    audio_file_loc= '/content/drive/MyDrive/hack/base_audio_files/' + filename\n",
        "    processed_sample, _ = lb.load(audio_file_loc, sr = sr)\n",
        "\n",
        "    #If len > maxLen , change it to maxLen\n",
        "    if end-start>maxLen:\n",
        "        end=start+maxLen\n",
        "        processed_sample = processed_sample[int(start * sr) : int(end * sr)]\n",
        "\n",
        "    padded_data = zero_padding(processed_sample, 6 * sr)\n",
        "\n",
        "    save_path = '/content/drive/MyDrive/hack/base_audio_files/zero_pad_6sec/' + filename\n",
        "\n",
        "    sf.write(file=save_path, data=padded_data, samplerate=sr)"
      ],
      "metadata": {
        "id": "JoCS7BcpLyIq"
      },
      "execution_count": 29,
      "outputs": []
    },
    {
      "cell_type": "markdown",
      "source": [
        "#### 5th order Butterworth band-pass filter"
      ],
      "metadata": {
        "id": "h2KtsKq9Buwh"
      }
    },
    {
      "cell_type": "code",
      "source": [
        "# # from scipy.signal import butter, sosfilt, sosfreqz\n",
        "\n",
        "# def butter_bandpass(lowcut, highcut, fs, order=5):\n",
        "#         nyq = 0.5 * fs\n",
        "#         low = lowcut / nyq\n",
        "#         high = highcut / nyq\n",
        "#         sos = butter(order, [low, high], analog=False, btype='band', output='sos')\n",
        "#         return sos\n",
        "\n",
        "# def butter_bandpass_filter(data, lowcut, highcut, fs, order=5):\n",
        "#         sos = butter_bandpass(lowcut, highcut, fs, order=order)\n",
        "#         y = sosfilt(sos, data)\n",
        "#         return y"
      ],
      "metadata": {
        "id": "-l-Ue66r_uH7"
      },
      "execution_count": null,
      "outputs": []
    },
    {
      "cell_type": "markdown",
      "source": [
        "## Train Val Test Split\n"
      ],
      "metadata": {
        "id": "i0-yb82o987b"
      }
    },
    {
      "cell_type": "code",
      "source": [
        "X_train, X_val, y_train, y_val = train_test_split(processed, processed.disease, stratify=processed.disease, random_state=42, test_size=0.2)"
      ],
      "metadata": {
        "id": "8D3Kpjrg9-If"
      },
      "execution_count": 30,
      "outputs": []
    },
    {
      "cell_type": "code",
      "source": [
        "X_train.disease.value_counts()/X_train.shape[0]"
      ],
      "metadata": {
        "id": "SLzktX5b_cBK",
        "colab": {
          "base_uri": "https://localhost:8080/"
        },
        "outputId": "13abb0db-b07f-4b98-c042-b888259f7f7f"
      },
      "execution_count": 31,
      "outputs": [
        {
          "output_type": "execute_result",
          "data": {
            "text/plain": [
              "COPD              0.832910\n",
              "Healthy           0.046756\n",
              "Pneumonia         0.041319\n",
              "URTI              0.035158\n",
              "Bronchiolitis     0.023197\n",
              "Bronchiectasis    0.015042\n",
              "LRTI              0.004712\n",
              "Asthma            0.000906\n",
              "Name: disease, dtype: float64"
            ]
          },
          "metadata": {},
          "execution_count": 31
        }
      ]
    },
    {
      "cell_type": "code",
      "source": [
        "X_val.disease.value_counts()/X_val.shape[0]"
      ],
      "metadata": {
        "id": "i6W0txff_fqm",
        "colab": {
          "base_uri": "https://localhost:8080/"
        },
        "outputId": "ef187e3a-b1e1-4961-a81d-0a5ae014b899"
      },
      "execution_count": 32,
      "outputs": [
        {
          "output_type": "execute_result",
          "data": {
            "text/plain": [
              "COPD              0.833333\n",
              "Healthy           0.046377\n",
              "Pneumonia         0.041304\n",
              "URTI              0.035507\n",
              "Bronchiolitis     0.023188\n",
              "Bronchiectasis    0.015217\n",
              "LRTI              0.004348\n",
              "Asthma            0.000725\n",
              "Name: disease, dtype: float64"
            ]
          },
          "metadata": {},
          "execution_count": 32
        }
      ]
    },
    {
      "cell_type": "code",
      "source": [
        "X_train.to_csv('train.csv')\n",
        "X_val.to_csv('val.csv')"
      ],
      "metadata": {
        "id": "sJBvL7dH_jdr"
      },
      "execution_count": 33,
      "outputs": []
    },
    {
      "cell_type": "code",
      "source": [
        "le=LabelEncoder()\n",
        "y_train = le.fit_transform(y_train)\n",
        "y_val = le.transform(y_val)"
      ],
      "metadata": {
        "id": "zctr6Ea_MHFa"
      },
      "execution_count": 34,
      "outputs": []
    },
    {
      "cell_type": "markdown",
      "source": [
        "## Feature Extraction"
      ],
      "metadata": {
        "id": "Ahl014dsDDxp"
      }
    },
    {
      "cell_type": "code",
      "source": [
        "def getFeatures(path):\n",
        "    soundArr, sr=lb.load(path, sr=16000)\n",
        "    mSpec=lb.feature.melspectrogram(y=soundArr, sr=sr)\n",
        "\n",
        "    return mSpec"
      ],
      "metadata": {
        "id": "so_7yK_7DDTk"
      },
      "execution_count": 35,
      "outputs": []
    },
    {
      "cell_type": "code",
      "source": [
        "root='/content/drive/MyDrive/hack/base_audio_files/zero_pad_6sec/'\n",
        "mSpec_t=[]\n",
        "\n",
        "for idx, row in X_train.iterrows():\n",
        "    path=root + row['filename']\n",
        "    a = getFeatures(path)\n",
        "    mSpec_t.append(a)\n",
        "\n",
        "mSpec_train=np.array(mSpec_t)"
      ],
      "metadata": {
        "id": "QmDyxpLKDrXD"
      },
      "execution_count": 36,
      "outputs": []
    },
    {
      "cell_type": "code",
      "source": [
        "root='/content/drive/MyDrive/hack/base_audio_files/zero_pad_6sec/'\n",
        "mSpec_v=[]\n",
        "\n",
        "for idx, row in X_val.iterrows():\n",
        "    path=root + row['filename']\n",
        "    a = getFeatures(path)\n",
        "    mSpec_v.append(a)\n",
        "\n",
        "mSpec_val=np.array(mSpec_v)"
      ],
      "metadata": {
        "id": "lqmxo8g7_oBF"
      },
      "execution_count": 37,
      "outputs": []
    },
    {
      "cell_type": "code",
      "source": [
        "print(mSpec_train.shape)\n",
        "print(mSpec_val.shape)"
      ],
      "metadata": {
        "colab": {
          "base_uri": "https://localhost:8080/"
        },
        "id": "gzPisyRdZi0E",
        "outputId": "20ee687e-e2a5-4611-90d1-40d097bfb9b2"
      },
      "execution_count": 38,
      "outputs": [
        {
          "output_type": "stream",
          "name": "stdout",
          "text": [
            "(5518, 128, 188)\n",
            "(1380, 128, 188)\n"
          ]
        }
      ]
    },
    {
      "cell_type": "code",
      "source": [
        "os.makedirs('/content/drive/MyDrive/hack/features')"
      ],
      "metadata": {
        "id": "oa6a49_cS9tx"
      },
      "execution_count": 39,
      "outputs": []
    },
    {
      "cell_type": "code",
      "source": [
        "np.save('/content/drive/MyDrive/hack/features/mel_spec_train_6sec.npy', mSpec_train)\n",
        "np.save('/content/drive/MyDrive/hack/features/mel_spec_val_6sec.npy', mSpec_val)"
      ],
      "metadata": {
        "id": "D2j2DNM1SwNt"
      },
      "execution_count": 40,
      "outputs": []
    },
    {
      "cell_type": "code",
      "source": [
        "filepath = '/content/drive/MyDrive/hack/base_audio_files/zero_pad_6sec/'\n",
        "sr = 16000\n",
        "file = filepath + X_train.loc[100].filename\n",
        "y, sr = lb.load(file)\n",
        "\n",
        "D = lb.stft(y) #STFT of y\n",
        "S_db = lb.amplitude_to_db(np.abs(D), ref=np.max)\n",
        "\n",
        "#pyplot interface\n",
        "# plt.figure(figsize=(10,20))\n",
        "# lbd.specshow(S_db)\n",
        "# plt.colorbar()\n",
        "\n",
        "#object-oriented interface\n",
        "fig, ax = plt.subplots()\n",
        "img = lbd.specshow(S_db, x_axis='time', y_axis='linear', ax=ax)\n",
        "ax.set(title='Linear Spectrogram Display')\n",
        "fig.colorbar(img, ax=ax, format=\"%+2.f dB\")"
      ],
      "metadata": {
        "colab": {
          "base_uri": "https://localhost:8080/",
          "height": 313
        },
        "id": "x02nUE_MTZ1r",
        "outputId": "5a9486c8-481e-4ecc-9526-faa129507b6e"
      },
      "execution_count": 43,
      "outputs": [
        {
          "output_type": "execute_result",
          "data": {
            "text/plain": [
              "<matplotlib.colorbar.Colorbar at 0x7f80ab31a110>"
            ]
          },
          "metadata": {},
          "execution_count": 43
        },
        {
          "output_type": "display_data",
          "data": {
            "text/plain": [
              "<Figure size 432x288 with 2 Axes>"
            ],
            "image/png": "[encoded data removed]"
          },
          "metadata": {
            "needs_background": "light"
          }
        }
      ]
    },
    {
      "cell_type": "code",
      "source": [
        "fig, ax = plt.subplots()\n",
        "M = lb.feature.melspectrogram(y=y, sr=sr)\n",
        "M_db = lb.power_to_db(M, ref=np.max)\n",
        "img = lbd.specshow(M_db, y_axis='mel', x_axis='time', ax=ax)\n",
        "ax.set(title='Mel Spectrogram Display')\n",
        "fig.colorbar(img, ax=ax, format=\"%+2.f dB\")\n",
        "fig.savefig('mSpec_100')"
      ],
      "metadata": {
        "colab": {
          "base_uri": "https://localhost:8080/",
          "height": 295
        },
        "id": "VJD5X-IEXwBw",
        "outputId": "44d31863-e8e4-491d-fce4-f33c24d71fe5"
      },
      "execution_count": 45,
      "outputs": [
        {
          "output_type": "display_data",
          "data": {
            "text/plain": [
              "<Figure size 432x288 with 2 Axes>"
            ],
            "image/png": "[encoded data removed]"
          },
          "metadata": {
            "needs_background": "light"
          }
        }
      ]
    },
    {
      "cell_type": "markdown",
      "source": [
        "## Build Model"
      ],
      "metadata": {
        "id": "2BA3rl2ED0S1"
      }
    },
    {
      "cell_type": "code",
      "source": [
        "mSpec_input=keras.layers.Input(shape=(128, 188, 1), name='mSpecInput')\n",
        "x=keras.layers.Conv2D(32, 5, strides=(2,3), padding='same')(mSpec_input)\n",
        "x=keras.layers.BatchNormalization()(x)\n",
        "x=keras.layers.Activation(keras.activations.relu)(x)\n",
        "x=keras.layers.MaxPooling2D(pool_size=2, padding='valid')(x)\n",
        "\n",
        "x=keras.layers.Conv2D(64, 3, strides=(2,2), padding='same')(x)\n",
        "x=keras.layers.BatchNormalization()(x)\n",
        "x=keras.layers.Activation(keras.activations.relu)(x)\n",
        "x=keras.layers.MaxPooling2D(pool_size=2, padding='valid')(x)\n",
        "\n",
        "x=keras.layers.Conv2D(96, 2, padding='same')(x)\n",
        "x=keras.layers.BatchNormalization()(x)\n",
        "x=keras.layers.Activation(keras.activations.relu)(x)\n",
        "x=keras.layers.MaxPooling2D(pool_size=2, padding='valid')(x)\n",
        "\n",
        "x=keras.layers.Conv2D(128, 2, padding='same')(x)\n",
        "x=keras.layers.BatchNormalization()(x)\n",
        "x=keras.layers.Activation(keras.activations.relu)(x)\n",
        "mSpec_output=keras.layers.GlobalMaxPooling2D()(x)\n",
        "\n",
        "mSpec_model=keras.Model(mSpec_input, mSpec_output, name='mSpecModel')"
      ],
      "metadata": {
        "id": "OWt97MJ1D7rO"
      },
      "execution_count": 47,
      "outputs": []
    },
    {
      "cell_type": "code",
      "source": [
        "mSpec_model.summary()"
      ],
      "metadata": {
        "id": "_Zle1X_AD80o",
        "colab": {
          "base_uri": "https://localhost:8080/"
        },
        "outputId": "ebc10161-13dd-4123-a3e8-138509cef0bb"
      },
      "execution_count": 48,
      "outputs": [
        {
          "output_type": "stream",
          "name": "stdout",
          "text": [
            "Model: \"mSpecModel\"\n",
            "_________________________________________________________________\n",
            " Layer (type)                Output Shape              Param #   \n",
            "=================================================================\n",
            " mSpecInput (InputLayer)     [(None, 128, 188, 1)]     0         \n",
            "                                                                 \n",
            " conv2d (Conv2D)             (None, 64, 63, 32)        832       \n",
            "                                                                 \n",
            " batch_normalization (BatchN  (None, 64, 63, 32)       128       \n",
            " ormalization)                                                   \n",
            "                                                                 \n",
            " activation (Activation)     (None, 64, 63, 32)        0         \n",
            "                                                                 \n",
            " max_pooling2d (MaxPooling2D  (None, 32, 31, 32)       0         \n",
            " )                                                               \n",
            "                                                                 \n",
            " conv2d_1 (Conv2D)           (None, 16, 16, 64)        18496     \n",
            "                                                                 \n",
            " batch_normalization_1 (Batc  (None, 16, 16, 64)       256       \n",
            " hNormalization)                                                 \n",
            "                                                                 \n",
            " activation_1 (Activation)   (None, 16, 16, 64)        0         \n",
            "                                                                 \n",
            " max_pooling2d_1 (MaxPooling  (None, 8, 8, 64)         0         \n",
            " 2D)                                                             \n",
            "                                                                 \n",
            " conv2d_2 (Conv2D)           (None, 8, 8, 96)          24672     \n",
            "                                                                 \n",
            " batch_normalization_2 (Batc  (None, 8, 8, 96)         384       \n",
            " hNormalization)                                                 \n",
            "                                                                 \n",
            " activation_2 (Activation)   (None, 8, 8, 96)          0         \n",
            "                                                                 \n",
            " max_pooling2d_2 (MaxPooling  (None, 4, 4, 96)         0         \n",
            " 2D)                                                             \n",
            "                                                                 \n",
            " conv2d_3 (Conv2D)           (None, 4, 4, 128)         49280     \n",
            "                                                                 \n",
            " batch_normalization_3 (Batc  (None, 4, 4, 128)        512       \n",
            " hNormalization)                                                 \n",
            "                                                                 \n",
            " activation_3 (Activation)   (None, 4, 4, 128)         0         \n",
            "                                                                 \n",
            " global_max_pooling2d (Globa  (None, 128)              0         \n",
            " lMaxPooling2D)                                                  \n",
            "                                                                 \n",
            "=================================================================\n",
            "Total params: 94,560\n",
            "Trainable params: 93,920\n",
            "Non-trainable params: 640\n",
            "_________________________________________________________________\n"
          ]
        }
      ]
    },
    {
      "cell_type": "code",
      "source": [
        "os.makedirs('/content/drive/MyDrive/hack/checkpoints')"
      ],
      "metadata": {
        "id": "Y9iTc19ia8sE"
      },
      "execution_count": 49,
      "outputs": []
    },
    {
      "cell_type": "code",
      "source": [
        "filepath = '/content/drive/MyDrive/hack/checkpoints/'\n",
        "my_call_backs = [\n",
        "                 tf.keras.callbacks.EarlyStopping(patience=5),\n",
        "                 tf.keras.callbacks.ReduceLROnPlateau(monitor='val_loss', factor=0.1,\n",
        "                                                      patience=3, min_lr=0.0001, mode='min'),\n",
        "                 tf.keras.callbacks.ModelCheckpoint(filepath, monitor='val_loss', verbos=0, save_best_only=True)\n",
        "]"
      ],
      "metadata": {
        "id": "5qGdkOLrDy6F"
      },
      "execution_count": 50,
      "outputs": []
    },
    {
      "cell_type": "code",
      "source": [
        "accuracy='sparse_categorical_accuracy'\n",
        "sparseLoss=keras.losses.SparseCategoricalCrossentropy()\n",
        "\n",
        "K.clear_session()\n",
        "mSpec_model.compile(optimizer='nadam', loss=sparseLoss, metrics=[accuracy])\n",
        "K.set_value(mSpec_model.optimizer.learning_rate, 0.001)"
      ],
      "metadata": {
        "id": "zhI11-X-D_wT"
      },
      "execution_count": 51,
      "outputs": []
    },
    {
      "cell_type": "code",
      "source": [
        "from sklearn.utils.class_weight import compute_class_weight\n",
        "\n",
        "cls_weight = compute_class_weight(class_weight='balanced',\n",
        "                                  classes=np.unique(y_train),\n",
        "                                  y=y_train)\n",
        "cls_weight = np.sort(cls_weight)\n",
        "class_weight = {}\n",
        "for i in range(len(cls_weight)):\n",
        "    class_weight[i] = cls_weight[i]\n",
        "class_weight"
      ],
      "metadata": {
        "colab": {
          "base_uri": "https://localhost:8080/"
        },
        "id": "0nCMEDmMbiD9",
        "outputId": "2accd69f-40e9-4da3-9e7b-a21b8d94e6f9"
      },
      "execution_count": 52,
      "outputs": [
        {
          "output_type": "execute_result",
          "data": {
            "text/plain": [
              "{0: 0.15007615317667536,\n",
              " 1: 2.673449612403101,\n",
              " 2: 3.025219298245614,\n",
              " 3: 3.5554123711340204,\n",
              " 4: 5.388671875,\n",
              " 5: 8.310240963855422,\n",
              " 6: 26.528846153846153,\n",
              " 7: 137.95}"
            ]
          },
          "metadata": {},
          "execution_count": 52
        }
      ]
    },
    {
      "cell_type": "code",
      "source": [
        "history=mSpec_model.fit(\n",
        "    mSpec_train,\n",
        "    y_train,\n",
        "    validation_data=(mSpec_val, y_val),\n",
        "    epochs=100, verbose=1,\n",
        "    callbacks=my_call_backs,\n",
        "    class_weight = class_weight\n",
        ")"
      ],
      "metadata": {
        "id": "9qXQwcqdEA_g",
        "colab": {
          "base_uri": "https://localhost:8080/"
        },
        "outputId": "e728d657-5066-42b1-addb-91547028980f"
      },
      "execution_count": 53,
      "outputs": [
        {
          "output_type": "stream",
          "name": "stdout",
          "text": [
            "Epoch 1/100\n",
            "173/173 [==============================] - ETA: 0s - loss: 22.5353 - sparse_categorical_accuracy: 0.1774"
          ]
        },
        {
          "output_type": "stream",
          "name": "stderr",
          "text": [
            "WARNING:absl:Function `_wrapped_model` contains input name(s) mSpecInput with unsupported characters which will be renamed to mspecinput in the SavedModel.\n"
          ]
        },
        {
          "output_type": "stream",
          "name": "stdout",
          "text": [
            "INFO:tensorflow:Assets written to: /content/drive/MyDrive/hack/checkpoints/assets\n"
          ]
        },
        {
          "output_type": "stream",
          "name": "stderr",
          "text": [
            "INFO:tensorflow:Assets written to: /content/drive/MyDrive/hack/checkpoints/assets\n"
          ]
        },
        {
          "output_type": "stream",
          "name": "stdout",
          "text": [
            "\b\b\b\b\b\b\b\b\b\b\b\b\b\b\b\b\b\b\b\b\b\b\b\b\b\b\b\b\b\b\b\b\b\b\b\b\b\b\b\b\b\b\b\b\b\b\b\b\b\b\b\b\b\b\b\b\b\b\b\b\b\b\b\b\b\b\b\b\b\b\b\b\b\b\b\b\b\b\b\b\b\b\b\b\b\b\b\b\b\b\b\b\b\b\b\b\b\b\b\b\b\b\b\b\r173/173 [==============================] - 39s 211ms/step - loss: 22.5353 - sparse_categorical_accuracy: 0.1774 - val_loss: 3.6633 - val_sparse_categorical_accuracy: 0.3312 - lr: 0.0010\n",
            "Epoch 2/100\n",
            "173/173 [==============================] - ETA: 0s - loss: 18.2315 - sparse_categorical_accuracy: 0.3066"
          ]
        },
        {
          "output_type": "stream",
          "name": "stderr",
          "text": [
            "WARNING:absl:Function `_wrapped_model` contains input name(s) mSpecInput with unsupported characters which will be renamed to mspecinput in the SavedModel.\n"
          ]
        },
        {
          "output_type": "stream",
          "name": "stdout",
          "text": [
            "INFO:tensorflow:Assets written to: /content/drive/MyDrive/hack/checkpoints/assets\n"
          ]
        },
        {
          "output_type": "stream",
          "name": "stderr",
          "text": [
            "INFO:tensorflow:Assets written to: /content/drive/MyDrive/hack/checkpoints/assets\n"
          ]
        },
        {
          "output_type": "stream",
          "name": "stdout",
          "text": [
            "\b\b\b\b\b\b\b\b\b\b\b\b\b\b\b\b\b\b\b\b\b\b\b\b\b\b\b\b\b\b\b\b\b\b\b\b\b\b\b\b\b\b\b\b\b\b\b\b\b\b\b\b\b\b\b\b\b\b\b\b\b\b\b\b\b\b\b\b\b\b\b\b\b\b\b\b\b\b\b\b\b\b\b\b\b\b\b\b\b\b\b\b\b\b\b\b\b\b\b\b\b\b\b\b\r173/173 [==============================] - 37s 215ms/step - loss: 18.2315 - sparse_categorical_accuracy: 0.3066 - val_loss: 2.9178 - val_sparse_categorical_accuracy: 0.2370 - lr: 0.0010\n",
            "Epoch 3/100\n",
            "173/173 [==============================] - 35s 205ms/step - loss: 17.5558 - sparse_categorical_accuracy: 0.3451 - val_loss: 3.7033 - val_sparse_categorical_accuracy: 0.4101 - lr: 0.0010\n",
            "Epoch 4/100\n",
            "173/173 [==============================] - 33s 193ms/step - loss: 16.6595 - sparse_categorical_accuracy: 0.4339 - val_loss: 3.1342 - val_sparse_categorical_accuracy: 0.3942 - lr: 0.0010\n",
            "Epoch 5/100\n",
            "173/173 [==============================] - ETA: 0s - loss: 13.3539 - sparse_categorical_accuracy: 0.4962"
          ]
        },
        {
          "output_type": "stream",
          "name": "stderr",
          "text": [
            "WARNING:absl:Function `_wrapped_model` contains input name(s) mSpecInput with unsupported characters which will be renamed to mspecinput in the SavedModel.\n"
          ]
        },
        {
          "output_type": "stream",
          "name": "stdout",
          "text": [
            "INFO:tensorflow:Assets written to: /content/drive/MyDrive/hack/checkpoints/assets\n"
          ]
        },
        {
          "output_type": "stream",
          "name": "stderr",
          "text": [
            "INFO:tensorflow:Assets written to: /content/drive/MyDrive/hack/checkpoints/assets\n"
          ]
        },
        {
          "output_type": "stream",
          "name": "stdout",
          "text": [
            "\b\b\b\b\b\b\b\b\b\b\b\b\b\b\b\b\b\b\b\b\b\b\b\b\b\b\b\b\b\b\b\b\b\b\b\b\b\b\b\b\b\b\b\b\b\b\b\b\b\b\b\b\b\b\b\b\b\b\b\b\b\b\b\b\b\b\b\b\b\b\b\b\b\b\b\b\b\b\b\b\b\b\b\b\b\b\b\b\b\b\b\b\b\b\b\b\b\b\b\b\b\b\b\b\r173/173 [==============================] - 36s 211ms/step - loss: 13.3539 - sparse_categorical_accuracy: 0.4962 - val_loss: 2.0873 - val_sparse_categorical_accuracy: 0.5094 - lr: 0.0010\n",
            "Epoch 6/100\n",
            "173/173 [==============================] - 36s 211ms/step - loss: 13.3043 - sparse_categorical_accuracy: 0.4755 - val_loss: 2.1444 - val_sparse_categorical_accuracy: 0.4399 - lr: 0.0010\n",
            "Epoch 7/100\n",
            "173/173 [==============================] - ETA: 0s - loss: 12.3963 - sparse_categorical_accuracy: 0.4755"
          ]
        },
        {
          "output_type": "stream",
          "name": "stderr",
          "text": [
            "WARNING:absl:Function `_wrapped_model` contains input name(s) mSpecInput with unsupported characters which will be renamed to mspecinput in the SavedModel.\n"
          ]
        },
        {
          "output_type": "stream",
          "name": "stdout",
          "text": [
            "INFO:tensorflow:Assets written to: /content/drive/MyDrive/hack/checkpoints/assets\n"
          ]
        },
        {
          "output_type": "stream",
          "name": "stderr",
          "text": [
            "INFO:tensorflow:Assets written to: /content/drive/MyDrive/hack/checkpoints/assets\n"
          ]
        },
        {
          "output_type": "stream",
          "name": "stdout",
          "text": [
            "\b\b\b\b\b\b\b\b\b\b\b\b\b\b\b\b\b\b\b\b\b\b\b\b\b\b\b\b\b\b\b\b\b\b\b\b\b\b\b\b\b\b\b\b\b\b\b\b\b\b\b\b\b\b\b\b\b\b\b\b\b\b\b\b\b\b\b\b\b\b\b\b\b\b\b\b\b\b\b\b\b\b\b\b\b\b\b\b\b\b\b\b\b\b\b\b\b\b\b\b\b\b\b\b\r173/173 [==============================] - 42s 241ms/step - loss: 12.3963 - sparse_categorical_accuracy: 0.4755 - val_loss: 1.5050 - val_sparse_categorical_accuracy: 0.6261 - lr: 0.0010\n",
            "Epoch 8/100\n",
            "173/173 [==============================] - 35s 201ms/step - loss: 12.2696 - sparse_categorical_accuracy: 0.3902 - val_loss: 1.8774 - val_sparse_categorical_accuracy: 0.4080 - lr: 0.0010\n",
            "Epoch 9/100\n",
            "173/173 [==============================] - 34s 195ms/step - loss: 11.1674 - sparse_categorical_accuracy: 0.3422 - val_loss: 1.7946 - val_sparse_categorical_accuracy: 0.3971 - lr: 0.0010\n",
            "Epoch 10/100\n",
            "173/173 [==============================] - 34s 197ms/step - loss: 9.9173 - sparse_categorical_accuracy: 0.3643 - val_loss: 1.5452 - val_sparse_categorical_accuracy: 0.3833 - lr: 0.0010\n",
            "Epoch 11/100\n",
            "173/173 [==============================] - 34s 196ms/step - loss: 9.1443 - sparse_categorical_accuracy: 0.3969 - val_loss: 1.7693 - val_sparse_categorical_accuracy: 0.3790 - lr: 1.0000e-04\n",
            "Epoch 12/100\n",
            "173/173 [==============================] - 35s 203ms/step - loss: 9.2759 - sparse_categorical_accuracy: 0.3994 - val_loss: 1.5260 - val_sparse_categorical_accuracy: 0.3855 - lr: 1.0000e-04\n"
          ]
        }
      ]
    },
    {
      "cell_type": "code",
      "source": [
        "y_pred = mSpec_model.predict(mSpec_val)"
      ],
      "metadata": {
        "id": "_S0q6UJZEMNZ"
      },
      "execution_count": 63,
      "outputs": []
    },
    {
      "cell_type": "markdown",
      "source": [
        "## Evaluate"
      ],
      "metadata": {
        "id": "RIElNlbuET-D"
      }
    },
    {
      "cell_type": "code",
      "source": [
        "from sklearn.metrics import confusion_matrix, plot_confusion_matrix, classification_report\n",
        "\n",
        "confusion_matrix(np.argmax(y_pred, axis=1), y_val)"
      ],
      "metadata": {
        "id": "vIJABMowEU5I",
        "colab": {
          "base_uri": "https://localhost:8080/"
        },
        "outputId": "43fc7aa2-3944-4901-d8a7-841fd8d5dc2f"
      },
      "execution_count": 64,
      "outputs": [
        {
          "output_type": "execute_result",
          "data": {
            "text/plain": [
              "array([[  0,   0,   0,   0,   0,   0,   0,   0,   0],\n",
              "       [  0,   0,   0,   0,   0,   0,   0,   0,   0],\n",
              "       [  0,   0,   0,   0,   0,   0,   0,   0,   0],\n",
              "       [  0,   0,   2, 475,   2,   0,   0,   0,   0],\n",
              "       [  0,   0,   0,   0,   0,   0,   0,   0,   0],\n",
              "       [  0,   0,   0,   0,   0,   0,   0,   0,   0],\n",
              "       [  1,   0,   0,  54,   1,   0,   8,   0,   0],\n",
              "       [  0,  21,  30, 617,  61,   6,  49,  49,   0],\n",
              "       [  0,   0,   0,   4,   0,   0,   0,   0,   0]])"
            ]
          },
          "metadata": {},
          "execution_count": 64
        }
      ]
    },
    {
      "cell_type": "markdown",
      "source": [
        "9개?"
      ],
      "metadata": {
        "id": "S-msP4xQn0Cj"
      }
    },
    {
      "cell_type": "code",
      "source": [
        "target_names=['URTI', 'Healthy', 'Asthma', 'COPD', 'LRTI', 'Bronchiectasis', 'Pheumonia', 'Bronchiolitis']\n",
        "\n",
        "with open('/content/drive/MyDrive/hack/classification_report_zero_6sec.txt', 'w') as text_file:\n",
        "    print(classification_report(y_val, np.argmax(y_pred, axis=1), target_names=target_names), file=text_file)\n",
        "\n",
        "print(classification_report(y_val, np.argmax(y_pred, axis=1), target_names=target_names))"
      ],
      "metadata": {
        "id": "LlpfxTrTm7AX"
      },
      "execution_count": null,
      "outputs": []
    }
  ]
}