{
  "nbformat": 4,
  "nbformat_minor": 0,
  "metadata": {
    "colab": {
      "name": "WONJIN.ipynb",
      "provenance": [],
      "machine_shape": "hm",
      "collapsed_sections": []
    },
    "kernelspec": {
      "name": "python3",
      "display_name": "Python 3"
    },
    "language_info": {
      "name": "python"
    },
    "accelerator": "GPU"
  },
  "cells": [
    {
      "cell_type": "markdown",
      "source": [
        "# AIFFELTHON - Preprocessing [WONJIN]"
      ],
      "metadata": {
        "id": "h0-dadimZ2Ka"
      }
    },
    {
      "cell_type": "markdown",
      "source": [
        "## Library Import"
      ],
      "metadata": {
        "id": "Be1wlJK_Z17N"
      }
    },
    {
      "cell_type": "code",
      "execution_count": 1,
      "metadata": {
        "colab": {
          "base_uri": "https://localhost:8080/"
        },
        "id": "LCG7t1JgsVLw",
        "outputId": "98f38baf-692a-4f5f-b8bf-cae18c40d4eb"
      },
      "outputs": [
        {
          "output_type": "stream",
          "name": "stdout",
          "text": [
            "/content/drive\n",
            "Drive already mounted at /content/drive; to attempt to forcibly remount, call drive.mount(\"/content/drive\", force_remount=True).\n"
          ]
        }
      ],
      "source": [
        "from google.colab import drive\n",
        "from os.path import join\n",
        "ROOT = \"/content/drive\"\n",
        "print(ROOT)\n",
        "drive.mount(ROOT)"
      ]
    },
    {
      "cell_type": "code",
      "source": [
        "import numpy as np # linear algebra\n",
        "import pandas as pd \n",
        "import tensorflow as tf\n",
        "from tensorflow import keras\n",
        "import librosa, librosa.display \n",
        "import matplotlib.pyplot as plt\n",
        "from matplotlib.pyplot import figure\n",
        "import os"
      ],
      "metadata": {
        "id": "pxn5a26H7anN"
      },
      "execution_count": 4,
      "outputs": []
    },
    {
      "cell_type": "markdown",
      "source": [
        "#### Modul upload"
      ],
      "metadata": {
        "id": "wAL_g150FxjM"
      }
    },
    {
      "cell_type": "code",
      "source": [
        "# hbnet=keras.models.load_model('../input/part-3-feature-extraction-modeling-95-acc/hbNet')\n",
        "# oneD=keras.models.load_model('../input/1dnet-for-rdd/1Dnet')\n",
        "# unTuned=keras.models.load_model('../input/hbnet-untuned-for-rdd//hbNet_unTuned/')"
      ],
      "metadata": {
        "id": "W1an85V27dRH"
      },
      "execution_count": 5,
      "outputs": []
    },
    {
      "cell_type": "markdown",
      "source": [
        "# STEP 1. Sound file Upload\n",
        "\n",
        "## 1-1 Reading and Utilizing Provided Data"
      ],
      "metadata": {
        "id": "i0YRkMJSF2Nn"
      }
    },
    {
      "cell_type": "code",
      "source": [
        "# df_no_diagnosis = pd.read_csv('/content/drive/MyDrive/hacker/base_model/datasets/demographic_info.txt', names = \n",
        "#                  ['pid', 'Age', 'Sex' , 'Adult BMI (kg/m2)', 'Child Weight (kg)' , 'Child Height (cm)'],\n",
        "#                  delimiter = ' ')\n",
        "patient_data = pd.read_csv('/content/drive/MyDrive/hacker/base_model/datasets/Respiratory_Sound_Database/Respiratory_Sound_Database/patient_diagnosis.csv', names = ['pid', 'disease'])"
      ],
      "metadata": {
        "id": "-7iXhPv_F4et"
      },
      "execution_count": 6,
      "outputs": []
    },
    {
      "cell_type": "code",
      "source": [
        "patient_data.head()"
      ],
      "metadata": {
        "id": "S508kW5KHy2_",
        "colab": {
          "base_uri": "https://localhost:8080/",
          "height": 206
        },
        "outputId": "ef819af0-0a3e-43e7-ed55-97dd3f89d0d8"
      },
      "execution_count": 8,
      "outputs": [
        {
          "output_type": "execute_result",
          "data": {
            "text/plain": [
              "   pid  disease\n",
              "0  101     URTI\n",
              "1  102  Healthy\n",
              "2  103   Asthma\n",
              "3  104     COPD\n",
              "4  105     URTI"
            ],
            "text/html": [
              "\n",
              "  <div id=\"df-e5036eca-97d4-478d-bcc2-30c7a8918c0f\">\n",
              "    <div class=\"colab-df-container\">\n",
              "      <div>\n",
              "<style scoped>\n",
              "    .dataframe tbody tr th:only-of-type {\n",
              "        vertical-align: middle;\n",
              "    }\n",
              "\n",
              "    .dataframe tbody tr th {\n",
              "        vertical-align: top;\n",
              "    }\n",
              "\n",
              "    .dataframe thead th {\n",
              "        text-align: right;\n",
              "    }\n",
              "</style>\n",
              "<table border=\"1\" class=\"dataframe\">\n",
              "  <thead>\n",
              "    <tr style=\"text-align: right;\">\n",
              "      <th></th>\n",
              "      <th>pid</th>\n",
              "      <th>disease</th>\n",
              "    </tr>\n",
              "  </thead>\n",
              "  <tbody>\n",
              "    <tr>\n",
              "      <th>0</th>\n",
              "      <td>101</td>\n",
              "      <td>URTI</td>\n",
              "    </tr>\n",
              "    <tr>\n",
              "      <th>1</th>\n",
              "      <td>102</td>\n",
              "      <td>Healthy</td>\n",
              "    </tr>\n",
              "    <tr>\n",
              "      <th>2</th>\n",
              "      <td>103</td>\n",
              "      <td>Asthma</td>\n",
              "    </tr>\n",
              "    <tr>\n",
              "      <th>3</th>\n",
              "      <td>104</td>\n",
              "      <td>COPD</td>\n",
              "    </tr>\n",
              "    <tr>\n",
              "      <th>4</th>\n",
              "      <td>105</td>\n",
              "      <td>URTI</td>\n",
              "    </tr>\n",
              "  </tbody>\n",
              "</table>\n",
              "</div>\n",
              "      <button class=\"colab-df-convert\" onclick=\"convertToInteractive('df-e5036eca-97d4-478d-bcc2-30c7a8918c0f')\"\n",
              "              title=\"Convert this dataframe to an interactive table.\"\n",
              "              style=\"display:none;\">\n",
              "        \n",
              "  <svg xmlns=\"http://www.w3.org/2000/svg\" height=\"24px\"viewBox=\"0 0 24 24\"\n",
              "       width=\"24px\">\n",
              "    <path d=\"M0 0h24v24H0V0z\" fill=\"none\"/>\n",
              "    <path d=\"M18.56 5.44l.94 2.06.94-2.06 2.06-.94-2.06-.94-.94-2.06-.94 2.06-2.06.94zm-11 1L8.5 8.5l.94-2.06 2.06-.94-2.06-.94L8.5 2.5l-.94 2.06-2.06.94zm10 10l.94 2.06.94-2.06 2.06-.94-2.06-.94-.94-2.06-.94 2.06-2.06.94z\"/><path d=\"M17.41 7.96l-1.37-1.37c-.4-.4-.92-.59-1.43-.59-.52 0-1.04.2-1.43.59L10.3 9.45l-7.72 7.72c-.78.78-.78 2.05 0 2.83L4 21.41c.39.39.9.59 1.41.59.51 0 1.02-.2 1.41-.59l7.78-7.78 2.81-2.81c.8-.78.8-2.07 0-2.86zM5.41 20L4 18.59l7.72-7.72 1.47 1.35L5.41 20z\"/>\n",
              "  </svg>\n",
              "      </button>\n",
              "      \n",
              "  <style>\n",
              "    .colab-df-container {\n",
              "      display:flex;\n",
              "      flex-wrap:wrap;\n",
              "      gap: 12px;\n",
              "    }\n",
              "\n",
              "    .colab-df-convert {\n",
              "      background-color: #E8F0FE;\n",
              "      border: none;\n",
              "      border-radius: 50%;\n",
              "      cursor: pointer;\n",
              "      display: none;\n",
              "      fill: #1967D2;\n",
              "      height: 32px;\n",
              "      padding: 0 0 0 0;\n",
              "      width: 32px;\n",
              "    }\n",
              "\n",
              "    .colab-df-convert:hover {\n",
              "      background-color: #E2EBFA;\n",
              "      box-shadow: 0px 1px 2px rgba(60, 64, 67, 0.3), 0px 1px 3px 1px rgba(60, 64, 67, 0.15);\n",
              "      fill: #174EA6;\n",
              "    }\n",
              "\n",
              "    [theme=dark] .colab-df-convert {\n",
              "      background-color: #3B4455;\n",
              "      fill: #D2E3FC;\n",
              "    }\n",
              "\n",
              "    [theme=dark] .colab-df-convert:hover {\n",
              "      background-color: #434B5C;\n",
              "      box-shadow: 0px 1px 3px 1px rgba(0, 0, 0, 0.15);\n",
              "      filter: drop-shadow(0px 1px 2px rgba(0, 0, 0, 0.3));\n",
              "      fill: #FFFFFF;\n",
              "    }\n",
              "  </style>\n",
              "\n",
              "      <script>\n",
              "        const buttonEl =\n",
              "          document.querySelector('#df-e5036eca-97d4-478d-bcc2-30c7a8918c0f button.colab-df-convert');\n",
              "        buttonEl.style.display =\n",
              "          google.colab.kernel.accessAllowed ? 'block' : 'none';\n",
              "\n",
              "        async function convertToInteractive(key) {\n",
              "          const element = document.querySelector('#df-e5036eca-97d4-478d-bcc2-30c7a8918c0f');\n",
              "          const dataTable =\n",
              "            await google.colab.kernel.invokeFunction('convertToInteractive',\n",
              "                                                     [key], {});\n",
              "          if (!dataTable) return;\n",
              "\n",
              "          const docLinkHtml = 'Like what you see? Visit the ' +\n",
              "            '<a target=\"_blank\" href=https://colab.research.google.com/notebooks/data_table.ipynb>data table notebook</a>'\n",
              "            + ' to learn more about interactive tables.';\n",
              "          element.innerHTML = '';\n",
              "          dataTable['output_type'] = 'display_data';\n",
              "          await google.colab.output.renderOutput(dataTable, element);\n",
              "          const docLink = document.createElement('div');\n",
              "          docLink.innerHTML = docLinkHtml;\n",
              "          element.appendChild(docLink);\n",
              "        }\n",
              "      </script>\n",
              "    </div>\n",
              "  </div>\n",
              "  "
            ]
          },
          "metadata": {},
          "execution_count": 8
        }
      ]
    },
    {
      "cell_type": "code",
      "source": [
        "def getFilenameInfo(file):\n",
        "    return file.split('_')"
      ],
      "metadata": {
        "id": "xbuaDnrEacre"
      },
      "execution_count": 38,
      "outputs": []
    },
    {
      "cell_type": "code",
      "source": [
        "import os\n",
        "path='/content/drive/MyDrive/hacker/base_model/datasets/Respiratory_Sound_Database/Respiratory_Sound_Database/audio_and_txt_files/'\n",
        "files=[s.split('.')[0] for s in os.listdir(path) if '.txt' in s]\n",
        "files[:5]"
      ],
      "metadata": {
        "id": "124XjCpuLx6O",
        "colab": {
          "base_uri": "https://localhost:8080/"
        },
        "outputId": "212617ca-c60e-4fed-b200-f7bb331f0deb"
      },
      "execution_count": 10,
      "outputs": [
        {
          "output_type": "execute_result",
          "data": {
            "text/plain": [
              "['160_1b3_Ar_mc_AKGC417L',\n",
              " '160_1b2_Tc_mc_AKGC417L',\n",
              " '160_1b3_Pl_mc_AKGC417L',\n",
              " '160_1b3_Tc_mc_AKGC417L',\n",
              " '160_1b3_Pr_mc_AKGC417L']"
            ]
          },
          "metadata": {},
          "execution_count": 10
        }
      ]
    },
    {
      "cell_type": "code",
      "source": [
        "files_data=[]\n",
        "for file in files:\n",
        "    data=pd.read_csv(path + file + '.txt',sep='\\t',names=['start','end','crackles','weezels'])\n",
        "    name_data=getFilenameInfo(file)\n",
        "    data['pid']=name_data[0]\n",
        "    data['mode']=name_data[-2]\n",
        "    data['filename']=file\n",
        "    files_data.append(data)\n",
        "files_df=pd.concat(files_data)\n",
        "files_df.reset_index()\n",
        "files_df.head()"
      ],
      "metadata": {
        "id": "jlD7EjwSK6oX",
        "colab": {
          "base_uri": "https://localhost:8080/",
          "height": 206
        },
        "outputId": "552ef506-b46e-4cfb-90e4-c2758ee2f0d2"
      },
      "execution_count": 11,
      "outputs": [
        {
          "output_type": "execute_result",
          "data": {
            "text/plain": [
              "    start     end  crackles  weezels  pid mode                filename\n",
              "0   1.862   5.718         0        1  160   mc  160_1b3_Ar_mc_AKGC417L\n",
              "1   5.718   9.725         0        1  160   mc  160_1b3_Ar_mc_AKGC417L\n",
              "2   9.725  13.614         0        1  160   mc  160_1b3_Ar_mc_AKGC417L\n",
              "3  13.614  17.671         0        1  160   mc  160_1b3_Ar_mc_AKGC417L\n",
              "4  17.671  19.541         0        0  160   mc  160_1b3_Ar_mc_AKGC417L"
            ],
            "text/html": [
              "\n",
              "  <div id=\"df-e96cce62-cd9b-404b-8ac8-144c3a440afd\">\n",
              "    <div class=\"colab-df-container\">\n",
              "      <div>\n",
              "<style scoped>\n",
              "    .dataframe tbody tr th:only-of-type {\n",
              "        vertical-align: middle;\n",
              "    }\n",
              "\n",
              "    .dataframe tbody tr th {\n",
              "        vertical-align: top;\n",
              "    }\n",
              "\n",
              "    .dataframe thead th {\n",
              "        text-align: right;\n",
              "    }\n",
              "</style>\n",
              "<table border=\"1\" class=\"dataframe\">\n",
              "  <thead>\n",
              "    <tr style=\"text-align: right;\">\n",
              "      <th></th>\n",
              "      <th>start</th>\n",
              "      <th>end</th>\n",
              "      <th>crackles</th>\n",
              "      <th>weezels</th>\n",
              "      <th>pid</th>\n",
              "      <th>mode</th>\n",
              "      <th>filename</th>\n",
              "    </tr>\n",
              "  </thead>\n",
              "  <tbody>\n",
              "    <tr>\n",
              "      <th>0</th>\n",
              "      <td>1.862</td>\n",
              "      <td>5.718</td>\n",
              "      <td>0</td>\n",
              "      <td>1</td>\n",
              "      <td>160</td>\n",
              "      <td>mc</td>\n",
              "      <td>160_1b3_Ar_mc_AKGC417L</td>\n",
              "    </tr>\n",
              "    <tr>\n",
              "      <th>1</th>\n",
              "      <td>5.718</td>\n",
              "      <td>9.725</td>\n",
              "      <td>0</td>\n",
              "      <td>1</td>\n",
              "      <td>160</td>\n",
              "      <td>mc</td>\n",
              "      <td>160_1b3_Ar_mc_AKGC417L</td>\n",
              "    </tr>\n",
              "    <tr>\n",
              "      <th>2</th>\n",
              "      <td>9.725</td>\n",
              "      <td>13.614</td>\n",
              "      <td>0</td>\n",
              "      <td>1</td>\n",
              "      <td>160</td>\n",
              "      <td>mc</td>\n",
              "      <td>160_1b3_Ar_mc_AKGC417L</td>\n",
              "    </tr>\n",
              "    <tr>\n",
              "      <th>3</th>\n",
              "      <td>13.614</td>\n",
              "      <td>17.671</td>\n",
              "      <td>0</td>\n",
              "      <td>1</td>\n",
              "      <td>160</td>\n",
              "      <td>mc</td>\n",
              "      <td>160_1b3_Ar_mc_AKGC417L</td>\n",
              "    </tr>\n",
              "    <tr>\n",
              "      <th>4</th>\n",
              "      <td>17.671</td>\n",
              "      <td>19.541</td>\n",
              "      <td>0</td>\n",
              "      <td>0</td>\n",
              "      <td>160</td>\n",
              "      <td>mc</td>\n",
              "      <td>160_1b3_Ar_mc_AKGC417L</td>\n",
              "    </tr>\n",
              "  </tbody>\n",
              "</table>\n",
              "</div>\n",
              "      <button class=\"colab-df-convert\" onclick=\"convertToInteractive('df-e96cce62-cd9b-404b-8ac8-144c3a440afd')\"\n",
              "              title=\"Convert this dataframe to an interactive table.\"\n",
              "              style=\"display:none;\">\n",
              "        \n",
              "  <svg xmlns=\"http://www.w3.org/2000/svg\" height=\"24px\"viewBox=\"0 0 24 24\"\n",
              "       width=\"24px\">\n",
              "    <path d=\"M0 0h24v24H0V0z\" fill=\"none\"/>\n",
              "    <path d=\"M18.56 5.44l.94 2.06.94-2.06 2.06-.94-2.06-.94-.94-2.06-.94 2.06-2.06.94zm-11 1L8.5 8.5l.94-2.06 2.06-.94-2.06-.94L8.5 2.5l-.94 2.06-2.06.94zm10 10l.94 2.06.94-2.06 2.06-.94-2.06-.94-.94-2.06-.94 2.06-2.06.94z\"/><path d=\"M17.41 7.96l-1.37-1.37c-.4-.4-.92-.59-1.43-.59-.52 0-1.04.2-1.43.59L10.3 9.45l-7.72 7.72c-.78.78-.78 2.05 0 2.83L4 21.41c.39.39.9.59 1.41.59.51 0 1.02-.2 1.41-.59l7.78-7.78 2.81-2.81c.8-.78.8-2.07 0-2.86zM5.41 20L4 18.59l7.72-7.72 1.47 1.35L5.41 20z\"/>\n",
              "  </svg>\n",
              "      </button>\n",
              "      \n",
              "  <style>\n",
              "    .colab-df-container {\n",
              "      display:flex;\n",
              "      flex-wrap:wrap;\n",
              "      gap: 12px;\n",
              "    }\n",
              "\n",
              "    .colab-df-convert {\n",
              "      background-color: #E8F0FE;\n",
              "      border: none;\n",
              "      border-radius: 50%;\n",
              "      cursor: pointer;\n",
              "      display: none;\n",
              "      fill: #1967D2;\n",
              "      height: 32px;\n",
              "      padding: 0 0 0 0;\n",
              "      width: 32px;\n",
              "    }\n",
              "\n",
              "    .colab-df-convert:hover {\n",
              "      background-color: #E2EBFA;\n",
              "      box-shadow: 0px 1px 2px rgba(60, 64, 67, 0.3), 0px 1px 3px 1px rgba(60, 64, 67, 0.15);\n",
              "      fill: #174EA6;\n",
              "    }\n",
              "\n",
              "    [theme=dark] .colab-df-convert {\n",
              "      background-color: #3B4455;\n",
              "      fill: #D2E3FC;\n",
              "    }\n",
              "\n",
              "    [theme=dark] .colab-df-convert:hover {\n",
              "      background-color: #434B5C;\n",
              "      box-shadow: 0px 1px 3px 1px rgba(0, 0, 0, 0.15);\n",
              "      filter: drop-shadow(0px 1px 2px rgba(0, 0, 0, 0.3));\n",
              "      fill: #FFFFFF;\n",
              "    }\n",
              "  </style>\n",
              "\n",
              "      <script>\n",
              "        const buttonEl =\n",
              "          document.querySelector('#df-e96cce62-cd9b-404b-8ac8-144c3a440afd button.colab-df-convert');\n",
              "        buttonEl.style.display =\n",
              "          google.colab.kernel.accessAllowed ? 'block' : 'none';\n",
              "\n",
              "        async function convertToInteractive(key) {\n",
              "          const element = document.querySelector('#df-e96cce62-cd9b-404b-8ac8-144c3a440afd');\n",
              "          const dataTable =\n",
              "            await google.colab.kernel.invokeFunction('convertToInteractive',\n",
              "                                                     [key], {});\n",
              "          if (!dataTable) return;\n",
              "\n",
              "          const docLinkHtml = 'Like what you see? Visit the ' +\n",
              "            '<a target=\"_blank\" href=https://colab.research.google.com/notebooks/data_table.ipynb>data table notebook</a>'\n",
              "            + ' to learn more about interactive tables.';\n",
              "          element.innerHTML = '';\n",
              "          dataTable['output_type'] = 'display_data';\n",
              "          await google.colab.output.renderOutput(dataTable, element);\n",
              "          const docLink = document.createElement('div');\n",
              "          docLink.innerHTML = docLinkHtml;\n",
              "          element.appendChild(docLink);\n",
              "        }\n",
              "      </script>\n",
              "    </div>\n",
              "  </div>\n",
              "  "
            ]
          },
          "metadata": {},
          "execution_count": 11
        }
      ]
    },
    {
      "cell_type": "code",
      "source": [
        "patient_data.pid=patient_data.pid.astype('int32')\n",
        "files_df.pid=files_df.pid.astype('int32')\n"
      ],
      "metadata": {
        "id": "zZVZatwKLCph"
      },
      "execution_count": 12,
      "outputs": []
    },
    {
      "cell_type": "code",
      "source": [
        "data=pd.merge(files_df,patient_data,on='pid')\n",
        "data.head()"
      ],
      "metadata": {
        "id": "LEmlvKKHLCwk",
        "colab": {
          "base_uri": "https://localhost:8080/",
          "height": 206
        },
        "outputId": "1acab1d7-88ee-49b1-83e8-3b08f0120c39"
      },
      "execution_count": 13,
      "outputs": [
        {
          "output_type": "execute_result",
          "data": {
            "text/plain": [
              "    start     end  crackles  weezels  pid mode                filename disease\n",
              "0   1.862   5.718         0        1  160   mc  160_1b3_Ar_mc_AKGC417L    COPD\n",
              "1   5.718   9.725         0        1  160   mc  160_1b3_Ar_mc_AKGC417L    COPD\n",
              "2   9.725  13.614         0        1  160   mc  160_1b3_Ar_mc_AKGC417L    COPD\n",
              "3  13.614  17.671         0        1  160   mc  160_1b3_Ar_mc_AKGC417L    COPD\n",
              "4  17.671  19.541         0        0  160   mc  160_1b3_Ar_mc_AKGC417L    COPD"
            ],
            "text/html": [
              "\n",
              "  <div id=\"df-56a70d53-0357-4d0b-990e-43e746035581\">\n",
              "    <div class=\"colab-df-container\">\n",
              "      <div>\n",
              "<style scoped>\n",
              "    .dataframe tbody tr th:only-of-type {\n",
              "        vertical-align: middle;\n",
              "    }\n",
              "\n",
              "    .dataframe tbody tr th {\n",
              "        vertical-align: top;\n",
              "    }\n",
              "\n",
              "    .dataframe thead th {\n",
              "        text-align: right;\n",
              "    }\n",
              "</style>\n",
              "<table border=\"1\" class=\"dataframe\">\n",
              "  <thead>\n",
              "    <tr style=\"text-align: right;\">\n",
              "      <th></th>\n",
              "      <th>start</th>\n",
              "      <th>end</th>\n",
              "      <th>crackles</th>\n",
              "      <th>weezels</th>\n",
              "      <th>pid</th>\n",
              "      <th>mode</th>\n",
              "      <th>filename</th>\n",
              "      <th>disease</th>\n",
              "    </tr>\n",
              "  </thead>\n",
              "  <tbody>\n",
              "    <tr>\n",
              "      <th>0</th>\n",
              "      <td>1.862</td>\n",
              "      <td>5.718</td>\n",
              "      <td>0</td>\n",
              "      <td>1</td>\n",
              "      <td>160</td>\n",
              "      <td>mc</td>\n",
              "      <td>160_1b3_Ar_mc_AKGC417L</td>\n",
              "      <td>COPD</td>\n",
              "    </tr>\n",
              "    <tr>\n",
              "      <th>1</th>\n",
              "      <td>5.718</td>\n",
              "      <td>9.725</td>\n",
              "      <td>0</td>\n",
              "      <td>1</td>\n",
              "      <td>160</td>\n",
              "      <td>mc</td>\n",
              "      <td>160_1b3_Ar_mc_AKGC417L</td>\n",
              "      <td>COPD</td>\n",
              "    </tr>\n",
              "    <tr>\n",
              "      <th>2</th>\n",
              "      <td>9.725</td>\n",
              "      <td>13.614</td>\n",
              "      <td>0</td>\n",
              "      <td>1</td>\n",
              "      <td>160</td>\n",
              "      <td>mc</td>\n",
              "      <td>160_1b3_Ar_mc_AKGC417L</td>\n",
              "      <td>COPD</td>\n",
              "    </tr>\n",
              "    <tr>\n",
              "      <th>3</th>\n",
              "      <td>13.614</td>\n",
              "      <td>17.671</td>\n",
              "      <td>0</td>\n",
              "      <td>1</td>\n",
              "      <td>160</td>\n",
              "      <td>mc</td>\n",
              "      <td>160_1b3_Ar_mc_AKGC417L</td>\n",
              "      <td>COPD</td>\n",
              "    </tr>\n",
              "    <tr>\n",
              "      <th>4</th>\n",
              "      <td>17.671</td>\n",
              "      <td>19.541</td>\n",
              "      <td>0</td>\n",
              "      <td>0</td>\n",
              "      <td>160</td>\n",
              "      <td>mc</td>\n",
              "      <td>160_1b3_Ar_mc_AKGC417L</td>\n",
              "      <td>COPD</td>\n",
              "    </tr>\n",
              "  </tbody>\n",
              "</table>\n",
              "</div>\n",
              "      <button class=\"colab-df-convert\" onclick=\"convertToInteractive('df-56a70d53-0357-4d0b-990e-43e746035581')\"\n",
              "              title=\"Convert this dataframe to an interactive table.\"\n",
              "              style=\"display:none;\">\n",
              "        \n",
              "  <svg xmlns=\"http://www.w3.org/2000/svg\" height=\"24px\"viewBox=\"0 0 24 24\"\n",
              "       width=\"24px\">\n",
              "    <path d=\"M0 0h24v24H0V0z\" fill=\"none\"/>\n",
              "    <path d=\"M18.56 5.44l.94 2.06.94-2.06 2.06-.94-2.06-.94-.94-2.06-.94 2.06-2.06.94zm-11 1L8.5 8.5l.94-2.06 2.06-.94-2.06-.94L8.5 2.5l-.94 2.06-2.06.94zm10 10l.94 2.06.94-2.06 2.06-.94-2.06-.94-.94-2.06-.94 2.06-2.06.94z\"/><path d=\"M17.41 7.96l-1.37-1.37c-.4-.4-.92-.59-1.43-.59-.52 0-1.04.2-1.43.59L10.3 9.45l-7.72 7.72c-.78.78-.78 2.05 0 2.83L4 21.41c.39.39.9.59 1.41.59.51 0 1.02-.2 1.41-.59l7.78-7.78 2.81-2.81c.8-.78.8-2.07 0-2.86zM5.41 20L4 18.59l7.72-7.72 1.47 1.35L5.41 20z\"/>\n",
              "  </svg>\n",
              "      </button>\n",
              "      \n",
              "  <style>\n",
              "    .colab-df-container {\n",
              "      display:flex;\n",
              "      flex-wrap:wrap;\n",
              "      gap: 12px;\n",
              "    }\n",
              "\n",
              "    .colab-df-convert {\n",
              "      background-color: #E8F0FE;\n",
              "      border: none;\n",
              "      border-radius: 50%;\n",
              "      cursor: pointer;\n",
              "      display: none;\n",
              "      fill: #1967D2;\n",
              "      height: 32px;\n",
              "      padding: 0 0 0 0;\n",
              "      width: 32px;\n",
              "    }\n",
              "\n",
              "    .colab-df-convert:hover {\n",
              "      background-color: #E2EBFA;\n",
              "      box-shadow: 0px 1px 2px rgba(60, 64, 67, 0.3), 0px 1px 3px 1px rgba(60, 64, 67, 0.15);\n",
              "      fill: #174EA6;\n",
              "    }\n",
              "\n",
              "    [theme=dark] .colab-df-convert {\n",
              "      background-color: #3B4455;\n",
              "      fill: #D2E3FC;\n",
              "    }\n",
              "\n",
              "    [theme=dark] .colab-df-convert:hover {\n",
              "      background-color: #434B5C;\n",
              "      box-shadow: 0px 1px 3px 1px rgba(0, 0, 0, 0.15);\n",
              "      filter: drop-shadow(0px 1px 2px rgba(0, 0, 0, 0.3));\n",
              "      fill: #FFFFFF;\n",
              "    }\n",
              "  </style>\n",
              "\n",
              "      <script>\n",
              "        const buttonEl =\n",
              "          document.querySelector('#df-56a70d53-0357-4d0b-990e-43e746035581 button.colab-df-convert');\n",
              "        buttonEl.style.display =\n",
              "          google.colab.kernel.accessAllowed ? 'block' : 'none';\n",
              "\n",
              "        async function convertToInteractive(key) {\n",
              "          const element = document.querySelector('#df-56a70d53-0357-4d0b-990e-43e746035581');\n",
              "          const dataTable =\n",
              "            await google.colab.kernel.invokeFunction('convertToInteractive',\n",
              "                                                     [key], {});\n",
              "          if (!dataTable) return;\n",
              "\n",
              "          const docLinkHtml = 'Like what you see? Visit the ' +\n",
              "            '<a target=\"_blank\" href=https://colab.research.google.com/notebooks/data_table.ipynb>data table notebook</a>'\n",
              "            + ' to learn more about interactive tables.';\n",
              "          element.innerHTML = '';\n",
              "          dataTable['output_type'] = 'display_data';\n",
              "          await google.colab.output.renderOutput(dataTable, element);\n",
              "          const docLink = document.createElement('div');\n",
              "          docLink.innerHTML = docLinkHtml;\n",
              "          element.appendChild(docLink);\n",
              "        }\n",
              "      </script>\n",
              "    </div>\n",
              "  </div>\n",
              "  "
            ]
          },
          "metadata": {},
          "execution_count": 13
        }
      ]
    },
    {
      "cell_type": "code",
      "source": [
        "os.makedirs('csv_data')\n",
        "data.to_csv('csv_data/data.csv',index=False)"
      ],
      "metadata": {
        "id": "s0Yca9I0LR1W"
      },
      "execution_count": 14,
      "outputs": []
    },
    {
      "cell_type": "code",
      "source": [
        "# def Extract_Annotation_Data(file_name, path):\n",
        "#   tokens = file_name.split('_')\n",
        "#   recording_info = pd.DataFrame(data =[tokens], columns = ['Patient number','Recording index','Chest location','Acquisition mode','Recording equipment'])\n",
        "#   recording_annotations = pd.read_csv(os.path.join(path, file_name + '.txt'), names =[ 'Start','End','Crackles','Wheezes'], delimiter = '\\t')\n",
        "#   return (recording_info, recording_annotations)"
      ],
      "metadata": {
        "id": "7He3_61Bamy5"
      },
      "execution_count": 16,
      "outputs": []
    },
    {
      "cell_type": "code",
      "source": [
        "# i_list = []\n",
        "# rec_annotations = []\n",
        "# rec_annotations_dict = {}\n",
        "\n",
        "# for s in filenames:\n",
        "#   (i,a) = Extract_Annotation_Data(s, path) # i에는 환자 id 및 청진위치 기록 /a는 시작,끝시간 및 라벨링값 기록\n",
        "#   i_list.append(i) \n",
        "#   rec_annotations.append(a)\n",
        "#   rec_annotations_dict[s] = a\n",
        "# recording_info = pd.concat(i_list, axis =0)\n",
        "# recording_info.head()"
      ],
      "metadata": {
        "id": "sqSk6XWJjPq4"
      },
      "execution_count": 17,
      "outputs": []
    },
    {
      "cell_type": "code",
      "source": [
        "# class Diagnosis():\n",
        "#   def __init__ (self, id, diagnosis, image_path):\n",
        "#     self.id = id # wav파일 인덱스\n",
        "#     self. diagnosis = diagnosis # 진단명\n",
        "#     self.image_path = image_path #웨이브파일경로\n"
      ],
      "metadata": {
        "id": "XlXPdlbwnQ3h"
      },
      "execution_count": 21,
      "outputs": []
    },
    {
      "cell_type": "code",
      "source": [
        "# def get_wav_files():\n",
        "#   audio_path = '/content/drive/MyDrive/hacker/base_model/datasets/Respiratory_Sound_Database/Respiratory_Sound_Database/audio_and_txt_files'\n",
        "#   files = [f for f in listdir(audio_path) if isfile(join(audio_path, f))]\n",
        "#   wav_files=[f for f in files if f.endswith('.wav')]\n",
        "#   wav_files = sorted(wav_files)\n",
        "#   return wav_files, audio_path"
      ],
      "metadata": {
        "id": "NX5UjdYAnqTc"
      },
      "execution_count": 22,
      "outputs": []
    },
    {
      "cell_type": "code",
      "source": [
        "# def diagnosis_data():\n",
        "#   diagnosis = pd.read_csv('/content/drive/MyDrive/hacker/base_model/datasets/Respiratory_Sound_Database/Respiratory_Sound_Database/patient_diagnosis.csv')\n",
        "#   wav_files, audio_path = get_wav_files()\n",
        "#   diag_dict = {101 : 'URTI'} \n",
        "#   diagnosis_list =[]\n",
        "\n",
        "#   for index, row in diagnosis.iterrows():\n",
        "#     dia_dict[row[0]] = row[1]\n",
        "#     c= 0\n",
        "\n",
        "#   for f in wav_files:\n",
        "#     diagnosis_list.append(Diagnosis(c, diag_dict[int(f[:3])], audio_path +f ))\n",
        "#     c+=1\n",
        "\n",
        "#     return diagnosis_list\n",
        "\n",
        "  "
      ],
      "metadata": {
        "id": "hE9cQZP5oh2w"
      },
      "execution_count": 23,
      "outputs": []
    },
    {
      "cell_type": "code",
      "source": [
        "import seaborn as sns\n",
        "sns.scatterplot(x=(data.end - data.start), y=data.pid)"
      ],
      "metadata": {
        "id": "MwIjdP6WIW4l",
        "colab": {
          "base_uri": "https://localhost:8080/",
          "height": 283
        },
        "outputId": "98ab9a06-d34b-4a6f-92b5-02e0b4513f25"
      },
      "execution_count": 26,
      "outputs": [
        {
          "output_type": "execute_result",
          "data": {
            "text/plain": [
              "<matplotlib.axes._subplots.AxesSubplot at 0x7f5436101b50>"
            ]
          },
          "metadata": {},
          "execution_count": 26
        },
        {
          "output_type": "display_data",
          "data": {
            "text/plain": [
              "<Figure size 432x288 with 1 Axes>"
            ],
            "image/png": "[encoded data removed]"
          },
          "metadata": {
            "needs_background": "light"
          }
        }
      ]
    },
    {
      "cell_type": "code",
      "source": [
        "sns.boxplot(y=(data.end - data.start))"
      ],
      "metadata": {
        "id": "m_BFz2_uIW77",
        "colab": {
          "base_uri": "https://localhost:8080/",
          "height": 270
        },
        "outputId": "7baf199b-9785-4627-be46-541da0b80908"
      },
      "execution_count": 27,
      "outputs": [
        {
          "output_type": "execute_result",
          "data": {
            "text/plain": [
              "<matplotlib.axes._subplots.AxesSubplot at 0x7f5435692c90>"
            ]
          },
          "metadata": {},
          "execution_count": 27
        },
        {
          "output_type": "display_data",
          "data": {
            "text/plain": [
              "<Figure size 432x288 with 1 Axes>"
            ],
            "image/png": "[encoded data removed]"
          },
          "metadata": {
            "needs_background": "light"
          }
        }
      ]
    },
    {
      "cell_type": "markdown",
      "source": [
        "https://preservsun.tistory.com/entry/%EB%B0%95%EC%8A%A4-%ED%94%8C%EB%A1%AF-Box-Plot-1%EB%B6%84-%EC%9D%B4%ED%95%B4-%EC%A0%9C%EB%8C%80%EB%A1%9C-%EC%95%8C%EA%B3%A0-%EA%B0%80%EC%9E%90\n",
        "\n",
        "#### 박스 플롯을 사용하는 이유\n",
        "\n",
        "데이터 집합의 범위와 중앙값을 빠르게 확인할 수 있는 목적으로 사용되며, 많은 데이터를 눈으로 확인하기 어려울 때 그림을 이용해 확인 할 수 있는 장점과 통계적인 이상치(outlier)가 있는지도 확인이 가능하다."
      ],
      "metadata": {
        "id": "4sh2Mu55puE1"
      }
    },
    {
      "cell_type": "code",
      "source": [
        "# os.makedirs('processed_audio_files')"
      ],
      "metadata": {
        "id": "rebmIksoIW-1"
      },
      "execution_count": 28,
      "outputs": []
    },
    {
      "cell_type": "code",
      "source": [
        "for index,row in data.iterrows():   #위의 txt데이터 merge한것을 한줄 씩 뽑음.\n",
        "    print(\"Index ->\",index)\n",
        "    print(\"Data->\\n\",row)\n",
        "    break\n"
      ],
      "metadata": {
        "id": "QCEJzCPBIXB_",
        "colab": {
          "base_uri": "https://localhost:8080/"
        },
        "outputId": "61ebf5b0-e946-4093-aeda-952c3b8cf0d4"
      },
      "execution_count": 29,
      "outputs": [
        {
          "output_type": "stream",
          "name": "stdout",
          "text": [
            "Index -> 0\n",
            "Data->\n",
            " start                        1.862\n",
            "end                          5.718\n",
            "crackles                         0\n",
            "weezels                          1\n",
            "pid                            160\n",
            "mode                            mc\n",
            "filename    160_1b3_Ar_mc_AKGC417L\n",
            "disease                       COPD\n",
            "Name: 0, dtype: object\n"
          ]
        }
      ]
    },
    {
      "cell_type": "code",
      "source": [
        "sns.countplot(data.disease)\n",
        "plt.xticks(rotation = 90)"
      ],
      "metadata": {
        "id": "WVmdx9X319eA",
        "colab": {
          "base_uri": "https://localhost:8080/",
          "height": 419
        },
        "outputId": "13790a3b-0fda-45b7-ca19-b523f6b73500"
      },
      "execution_count": 30,
      "outputs": [
        {
          "output_type": "stream",
          "name": "stderr",
          "text": [
            "/usr/local/lib/python3.7/dist-packages/seaborn/_decorators.py:43: FutureWarning: Pass the following variable as a keyword arg: x. From version 0.12, the only valid positional argument will be `data`, and passing other arguments without an explicit keyword will result in an error or misinterpretation.\n",
            "  FutureWarning\n"
          ]
        },
        {
          "output_type": "execute_result",
          "data": {
            "text/plain": [
              "(array([0, 1, 2, 3, 4, 5, 6, 7]), <a list of 8 Text major ticklabel objects>)"
            ]
          },
          "metadata": {},
          "execution_count": 30
        },
        {
          "output_type": "display_data",
          "data": {
            "text/plain": [
              "<Figure size 432x288 with 1 Axes>"
            ],
            "image/png": "[encoded data removed]"
          },
          "metadata": {
            "needs_background": "light"
          }
        }
      ]
    },
    {
      "cell_type": "code",
      "source": [
        "def getPureSample(raw_data,start,end,sr=4000):\n",
        "    '''\n",
        "    Takes a numpy array and spilts its using start and end args\n",
        "    \n",
        "    raw_data=numpy array of audio sample\n",
        "    start=time\n",
        "    end=time\n",
        "    sr=sampling_rate\n",
        "    mode=mono/stereo\n",
        "    \n",
        "    '''\n",
        "    max_ind = len(raw_data)  \n",
        "    start_ind = min(int(start * sr), max_ind)\n",
        "    end_ind = min(int(end * sr), max_ind)\n",
        "    return raw_data[start_ind: end_ind]"
      ],
      "metadata": {
        "id": "ikmsAt7ynis8"
      },
      "execution_count": 39,
      "outputs": []
    },
    {
      "cell_type": "markdown",
      "source": [
        "we multiplied start with sampling rate cause start is time and raw_data is array sampled acc. to sampling rate Now we also want our input images to our cnn to be of same size for that audio files must be of same length i.e (start - end) must be same\n",
        "\n",
        "Lets find the best length we can have"
      ],
      "metadata": {
        "id": "3GCEAb0nwcBs"
      }
    },
    {
      "cell_type": "code",
      "source": [
        "filename # processed 오디오파일에 있음ㅇ"
      ],
      "metadata": {
        "colab": {
          "base_uri": "https://localhost:8080/",
          "height": 35
        },
        "id": "AdKzri6DzrJy",
        "outputId": "9e1404f1-9a8c-4ce9-b8b4-d428cf7f530e"
      },
      "execution_count": 48,
      "outputs": [
        {
          "output_type": "execute_result",
          "data": {
            "text/plain": [
              "'162_2b4_Ar_mc_AKGC417L_3.wav'"
            ],
            "application/vnd.google.colaboratory.intrinsic+json": {
              "type": "string"
            }
          },
          "metadata": {},
          "execution_count": 48
        }
      ]
    },
    {
      "cell_type": "code",
      "source": [
        "import librosa as lb\n",
        "import soundfile as sf\n",
        "i,c=0,0\n",
        "for index,row in data.iterrows():\n",
        "    maxLen=6\n",
        "    start=row['start']\n",
        "    end=row['end']\n",
        "    filename=row['filename']\n",
        "    \n",
        "    #MaxLen의 길이에 맞게 오디오 파일을 잘라주는 기능을 함. \n",
        "    # 데이터프레임에서 Start와 END를 인식함.\n",
        "\n",
        "    #If len > maxLen , change it to maxLen\n",
        "    # if end-start>maxLen:\n",
        "    #     end=start+maxLen\n",
        "    \n",
        "    audio_file_loc = path + filename + '.wav'\n",
        "    \n",
        "    if index > 0:\n",
        "        #check if more cycles exits for same patient if so then add i to change filename\n",
        "        if data.iloc[index-1]['filename']==filename:\n",
        "            i+=1\n",
        "        else:\n",
        "            i=0\n",
        "    filename= filename + '_' + str(i) + '.wav'\n",
        "    \n",
        "    save_path='/content/drive/MyDrive/hacker/processed_audio_files/' + filename\n",
        "    c+=1\n",
        "    \n",
        "    audioArr,sampleRate=lb.load(audio_file_loc)\n",
        "    pureSample=getPureSample(audioArr,start,end,sampleRate)\n",
        "    \n",
        "    #pad audio if pureSample len < max_len\n",
        "    \n",
        "    # reqLen=6*sampleRate\n",
        "    # padded_data = lb.util.pad_center(pureSample, reqLen)\n",
        "\n",
        "    #pad_center(data, 데이터를 포함한 인풋값길이)\n",
        "    \n",
        "    sf.write(file=save_path,data=padded_data,samplerate=sampleRate)\n",
        "print('Total Files Processed: ',c)\n"
      ],
      "metadata": {
        "id": "g5FGRlhPG8eP"
      },
      "execution_count": 33,
      "outputs": []
    },
    {
      "cell_type": "markdown",
      "source": [
        "# part-2-handel-imbalance-creating-spectrogram.ipynb"
      ],
      "metadata": {
        "id": "LlSe9Zt8_U0E"
      }
    },
    {
      "cell_type": "code",
      "source": [
        "diagnosis = pd.read_csv('/content/drive/MyDrive/hacker/base_model/datasets/Respiratory_Sound_Database/Respiratory_Sound_Database/patient_diagnosis.csv',names=['pid','disease'])\n",
        "diagnosis.head()"
      ],
      "metadata": {
        "colab": {
          "base_uri": "https://localhost:8080/",
          "height": 206
        },
        "id": "GXbkWUVo_sia",
        "outputId": "dd7ebab2-dda7-4a8f-d55a-a1aba39fa389"
      },
      "execution_count": 68,
      "outputs": [
        {
          "output_type": "execute_result",
          "data": {
            "text/plain": [
              "   pid  disease\n",
              "0  101     URTI\n",
              "1  102  Healthy\n",
              "2  103   Asthma\n",
              "3  104     COPD\n",
              "4  105     URTI"
            ],
            "text/html": [
              "\n",
              "  <div id=\"df-67ce2b4d-9872-40ff-a785-94a2d76bca7f\">\n",
              "    <div class=\"colab-df-container\">\n",
              "      <div>\n",
              "<style scoped>\n",
              "    .dataframe tbody tr th:only-of-type {\n",
              "        vertical-align: middle;\n",
              "    }\n",
              "\n",
              "    .dataframe tbody tr th {\n",
              "        vertical-align: top;\n",
              "    }\n",
              "\n",
              "    .dataframe thead th {\n",
              "        text-align: right;\n",
              "    }\n",
              "</style>\n",
              "<table border=\"1\" class=\"dataframe\">\n",
              "  <thead>\n",
              "    <tr style=\"text-align: right;\">\n",
              "      <th></th>\n",
              "      <th>pid</th>\n",
              "      <th>disease</th>\n",
              "    </tr>\n",
              "  </thead>\n",
              "  <tbody>\n",
              "    <tr>\n",
              "      <th>0</th>\n",
              "      <td>101</td>\n",
              "      <td>URTI</td>\n",
              "    </tr>\n",
              "    <tr>\n",
              "      <th>1</th>\n",
              "      <td>102</td>\n",
              "      <td>Healthy</td>\n",
              "    </tr>\n",
              "    <tr>\n",
              "      <th>2</th>\n",
              "      <td>103</td>\n",
              "      <td>Asthma</td>\n",
              "    </tr>\n",
              "    <tr>\n",
              "      <th>3</th>\n",
              "      <td>104</td>\n",
              "      <td>COPD</td>\n",
              "    </tr>\n",
              "    <tr>\n",
              "      <th>4</th>\n",
              "      <td>105</td>\n",
              "      <td>URTI</td>\n",
              "    </tr>\n",
              "  </tbody>\n",
              "</table>\n",
              "</div>\n",
              "      <button class=\"colab-df-convert\" onclick=\"convertToInteractive('df-67ce2b4d-9872-40ff-a785-94a2d76bca7f')\"\n",
              "              title=\"Convert this dataframe to an interactive table.\"\n",
              "              style=\"display:none;\">\n",
              "        \n",
              "  <svg xmlns=\"http://www.w3.org/2000/svg\" height=\"24px\"viewBox=\"0 0 24 24\"\n",
              "       width=\"24px\">\n",
              "    <path d=\"M0 0h24v24H0V0z\" fill=\"none\"/>\n",
              "    <path d=\"M18.56 5.44l.94 2.06.94-2.06 2.06-.94-2.06-.94-.94-2.06-.94 2.06-2.06.94zm-11 1L8.5 8.5l.94-2.06 2.06-.94-2.06-.94L8.5 2.5l-.94 2.06-2.06.94zm10 10l.94 2.06.94-2.06 2.06-.94-2.06-.94-.94-2.06-.94 2.06-2.06.94z\"/><path d=\"M17.41 7.96l-1.37-1.37c-.4-.4-.92-.59-1.43-.59-.52 0-1.04.2-1.43.59L10.3 9.45l-7.72 7.72c-.78.78-.78 2.05 0 2.83L4 21.41c.39.39.9.59 1.41.59.51 0 1.02-.2 1.41-.59l7.78-7.78 2.81-2.81c.8-.78.8-2.07 0-2.86zM5.41 20L4 18.59l7.72-7.72 1.47 1.35L5.41 20z\"/>\n",
              "  </svg>\n",
              "      </button>\n",
              "      \n",
              "  <style>\n",
              "    .colab-df-container {\n",
              "      display:flex;\n",
              "      flex-wrap:wrap;\n",
              "      gap: 12px;\n",
              "    }\n",
              "\n",
              "    .colab-df-convert {\n",
              "      background-color: #E8F0FE;\n",
              "      border: none;\n",
              "      border-radius: 50%;\n",
              "      cursor: pointer;\n",
              "      display: none;\n",
              "      fill: #1967D2;\n",
              "      height: 32px;\n",
              "      padding: 0 0 0 0;\n",
              "      width: 32px;\n",
              "    }\n",
              "\n",
              "    .colab-df-convert:hover {\n",
              "      background-color: #E2EBFA;\n",
              "      box-shadow: 0px 1px 2px rgba(60, 64, 67, 0.3), 0px 1px 3px 1px rgba(60, 64, 67, 0.15);\n",
              "      fill: #174EA6;\n",
              "    }\n",
              "\n",
              "    [theme=dark] .colab-df-convert {\n",
              "      background-color: #3B4455;\n",
              "      fill: #D2E3FC;\n",
              "    }\n",
              "\n",
              "    [theme=dark] .colab-df-convert:hover {\n",
              "      background-color: #434B5C;\n",
              "      box-shadow: 0px 1px 3px 1px rgba(0, 0, 0, 0.15);\n",
              "      filter: drop-shadow(0px 1px 2px rgba(0, 0, 0, 0.3));\n",
              "      fill: #FFFFFF;\n",
              "    }\n",
              "  </style>\n",
              "\n",
              "      <script>\n",
              "        const buttonEl =\n",
              "          document.querySelector('#df-67ce2b4d-9872-40ff-a785-94a2d76bca7f button.colab-df-convert');\n",
              "        buttonEl.style.display =\n",
              "          google.colab.kernel.accessAllowed ? 'block' : 'none';\n",
              "\n",
              "        async function convertToInteractive(key) {\n",
              "          const element = document.querySelector('#df-67ce2b4d-9872-40ff-a785-94a2d76bca7f');\n",
              "          const dataTable =\n",
              "            await google.colab.kernel.invokeFunction('convertToInteractive',\n",
              "                                                     [key], {});\n",
              "          if (!dataTable) return;\n",
              "\n",
              "          const docLinkHtml = 'Like what you see? Visit the ' +\n",
              "            '<a target=\"_blank\" href=https://colab.research.google.com/notebooks/data_table.ipynb>data table notebook</a>'\n",
              "            + ' to learn more about interactive tables.';\n",
              "          element.innerHTML = '';\n",
              "          dataTable['output_type'] = 'display_data';\n",
              "          await google.colab.output.renderOutput(dataTable, element);\n",
              "          const docLink = document.createElement('div');\n",
              "          docLink.innerHTML = docLinkHtml;\n",
              "          element.appendChild(docLink);\n",
              "        }\n",
              "      </script>\n",
              "    </div>\n",
              "  </div>\n",
              "  "
            ]
          },
          "metadata": {},
          "execution_count": 68
        }
      ]
    },
    {
      "cell_type": "code",
      "source": [
        "import os\n",
        "def extractId(filename):\n",
        "    return filename.split('_')[0]"
      ],
      "metadata": {
        "id": "9Q1Wac-b_UP4"
      },
      "execution_count": 69,
      "outputs": []
    },
    {
      "cell_type": "code",
      "source": [
        "path='/content/drive/MyDrive/hacker/processed_audio_files/processed_audio_files_no_pad/'\n",
        "length=len(os.listdir(path))\n",
        "index=range(length)\n",
        "i=0\n",
        "files_df=pd.DataFrame(index=index,columns=['pid','filename'])\n",
        "for f in os.listdir(path):\n",
        "    files_df.iloc[i]['pid']=extractId(f)\n",
        "    files_df.iloc[i]['filename']=f\n",
        "    i+=1\n",
        "files_df.head()"
      ],
      "metadata": {
        "colab": {
          "base_uri": "https://localhost:8080/",
          "height": 206
        },
        "id": "8mvVhHe59yXw",
        "outputId": "1ac03b76-193c-4866-a3bb-16e5dcb4416c"
      },
      "execution_count": 70,
      "outputs": [
        {
          "output_type": "execute_result",
          "data": {
            "text/plain": [
              "   pid                       filename\n",
              "0  147   147_1b4_Tc_mc_AKGC417L_7.wav\n",
              "1  147   147_1b4_Tc_mc_AKGC417L_8.wav\n",
              "2  147   147_1b4_Tc_mc_AKGC417L_9.wav\n",
              "3  147  147_1b4_Tc_mc_AKGC417L_10.wav\n",
              "4  147  147_1b4_Tc_mc_AKGC417L_11.wav"
            ],
            "text/html": [
              "\n",
              "  <div id=\"df-b3b8cc54-a218-4507-83bf-579fab9a7874\">\n",
              "    <div class=\"colab-df-container\">\n",
              "      <div>\n",
              "<style scoped>\n",
              "    .dataframe tbody tr th:only-of-type {\n",
              "        vertical-align: middle;\n",
              "    }\n",
              "\n",
              "    .dataframe tbody tr th {\n",
              "        vertical-align: top;\n",
              "    }\n",
              "\n",
              "    .dataframe thead th {\n",
              "        text-align: right;\n",
              "    }\n",
              "</style>\n",
              "<table border=\"1\" class=\"dataframe\">\n",
              "  <thead>\n",
              "    <tr style=\"text-align: right;\">\n",
              "      <th></th>\n",
              "      <th>pid</th>\n",
              "      <th>filename</th>\n",
              "    </tr>\n",
              "  </thead>\n",
              "  <tbody>\n",
              "    <tr>\n",
              "      <th>0</th>\n",
              "      <td>147</td>\n",
              "      <td>147_1b4_Tc_mc_AKGC417L_7.wav</td>\n",
              "    </tr>\n",
              "    <tr>\n",
              "      <th>1</th>\n",
              "      <td>147</td>\n",
              "      <td>147_1b4_Tc_mc_AKGC417L_8.wav</td>\n",
              "    </tr>\n",
              "    <tr>\n",
              "      <th>2</th>\n",
              "      <td>147</td>\n",
              "      <td>147_1b4_Tc_mc_AKGC417L_9.wav</td>\n",
              "    </tr>\n",
              "    <tr>\n",
              "      <th>3</th>\n",
              "      <td>147</td>\n",
              "      <td>147_1b4_Tc_mc_AKGC417L_10.wav</td>\n",
              "    </tr>\n",
              "    <tr>\n",
              "      <th>4</th>\n",
              "      <td>147</td>\n",
              "      <td>147_1b4_Tc_mc_AKGC417L_11.wav</td>\n",
              "    </tr>\n",
              "  </tbody>\n",
              "</table>\n",
              "</div>\n",
              "      <button class=\"colab-df-convert\" onclick=\"convertToInteractive('df-b3b8cc54-a218-4507-83bf-579fab9a7874')\"\n",
              "              title=\"Convert this dataframe to an interactive table.\"\n",
              "              style=\"display:none;\">\n",
              "        \n",
              "  <svg xmlns=\"http://www.w3.org/2000/svg\" height=\"24px\"viewBox=\"0 0 24 24\"\n",
              "       width=\"24px\">\n",
              "    <path d=\"M0 0h24v24H0V0z\" fill=\"none\"/>\n",
              "    <path d=\"M18.56 5.44l.94 2.06.94-2.06 2.06-.94-2.06-.94-.94-2.06-.94 2.06-2.06.94zm-11 1L8.5 8.5l.94-2.06 2.06-.94-2.06-.94L8.5 2.5l-.94 2.06-2.06.94zm10 10l.94 2.06.94-2.06 2.06-.94-2.06-.94-.94-2.06-.94 2.06-2.06.94z\"/><path d=\"M17.41 7.96l-1.37-1.37c-.4-.4-.92-.59-1.43-.59-.52 0-1.04.2-1.43.59L10.3 9.45l-7.72 7.72c-.78.78-.78 2.05 0 2.83L4 21.41c.39.39.9.59 1.41.59.51 0 1.02-.2 1.41-.59l7.78-7.78 2.81-2.81c.8-.78.8-2.07 0-2.86zM5.41 20L4 18.59l7.72-7.72 1.47 1.35L5.41 20z\"/>\n",
              "  </svg>\n",
              "      </button>\n",
              "      \n",
              "  <style>\n",
              "    .colab-df-container {\n",
              "      display:flex;\n",
              "      flex-wrap:wrap;\n",
              "      gap: 12px;\n",
              "    }\n",
              "\n",
              "    .colab-df-convert {\n",
              "      background-color: #E8F0FE;\n",
              "      border: none;\n",
              "      border-radius: 50%;\n",
              "      cursor: pointer;\n",
              "      display: none;\n",
              "      fill: #1967D2;\n",
              "      height: 32px;\n",
              "      padding: 0 0 0 0;\n",
              "      width: 32px;\n",
              "    }\n",
              "\n",
              "    .colab-df-convert:hover {\n",
              "      background-color: #E2EBFA;\n",
              "      box-shadow: 0px 1px 2px rgba(60, 64, 67, 0.3), 0px 1px 3px 1px rgba(60, 64, 67, 0.15);\n",
              "      fill: #174EA6;\n",
              "    }\n",
              "\n",
              "    [theme=dark] .colab-df-convert {\n",
              "      background-color: #3B4455;\n",
              "      fill: #D2E3FC;\n",
              "    }\n",
              "\n",
              "    [theme=dark] .colab-df-convert:hover {\n",
              "      background-color: #434B5C;\n",
              "      box-shadow: 0px 1px 3px 1px rgba(0, 0, 0, 0.15);\n",
              "      filter: drop-shadow(0px 1px 2px rgba(0, 0, 0, 0.3));\n",
              "      fill: #FFFFFF;\n",
              "    }\n",
              "  </style>\n",
              "\n",
              "      <script>\n",
              "        const buttonEl =\n",
              "          document.querySelector('#df-b3b8cc54-a218-4507-83bf-579fab9a7874 button.colab-df-convert');\n",
              "        buttonEl.style.display =\n",
              "          google.colab.kernel.accessAllowed ? 'block' : 'none';\n",
              "\n",
              "        async function convertToInteractive(key) {\n",
              "          const element = document.querySelector('#df-b3b8cc54-a218-4507-83bf-579fab9a7874');\n",
              "          const dataTable =\n",
              "            await google.colab.kernel.invokeFunction('convertToInteractive',\n",
              "                                                     [key], {});\n",
              "          if (!dataTable) return;\n",
              "\n",
              "          const docLinkHtml = 'Like what you see? Visit the ' +\n",
              "            '<a target=\"_blank\" href=https://colab.research.google.com/notebooks/data_table.ipynb>data table notebook</a>'\n",
              "            + ' to learn more about interactive tables.';\n",
              "          element.innerHTML = '';\n",
              "          dataTable['output_type'] = 'display_data';\n",
              "          await google.colab.output.renderOutput(dataTable, element);\n",
              "          const docLink = document.createElement('div');\n",
              "          docLink.innerHTML = docLinkHtml;\n",
              "          element.appendChild(docLink);\n",
              "        }\n",
              "      </script>\n",
              "    </div>\n",
              "  </div>\n",
              "  "
            ]
          },
          "metadata": {},
          "execution_count": 70
        }
      ]
    },
    {
      "cell_type": "code",
      "source": [
        "files_df.pid=files_df.pid.astype('int64') # both pid's must be of same dtype for them to merge"
      ],
      "metadata": {
        "id": "K329UZar91aU"
      },
      "execution_count": 71,
      "outputs": []
    },
    {
      "cell_type": "code",
      "source": [
        "data=pd.merge(files_df,diagnosis,on='pid')\n",
        "data.head()"
      ],
      "metadata": {
        "colab": {
          "base_uri": "https://localhost:8080/",
          "height": 206
        },
        "id": "HMsG3RlV91fR",
        "outputId": "ec9e73f5-abe2-42e8-e74c-1192793b460a"
      },
      "execution_count": 72,
      "outputs": [
        {
          "output_type": "execute_result",
          "data": {
            "text/plain": [
              "   pid                       filename disease\n",
              "0  147   147_1b4_Tc_mc_AKGC417L_7.wav    COPD\n",
              "1  147   147_1b4_Tc_mc_AKGC417L_8.wav    COPD\n",
              "2  147   147_1b4_Tc_mc_AKGC417L_9.wav    COPD\n",
              "3  147  147_1b4_Tc_mc_AKGC417L_10.wav    COPD\n",
              "4  147  147_1b4_Tc_mc_AKGC417L_11.wav    COPD"
            ],
            "text/html": [
              "\n",
              "  <div id=\"df-ab2bd414-64b8-4ca9-8f9b-490307f3d5c3\">\n",
              "    <div class=\"colab-df-container\">\n",
              "      <div>\n",
              "<style scoped>\n",
              "    .dataframe tbody tr th:only-of-type {\n",
              "        vertical-align: middle;\n",
              "    }\n",
              "\n",
              "    .dataframe tbody tr th {\n",
              "        vertical-align: top;\n",
              "    }\n",
              "\n",
              "    .dataframe thead th {\n",
              "        text-align: right;\n",
              "    }\n",
              "</style>\n",
              "<table border=\"1\" class=\"dataframe\">\n",
              "  <thead>\n",
              "    <tr style=\"text-align: right;\">\n",
              "      <th></th>\n",
              "      <th>pid</th>\n",
              "      <th>filename</th>\n",
              "      <th>disease</th>\n",
              "    </tr>\n",
              "  </thead>\n",
              "  <tbody>\n",
              "    <tr>\n",
              "      <th>0</th>\n",
              "      <td>147</td>\n",
              "      <td>147_1b4_Tc_mc_AKGC417L_7.wav</td>\n",
              "      <td>COPD</td>\n",
              "    </tr>\n",
              "    <tr>\n",
              "      <th>1</th>\n",
              "      <td>147</td>\n",
              "      <td>147_1b4_Tc_mc_AKGC417L_8.wav</td>\n",
              "      <td>COPD</td>\n",
              "    </tr>\n",
              "    <tr>\n",
              "      <th>2</th>\n",
              "      <td>147</td>\n",
              "      <td>147_1b4_Tc_mc_AKGC417L_9.wav</td>\n",
              "      <td>COPD</td>\n",
              "    </tr>\n",
              "    <tr>\n",
              "      <th>3</th>\n",
              "      <td>147</td>\n",
              "      <td>147_1b4_Tc_mc_AKGC417L_10.wav</td>\n",
              "      <td>COPD</td>\n",
              "    </tr>\n",
              "    <tr>\n",
              "      <th>4</th>\n",
              "      <td>147</td>\n",
              "      <td>147_1b4_Tc_mc_AKGC417L_11.wav</td>\n",
              "      <td>COPD</td>\n",
              "    </tr>\n",
              "  </tbody>\n",
              "</table>\n",
              "</div>\n",
              "      <button class=\"colab-df-convert\" onclick=\"convertToInteractive('df-ab2bd414-64b8-4ca9-8f9b-490307f3d5c3')\"\n",
              "              title=\"Convert this dataframe to an interactive table.\"\n",
              "              style=\"display:none;\">\n",
              "        \n",
              "  <svg xmlns=\"http://www.w3.org/2000/svg\" height=\"24px\"viewBox=\"0 0 24 24\"\n",
              "       width=\"24px\">\n",
              "    <path d=\"M0 0h24v24H0V0z\" fill=\"none\"/>\n",
              "    <path d=\"M18.56 5.44l.94 2.06.94-2.06 2.06-.94-2.06-.94-.94-2.06-.94 2.06-2.06.94zm-11 1L8.5 8.5l.94-2.06 2.06-.94-2.06-.94L8.5 2.5l-.94 2.06-2.06.94zm10 10l.94 2.06.94-2.06 2.06-.94-2.06-.94-.94-2.06-.94 2.06-2.06.94z\"/><path d=\"M17.41 7.96l-1.37-1.37c-.4-.4-.92-.59-1.43-.59-.52 0-1.04.2-1.43.59L10.3 9.45l-7.72 7.72c-.78.78-.78 2.05 0 2.83L4 21.41c.39.39.9.59 1.41.59.51 0 1.02-.2 1.41-.59l7.78-7.78 2.81-2.81c.8-.78.8-2.07 0-2.86zM5.41 20L4 18.59l7.72-7.72 1.47 1.35L5.41 20z\"/>\n",
              "  </svg>\n",
              "      </button>\n",
              "      \n",
              "  <style>\n",
              "    .colab-df-container {\n",
              "      display:flex;\n",
              "      flex-wrap:wrap;\n",
              "      gap: 12px;\n",
              "    }\n",
              "\n",
              "    .colab-df-convert {\n",
              "      background-color: #E8F0FE;\n",
              "      border: none;\n",
              "      border-radius: 50%;\n",
              "      cursor: pointer;\n",
              "      display: none;\n",
              "      fill: #1967D2;\n",
              "      height: 32px;\n",
              "      padding: 0 0 0 0;\n",
              "      width: 32px;\n",
              "    }\n",
              "\n",
              "    .colab-df-convert:hover {\n",
              "      background-color: #E2EBFA;\n",
              "      box-shadow: 0px 1px 2px rgba(60, 64, 67, 0.3), 0px 1px 3px 1px rgba(60, 64, 67, 0.15);\n",
              "      fill: #174EA6;\n",
              "    }\n",
              "\n",
              "    [theme=dark] .colab-df-convert {\n",
              "      background-color: #3B4455;\n",
              "      fill: #D2E3FC;\n",
              "    }\n",
              "\n",
              "    [theme=dark] .colab-df-convert:hover {\n",
              "      background-color: #434B5C;\n",
              "      box-shadow: 0px 1px 3px 1px rgba(0, 0, 0, 0.15);\n",
              "      filter: drop-shadow(0px 1px 2px rgba(0, 0, 0, 0.3));\n",
              "      fill: #FFFFFF;\n",
              "    }\n",
              "  </style>\n",
              "\n",
              "      <script>\n",
              "        const buttonEl =\n",
              "          document.querySelector('#df-ab2bd414-64b8-4ca9-8f9b-490307f3d5c3 button.colab-df-convert');\n",
              "        buttonEl.style.display =\n",
              "          google.colab.kernel.accessAllowed ? 'block' : 'none';\n",
              "\n",
              "        async function convertToInteractive(key) {\n",
              "          const element = document.querySelector('#df-ab2bd414-64b8-4ca9-8f9b-490307f3d5c3');\n",
              "          const dataTable =\n",
              "            await google.colab.kernel.invokeFunction('convertToInteractive',\n",
              "                                                     [key], {});\n",
              "          if (!dataTable) return;\n",
              "\n",
              "          const docLinkHtml = 'Like what you see? Visit the ' +\n",
              "            '<a target=\"_blank\" href=https://colab.research.google.com/notebooks/data_table.ipynb>data table notebook</a>'\n",
              "            + ' to learn more about interactive tables.';\n",
              "          element.innerHTML = '';\n",
              "          dataTable['output_type'] = 'display_data';\n",
              "          await google.colab.output.renderOutput(dataTable, element);\n",
              "          const docLink = document.createElement('div');\n",
              "          docLink.innerHTML = docLinkHtml;\n",
              "          element.appendChild(docLink);\n",
              "        }\n",
              "      </script>\n",
              "    </div>\n",
              "  </div>\n",
              "  "
            ]
          },
          "metadata": {},
          "execution_count": 72
        }
      ]
    },
    {
      "cell_type": "code",
      "source": [
        "data"
      ],
      "metadata": {
        "colab": {
          "base_uri": "https://localhost:8080/",
          "height": 423
        },
        "id": "c392WIVp8mZj",
        "outputId": "7ad25d46-f8e7-4619-e7f2-66d581b14095"
      },
      "execution_count": 73,
      "outputs": [
        {
          "output_type": "execute_result",
          "data": {
            "text/plain": [
              "      pid                       filename        disease\n",
              "0     147   147_1b4_Tc_mc_AKGC417L_7.wav           COPD\n",
              "1     147   147_1b4_Tc_mc_AKGC417L_8.wav           COPD\n",
              "2     147   147_1b4_Tc_mc_AKGC417L_9.wav           COPD\n",
              "3     147  147_1b4_Tc_mc_AKGC417L_10.wav           COPD\n",
              "4     147  147_1b4_Tc_mc_AKGC417L_11.wav           COPD\n",
              "...   ...                            ...            ...\n",
              "6893  173   173_1b1_Al_sc_Meditron_8.wav  Bronchiolitis\n",
              "6894  173   173_1b1_Al_sc_Meditron_9.wav  Bronchiolitis\n",
              "6895  173  173_1b1_Al_sc_Meditron_10.wav  Bronchiolitis\n",
              "6896  173  173_1b1_Al_sc_Meditron_11.wav  Bronchiolitis\n",
              "6897  173  173_1b1_Al_sc_Meditron_12.wav  Bronchiolitis\n",
              "\n",
              "[6898 rows x 3 columns]"
            ],
            "text/html": [
              "\n",
              "  <div id=\"df-093c6364-2923-4231-b4c8-454dc3b635f7\">\n",
              "    <div class=\"colab-df-container\">\n",
              "      <div>\n",
              "<style scoped>\n",
              "    .dataframe tbody tr th:only-of-type {\n",
              "        vertical-align: middle;\n",
              "    }\n",
              "\n",
              "    .dataframe tbody tr th {\n",
              "        vertical-align: top;\n",
              "    }\n",
              "\n",
              "    .dataframe thead th {\n",
              "        text-align: right;\n",
              "    }\n",
              "</style>\n",
              "<table border=\"1\" class=\"dataframe\">\n",
              "  <thead>\n",
              "    <tr style=\"text-align: right;\">\n",
              "      <th></th>\n",
              "      <th>pid</th>\n",
              "      <th>filename</th>\n",
              "      <th>disease</th>\n",
              "    </tr>\n",
              "  </thead>\n",
              "  <tbody>\n",
              "    <tr>\n",
              "      <th>0</th>\n",
              "      <td>147</td>\n",
              "      <td>147_1b4_Tc_mc_AKGC417L_7.wav</td>\n",
              "      <td>COPD</td>\n",
              "    </tr>\n",
              "    <tr>\n",
              "      <th>1</th>\n",
              "      <td>147</td>\n",
              "      <td>147_1b4_Tc_mc_AKGC417L_8.wav</td>\n",
              "      <td>COPD</td>\n",
              "    </tr>\n",
              "    <tr>\n",
              "      <th>2</th>\n",
              "      <td>147</td>\n",
              "      <td>147_1b4_Tc_mc_AKGC417L_9.wav</td>\n",
              "      <td>COPD</td>\n",
              "    </tr>\n",
              "    <tr>\n",
              "      <th>3</th>\n",
              "      <td>147</td>\n",
              "      <td>147_1b4_Tc_mc_AKGC417L_10.wav</td>\n",
              "      <td>COPD</td>\n",
              "    </tr>\n",
              "    <tr>\n",
              "      <th>4</th>\n",
              "      <td>147</td>\n",
              "      <td>147_1b4_Tc_mc_AKGC417L_11.wav</td>\n",
              "      <td>COPD</td>\n",
              "    </tr>\n",
              "    <tr>\n",
              "      <th>...</th>\n",
              "      <td>...</td>\n",
              "      <td>...</td>\n",
              "      <td>...</td>\n",
              "    </tr>\n",
              "    <tr>\n",
              "      <th>6893</th>\n",
              "      <td>173</td>\n",
              "      <td>173_1b1_Al_sc_Meditron_8.wav</td>\n",
              "      <td>Bronchiolitis</td>\n",
              "    </tr>\n",
              "    <tr>\n",
              "      <th>6894</th>\n",
              "      <td>173</td>\n",
              "      <td>173_1b1_Al_sc_Meditron_9.wav</td>\n",
              "      <td>Bronchiolitis</td>\n",
              "    </tr>\n",
              "    <tr>\n",
              "      <th>6895</th>\n",
              "      <td>173</td>\n",
              "      <td>173_1b1_Al_sc_Meditron_10.wav</td>\n",
              "      <td>Bronchiolitis</td>\n",
              "    </tr>\n",
              "    <tr>\n",
              "      <th>6896</th>\n",
              "      <td>173</td>\n",
              "      <td>173_1b1_Al_sc_Meditron_11.wav</td>\n",
              "      <td>Bronchiolitis</td>\n",
              "    </tr>\n",
              "    <tr>\n",
              "      <th>6897</th>\n",
              "      <td>173</td>\n",
              "      <td>173_1b1_Al_sc_Meditron_12.wav</td>\n",
              "      <td>Bronchiolitis</td>\n",
              "    </tr>\n",
              "  </tbody>\n",
              "</table>\n",
              "<p>6898 rows × 3 columns</p>\n",
              "</div>\n",
              "      <button class=\"colab-df-convert\" onclick=\"convertToInteractive('df-093c6364-2923-4231-b4c8-454dc3b635f7')\"\n",
              "              title=\"Convert this dataframe to an interactive table.\"\n",
              "              style=\"display:none;\">\n",
              "        \n",
              "  <svg xmlns=\"http://www.w3.org/2000/svg\" height=\"24px\"viewBox=\"0 0 24 24\"\n",
              "       width=\"24px\">\n",
              "    <path d=\"M0 0h24v24H0V0z\" fill=\"none\"/>\n",
              "    <path d=\"M18.56 5.44l.94 2.06.94-2.06 2.06-.94-2.06-.94-.94-2.06-.94 2.06-2.06.94zm-11 1L8.5 8.5l.94-2.06 2.06-.94-2.06-.94L8.5 2.5l-.94 2.06-2.06.94zm10 10l.94 2.06.94-2.06 2.06-.94-2.06-.94-.94-2.06-.94 2.06-2.06.94z\"/><path d=\"M17.41 7.96l-1.37-1.37c-.4-.4-.92-.59-1.43-.59-.52 0-1.04.2-1.43.59L10.3 9.45l-7.72 7.72c-.78.78-.78 2.05 0 2.83L4 21.41c.39.39.9.59 1.41.59.51 0 1.02-.2 1.41-.59l7.78-7.78 2.81-2.81c.8-.78.8-2.07 0-2.86zM5.41 20L4 18.59l7.72-7.72 1.47 1.35L5.41 20z\"/>\n",
              "  </svg>\n",
              "      </button>\n",
              "      \n",
              "  <style>\n",
              "    .colab-df-container {\n",
              "      display:flex;\n",
              "      flex-wrap:wrap;\n",
              "      gap: 12px;\n",
              "    }\n",
              "\n",
              "    .colab-df-convert {\n",
              "      background-color: #E8F0FE;\n",
              "      border: none;\n",
              "      border-radius: 50%;\n",
              "      cursor: pointer;\n",
              "      display: none;\n",
              "      fill: #1967D2;\n",
              "      height: 32px;\n",
              "      padding: 0 0 0 0;\n",
              "      width: 32px;\n",
              "    }\n",
              "\n",
              "    .colab-df-convert:hover {\n",
              "      background-color: #E2EBFA;\n",
              "      box-shadow: 0px 1px 2px rgba(60, 64, 67, 0.3), 0px 1px 3px 1px rgba(60, 64, 67, 0.15);\n",
              "      fill: #174EA6;\n",
              "    }\n",
              "\n",
              "    [theme=dark] .colab-df-convert {\n",
              "      background-color: #3B4455;\n",
              "      fill: #D2E3FC;\n",
              "    }\n",
              "\n",
              "    [theme=dark] .colab-df-convert:hover {\n",
              "      background-color: #434B5C;\n",
              "      box-shadow: 0px 1px 3px 1px rgba(0, 0, 0, 0.15);\n",
              "      filter: drop-shadow(0px 1px 2px rgba(0, 0, 0, 0.3));\n",
              "      fill: #FFFFFF;\n",
              "    }\n",
              "  </style>\n",
              "\n",
              "      <script>\n",
              "        const buttonEl =\n",
              "          document.querySelector('#df-093c6364-2923-4231-b4c8-454dc3b635f7 button.colab-df-convert');\n",
              "        buttonEl.style.display =\n",
              "          google.colab.kernel.accessAllowed ? 'block' : 'none';\n",
              "\n",
              "        async function convertToInteractive(key) {\n",
              "          const element = document.querySelector('#df-093c6364-2923-4231-b4c8-454dc3b635f7');\n",
              "          const dataTable =\n",
              "            await google.colab.kernel.invokeFunction('convertToInteractive',\n",
              "                                                     [key], {});\n",
              "          if (!dataTable) return;\n",
              "\n",
              "          const docLinkHtml = 'Like what you see? Visit the ' +\n",
              "            '<a target=\"_blank\" href=https://colab.research.google.com/notebooks/data_table.ipynb>data table notebook</a>'\n",
              "            + ' to learn more about interactive tables.';\n",
              "          element.innerHTML = '';\n",
              "          dataTable['output_type'] = 'display_data';\n",
              "          await google.colab.output.renderOutput(dataTable, element);\n",
              "          const docLink = document.createElement('div');\n",
              "          docLink.innerHTML = docLinkHtml;\n",
              "          element.appendChild(docLink);\n",
              "        }\n",
              "      </script>\n",
              "    </div>\n",
              "  </div>\n",
              "  "
            ]
          },
          "metadata": {},
          "execution_count": 73
        }
      ]
    },
    {
      "cell_type": "code",
      "source": [
        "from sklearn.model_selection import train_test_split\n",
        "Xtrain,Xval,ytrain,yval=train_test_split(data,data.disease,stratify=data.disease,random_state=42,test_size=0.25)"
      ],
      "metadata": {
        "id": "OJvhnyNu34_U"
      },
      "execution_count": 74,
      "outputs": []
    },
    {
      "cell_type": "code",
      "source": [
        "Xtrain.disease.value_counts()/Xtrain.shape[0]"
      ],
      "metadata": {
        "id": "ieCFVEdq35CC",
        "colab": {
          "base_uri": "https://localhost:8080/"
        },
        "outputId": "04047398-38df-4c8c-ba47-706e87d8fb4d"
      },
      "execution_count": 75,
      "outputs": [
        {
          "output_type": "execute_result",
          "data": {
            "text/plain": [
              "COPD              0.832979\n",
              "Healthy           0.046588\n",
              "Pneumonia         0.041369\n",
              "URTI              0.035183\n",
              "Bronchiolitis     0.023197\n",
              "Bronchiectasis    0.015078\n",
              "LRTI              0.004639\n",
              "Asthma            0.000967\n",
              "Name: disease, dtype: float64"
            ]
          },
          "metadata": {},
          "execution_count": 75
        }
      ]
    },
    {
      "cell_type": "code",
      "source": [
        "Xval.disease.value_counts()/Xval.shape[0]"
      ],
      "metadata": {
        "id": "U6gpi5D835FG",
        "colab": {
          "base_uri": "https://localhost:8080/"
        },
        "outputId": "451d2b68-7812-49bd-a2ea-6eb5ae9206d4"
      },
      "execution_count": 76,
      "outputs": [
        {
          "output_type": "execute_result",
          "data": {
            "text/plain": [
              "COPD              0.833043\n",
              "Healthy           0.046957\n",
              "Pneumonia         0.041159\n",
              "URTI              0.035362\n",
              "Bronchiolitis     0.023188\n",
              "Bronchiectasis    0.015072\n",
              "LRTI              0.004638\n",
              "Asthma            0.000580\n",
              "Name: disease, dtype: float64"
            ]
          },
          "metadata": {},
          "execution_count": 76
        }
      ]
    },
    {
      "cell_type": "code",
      "source": [
        "Xtrain.iloc[193] "
      ],
      "metadata": {
        "colab": {
          "base_uri": "https://localhost:8080/"
        },
        "id": "74S80sa85TkG",
        "outputId": "ae4d95db-c3f9-4536-9453-25af58320139"
      },
      "execution_count": 79,
      "outputs": [
        {
          "output_type": "execute_result",
          "data": {
            "text/plain": [
              "pid                                  130\n",
              "filename    130_3p4_Pl_mc_AKGC417L_7.wav\n",
              "disease                             COPD\n",
              "Name: 1168, dtype: object"
            ]
          },
          "metadata": {},
          "execution_count": 79
        }
      ]
    },
    {
      "cell_type": "markdown",
      "source": [
        ""
      ],
      "metadata": {
        "id": "UHDfrtLMCpvI"
      }
    },
    {
      "cell_type": "code",
      "source": [
        "Xtrain[:1]"
      ],
      "metadata": {
        "colab": {
          "base_uri": "https://localhost:8080/",
          "height": 81
        },
        "id": "PedW1bRPBBOp",
        "outputId": "0dfece2e-e4b6-4bf0-be4c-bf0b3f3e2f83"
      },
      "execution_count": 90,
      "outputs": [
        {
          "output_type": "execute_result",
          "data": {
            "text/plain": [
              "      pid                      filename disease\n",
              "1572  132  132_2b2_Lr_mc_LittC2SE_1.wav    COPD"
            ],
            "text/html": [
              "\n",
              "  <div id=\"df-5782336f-0f20-473e-8ae0-3966c7c68c63\">\n",
              "    <div class=\"colab-df-container\">\n",
              "      <div>\n",
              "<style scoped>\n",
              "    .dataframe tbody tr th:only-of-type {\n",
              "        vertical-align: middle;\n",
              "    }\n",
              "\n",
              "    .dataframe tbody tr th {\n",
              "        vertical-align: top;\n",
              "    }\n",
              "\n",
              "    .dataframe thead th {\n",
              "        text-align: right;\n",
              "    }\n",
              "</style>\n",
              "<table border=\"1\" class=\"dataframe\">\n",
              "  <thead>\n",
              "    <tr style=\"text-align: right;\">\n",
              "      <th></th>\n",
              "      <th>pid</th>\n",
              "      <th>filename</th>\n",
              "      <th>disease</th>\n",
              "    </tr>\n",
              "  </thead>\n",
              "  <tbody>\n",
              "    <tr>\n",
              "      <th>1572</th>\n",
              "      <td>132</td>\n",
              "      <td>132_2b2_Lr_mc_LittC2SE_1.wav</td>\n",
              "      <td>COPD</td>\n",
              "    </tr>\n",
              "  </tbody>\n",
              "</table>\n",
              "</div>\n",
              "      <button class=\"colab-df-convert\" onclick=\"convertToInteractive('df-5782336f-0f20-473e-8ae0-3966c7c68c63')\"\n",
              "              title=\"Convert this dataframe to an interactive table.\"\n",
              "              style=\"display:none;\">\n",
              "        \n",
              "  <svg xmlns=\"http://www.w3.org/2000/svg\" height=\"24px\"viewBox=\"0 0 24 24\"\n",
              "       width=\"24px\">\n",
              "    <path d=\"M0 0h24v24H0V0z\" fill=\"none\"/>\n",
              "    <path d=\"M18.56 5.44l.94 2.06.94-2.06 2.06-.94-2.06-.94-.94-2.06-.94 2.06-2.06.94zm-11 1L8.5 8.5l.94-2.06 2.06-.94-2.06-.94L8.5 2.5l-.94 2.06-2.06.94zm10 10l.94 2.06.94-2.06 2.06-.94-2.06-.94-.94-2.06-.94 2.06-2.06.94z\"/><path d=\"M17.41 7.96l-1.37-1.37c-.4-.4-.92-.59-1.43-.59-.52 0-1.04.2-1.43.59L10.3 9.45l-7.72 7.72c-.78.78-.78 2.05 0 2.83L4 21.41c.39.39.9.59 1.41.59.51 0 1.02-.2 1.41-.59l7.78-7.78 2.81-2.81c.8-.78.8-2.07 0-2.86zM5.41 20L4 18.59l7.72-7.72 1.47 1.35L5.41 20z\"/>\n",
              "  </svg>\n",
              "      </button>\n",
              "      \n",
              "  <style>\n",
              "    .colab-df-container {\n",
              "      display:flex;\n",
              "      flex-wrap:wrap;\n",
              "      gap: 12px;\n",
              "    }\n",
              "\n",
              "    .colab-df-convert {\n",
              "      background-color: #E8F0FE;\n",
              "      border: none;\n",
              "      border-radius: 50%;\n",
              "      cursor: pointer;\n",
              "      display: none;\n",
              "      fill: #1967D2;\n",
              "      height: 32px;\n",
              "      padding: 0 0 0 0;\n",
              "      width: 32px;\n",
              "    }\n",
              "\n",
              "    .colab-df-convert:hover {\n",
              "      background-color: #E2EBFA;\n",
              "      box-shadow: 0px 1px 2px rgba(60, 64, 67, 0.3), 0px 1px 3px 1px rgba(60, 64, 67, 0.15);\n",
              "      fill: #174EA6;\n",
              "    }\n",
              "\n",
              "    [theme=dark] .colab-df-convert {\n",
              "      background-color: #3B4455;\n",
              "      fill: #D2E3FC;\n",
              "    }\n",
              "\n",
              "    [theme=dark] .colab-df-convert:hover {\n",
              "      background-color: #434B5C;\n",
              "      box-shadow: 0px 1px 3px 1px rgba(0, 0, 0, 0.15);\n",
              "      filter: drop-shadow(0px 1px 2px rgba(0, 0, 0, 0.3));\n",
              "      fill: #FFFFFF;\n",
              "    }\n",
              "  </style>\n",
              "\n",
              "      <script>\n",
              "        const buttonEl =\n",
              "          document.querySelector('#df-5782336f-0f20-473e-8ae0-3966c7c68c63 button.colab-df-convert');\n",
              "        buttonEl.style.display =\n",
              "          google.colab.kernel.accessAllowed ? 'block' : 'none';\n",
              "\n",
              "        async function convertToInteractive(key) {\n",
              "          const element = document.querySelector('#df-5782336f-0f20-473e-8ae0-3966c7c68c63');\n",
              "          const dataTable =\n",
              "            await google.colab.kernel.invokeFunction('convertToInteractive',\n",
              "                                                     [key], {});\n",
              "          if (!dataTable) return;\n",
              "\n",
              "          const docLinkHtml = 'Like what you see? Visit the ' +\n",
              "            '<a target=\"_blank\" href=https://colab.research.google.com/notebooks/data_table.ipynb>data table notebook</a>'\n",
              "            + ' to learn more about interactive tables.';\n",
              "          element.innerHTML = '';\n",
              "          dataTable['output_type'] = 'display_data';\n",
              "          await google.colab.output.renderOutput(dataTable, element);\n",
              "          const docLink = document.createElement('div');\n",
              "          docLink.innerHTML = docLinkHtml;\n",
              "          element.appendChild(docLink);\n",
              "        }\n",
              "      </script>\n",
              "    </div>\n",
              "  </div>\n",
              "  "
            ]
          },
          "metadata": {},
          "execution_count": 90
        }
      ]
    },
    {
      "cell_type": "code",
      "source": [
        "path1='/content/drive/MyDrive/hacker/processed_audio_files/processed_audio_files_no_pad/'\n",
        "\n",
        "import librosa.display\n",
        "import librosa as lb\n",
        "\n",
        "file  =path1 + Xtrain.iloc[198].filename # 값하나만 출력해봄\n",
        "\n",
        "sound,sample_rate=lb.load(file)  #X트레인데이터에 있는 모든 Filname들을 다 불러오고 싶을때\n",
        "mfccs = lb.feature.mfcc(y=sound, sr=sample_rate, n_mfcc=40)\n",
        "fig, ax = plt.subplots()\n",
        "img = librosa.display.specshow(mfccs, x_axis='time', ax=ax)\n",
        "fig.colorbar(img, ax=ax)\n",
        "ax.set(title='MFCC')"
      ],
      "metadata": {
        "id": "ANV1D_6H35IA",
        "colab": {
          "base_uri": "https://localhost:8080/",
          "height": 245
        },
        "outputId": "f916eb70-5b4c-4be4-eec2-75f446df693c"
      },
      "execution_count": 101,
      "outputs": [
        {
          "output_type": "error",
          "ename": "AttributeError",
          "evalue": "ignored",
          "traceback": [
            "\u001b[0;31m---------------------------------------------------------------------------\u001b[0m",
            "\u001b[0;31mAttributeError\u001b[0m                            Traceback (most recent call last)",
            "\u001b[0;32m<ipython-input-101-96e38ceda5fd>\u001b[0m in \u001b[0;36m<module>\u001b[0;34m()\u001b[0m\n\u001b[1;32m      4\u001b[0m \u001b[0;32mimport\u001b[0m \u001b[0mlibrosa\u001b[0m \u001b[0;32mas\u001b[0m \u001b[0mlb\u001b[0m\u001b[0;34m\u001b[0m\u001b[0;34m\u001b[0m\u001b[0m\n\u001b[1;32m      5\u001b[0m \u001b[0;34m\u001b[0m\u001b[0m\n\u001b[0;32m----> 6\u001b[0;31m \u001b[0mfile\u001b[0m  \u001b[0;34m=\u001b[0m\u001b[0mpath1\u001b[0m\u001b[0;34m.\u001b[0m\u001b[0mfilename\u001b[0m \u001b[0;31m# 값하나만 출력해봄\u001b[0m\u001b[0;34m\u001b[0m\u001b[0;34m\u001b[0m\u001b[0m\n\u001b[0m\u001b[1;32m      7\u001b[0m \u001b[0;34m\u001b[0m\u001b[0m\n\u001b[1;32m      8\u001b[0m \u001b[0msound\u001b[0m\u001b[0;34m,\u001b[0m\u001b[0msample_rate\u001b[0m\u001b[0;34m=\u001b[0m\u001b[0mlb\u001b[0m\u001b[0;34m.\u001b[0m\u001b[0mload\u001b[0m\u001b[0;34m(\u001b[0m\u001b[0mfile\u001b[0m\u001b[0;34m)\u001b[0m  \u001b[0;31m#X트레인데이터에 있는 모든 Filname들을 다 불러오고 싶을때\u001b[0m\u001b[0;34m\u001b[0m\u001b[0;34m\u001b[0m\u001b[0m\n",
            "\u001b[0;31mAttributeError\u001b[0m: 'str' object has no attribute 'filename'"
          ]
        }
      ]
    },
    {
      "cell_type": "code",
      "source": [
        "Xtrain.to_csv('train.csv')\n",
        "Xval.to_csv('val.csv')"
      ],
      "metadata": {
        "id": "6MuHORvn35Kv"
      },
      "execution_count": 82,
      "outputs": []
    },
    {
      "cell_type": "code",
      "source": [
        ""
      ],
      "metadata": {
        "id": "FawnjHfs35Tj"
      },
      "execution_count": 82,
      "outputs": []
    },
    {
      "cell_type": "code",
      "source": [
        ""
      ],
      "metadata": {
        "id": "pxxAN_vq35V0"
      },
      "execution_count": 82,
      "outputs": []
    },
    {
      "cell_type": "code",
      "source": [
        "# import librosa\n",
        "# import librosa.display\n",
        "\n",
        "# def audio_features(filename): \n",
        "#     sound, sample_rate = librosa.load(filename)\n",
        "#     stft = np.abs(librosa.stft(sound))  \n",
        " \n",
        "#     mfccs = np.mean(librosa.feature.mfcc(y=sound, sr=sample_rate, n_mfcc=40),axis=1)\n",
        "#     chroma = np.mean(librosa.feature.chroma_stft(S=stft, sr=sample_rate),axis=1)\n",
        "#     mel = np.mean(librosa.feature.melspectrogram(sound, sr=sample_rate),axis=1)\n",
        "#     contrast = np.mean(librosa.feature.spectral_contrast(S=stft, sr=sample_rate),axis=1)\n",
        "#     tonnetz = np.mean(librosa.feature.tonnetz(y=librosa.effects.harmonic(sound), sr=sample_rate),axis=1)\n",
        "    \n",
        "#     concat = np.concatenate((mfccs,chroma,mel,contrast,tonnetz))\n",
        "#     return concat\n",
        "\n",
        "# def data_points():\n",
        "#     labels = []\n",
        "#     images = []\n",
        "\n",
        "#     to_hot_one = {\"COPD\":0, \"Healthy\":1, \"URTI\":2, \"Bronchiectasis\":3, \"Pneumonia\":4, \"Bronchiolitis\":5, \"Asthma\":6, \"LRTI\":7}\n",
        "\n",
        "#     #count = 0\n",
        "#     for f in diagnosis_data():\n",
        "#         #print(count)\n",
        "#         labels.append(to_hot_one[f.diagnosis]) \n",
        "#         images.append(audio_features(f.image_path))\n",
        "#         #count+=1\n",
        "\n",
        "#     return np.array(labels), np.array(images)"
      ],
      "metadata": {
        "id": "xcBBGPO_q94L"
      },
      "execution_count": 83,
      "outputs": []
    },
    {
      "cell_type": "markdown",
      "source": [
        "MFCC parameter 값\n",
        "\n",
        "https://sanghyu.tistory.com/45\n",
        "\n",
        "STFT parameter 값(amplitude, n_fft(win_length보다 길 경우 모두 zero padding해서 처리하기 위한 파라미터), win_length(FFT를 수행할 시간간격), hop_length(시간 해상도를 나타내는 값))\n",
        "\n",
        "n_fft ; frequency 영역대를 얼마만큼 둘것이냐\n",
        "\n",
        "https://hyongdoc.tistory.com/401?category=884319\n",
        "\n",
        "FFT를 할때 특정 주기간격으로 시행하게되는데 이때 discontunity문제가 발생하며, STFT 라이브러리에서 default값 중의 하나인 hann은 그래프 양 끝구간을 0으로 만들어줌.\n"
      ],
      "metadata": {
        "id": "1W_fKxLoS9F4"
      }
    },
    {
      "cell_type": "markdown",
      "source": [
        "# Waveform 시각화"
      ],
      "metadata": {
        "id": "qLCxiyZQQjZr"
      }
    },
    {
      "cell_type": "code",
      "source": [
        "sr =4000\n",
        "\n",
        "plt.figure(figsize =(15,10))\n",
        "librosa.display.waveplot(sound, sr, alpha=0.5) #여기서 alpha값 :해상도\n",
        "# 감는 진동수를 조절하면 '감긴그래프'가 어떻게 생길지가 결정됨\n",
        "plt.xlabel('Time (s)')\n",
        "plt.ylabel('Amplitude')\n",
        "plt.title('waveform')"
      ],
      "metadata": {
        "id": "QG-KKesUQS3f",
        "colab": {
          "base_uri": "https://localhost:8080/",
          "height": 639
        },
        "outputId": "7fddc006-bf5d-4228-cdde-80484793c371"
      },
      "execution_count": 89,
      "outputs": [
        {
          "output_type": "execute_result",
          "data": {
            "text/plain": [
              "Text(0.5, 1.0, 'waveform')"
            ]
          },
          "metadata": {},
          "execution_count": 89
        },
        {
          "output_type": "display_data",
          "data": {
            "text/plain": [
              "<Figure size 1080x720 with 1 Axes>"
            ],
            "image/png": "[encoded data removed]"
          },
          "metadata": {
            "needs_background": "light"
          }
        }
      ]
    },
    {
      "cell_type": "code",
      "source": [
        "# fft(fast Fourier transform)\n",
        "\n",
        "fft = np.fft.fft(sound) # fft의 결과를 log와 linear로 그릴 수 있다, \n",
        "#즉, np.fft.fft(signal) 함수로 데이터를 FFT로 변환한 후 abs(s_fft) 함수로 변환된 값의 절대치를 만들었다.\n",
        "# fft() 함수를 이용해 주파수 도메인으로 변환하면 실수와 복소수로 구성된 값으로 나오기 때문에 abs를 통해 절대치로 바꿔주면 된다.\n",
        "\n",
        "#신호의 진동수와 감는 진동수가 일치하는 경우, 그래프의 높은 점은 모두 오른쪽에 몰리게되고, 낮은 점은 왼쪽에 몰리는 현상이 일어남"
      ],
      "metadata": {
        "id": "90rubKBAQ5SW"
      },
      "execution_count": 92,
      "outputs": []
    },
    {
      "cell_type": "markdown",
      "source": [
        "푸리에 변환에서 사용하는 주기함수는 sin, cos 삼각함수이며 푸리에 변환은 고주파부터 저주파까지 다양한 주파수 대역의 sin, cos 함수들로 원본 신호를 분해하는 것이다.\n",
        "\n",
        " 주기함수 성분들은 고유의 주파수(frequency)와 강도(amplitude)를 가지고 있으며 이들을 모두 합치면 원본 붉은색 신호가 된다."
      ],
      "metadata": {
        "id": "ymcK5rli1Yki"
      }
    },
    {
      "cell_type": "code",
      "source": [
        "fft[:5]  #여기서 j는 허수단위로서 (루트 -1로서, 회전하는 값임) 실수는 크기가 되고, 허수는 각(위치정보)를 표현하게 됨\n",
        "# 또다른 말로, 실수부가 frequency영역대의 magnitude를 뜻, 허수부가 phase를 뜻함.\n",
        "# 푸리에 변환은 신호를 서로 다른 frequency들의 합으로 표현해, waveform을 time domain에서 frequency domain으로 변환시킨다. \n",
        "\n",
        "#(1) 시간에 대한 세기 그래프 (2)2차원 공간에 말아놓은 감긴그래프 (3) 감는 진동수의 변화에 따른 무게중심의 위치의 그래프 "
      ],
      "metadata": {
        "id": "EzPUJgD3fvV2",
        "colab": {
          "base_uri": "https://localhost:8080/"
        },
        "outputId": "f995bf57-0a40-4354-fac2-e60493325a43"
      },
      "execution_count": 93,
      "outputs": [
        {
          "output_type": "execute_result",
          "data": {
            "text/plain": [
              "array([ 203.95568848+8.38218384e-15j,  407.24141273-4.11499036e+02j,\n",
              "       -379.4490286 -8.81339133e+02j, -563.04294404+1.46124410e+03j,\n",
              "       2532.61300302+5.38025995e+01j])"
            ]
          },
          "metadata": {},
          "execution_count": 93
        }
      ]
    },
    {
      "cell_type": "markdown",
      "source": [
        "![푸어리에변호나.png](data:image/png;base64,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)\n",
        "\n",
        "여기서 j는 허수단위 , f(x)는 원본 입력 신호, $e^j2πux$ 는 주파수 u인 주기함수 성분, F(u)는 해당 주기함수 성분의 계수(coefficient)를 나타낸다.\n",
        "\n",
        "\n",
        "\n",
        "일단 식을 있는 그대로 해석하면 식 (1)은 입력신호 f(x)가 ej2πux들의 합으로 표현(분해)된다는 의미이다 (적분은 합한다는 의미를 갖는다). 그리고 식 (2)는 f(x)를 주기함수 성분으로 분해했을 때의 계수(coefficient) F(u)가 식 (2)로 주어진다는 의미이다. 앞서 그림 1과 연관해 보면 ej2πux는 f(x)를 구성하는 (파란색의 주파수 u인) 주기함수 성분들이고 F(u)는 해당 주기함수 성분의 강도(amplitude)를 나타낸다.\n",
        "\n",
        "\n",
        "\n",
        "☞ 푸리에 변환에 대한 일반적인 설명 방식은 두번째 식 (2)를 푸리에 변환이라고 정의하고 첫번째 식 (1)을 푸리에 역변환(inverse Fourier transform)이라고 정의하는 것이다. 그리고 푸리에 역변환을 하면 다시 원래의 함수로 돌아온다고 한다. 하지만 이러한 기계적인 이해(푸리에 변환을 어디 하늘에서 뚝 떨어진 정의로만 받아들이는 것)는 푸리에 변환의 본질을 이해하는데 별 도움이 되지 않는다.\n",
        "\n",
        "\n",
        "\n",
        "이제 식으로 좀더 들어가 보자. 일단, 식 자체는 푸리에 변환의 대단함에 비추어 매우 단순하다 (Simple is the best!!). 다만 한 가지 ej2πux의 의미만 이해하면 된다. 그리고 이를 위해서는 오일러 공식(Euler's formula)이 필요하다.\n",
        "\n",
        "\n",
        "\n",
        "오일러 공식(Euler's formula)은 복소지수함수를 삼각함수로 변환할 수 있도록 하는 유명한 식이다.\n",
        "\n",
        "\n",
        "더 자세한 풀이는 \n",
        "https://darkpgmr.tistory.com/171"
      ],
      "metadata": {
        "id": "7LlknZGT2RHZ"
      }
    },
    {
      "cell_type": "markdown",
      "source": [
        "#### amplitude = abs(fft)*(2/len(fft))\n",
        "#### frequency = np.fft.fftfreq(len(s_fft), T)\n",
        "\n",
        "-> abs(fft) x (2/len(fft)) 와 같이 뒤쪽에 2/len(fft)를 곱해줬는데, 실제 amplitude를 구하기 위해서 scaling을 해준 것이다. np.fft.fftfreq(len(fft), T) 함수는 x축을 만들어 주기 위한 것으로 데이터의 개수는 신호의 개수(len(fft))와 일치시켜줘야 하고, 정확한 주파수 값을 얻기 위해서는 T(주기)를 입력해 주어야 한다.\n",
        "\n",
        "#### 역푸리에 변환\n",
        ": ifft를 이용하여 fft값을 인버스 하는 과정이다. 주의할 점은 fft변환 후 절대값(abs)을 취한 값이 아닌 fft변환 직후의 값을 인버스 해야 한다.\n",
        "https://lifelong-education-dr-kim.tistory.com/4"
      ],
      "metadata": {
        "id": "hD_7_wBxgoXR"
      }
    },
    {
      "cell_type": "code",
      "source": [
        "# 복소공간 값 절대값 취해서, magnitude구하기\n",
        "magnitude = np.abs(fft) \n",
        "\n",
        "# 주파수값 만들기(linspace함수를 이용하면 지정된 간격 동안 균일 한 간격의 숫자를 반환함)\n",
        "# 해석하자면, 0부터 샘플한값까지의 숫자를 반환하는데, 이때의 간격을 len(magnitude)로 설정함.\n",
        "f= np.linspace(0,sr,len(magnitude)) \n",
        "\n",
        "# 푸리에 변환을 통과한 spectrum은 대칭구조로 나와서 high frequency부분 절반을 날리고 앞쪽 절반만 사용.\n",
        "left_spectrum = magnitude[:int(len(magnitude)/2)]\n",
        "left_f = f[:int(len(magnitude)/2)]\n",
        "\n",
        "plt.figure(figsize=(15,10))\n",
        "plt.plot(left_f, left_spectrum)\n",
        "plt.xlabel('Frequency')\n",
        "plt.ylabel('Magnitude')\n",
        "plt.title('Power Spectrum')"
      ],
      "metadata": {
        "id": "PZKe1drefvge",
        "colab": {
          "base_uri": "https://localhost:8080/",
          "height": 639
        },
        "outputId": "cb7e7af6-4571-4cc5-cbbf-0f58f29539d3"
      },
      "execution_count": 94,
      "outputs": [
        {
          "output_type": "execute_result",
          "data": {
            "text/plain": [
              "Text(0.5, 1.0, 'Power Spectrum')"
            ]
          },
          "metadata": {},
          "execution_count": 94
        },
        {
          "output_type": "display_data",
          "data": {
            "text/plain": [
              "<Figure size 1080x720 with 1 Axes>"
            ],
            "image/png": "[encoded data removed]"
          },
          "metadata": {
            "needs_background": "light"
          }
        }
      ]
    },
    {
      "cell_type": "markdown",
      "source": [
        "푸리에 변환 결과는 복소공간에 형성되어 실수부와 허수부로 나뉘게 된다. 이 값을 절댓값을 취해 magnitude로 사용한다. Frequency는 초당 주기의 반복 빈도 수 이므로, 초당 샘플갯수인 sr보다 클 수 없다. 따라서 0 ~ frequency 사이에서 len(magnitude) 만큼 frequency domain을 만들어 주자.\n",
        "\n",
        "# STFT -> Spectrogram\n",
        "\n",
        "STFT는 단순 푸리에 변환과 다르게 시간 정보를 보존하기 위해, frame 단위로 FFT를 수행한다. 따라서 frame 수와 frame 당 sample 수를 지정해주어야 한다. 또한 Spectrogram에서는 dB 값을 사용하므로, 푸리에 변환의 결과인 magnitude에 로그 Scaling을 통해 dB로 변환해준다."
      ],
      "metadata": {
        "id": "F8WhyK1_jIGs"
      }
    },
    {
      "cell_type": "code",
      "source": [
        "# https://towardsdatascience.com/all-you-need-to-know-to-start-speech-processing-with-deep-learning-102c916edf62\n",
        "#STFT -> spectogram\n",
        "hop_length = 512 # 전체 frame 수\n",
        "n_fft = 2048 #위 fram하나당 sample 수\n",
        "\n",
        "# calcurate duration hop length and window in secodns\n",
        "hop_length_duration = float(hop_length)/sr\n",
        "n_fft_duration = float(n_fft)/sr\n",
        "\n",
        "# FT :전체 waveform에 푸리에 변환을하면 time domain이 사라져 해석에 어려움이 생김\n",
        "#STFT는 위에서 자른 frame마다 푸리에 변환을 취해 각각을 시간 순으로 옆으로 쌓아 time domain을 살리기 위한 방법임\n",
        "#FT는 시간에 흐름에 따라 신호의 수파수가 변했을때, 어느 시간대에 주파수가 변하는지 모르게 된다. 이러한 한계를 극복하기 위해서,\n",
        "# STFT는 시간의 길이를 나눠서 이제 퓨리에 변환을 하게 됩니다. 즉 FFT를 했을때는 Time domina에 대한 정보가 날아가게 되는 것임.\n",
        "#STFT의 결과는 즉 시간의 흐름(Window)에 따른 Frequency영역별 Amplitude를 반환하며,자른 Frame에 stft를 취하면, x축이 time에서 frequency로 바뀌며\n",
        "# 이를 spectrum이라고 정의함.\n",
        "#스펙트럼 y축 magnitude를 제곱한것이 power이고 이를, power spectrum이라고 이야기함.\n",
        "#magnitude에 로그 스케일링을 통해 db로 만듬\n",
        "stft = librosa.stft(sound, n_fft=n_fft, hop_length = hop_length)\n",
        "\n",
        "#복소공간 값 절대값 취하기\n",
        "magnitude = np.abs(stft)\n",
        "\n",
        "#magnitude 에서 데시벨로 변환\n",
        "log_spectrogram = librosa.amplitude_to_db(magnitude)\n",
        "\n",
        "#display spectrogram\n",
        "plt.figure(figsize= (15,10))\n",
        "librosa.display.specshow(log_spectrogram, sr=sr, hop_length=hop_length)\n",
        "plt.xlabel('Time')\n",
        "plt.ylabel('Frequency')\n",
        "plt.colorbar(format=\"%+2.0f dB\")\n",
        "plt.title('Spectrogram(dB')\n",
        "\n"
      ],
      "metadata": {
        "id": "j8eCdNfki_ZX",
        "colab": {
          "base_uri": "https://localhost:8080/",
          "height": 623
        },
        "outputId": "6c22f5d9-e306-4477-a742-22e6e1ade58e"
      },
      "execution_count": 95,
      "outputs": [
        {
          "output_type": "execute_result",
          "data": {
            "text/plain": [
              "Text(0.5, 1.0, 'Spectrogram(dB')"
            ]
          },
          "metadata": {},
          "execution_count": 95
        },
        {
          "output_type": "display_data",
          "data": {
            "text/plain": [
              "<Figure size 1080x720 with 2 Axes>"
            ],
            "image/png": "[encoded data removed]"
          },
          "metadata": {
            "needs_background": "light"
          }
        }
      ]
    },
    {
      "cell_type": "markdown",
      "source": [
        "멜스펙토그램에 log를 취한 것을 다시 DCT(IFTT)를 적용하여 얻어진 Coefficients를 보면 허소수가생김 cos,sin으로 주기함수로 다시 표현 dct(stt선형변형임)"
      ],
      "metadata": {
        "id": "Giit56qiANYZ"
      }
    },
    {
      "cell_type": "markdown",
      "source": [
        "mel spectrogram을 DCT(Discrete Cosine Transform) 처리하면 얻게되는 coefficient를 말합니다. 쉽게 얘기하면, mel scale로 변환한 스펙트로그램을 더 적은 값들로 압축하는 과정이라고 볼 수 있습니다. 이미지를 압축하는 과정에서도 DCT를 사용하기도 합니다.\n",
        "\n",
        "DCT (Discrete Cosine Transform)\n",
        "DFT(Fourier) 대비 복소수 없이 실수로만 이루어져 있기 때문에 처리가 빨라 신호처리에서 사용한다고 합니다.\n",
        "\n",
        "기본적으로 DCT는 코사인 변환입니다. 즉, 푸리에 변환과 마찬가지로 어떤 그래프(또는 이미지)가 있을 때, 그 그래프를 많은 코사인 함수로 표현한다고 볼 수 있습니다. 예를 들어 Mel-spectrogram에서 주파수 값이 총 1000개 였다면, 이를 그래프화한뒤 다시 주파수 분석을 하는 것입니다.\n",
        "다시 생각해보면, 원래 음원 데이터의 RAW 데이터는 파형이라고 볼 수 있습니다. 이 복잡한 파형을, sr이 22050이라고 한다면, 초당 22050개의 점을 찍어서 만든 아주 거대한 데이터입니다.이를 주파수 분석을 하면 초당 1000개로 표현할 수 있게 됩니다. 즉, 데이터 크기의 압축이 일어나게 되며, 그 과정에서 손실이 발생합니다.\n",
        "여기에서 그 주파수 분석된 결과를 또한번 주파수 분석한다고 이해해볼 수 있겠습니다. 그렇게 되면 원래 초당 22050개의 RAW데이터가 1000개로 축소되었는데, 이를 다시 20개로 축소할 수 있게 되는 것입니다.\n",
        "\n",
        "DCT는 inverse 역변환이 가능하기 때문에, 결과적으로 20개의 값을 다시 RAW 데이터인 파형으로 돌릴 수 있습니다. 이렇게 데이터를 압축(손실압축)하는 방식이라고 볼 수 있습니다.\n",
        "\n",
        "그렇게 압축된 데이터가 바로 MFCC, coefficient 입니다.\n",
        "제가 이해한 것이 맞다면 원리는 설명한 바와 같습니다. 한번 더 깊게 생각해보면, 주파수 분석을 하게 되면 아주 작은 국소 구간에서의 값 편차는 DCT를 거칠 때 사라지게 될 것입니다. 코사인 함수의 주파수 단위로 분석하기 때문입니다. 이미지로 치면 비슷한 픽셀값들은 모두 동일한 값으로 처리되면서 압축이 될 것이며, 음원의 스펙트로그램으로 치면 비슷한 주파수 영역의 dB값은 모두 동일한 값으로 통일될 겁니다. 그렇게 데이터가 압축되고, 손실이 발생하는 구조입니다.\n",
        "\n",
        "이 때 음원의 경우, MFCC를 거치면 노이즈가 제거된다고 볼 수도 있습니다. 사소하게 튀는 값들이 모두 DCT를 거치면서 압축/손실되기 때문입니다.\n",
        "\n",
        "이렇게 MFCC를 통해 음원 혹은 음성 데이터의 주요 특징을 추출할 수 있다고 합니다. 추출된 요소가 바로 노이즈가 제거된 음원 데이터의 압축판이라고 볼 수 있지 않나 싶습니다.\n",
        "\n",
        "Librosa로 MFCC 구현하기\n",
        "Librosa에서는 RAW데이터인 음원을 바로 MFCC로 만들어주기도 하고, 혹은 그 중간과정인 STFT와 Mel-Scale 값을 받아서 만들어주기도 합니다. 기능을 다양하게 제공하니 정말 잘 만든 라이브러리인 것 같습니다.\n",
        "\n",
        "\n",
        "\n",
        "출처: https://hyongdoc.tistory.com/403?category=884319 [Doony Garage]\n"
      ],
      "metadata": {
        "id": "_Dtqp67ZzbKM"
      }
    },
    {
      "cell_type": "markdown",
      "source": [
        "# Mel Frequency Cepstral Coefficients(MFCC)\n",
        "\n",
        "앞서 구한 Spectrogram이 아닌 spectrum에 Mel-filter bank를 통과시키고, log scaling 과 역푸리에 변환(IFFT)를 취해 Cepstrum Coefficient 중 낮은 12개만 선택한다. 여기에 Energy값을 더해 총 13개의 feature를 MFCC로 정의한다. 이를 1차 차분, 2차 차분한 값을 추가해 총 39차원 벡터로 MFCC를 가장 많이 사용한다."
      ],
      "metadata": {
        "id": "9fl7gxzknK7X"
      }
    },
    {
      "cell_type": "code",
      "source": [
        "MFCCS = librosa.feature.mfcc(sound, sr, n_fft=n_fft, hop_length = hop_length, n_mfcc=13)\n",
        "\n",
        "plt.figure(figsize = (15,10))\n",
        "librosa.display.specshow(MFCCS, sr=sr, hop_length=hop_length)\n",
        "plt.xlabel(\"Time\")\n",
        "plt.ylabel(\"MFCC coefficients\")\n",
        "plt.colorbar()\n",
        "plt.title(\"MFCCs\")\n",
        "plt.show()"
      ],
      "metadata": {
        "id": "qpu46A9LksL9",
        "colab": {
          "base_uri": "https://localhost:8080/",
          "height": 605
        },
        "outputId": "48b84988-a8fb-4f7b-8e13-f7fa62a9c666"
      },
      "execution_count": 96,
      "outputs": [
        {
          "output_type": "display_data",
          "data": {
            "text/plain": [
              "<Figure size 1080x720 with 2 Axes>"
            ],
            "image/png": "[encoded data removed]"
          },
          "metadata": {
            "needs_background": "light"
          }
        }
      ]
    },
    {
      "cell_type": "markdown",
      "source": [
        "dct는 n_mfcc(n개의 데이터)를 n개의 코사인 함수의 합으로 표현하여 데이터의 양을 주이는 방식임\n",
        "\n",
        "저주파에 에너지가 집중되고 고 주파수 영역ㅇㅔ 에너지 가 감소하는ㄷㅔ\n",
        "일단 차원ㅅㅜ가 줄어들고, frequency_bin을 뭉텅ㅇㅣ로 보게도ㅣ는ㄷㅔ 차원ㅇㅣ 합쳐지면서 mel frequency영역대가 적용되기때문ㅇㅔ 저주파의 영향ㄹㅕㄱㅇㅣ 커짐\n",
        "\n",
        "filter bank는 모두 overlapping 되어 있기 때문에 filter bank에너지들 사이에 상관관계가 존재하는ㄷㅔ dct가 이 상관관계를 분해해줌."
      ],
      "metadata": {
        "id": "YqZk0zFsCRmE"
      }
    },
    {
      "cell_type": "code",
      "source": [
        "import torch\n",
        "import torchaudio\n",
        "import torchaudio.functional as F\n",
        "import torchaudio.transforms as T\n",
        "from IPython.display import Audio, display\n",
        "print(torch.__version__)\n",
        "print(torchaudio.__version__)"
      ],
      "metadata": {
        "id": "JyUoMSv6co_J"
      },
      "execution_count": null,
      "outputs": []
    },
    {
      "cell_type": "markdown",
      "source": [
        "참고\n",
        "https://velog.io/@tobigsvoice1516/wk1DSP"
      ],
      "metadata": {
        "id": "16ymcEnzAF3n"
      }
    },
    {
      "cell_type": "markdown",
      "source": [
        "# Torchaudio 연습해보기"
      ],
      "metadata": {
        "id": "ye3o7P6_oYlr"
      }
    },
    {
      "cell_type": "code",
      "source": [
        "!pip install boto3"
      ],
      "metadata": {
        "id": "OO5WkX6xJVjr"
      },
      "execution_count": null,
      "outputs": []
    },
    {
      "cell_type": "code",
      "source": [
        "import torch\n",
        "import torchaudio\n",
        "import tarfile\n",
        "import boto3\n",
        "from botocore import UNSIGNED\n",
        "from botocore.config import Config\n",
        "from IPython.display import Audio, display\n",
        "import os\n",
        "import io\n",
        "import requests\n",
        "import matplotlib.pyplot as plt"
      ],
      "metadata": {
        "id": "j6J0lAynAHwQ"
      },
      "execution_count": null,
      "outputs": []
    },
    {
      "cell_type": "code",
      "source": [
        "_SAMPLE_DIR = \"_assets\"\n",
        "SAMPLE_WAV_URL = \"https://pytorch-tutorial-assets.s3.amazonaws.com/steam-train-whistle-daniel_simon.wav\"\n",
        "SAMPLE_WAV_PATH = os.path.join(_SAMPLE_DIR, \"steam.wav\")\n",
        "\n",
        "SAMPLE_MP3_URL = \"https://pytorch-tutorial-assets.s3.amazonaws.com/steam-train-whistle-daniel_simon.mp3\"\n",
        "SAMPLE_MP3_PATH = os.path.join(_SAMPLE_DIR, \"steam.mp3\")\n",
        "\n",
        "SAMPLE_GSM_URL = \"https://pytorch-tutorial-assets.s3.amazonaws.com/steam-train-whistle-daniel_simon.gsm\"\n",
        "SAMPLE_GSM_PATH = os.path.join(_SAMPLE_DIR, \"steam.gsm\")\n",
        "\n",
        "SAMPLE_WAV_SPEECH_URL = \"https://pytorch-tutorial-assets.s3.amazonaws.com/VOiCES_devkit/source-16k/train/sp0307/Lab41-SRI-VOiCES-src-sp0307-ch127535-sg0042.wav\"  # noqa: E501\n",
        "SAMPLE_WAV_SPEECH_PATH = os.path.join(_SAMPLE_DIR, \"speech.wav\")\n",
        "\n",
        "SAMPLE_TAR_URL = \"https://pytorch-tutorial-assets.s3.amazonaws.com/VOiCES_devkit.tar.gz\"\n",
        "SAMPLE_TAR_PATH = os.path.join(_SAMPLE_DIR, \"sample.tar.gz\")\n",
        "SAMPLE_TAR_ITEM = \"VOiCES_devkit/source-16k/train/sp0307/Lab41-SRI-VOiCES-src-sp0307-ch127535-sg0042.wav\"\n",
        "\n",
        "S3_BUCKET = \"pytorch-tutorial-assets\"\n",
        "S3_KEY = \"VOiCES_devkit/source-16k/train/sp0307/Lab41-SRI-VOiCES-src-sp0307-ch127535-sg0042.wav\"\n"
      ],
      "metadata": {
        "id": "N43r0cnOof4Y"
      },
      "execution_count": null,
      "outputs": []
    },
    {
      "cell_type": "code",
      "source": [
        "def _fetch_data():\n",
        "  os.makedirs(_SAMPLE_DIR, exist_ok = True)\n",
        "  uri =[(SAMPLE_WAV_URL,SAMPLE_WAV_PATH),(SAMPLE_MP3_URL, SAMPLE_MP3_PATH),(SAMPLE_GSM_URL, SAMPLE_GSM_PATH),\n",
        "        (SAMPLE_WAV_SPEECH_URL, SAMPLE_WAV_SPEECH_PATH), (SAMPLE_TAR_URL, SAMPLE_TAR_PATH),]\n",
        "\n",
        "  for url, path in uri:\n",
        "    with open(path, 'wb')as file_:\n",
        "      file_.write(requests.get(url).content)\n",
        "\n",
        "_fetch_data()"
      ],
      "metadata": {
        "id": "ykuGaOfmpEL_"
      },
      "execution_count": null,
      "outputs": []
    },
    {
      "cell_type": "code",
      "source": [
        "def print_stats(waveform, sample_rate = None, src=None):\n",
        "  if src:\n",
        "    print('-'*10)\n",
        "    print('source: ', src)\n",
        "    print('-'*10)\n",
        "\n",
        "  if sample_rate:\n",
        "    print('sample rate', sample_rate)\n",
        "\n",
        "  print('shape:', tuple(waveform.shape))\n",
        "  print('Dtype:', waveform.dtype)\n",
        "  print(f' - Max:  {waveform.max().item():6.3f}')\n",
        "  print(f\" - Min:     {waveform.min().item():6.3f}\")\n",
        "  print(f\" - Mean:    {waveform.mean().item():6.3f}\")\n",
        "  print(f\" - Std Dev: {waveform.std().item():6.3f}\")\n",
        "  print()\n",
        "  print(waveform)\n",
        "  print()"
      ],
      "metadata": {
        "id": "7oltKxkIq94R"
      },
      "execution_count": null,
      "outputs": []
    },
    {
      "cell_type": "code",
      "source": [
        "def plot_waveform(waveform, sample_rate, title='Waveform', xlim=None, ylim=None):\n",
        "  waveform = waveform.numpy()\n",
        "  \n",
        "  num_channels, num_frames = waveform.shape\n",
        "  time_axis = torch.arange(0, num_frames)/sample_rate\n",
        "\n",
        "  figure, axes = plt.subplots(num_channels, 1)\n",
        "  if num_channels ==1:\n",
        "    axes = [axes]\n",
        "    \n",
        "  for c in range(num_channels):\n",
        "    axes[c].plot(time_axis, waveform[c], linewidth=1)\n",
        "    axes[c].grid(True)\n",
        "    if num_channels >1:\n",
        "      axes[c].set_ylabel(f'Channel {c+1}')\n",
        "    if xlim:\n",
        "      axes[c].set_xlim(xlim)\n",
        "    if ylim:\n",
        "      axes[c].set_ylim(ylim)\n",
        "\n",
        "    figure.suptitle(title)\n",
        "    plt.show(block=False)"
      ],
      "metadata": {
        "id": "9k-Fiu5ust8B"
      },
      "execution_count": null,
      "outputs": []
    },
    {
      "cell_type": "code",
      "source": [
        "def plot_specgram(waveform, sample_rate, title=\"Spectrogram\", xlim=None):\n",
        "    waveform = waveform.numpy()\n",
        "\n",
        "    num_channels, num_frames = waveform.shape\n",
        "\n",
        "    figure, axes = plt.subplots(num_channels, 1)\n",
        "    if num_channels == 1:\n",
        "        axes = [axes]\n",
        "    for c in range(num_channels):\n",
        "        axes[c].specgram(waveform[c], Fs=sample_rate)\n",
        "        if num_channels > 1:\n",
        "            axes[c].set_ylabel(f\"Channel {c+1}\")\n",
        "        if xlim:\n",
        "            axes[c].set_xlim(xlim)\n",
        "    figure.suptitle(title)\n",
        "    plt.show(block=False)"
      ],
      "metadata": {
        "id": "NPSLODwj_dL8"
      },
      "execution_count": null,
      "outputs": []
    },
    {
      "cell_type": "code",
      "source": [
        "waveform.shape()"
      ],
      "metadata": {
        "id": "HBDXDINiH7xj"
      },
      "execution_count": null,
      "outputs": []
    },
    {
      "cell_type": "code",
      "source": [
        "def play_audio(waveform, sample_rate):\n",
        "  waveform = waveform.numpy()\n",
        "\n",
        "  num_channels, num_frames = waveform.shape\n",
        "  if num_channels ==1:\n",
        "    display(Audio(waveform[0], rate=sample_rate))\n",
        "  elif num_channels ==2:\n",
        "    display(Audio(waveform[0], waveform[1], rate=sample_rate))\n",
        "  else:\n",
        "    raise ValueError('Waveform with more than 2 channels are not supported.')\n",
        "\n"
      ],
      "metadata": {
        "id": "sdRMfMHsvAht"
      },
      "execution_count": null,
      "outputs": []
    },
    {
      "cell_type": "code",
      "source": [
        "print(waveform[0])"
      ],
      "metadata": {
        "id": "p1MYgTuKIn90"
      },
      "execution_count": null,
      "outputs": []
    },
    {
      "cell_type": "code",
      "source": [
        "def _get_sample(path, resample = None):\n",
        "  effects = [['remix','1']]\n",
        "  if resample:\n",
        "    effects.extend([\n",
        "                    ['lowpass', f'{resample//2}'],\n",
        "                    ['rate', f'{resample}'],\n",
        "    ])\n",
        "  return torchaudio.sox_effects.apply_effects_file(path, effects=effects)\n",
        "\n",
        "\n",
        "\n",
        "def get_sample(*, resample = None):\n",
        "  return _get_sample(SAMPLE_WAV_PATH, resample=resample)\n",
        "\n",
        "def inspect_file(path):\n",
        "  print('-' * 10)\n",
        "  print('source:', path)\n",
        "  print('-' * 10)\n",
        "  print(f' - File size: {os.path.getsize(path)} bytes')\n",
        "  print(f' - {torchaudio.info(path)}')"
      ],
      "metadata": {
        "id": "wTfKkwzTvb1-"
      },
      "execution_count": null,
      "outputs": []
    },
    {
      "cell_type": "markdown",
      "source": [
        "#### torchaudio.sox_effects : resource 초기화/셧다운 방법\n",
        "\n",
        "This function only works on CPU Tensors. This function works in the way very similar to sox command, however there are slight differences. For example, sox command adds certain effects automatically (such as rate effect after speed and pitch and other effects), but this function does only applies the given effects. (Therefore, to actually apply speed effect, you also need to give rate effect with desired sampling rate.)."
      ],
      "metadata": {
        "id": "qdR-2y9W-IKc"
      }
    },
    {
      "cell_type": "code",
      "source": [
        "metadata = torchaudio.info(SAMPLE_WAV_PATH)\n",
        "print(metadata)\n",
        "\n",
        "#bits_per_sample is bit depth"
      ],
      "metadata": {
        "id": "I24s8asYysbg"
      },
      "execution_count": null,
      "outputs": []
    },
    {
      "cell_type": "code",
      "source": [
        "metadata = torchaudio.info(SAMPLE_MP3_PATH)\n",
        "print(metadata)\n",
        "\n",
        "metadata = torchaudio.info(SAMPLE_GSM_PATH)\n",
        "print(metadata)"
      ],
      "metadata": {
        "id": "CYMC0CvKzFCX"
      },
      "execution_count": null,
      "outputs": []
    },
    {
      "cell_type": "code",
      "source": [
        "print(\"Source:\", SAMPLE_WAV_URL)\n",
        "with requests.get(SAMPLE_WAV_URL, stream=True) as response:\n",
        "    metadata = torchaudio.info(response.raw)\n",
        "print(metadata)\n"
      ],
      "metadata": {
        "id": "tBmSMBSszF0K"
      },
      "execution_count": null,
      "outputs": []
    },
    {
      "cell_type": "code",
      "source": [
        "print(\"Source:\", SAMPLE_MP3_URL)\n",
        "with requests.get(SAMPLE_MP3_URL, stream=True) as response:\n",
        "    metadata = torchaudio.info(response.raw, format=\"mp3\")\n",
        "\n",
        "    print(f\"Fetched {response.raw.tell()} bytes.\")\n",
        "print(metadata)"
      ],
      "metadata": {
        "id": "kGDVOktHzPsO"
      },
      "execution_count": null,
      "outputs": []
    },
    {
      "cell_type": "markdown",
      "source": [
        "# Loading audio data into Tensor"
      ],
      "metadata": {
        "id": "EQRywe1h6yTW"
      }
    },
    {
      "cell_type": "code",
      "source": [
        "waveform, sample_rate = torchaudio.load(SAMPLE_WAV_SPEECH_PATH)\n",
        "\n",
        "print_stats(waveform, sample_rate = sample_rate)\n",
        "plot_waveform(waveform, sample_rate)\n",
        "plot_specgram(waveform, sample_rate)\n",
        "play_audio(waveform, sample_rate)\n"
      ],
      "metadata": {
        "id": "lwQ7OQwQzdCa"
      },
      "execution_count": null,
      "outputs": []
    },
    {
      "cell_type": "markdown",
      "source": [
        "# Loading from file-like object\n",
        "\n",
        "torchaudio’s I/O functions now support file-like objects. This allows for fetching and decoding audio data from locations within and beyond the local file system. The following examples illustrate this."
      ],
      "metadata": {
        "id": "y82x6pTwbTmk"
      }
    },
    {
      "cell_type": "code",
      "source": [
        "# Load audio data as HTTP request\n",
        "with requests.get(SAMPLE_WAV_SPEECH_URL, stream=True)as response:\n",
        "  waveform, sample_rate = torchaudio.load(response.raw)\n",
        "plot_specgram(waveform, sample_rate, title= 'HTTP datasource')\n",
        "\n",
        "# Load audio from the file\n",
        "with tarfile.open(SAMPLE_TAR_PATH, mode='r') as tarfile_:\n",
        "  fileobj = tarfile_.extractfile(SAMPLE_TAR_ITEM)\n",
        "  waveform, sample_rate = torchaudio.load(fileobj)\n",
        "plot_specgram(waveform, sample_rate, title='TAR file')\n",
        "\n",
        "# Load audio from S3\n",
        "client = boto3.client('s3', config = Config(signature_version =UNSIGNED))\n",
        "response = client.get_object(Bucket=S3_BUCKET, Key=S3_KEY)\n",
        "waveform, sample_rate = torchaudio.load(response['Body'])\n",
        "plot_specgram(waveform, sample_rate, title='From S3')"
      ],
      "metadata": {
        "id": "Mj37UifnbYog"
      },
      "execution_count": null,
      "outputs": []
    },
    {
      "cell_type": "markdown",
      "source": [
        "# Tips on slicing\n",
        "\n",
        "Providing num_frames and frame_offset arguments restricts decoding to the corresponding segment of the input.\n",
        "\n",
        "The same result can be achieved using vanilla Tensor slicing, (i.e. waveform[:, frame_offset:frame_offset+num_frames]). However, providing num_frames and frame_offset arguments is more efficient.\n",
        "\n",
        "This is because the function will end data acquisition and decoding once it finishes decoding the requested frames. This is advantageous when the audio data are transferred via network as the data transfer will stop as soon as the necessary amount of data is fetched."
      ],
      "metadata": {
        "id": "hDHS7Xf3pk-1"
      }
    },
    {
      "cell_type": "code",
      "source": [
        "frame_offset, num_frames = 16000, 16000"
      ],
      "metadata": {
        "id": "47LeLcWmpkZx"
      },
      "execution_count": null,
      "outputs": []
    },
    {
      "cell_type": "code",
      "source": [
        "print(\"Fetching all the data...\")\n",
        "with requests.get(SAMPLE_WAV_SPEECH_URL, stream=True) as response:\n",
        "    waveform1, sample_rate1 = torchaudio.load(response.raw)\n",
        "    waveform1 = waveform1[:, frame_offset : frame_offset +num_frames]\n",
        "    print(f\" - Fetched {response.raw.tell()} bytes\")\n",
        "\n",
        "print('Fetching until the requested frames are available...')\n",
        "with requests.get(SAMPLE_WAV_SPEECH_URL, stream=True) as response:\n",
        "  waveform2,sample_rate2 = torchaudio.load(response.raw, frame_offset=frame_offset, num_frames=num_frames)\n",
        "  print(f' - Fetched {response.raw.tell()}bytes')\n",
        "\n",
        "print('checking the resulting waveform ...', end ='')\n",
        "assert (waveform1 == waveform2).all()\n",
        "print('matched')\n",
        "\n",
        "\n",
        "#frame_offset (int) – Number of frames to skip before start reading data.\n",
        "#num_frames (int, optional) – Maximum number of frames to read. -1 reads all the remaining samples, starting from frame_offset. This function may return the less number of frames if there is not enough frames in the given file."
      ],
      "metadata": {
        "id": "TyKwoIbRfKq0"
      },
      "execution_count": null,
      "outputs": []
    },
    {
      "cell_type": "markdown",
      "source": [
        "# Saving audio to file\n",
        "To save audio data in formats interpretable by common applications, you can use 'torchaudio.save().'\n",
        "\n",
        "This function accepts a path-like object or file-like object.\n",
        "\n",
        "When passing a file-like object, you also need to provide argument format so that the function knows which format it should use. In the case of a path-like object, the function will infer the format from the extension. If you are saving to a file without an extension, you need to provide argument format.\n",
        "\n",
        "When saving WAV-formatted data, the default encoding for float32 Tensor is 32-bit floating-point PCM. You can provide arguments encoding and bits_per_sample to change this behavior. For example, to save data in 16-bit signed integer PCM, you can do the following.\n",
        "\n",
        "Note Saving data in encodings with lower bit depth reduces the resulting file size but also precision.\n",
        "\n",
        "\n",
        "\n",
        "#### - encoding (str or None, optional) –\n",
        "\n",
        "Changes the encoding for the supported formats. This argument is effective only for supported formats, such as \"wav\", \"\"amb\" and \"sph\". Valid values are;\n",
        "\n",
        "        \"PCM_S\" (signed integer Linear PCM)\n",
        "\n",
        "        \"PCM_U\" (unsigned integer Linear PCM)\n",
        "\n",
        "        \"PCM_F\" (floating point PCM)\n",
        "\n",
        "        \"ULAW\" (mu-law)\n",
        "\n",
        "        \"ALAW\" (a-law)\n",
        "\n",
        "\n"
      ],
      "metadata": {
        "id": "huqAVMdC1H_0"
      }
    },
    {
      "cell_type": "code",
      "source": [
        "\n",
        "waveform, sample_rate = get_sample()\n",
        "print_stats(waveform, sample_rate = sample_rate)\n",
        "\n",
        "path = f'{_SAMPLE_DIR}/save_example_default.wav'\n",
        "torchaudio.save(path, waveform, sample_rate)\n",
        "inspect_file(path)\n",
        "\n",
        "path = f'{_SAMPLE_DIR}/save_example_PCM_S16.wav'\n",
        "torchaudio.save(path, waveform, sample_rate, encoding = 'PCM_S', bits_per_sample=16 )\n",
        "inspect_file(path)\n",
        "\n",
        "\n",
        "#PCM방식은 시시각각 변화하는 음성신호와 텔레비전 등의 영상 정보신호(아날로그 신호)를 일정한 간격으로 섬세하게 분할하여 \n",
        "#그 하나 하나를 1이나 0으로 부호화 하여 전송ㆍ녹음하고, 수신할 때나 재생할 때에는 다시 아날로그 신호로 고쳐서 정보를 파악하는 방법이다.\n"
      ],
      "metadata": {
        "id": "6Ou2ljzEwcCg"
      },
      "execution_count": null,
      "outputs": []
    },
    {
      "cell_type": "code",
      "source": [
        "waveform, sample_rate = get_sample(resample=8000)\n",
        "\n",
        "formats = [\n",
        "    \"mp3\",\n",
        "    \"flac\",\n",
        "    \"vorbis\",\n",
        "    \"sph\",\n",
        "    \"amb\",\n",
        "    \"amr-nb\",\n",
        "    \"gsm\",\n",
        "]\n",
        "\n",
        "for format in formats:\n",
        "  path = f'{_SAMPLE_DIR}/save_example.{format}'\n",
        "  torchaudio.save(path, waveform, sample_rate, format = format)\n",
        "  inspect_file(path)"
      ],
      "metadata": {
        "id": "KsaZd80V6vql"
      },
      "execution_count": null,
      "outputs": []
    },
    {
      "cell_type": "markdown",
      "source": [
        "# Saving to file-like object\n",
        "\n",
        "Similar to the other I/O functions, you can save audio to file-like objects. When saving to a file-like object, argument format is required."
      ],
      "metadata": {
        "id": "T1YnDZGp7a58"
      }
    },
    {
      "cell_type": "code",
      "source": [
        "waveform, sample_rate = get_sample()\n",
        "\n",
        "# Saving to bytes buffer\n",
        "buffer_ = io.BytesIO()\n",
        "torchaudio.save(buffer_, waveform, sample_rate, format=\"wav\")\n",
        "\n",
        "buffer_.seek(0)\n",
        "print(buffer_.read(16))"
      ],
      "metadata": {
        "id": "2xK7H3nU7Z6r"
      },
      "execution_count": null,
      "outputs": []
    },
    {
      "cell_type": "markdown",
      "source": [
        "# Audio Resampling\n"
      ],
      "metadata": {
        "id": "1utL-r41IIDu"
      }
    },
    {
      "cell_type": "code",
      "source": [
        "import torchaudio.functional as F\n",
        "import torchaudio.transforms as T"
      ],
      "metadata": {
        "id": "ho4chsmhIGwk"
      },
      "execution_count": null,
      "outputs": []
    },
    {
      "cell_type": "code",
      "source": [
        ""
      ],
      "metadata": {
        "id": "ckWT0puGITKP"
      },
      "execution_count": null,
      "outputs": []
    }
  ]
}