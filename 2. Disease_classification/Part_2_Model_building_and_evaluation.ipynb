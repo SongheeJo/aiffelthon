{
  "cells": [
    {
      "cell_type": "markdown",
      "source": [
        "# Part 2\n",
        "\n",
        "## Model building and Evaluation\n"
      ],
      "metadata": {
        "id": "VYRnupWIUXZy"
      }
    },
    {
      "metadata": {
        "id": "_G20zVbziYMG"
      },
      "cell_type": "markdown",
      "source": [
        "# Testing Features\n",
        "\n",
        "> Lets create model using Keras **Functional API** to check how the features perform.\n",
        "\n"
      ]
    },
    {
      "metadata": {
        "trusted": true,
        "id": "OsytN3RSiYMG"
      },
      "cell_type": "code",
      "source": [
        "file_name = '/content/drive/MyDrive/aiffel/aiffelthon/model/checkpoint-epoch-{}-trial-001.h5'.format(EPOCHS)\n",
        "my_callbacks = [\n",
        "    tf.keras.callbacks.EarlyStopping(patience=5),\n",
        "    tf.keras.callbacks.ReduceLROnPlateau(monitor='val_loss', factor=0.1,\n",
        "                              patience=3, min_lr=1e-8,mode='min'), #미분하다 막히면 lr 변경해줌\n",
        "    tf.keras.callbacks.ModelCheckpoint(file_name, monitor='val_loss', verbose=0, save_best_only=True,)\n",
        "]"
      ],
      "execution_count": null,
      "outputs": []
    },
    {
      "metadata": {
        "id": "6hd8GpPKiYMH"
      },
      "cell_type": "markdown",
      "source": [
        "* Here i m creating **three** different **CNN** and then Combining them to a **Dense Network**."
      ]
    },
    {
      "cell_type": "markdown",
      "source": [
        "##MFCC model"
      ],
      "metadata": {
        "id": "5ucIn02ZlbDS"
      }
    },
    {
      "metadata": {
        "trusted": true,
        "id": "SVxqF2teiYMH"
      },
      "cell_type": "code",
      "source": [
        "mfcc_input=keras.layers.Input(shape=(20,259,1),name=\"mfccInput\")\n",
        "x=keras.layers.Conv2D(32,5,strides=(1,3),padding='same')(mfcc_input) # (20, 87, 32)\n",
        "x=keras.layers.BatchNormalization()(x)\n",
        "x=keras.layers.Activation(keras.activations.relu)(x)\n",
        "x=keras.layers.MaxPooling2D(pool_size=2,padding='valid')(x) # (10, 43, 32)\n",
        "\n",
        "x=keras.layers.Conv2D(64,3,strides=(1,2),padding='same')(x) # (10, 22, 64)\n",
        "x=keras.layers.BatchNormalization()(x)\n",
        "x=keras.layers.Activation(keras.activations.relu)(x)\n",
        "x=keras.layers.MaxPooling2D(pool_size=2,padding='valid')(x) # (5, 11, 64)\n",
        "\n",
        "x=keras.layers.Conv2D(96,2,padding='same')(x) # (5, 11, 96)\n",
        "x=keras.layers.BatchNormalization()(x)\n",
        "x=keras.layers.Activation(keras.activations.relu)(x)\n",
        "x=keras.layers.MaxPooling2D(pool_size=2,padding='valid')(x) # (2, 5, 96)\n",
        "\n",
        "x=keras.layers.Conv2D(128,2,padding='same')(x) # (2, 5, 128)\n",
        "x=keras.layers.BatchNormalization()(x)\n",
        "x=keras.layers.Activation(keras.activations.relu)(x)\n",
        "mfcc_output=keras.layers.GlobalMaxPooling2D()(x) # (, 128)\n",
        "\n",
        "mfcc_model=keras.Model(mfcc_input, mfcc_output, name=\"mfccModel\")"
      ],
      "execution_count": null,
      "outputs": []
    },
    {
      "metadata": {
        "trusted": true,
        "colab": {
          "base_uri": "https://localhost:8080/"
        },
        "id": "iQWXo81TiYMH",
        "outputId": "35b467d0-c8ca-4701-e2da-ef836abf2878"
      },
      "cell_type": "code",
      "source": [
        "mfcc_model.summary()"
      ],
      "execution_count": null,
      "outputs": [
        {
          "output_type": "stream",
          "name": "stdout",
          "text": [
            "Model: \"mfccModel\"\n",
            "_________________________________________________________________\n",
            " Layer (type)                Output Shape              Param #   \n",
            "=================================================================\n",
            " mfccInput (InputLayer)      [(None, 20, 259, 1)]      0         \n",
            "                                                                 \n",
            " conv2d (Conv2D)             (None, 20, 87, 32)        832       \n",
            "                                                                 \n",
            " batch_normalization (BatchN  (None, 20, 87, 32)       128       \n",
            " ormalization)                                                   \n",
            "                                                                 \n",
            " activation (Activation)     (None, 20, 87, 32)        0         \n",
            "                                                                 \n",
            " max_pooling2d (MaxPooling2D  (None, 10, 43, 32)       0         \n",
            " )                                                               \n",
            "                                                                 \n",
            " conv2d_1 (Conv2D)           (None, 10, 22, 64)        18496     \n",
            "                                                                 \n",
            " batch_normalization_1 (Batc  (None, 10, 22, 64)       256       \n",
            " hNormalization)                                                 \n",
            "                                                                 \n",
            " activation_1 (Activation)   (None, 10, 22, 64)        0         \n",
            "                                                                 \n",
            " max_pooling2d_1 (MaxPooling  (None, 5, 11, 64)        0         \n",
            " 2D)                                                             \n",
            "                                                                 \n",
            " conv2d_2 (Conv2D)           (None, 5, 11, 96)         24672     \n",
            "                                                                 \n",
            " batch_normalization_2 (Batc  (None, 5, 11, 96)        384       \n",
            " hNormalization)                                                 \n",
            "                                                                 \n",
            " activation_2 (Activation)   (None, 5, 11, 96)         0         \n",
            "                                                                 \n",
            " max_pooling2d_2 (MaxPooling  (None, 2, 5, 96)         0         \n",
            " 2D)                                                             \n",
            "                                                                 \n",
            " conv2d_3 (Conv2D)           (None, 2, 5, 128)         49280     \n",
            "                                                                 \n",
            " batch_normalization_3 (Batc  (None, 2, 5, 128)        512       \n",
            " hNormalization)                                                 \n",
            "                                                                 \n",
            " activation_3 (Activation)   (None, 2, 5, 128)         0         \n",
            "                                                                 \n",
            " global_max_pooling2d (Globa  (None, 128)              0         \n",
            " lMaxPooling2D)                                                  \n",
            "                                                                 \n",
            "=================================================================\n",
            "Total params: 94,560\n",
            "Trainable params: 93,920\n",
            "Non-trainable params: 640\n",
            "_________________________________________________________________\n"
          ]
        }
      ]
    },
    {
      "cell_type": "markdown",
      "source": [
        "##CSTFT model"
      ],
      "metadata": {
        "id": "3x9QC6a4rR-Z"
      }
    },
    {
      "metadata": {
        "trusted": true,
        "id": "xbXF0_sCiYMH"
      },
      "cell_type": "code",
      "source": [
        "croma_input=keras.layers.Input(shape=(12,259,1),name=\"cromaInput\")\n",
        "x=keras.layers.Conv2D(32,5,strides=(1,3),padding='same')(croma_input)\n",
        "x=keras.layers.BatchNormalization()(x)\n",
        "x=keras.layers.Activation(keras.activations.relu)(x)\n",
        "x=keras.layers.MaxPooling2D(pool_size=2,padding='valid')(x)\n",
        "\n",
        "\n",
        "x=keras.layers.Conv2D(64,3,strides=(1,2),padding='same')(x)\n",
        "x=keras.layers.Activation(keras.activations.relu)(x)\n",
        "x=keras.layers.MaxPooling2D(pool_size=2,padding='valid')(x)\n",
        "\n",
        "x=keras.layers.Conv2D(128,2,padding='same')(x)\n",
        "x=keras.layers.BatchNormalization()(x)\n",
        "x=keras.layers.Activation(keras.activations.relu)(x)\n",
        "croma_output=keras.layers.GlobalMaxPooling2D()(x)\n",
        "\n",
        "croma_model=keras.Model(croma_input, croma_output, name=\"cromaModel\")"
      ],
      "execution_count": null,
      "outputs": []
    },
    {
      "metadata": {
        "trusted": true,
        "colab": {
          "base_uri": "https://localhost:8080/"
        },
        "id": "WfKrTq21iYMI",
        "outputId": "6850e4da-8b47-4b33-e330-15c2c2ce98ec"
      },
      "cell_type": "code",
      "source": [
        "croma_model.summary()"
      ],
      "execution_count": null,
      "outputs": [
        {
          "output_type": "stream",
          "name": "stdout",
          "text": [
            "Model: \"cromaModel\"\n",
            "_________________________________________________________________\n",
            " Layer (type)                Output Shape              Param #   \n",
            "=================================================================\n",
            " cromaInput (InputLayer)     [(None, 12, 259, 1)]      0         \n",
            "                                                                 \n",
            " conv2d_4 (Conv2D)           (None, 12, 87, 32)        832       \n",
            "                                                                 \n",
            " batch_normalization_4 (Batc  (None, 12, 87, 32)       128       \n",
            " hNormalization)                                                 \n",
            "                                                                 \n",
            " activation_4 (Activation)   (None, 12, 87, 32)        0         \n",
            "                                                                 \n",
            " max_pooling2d_3 (MaxPooling  (None, 6, 43, 32)        0         \n",
            " 2D)                                                             \n",
            "                                                                 \n",
            " conv2d_5 (Conv2D)           (None, 6, 22, 64)         18496     \n",
            "                                                                 \n",
            " batch_normalization_5 (Batc  (None, 6, 22, 64)        256       \n",
            " hNormalization)                                                 \n",
            "                                                                 \n",
            " activation_5 (Activation)   (None, 6, 22, 64)         0         \n",
            "                                                                 \n",
            " max_pooling2d_4 (MaxPooling  (None, 3, 11, 64)        0         \n",
            " 2D)                                                             \n",
            "                                                                 \n",
            " conv2d_6 (Conv2D)           (None, 3, 11, 128)        32896     \n",
            "                                                                 \n",
            " batch_normalization_6 (Batc  (None, 3, 11, 128)       512       \n",
            " hNormalization)                                                 \n",
            "                                                                 \n",
            " activation_6 (Activation)   (None, 3, 11, 128)        0         \n",
            "                                                                 \n",
            " global_max_pooling2d_1 (Glo  (None, 128)              0         \n",
            " balMaxPooling2D)                                                \n",
            "                                                                 \n",
            "=================================================================\n",
            "Total params: 53,120\n",
            "Trainable params: 52,672\n",
            "Non-trainable params: 448\n",
            "_________________________________________________________________\n"
          ]
        }
      ]
    },
    {
      "cell_type": "markdown",
      "source": [
        "##MSPEC model"
      ],
      "metadata": {
        "id": "dT_dpUcMtjQ6"
      }
    },
    {
      "metadata": {
        "trusted": true,
        "id": "iBS9t0KAiYMI"
      },
      "cell_type": "code",
      "source": [
        "mSpec_input=keras.layers.Input(shape=(128,259,1),name=\"mSpecInput\")\n",
        "x=keras.layers.Conv2D(32,5,strides=(2,3),padding='same')(mSpec_input)\n",
        "x=keras.layers.BatchNormalization()(x)\n",
        "x=keras.layers.Activation(keras.activations.relu)(x)\n",
        "x=keras.layers.MaxPooling2D(pool_size=2,padding='valid')(x)\n",
        "\n",
        "x=keras.layers.Conv2D(64,3,strides=(2,2),padding='same')(x)\n",
        "x=keras.layers.BatchNormalization()(x)\n",
        "x=keras.layers.Activation(keras.activations.relu)(x)\n",
        "x=keras.layers.MaxPooling2D(pool_size=2,padding='valid')(x)\n",
        "\n",
        "x=keras.layers.Conv2D(96,2,padding='same')(x)\n",
        "x=keras.layers.BatchNormalization()(x)\n",
        "x=keras.layers.Activation(keras.activations.relu)(x)\n",
        "x=keras.layers.MaxPooling2D(pool_size=2,padding='valid')(x)\n",
        "\n",
        "x=keras.layers.Conv2D(128,2,padding='same')(x)\n",
        "x=keras.layers.BatchNormalization()(x)\n",
        "x=keras.layers.Activation(keras.activations.relu)(x)\n",
        "mSpec_output=keras.layers.GlobalMaxPooling2D()(x)\n",
        "\n",
        "mSpec_model=keras.Model(mSpec_input, mSpec_output, name=\"mSpecModel\")"
      ],
      "execution_count": null,
      "outputs": []
    },
    {
      "cell_type": "code",
      "source": [
        "##########################################모델 변경######################################################## \n",
        "\n",
        "mSpec_input=keras.layers.Input(shape=(128,259,1),name=\"mSpecInput\")\n",
        "x=keras.layers.Conv2D(32,5,strides=(2,3),padding='same')(mSpec_input) # (64, 87, 32)\n",
        "x=keras.layers.BatchNormalization()(x)\n",
        "x=keras.layers.Activation(keras.activations.relu)(x)\n",
        "x=keras.layers.MaxPooling2D(pool_size=2,padding='valid')(x) # (32, 43, 32)\n",
        "\n",
        "skip_x = x # (32, 43, 32) #skip connection 추가\n",
        "skip_x = keras.layers.Conv2D(96,3,strides=(4,4),padding='same')(skip_x) #(8, 11, 96)\n",
        "\n",
        "x=keras.layers.Conv2D(64,3,strides=(2,2),padding='same')(x) #(16, 22, 64)\n",
        "x=keras.layers.BatchNormalization()(x)\n",
        "x=keras.layers.Activation(keras.activations.relu)(x)\n",
        "x=keras.layers.MaxPooling2D(pool_size=2,padding='valid')(x) #(8, 11, 64)\n",
        "\n",
        "x=keras.layers.Conv2D(96,2,padding='same')(x) #(8, 11, 96)\n",
        "x = keras.layers.Add()([x,skip_x])\n",
        "\n",
        "x=keras.layers.BatchNormalization()(x)\n",
        "x=keras.layers.Activation(keras.activations.relu)(x)\n",
        "x=keras.layers.MaxPooling2D(pool_size=2,padding='valid')(x) #(4, 5, 96)\n",
        "\n",
        "x=keras.layers.Conv2D(128,2,padding='same')(x) #(4, 5, 128)\n",
        "x=keras.layers.BatchNormalization()(x)\n",
        "x=keras.layers.Activation(keras.activations.relu)(x)\n",
        "mSpec_output=keras.layers.GlobalMaxPooling2D()(x) #(, 128)\n",
        "\n",
        "mSpec_model_1=keras.Model(mSpec_input, mSpec_output, name=\"mSpecModel_1\")"
      ],
      "metadata": {
        "id": "RNfrm_0Ytony"
      },
      "execution_count": null,
      "outputs": []
    },
    {
      "cell_type": "code",
      "source": [
        "mSpec_model_1.summary()"
      ],
      "metadata": {
        "colab": {
          "base_uri": "https://localhost:8080/"
        },
        "id": "KZi2vhK7tqVS",
        "outputId": "27dd7da4-a528-4944-9d06-769641ff5b23"
      },
      "execution_count": null,
      "outputs": [
        {
          "output_type": "stream",
          "name": "stdout",
          "text": [
            "Model: \"mSpecModel_1\"\n",
            "__________________________________________________________________________________________________\n",
            " Layer (type)                   Output Shape         Param #     Connected to                     \n",
            "==================================================================================================\n",
            " mSpecInput (InputLayer)        [(None, 128, 259, 1  0           []                               \n",
            "                                )]                                                                \n",
            "                                                                                                  \n",
            " conv2d_19 (Conv2D)             (None, 64, 87, 32)   832         ['mSpecInput[0][0]']             \n",
            "                                                                                                  \n",
            " batch_normalization_18 (BatchN  (None, 64, 87, 32)  128         ['conv2d_19[0][0]']              \n",
            " ormalization)                                                                                    \n",
            "                                                                                                  \n",
            " activation_18 (Activation)     (None, 64, 87, 32)   0           ['batch_normalization_18[0][0]'] \n",
            "                                                                                                  \n",
            " max_pooling2d_13 (MaxPooling2D  (None, 32, 43, 32)  0           ['activation_18[0][0]']          \n",
            " )                                                                                                \n",
            "                                                                                                  \n",
            " conv2d_21 (Conv2D)             (None, 16, 22, 64)   18496       ['max_pooling2d_13[0][0]']       \n",
            "                                                                                                  \n",
            " batch_normalization_19 (BatchN  (None, 16, 22, 64)  256         ['conv2d_21[0][0]']              \n",
            " ormalization)                                                                                    \n",
            "                                                                                                  \n",
            " activation_19 (Activation)     (None, 16, 22, 64)   0           ['batch_normalization_19[0][0]'] \n",
            "                                                                                                  \n",
            " max_pooling2d_14 (MaxPooling2D  (None, 8, 11, 64)   0           ['activation_19[0][0]']          \n",
            " )                                                                                                \n",
            "                                                                                                  \n",
            " conv2d_22 (Conv2D)             (None, 8, 11, 96)    24672       ['max_pooling2d_14[0][0]']       \n",
            "                                                                                                  \n",
            " conv2d_20 (Conv2D)             (None, 8, 11, 96)    27744       ['max_pooling2d_13[0][0]']       \n",
            "                                                                                                  \n",
            " add_2 (Add)                    (None, 8, 11, 96)    0           ['conv2d_22[0][0]',              \n",
            "                                                                  'conv2d_20[0][0]']              \n",
            "                                                                                                  \n",
            " batch_normalization_20 (BatchN  (None, 8, 11, 96)   384         ['add_2[0][0]']                  \n",
            " ormalization)                                                                                    \n",
            "                                                                                                  \n",
            " activation_20 (Activation)     (None, 8, 11, 96)    0           ['batch_normalization_20[0][0]'] \n",
            "                                                                                                  \n",
            " max_pooling2d_15 (MaxPooling2D  (None, 4, 5, 96)    0           ['activation_20[0][0]']          \n",
            " )                                                                                                \n",
            "                                                                                                  \n",
            " conv2d_23 (Conv2D)             (None, 4, 5, 128)    49280       ['max_pooling2d_15[0][0]']       \n",
            "                                                                                                  \n",
            " batch_normalization_21 (BatchN  (None, 4, 5, 128)   512         ['conv2d_23[0][0]']              \n",
            " ormalization)                                                                                    \n",
            "                                                                                                  \n",
            " activation_21 (Activation)     (None, 4, 5, 128)    0           ['batch_normalization_21[0][0]'] \n",
            "                                                                                                  \n",
            " global_max_pooling2d_5 (Global  (None, 128)         0           ['activation_21[0][0]']          \n",
            " MaxPooling2D)                                                                                    \n",
            "                                                                                                  \n",
            "==================================================================================================\n",
            "Total params: 122,304\n",
            "Trainable params: 121,664\n",
            "Non-trainable params: 640\n",
            "__________________________________________________________________________________________________\n"
          ]
        }
      ]
    },
    {
      "cell_type": "markdown",
      "source": [
        "##ADD model"
      ],
      "metadata": {
        "id": "sCXJlNXstraC"
      }
    },
    {
      "cell_type": "code",
      "source": [
        "input_mfcc=keras.layers.Input(shape=(20,259,1),name=\"mfcc\")\n",
        "MFCC=mfcc_model(input_mfcc) #mfcc는 mfcc model에 대한 output\n",
        "\n",
        "input_croma=keras.layers.Input(shape=(12,259,1),name=\"croma\")\n",
        "CROMA=croma_model(input_croma)\n",
        "\n",
        "input_mSpec=keras.layers.Input(shape=(128,259,1),name=\"mspec\")\n",
        "MSPEC=mSpec_model_1(input_mSpec)\n",
        "\n",
        "\n",
        "concat=keras.layers.concatenate([MFCC,CROMA,MSPEC])\n",
        "hidden=keras.layers.Dropout(0.2)(concat)\n",
        "hidden=keras.layers.Dense(50,activation='relu')(concat)\n",
        "hidden=keras.layers.Dropout(0.3)(hidden)\n",
        "hidden=keras.layers.Dense(25,activation='relu')(hidden)\n",
        "hidden=keras.layers.Dropout(0.3)(hidden)\n",
        "output=keras.layers.Dense(8,activation='softmax')(hidden)\n",
        "\n",
        "net_1=keras.Model([input_mfcc,input_croma,input_mSpec], output, name=\"Net\")"
      ],
      "metadata": {
        "id": "7_EWBtAPu_95"
      },
      "execution_count": null,
      "outputs": []
    },
    {
      "cell_type": "code",
      "source": [
        "net_1.summary()"
      ],
      "metadata": {
        "colab": {
          "base_uri": "https://localhost:8080/"
        },
        "id": "tPvlELlEvB4x",
        "outputId": "20c82fbf-3658-499f-e4f4-d4069b6fa36e"
      },
      "execution_count": null,
      "outputs": [
        {
          "output_type": "stream",
          "name": "stdout",
          "text": [
            "Model: \"Net\"\n",
            "__________________________________________________________________________________________________\n",
            " Layer (type)                   Output Shape         Param #     Connected to                     \n",
            "==================================================================================================\n",
            " mfcc (InputLayer)              [(None, 20, 259, 1)  0           []                               \n",
            "                                ]                                                                 \n",
            "                                                                                                  \n",
            " croma (InputLayer)             [(None, 12, 259, 1)  0           []                               \n",
            "                                ]                                                                 \n",
            "                                                                                                  \n",
            " mspec (InputLayer)             [(None, 128, 259, 1  0           []                               \n",
            "                                )]                                                                \n",
            "                                                                                                  \n",
            " mfccModel (Functional)         (None, 128)          94560       ['mfcc[0][0]']                   \n",
            "                                                                                                  \n",
            " cromaModel (Functional)        (None, 128)          53120       ['croma[0][0]']                  \n",
            "                                                                                                  \n",
            " mSpecModel_1 (Functional)      (None, 128)          122304      ['mspec[0][0]']                  \n",
            "                                                                                                  \n",
            " concatenate (Concatenate)      (None, 384)          0           ['mfccModel[1][0]',              \n",
            "                                                                  'cromaModel[1][0]',             \n",
            "                                                                  'mSpecModel_1[2][0]']           \n",
            "                                                                                                  \n",
            " dense (Dense)                  (None, 50)           19250       ['concatenate[0][0]']            \n",
            "                                                                                                  \n",
            " dropout_1 (Dropout)            (None, 50)           0           ['dense[0][0]']                  \n",
            "                                                                                                  \n",
            " dense_1 (Dense)                (None, 25)           1275        ['dropout_1[0][0]']              \n",
            "                                                                                                  \n",
            " dropout_2 (Dropout)            (None, 25)           0           ['dense_1[0][0]']                \n",
            "                                                                                                  \n",
            " dense_2 (Dense)                (None, 8)            208         ['dropout_2[0][0]']              \n",
            "                                                                                                  \n",
            "==================================================================================================\n",
            "Total params: 290,717\n",
            "Trainable params: 288,989\n",
            "Non-trainable params: 1,728\n",
            "__________________________________________________________________________________________________\n"
          ]
        }
      ]
    },
    {
      "cell_type": "markdown",
      "source": [
        "##NET_1"
      ],
      "metadata": {
        "id": "1rqqe4ulvsPO"
      }
    },
    {
      "cell_type": "code",
      "source": [
        "accuracy='sparse_categorical_accuracy'\n",
        "sparseLoss=keras.losses.SparseCategoricalCrossentropy()\n",
        "\n",
        "from keras import backend as K\n",
        "K.clear_session()\n",
        "net_1.compile(optimizer='nadam', loss=sparseLoss, metrics=[accuracy])\n",
        "K.set_value(net_1.optimizer.learning_rate, 0.001)"
      ],
      "metadata": {
        "id": "yZ1YyxmUvut0"
      },
      "execution_count": null,
      "outputs": []
    },
    {
      "cell_type": "code",
      "source": [
        "file_name = '/content/drive/MyDrive/aiffel/aiffelthon/model/net_1_1_checkpoint-001.h5'\n",
        "my_callbacks_2 = [\n",
        "    tf.keras.callbacks.EarlyStopping(patience=10),\n",
        "    tf.keras.callbacks.ReduceLROnPlateau(monitor='val_loss', factor=0.1,\n",
        "                              patience=3, min_lr=1e-8,mode='min'), #미분하다 막히면 lr 변경해줌\n",
        "    tf.keras.callbacks.ModelCheckpoint(file_name, monitor='val_loss', verbose=0, save_best_only=True,)\n",
        "]"
      ],
      "metadata": {
        "id": "Go2zsjhbvupP"
      },
      "execution_count": null,
      "outputs": []
    },
    {
      "cell_type": "code",
      "source": [
        "history_1=net_1.fit(\n",
        "    {\"mfcc\":mfcc_train,\"croma\":cstft_train,\"mspec\":mSpec_train}, # fit 할 때 ndarray > tensor로 바꾸는 느낌?\n",
        "    ytrain,\n",
        "    validation_data=({\"mfcc\":mfcc_val,\"croma\":cstft_val,\"mspec\":mSpec_val},yval),\n",
        "    epochs=100,verbose=1,\n",
        "    callbacks=my_callbacks_2\n",
        ")"
      ],
      "metadata": {
        "colab": {
          "base_uri": "https://localhost:8080/"
        },
        "id": "7sRQx5H_vulN",
        "outputId": "7c555665-e462-4fd4-905a-4a2a252a7999"
      },
      "execution_count": null,
      "outputs": [
        {
          "output_type": "stream",
          "name": "stdout",
          "text": [
            "Epoch 1/100\n",
            "162/162 [==============================] - 10s 29ms/step - loss: 0.4902 - sparse_categorical_accuracy: 0.8338 - val_loss: 0.3716 - val_sparse_categorical_accuracy: 0.8696 - lr: 0.0010\n",
            "Epoch 2/100\n",
            "162/162 [==============================] - 4s 25ms/step - loss: 0.3145 - sparse_categorical_accuracy: 0.8871 - val_loss: 0.3412 - val_sparse_categorical_accuracy: 0.8904 - lr: 0.0010\n",
            "Epoch 3/100\n",
            "162/162 [==============================] - 4s 27ms/step - loss: 0.2651 - sparse_categorical_accuracy: 0.9024 - val_loss: 0.2221 - val_sparse_categorical_accuracy: 0.9200 - lr: 0.0010\n",
            "Epoch 4/100\n",
            "162/162 [==============================] - 4s 25ms/step - loss: 0.2363 - sparse_categorical_accuracy: 0.9124 - val_loss: 0.2169 - val_sparse_categorical_accuracy: 0.9258 - lr: 0.0010\n",
            "Epoch 5/100\n",
            "162/162 [==============================] - 4s 23ms/step - loss: 0.2371 - sparse_categorical_accuracy: 0.9124 - val_loss: 0.3148 - val_sparse_categorical_accuracy: 0.8928 - lr: 0.0010\n",
            "Epoch 6/100\n",
            "162/162 [==============================] - 4s 25ms/step - loss: 0.2085 - sparse_categorical_accuracy: 0.9242 - val_loss: 0.2005 - val_sparse_categorical_accuracy: 0.9339 - lr: 0.0010\n",
            "Epoch 7/100\n",
            "162/162 [==============================] - 4s 25ms/step - loss: 0.1817 - sparse_categorical_accuracy: 0.9312 - val_loss: 0.1886 - val_sparse_categorical_accuracy: 0.9333 - lr: 0.0010\n",
            "Epoch 8/100\n",
            "162/162 [==============================] - 4s 23ms/step - loss: 0.1723 - sparse_categorical_accuracy: 0.9372 - val_loss: 0.2535 - val_sparse_categorical_accuracy: 0.9171 - lr: 0.0010\n",
            "Epoch 9/100\n",
            "162/162 [==============================] - 4s 25ms/step - loss: 0.1710 - sparse_categorical_accuracy: 0.9383 - val_loss: 0.2964 - val_sparse_categorical_accuracy: 0.8974 - lr: 0.0010\n",
            "Epoch 10/100\n",
            "162/162 [==============================] - 4s 23ms/step - loss: 0.1541 - sparse_categorical_accuracy: 0.9461 - val_loss: 0.2646 - val_sparse_categorical_accuracy: 0.9177 - lr: 0.0010\n",
            "Epoch 11/100\n",
            "162/162 [==============================] - 4s 26ms/step - loss: 0.1225 - sparse_categorical_accuracy: 0.9598 - val_loss: 0.1393 - val_sparse_categorical_accuracy: 0.9536 - lr: 1.0000e-04\n",
            "Epoch 12/100\n",
            "162/162 [==============================] - 4s 25ms/step - loss: 0.1035 - sparse_categorical_accuracy: 0.9629 - val_loss: 0.1391 - val_sparse_categorical_accuracy: 0.9559 - lr: 1.0000e-04\n",
            "Epoch 13/100\n",
            "162/162 [==============================] - 4s 23ms/step - loss: 0.0995 - sparse_categorical_accuracy: 0.9654 - val_loss: 0.1439 - val_sparse_categorical_accuracy: 0.9588 - lr: 1.0000e-04\n",
            "Epoch 14/100\n",
            "162/162 [==============================] - 4s 23ms/step - loss: 0.0914 - sparse_categorical_accuracy: 0.9669 - val_loss: 0.1624 - val_sparse_categorical_accuracy: 0.9588 - lr: 1.0000e-04\n",
            "Epoch 15/100\n",
            "162/162 [==============================] - 4s 23ms/step - loss: 0.0843 - sparse_categorical_accuracy: 0.9724 - val_loss: 0.1470 - val_sparse_categorical_accuracy: 0.9583 - lr: 1.0000e-04\n",
            "Epoch 16/100\n",
            "162/162 [==============================] - 4s 23ms/step - loss: 0.0897 - sparse_categorical_accuracy: 0.9675 - val_loss: 0.1393 - val_sparse_categorical_accuracy: 0.9594 - lr: 1.0000e-05\n",
            "Epoch 17/100\n",
            "162/162 [==============================] - 4s 27ms/step - loss: 0.0789 - sparse_categorical_accuracy: 0.9704 - val_loss: 0.1379 - val_sparse_categorical_accuracy: 0.9623 - lr: 1.0000e-05\n",
            "Epoch 18/100\n",
            "162/162 [==============================] - 4s 25ms/step - loss: 0.0813 - sparse_categorical_accuracy: 0.9706 - val_loss: 0.1358 - val_sparse_categorical_accuracy: 0.9641 - lr: 1.0000e-05\n",
            "Epoch 19/100\n",
            "162/162 [==============================] - 4s 23ms/step - loss: 0.0812 - sparse_categorical_accuracy: 0.9710 - val_loss: 0.1359 - val_sparse_categorical_accuracy: 0.9635 - lr: 1.0000e-05\n",
            "Epoch 20/100\n",
            "162/162 [==============================] - 4s 27ms/step - loss: 0.0841 - sparse_categorical_accuracy: 0.9687 - val_loss: 0.1347 - val_sparse_categorical_accuracy: 0.9629 - lr: 1.0000e-05\n",
            "Epoch 21/100\n",
            "162/162 [==============================] - 4s 23ms/step - loss: 0.0792 - sparse_categorical_accuracy: 0.9747 - val_loss: 0.1367 - val_sparse_categorical_accuracy: 0.9623 - lr: 1.0000e-05\n",
            "Epoch 22/100\n",
            "162/162 [==============================] - 4s 24ms/step - loss: 0.0826 - sparse_categorical_accuracy: 0.9702 - val_loss: 0.1373 - val_sparse_categorical_accuracy: 0.9629 - lr: 1.0000e-05\n",
            "Epoch 23/100\n",
            "162/162 [==============================] - 5s 28ms/step - loss: 0.0809 - sparse_categorical_accuracy: 0.9718 - val_loss: 0.1337 - val_sparse_categorical_accuracy: 0.9629 - lr: 1.0000e-05\n",
            "Epoch 24/100\n",
            "162/162 [==============================] - 4s 23ms/step - loss: 0.0791 - sparse_categorical_accuracy: 0.9710 - val_loss: 0.1360 - val_sparse_categorical_accuracy: 0.9612 - lr: 1.0000e-05\n",
            "Epoch 25/100\n",
            "162/162 [==============================] - 4s 23ms/step - loss: 0.0751 - sparse_categorical_accuracy: 0.9739 - val_loss: 0.1363 - val_sparse_categorical_accuracy: 0.9629 - lr: 1.0000e-05\n",
            "Epoch 26/100\n",
            "162/162 [==============================] - 4s 27ms/step - loss: 0.0823 - sparse_categorical_accuracy: 0.9714 - val_loss: 0.1334 - val_sparse_categorical_accuracy: 0.9635 - lr: 1.0000e-05\n",
            "Epoch 27/100\n",
            "162/162 [==============================] - 4s 23ms/step - loss: 0.0805 - sparse_categorical_accuracy: 0.9712 - val_loss: 0.1352 - val_sparse_categorical_accuracy: 0.9635 - lr: 1.0000e-05\n",
            "Epoch 28/100\n",
            "162/162 [==============================] - 4s 23ms/step - loss: 0.0739 - sparse_categorical_accuracy: 0.9764 - val_loss: 0.1367 - val_sparse_categorical_accuracy: 0.9629 - lr: 1.0000e-05\n",
            "Epoch 29/100\n",
            "162/162 [==============================] - 4s 23ms/step - loss: 0.0805 - sparse_categorical_accuracy: 0.9735 - val_loss: 0.1355 - val_sparse_categorical_accuracy: 0.9612 - lr: 1.0000e-05\n",
            "Epoch 30/100\n",
            "162/162 [==============================] - 4s 23ms/step - loss: 0.0718 - sparse_categorical_accuracy: 0.9758 - val_loss: 0.1359 - val_sparse_categorical_accuracy: 0.9635 - lr: 1.0000e-06\n",
            "Epoch 31/100\n",
            "162/162 [==============================] - 4s 23ms/step - loss: 0.0732 - sparse_categorical_accuracy: 0.9758 - val_loss: 0.1363 - val_sparse_categorical_accuracy: 0.9635 - lr: 1.0000e-06\n",
            "Epoch 32/100\n",
            "162/162 [==============================] - 4s 23ms/step - loss: 0.0813 - sparse_categorical_accuracy: 0.9698 - val_loss: 0.1354 - val_sparse_categorical_accuracy: 0.9646 - lr: 1.0000e-06\n",
            "Epoch 33/100\n",
            "162/162 [==============================] - 4s 22ms/step - loss: 0.0760 - sparse_categorical_accuracy: 0.9749 - val_loss: 0.1356 - val_sparse_categorical_accuracy: 0.9646 - lr: 1.0000e-07\n",
            "Epoch 34/100\n",
            "162/162 [==============================] - 4s 23ms/step - loss: 0.0799 - sparse_categorical_accuracy: 0.9698 - val_loss: 0.1359 - val_sparse_categorical_accuracy: 0.9646 - lr: 1.0000e-07\n",
            "Epoch 35/100\n",
            "162/162 [==============================] - 4s 23ms/step - loss: 0.0740 - sparse_categorical_accuracy: 0.9762 - val_loss: 0.1356 - val_sparse_categorical_accuracy: 0.9641 - lr: 1.0000e-07\n",
            "Epoch 36/100\n",
            "162/162 [==============================] - 4s 23ms/step - loss: 0.0795 - sparse_categorical_accuracy: 0.9724 - val_loss: 0.1354 - val_sparse_categorical_accuracy: 0.9641 - lr: 1.0000e-08\n"
          ]
        }
      ]
    },
    {
      "cell_type": "code",
      "source": [
        "pd.DataFrame(history_1.history).plot()\n",
        "plt.grid(True)\n",
        "plt.gca().set_ylim(-0.1,1.1)\n",
        "plt.show()"
      ],
      "metadata": {
        "colab": {
          "base_uri": "https://localhost:8080/",
          "height": 265
        },
        "id": "zObxjKedvuhN",
        "outputId": "67aa5fa4-748d-46c8-d435-0edc3c957aa4"
      },
      "execution_count": null,
      "outputs": [
        {
          "output_type": "display_data",
          "data": {
            "text/plain": [
              "<Figure size 432x288 with 1 Axes>"
            ],
            "image/png": "[encoded data removed]"
          },
          "metadata": {
            "needs_background": "light"
          }
        }
      ]
    },
    {
      "cell_type": "code",
      "source": [
        "net_1.evaluate({\"mfcc\":mfcc_val,\"croma\":cstft_val,\"mspec\":mSpec_val},yval)"
      ],
      "metadata": {
        "colab": {
          "base_uri": "https://localhost:8080/"
        },
        "id": "cvEgCuXJv4XY",
        "outputId": "9ef85c6f-d32f-488f-f915-3934cd7dd264"
      },
      "execution_count": null,
      "outputs": [
        {
          "output_type": "stream",
          "name": "stdout",
          "text": [
            "54/54 [==============================] - 0s 7ms/step - loss: 0.1354 - sparse_categorical_accuracy: 0.9641\n"
          ]
        },
        {
          "output_type": "execute_result",
          "data": {
            "text/plain": [
              "[0.13542509078979492, 0.964057981967926]"
            ]
          },
          "metadata": {},
          "execution_count": 89
        }
      ]
    },
    {
      "cell_type": "markdown",
      "source": [
        " - MFCC, STFT, Mel-spec 모든 모델에 skip connection을 추가해 보니 accuaracy가 더 낮아져서 Mel-spec model만 skip connection을 적용했습니다"
      ],
      "metadata": {
        "id": "9IX8qwUy16g7"
      }
    }
  ],
  "metadata": {
    "kernelspec": {
      "name": "python3",
      "display_name": "Python 3",
      "language": "python"
    },
    "language_info": {
      "name": "python",
      "version": "3.7.6",
      "mimetype": "text/x-python",
      "codemirror_mode": {
        "name": "ipython",
        "version": 3
      },
      "pygments_lexer": "ipython3",
      "nbconvert_exporter": "python",
      "file_extension": ".py"
    },
    "colab": {
      "name": "Part_2-Model building_and_evaluation.ipynb",
      "provenance": []
    },
    "accelerator": "GPU"
  },
  "nbformat": 4,
  "nbformat_minor": 0
}