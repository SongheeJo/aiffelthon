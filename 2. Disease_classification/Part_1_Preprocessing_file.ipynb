{
  "cells": [
    {
      "cell_type": "markdown",
      "source": [
        "# Part 1\n",
        "\n",
        "1. **Load data**\n",
        "    1. sampling rate 지정 (4kHz)\n",
        "        \n",
        "    2. librosa.load 사용\n",
        "    \n",
        "\n",
        "2. **Pre-processing**\n",
        "    1. raw data cutting\n",
        "        - 한 호흡 주기에 맞춰서 data 자르기\n",
        "\n",
        "\n",
        "3. **Feature Extraction**\n",
        "    -  Sound data 특징 추출 및 이미지화 : Mel - spectrogram\n",
        "    \n",
        "\n"
      ],
      "metadata": {
        "id": "cZW6egwwMEmU"
      }
    },
    {
      "cell_type": "code",
      "source": [
        "from google.colab import drive\n",
        "drive.mount('/content/drive')"
      ],
      "metadata": {
        "colab": {
          "base_uri": "https://localhost:8080/"
        },
        "id": "RL3MGpTtia0A",
        "outputId": "f76d8b5e-f28c-48f7-cf15-a3cdf6422813"
      },
      "execution_count": null,
      "outputs": [
        {
          "output_type": "stream",
          "name": "stdout",
          "text": [
            "Mounted at /content/drive\n"
          ]
        }
      ]
    },
    {
      "metadata": {
        "_uuid": "8f2839f25d086af736a60e9eeb907d3b93b6e0e5",
        "_cell_guid": "b1076dfc-b9ad-4769-8c92-a6c4dae69d19",
        "trusted": true,
        "id": "uyct6m2siYMB"
      },
      "cell_type": "code",
      "source": [
        "import numpy as np # linear algebra\n",
        "import pandas as pd # data processing, CSV file I/O (e.g. pd.read_csv)\n",
        "import tensorflow as tf\n",
        "from tensorflow import keras\n",
        "import matplotlib.pyplot as plt\n",
        "import seaborn as sns\n",
        "\n",
        "import librosa as lb\n",
        "import librosa.display as lbd\n",
        "import os\n"
      ],
      "execution_count": null,
      "outputs": []
    },
    {
      "metadata": {
        "_uuid": "d629ff2d2480ee46fbb7e2d37f6b5fab8052498a",
        "_cell_guid": "79c7e3d0-c299-4dcb-8224-4455121ee9b0",
        "trusted": true,
        "colab": {
          "base_uri": "https://localhost:8080/",
          "height": 206
        },
        "id": "0O1cInIdiYMC",
        "outputId": "58c1a02f-db67-41a4-f8ed-0167e8402ea1"
      },
      "cell_type": "code",
      "source": [
        "train=pd.read_csv('/content/drive/MyDrive/aiffel/aiffelthon/csv_data/train.csv')\n",
        "val=pd.read_csv('/content/drive/MyDrive/aiffel/aiffelthon/csv_data/val.csv')\n",
        "train.head() #((5173, 3), (1725, 3))"
      ],
      "execution_count": null,
      "outputs": [
        {
          "output_type": "execute_result",
          "data": {
            "text/plain": [
              "   Unnamed: 0  pid                       filename  disease\n",
              "0        1572  132   132_2b2_Lr_mc_LittC2SE_1.wav     COPD\n",
              "1        2266  143  143_1b1_Al_sc_Meditron_17.wav  Healthy\n",
              "2         561  154   154_4b4_Pr_mc_AKGC417L_4.wav     COPD\n",
              "3        3165  209   209_1b1_Tc_sc_Meditron_2.wav  Healthy\n",
              "4        1349  130   130_2b2_Ll_mc_AKGC417L_7.wav     COPD"
            ],
            "text/html": [
              "\n",
              "  <div id=\"df-92f57085-2d13-4b43-98b2-1d48e963036f\">\n",
              "    <div class=\"colab-df-container\">\n",
              "      <div>\n",
              "<style scoped>\n",
              "    .dataframe tbody tr th:only-of-type {\n",
              "        vertical-align: middle;\n",
              "    }\n",
              "\n",
              "    .dataframe tbody tr th {\n",
              "        vertical-align: top;\n",
              "    }\n",
              "\n",
              "    .dataframe thead th {\n",
              "        text-align: right;\n",
              "    }\n",
              "</style>\n",
              "<table border=\"1\" class=\"dataframe\">\n",
              "  <thead>\n",
              "    <tr style=\"text-align: right;\">\n",
              "      <th></th>\n",
              "      <th>Unnamed: 0</th>\n",
              "      <th>pid</th>\n",
              "      <th>filename</th>\n",
              "      <th>disease</th>\n",
              "    </tr>\n",
              "  </thead>\n",
              "  <tbody>\n",
              "    <tr>\n",
              "      <th>0</th>\n",
              "      <td>1572</td>\n",
              "      <td>132</td>\n",
              "      <td>132_2b2_Lr_mc_LittC2SE_1.wav</td>\n",
              "      <td>COPD</td>\n",
              "    </tr>\n",
              "    <tr>\n",
              "      <th>1</th>\n",
              "      <td>2266</td>\n",
              "      <td>143</td>\n",
              "      <td>143_1b1_Al_sc_Meditron_17.wav</td>\n",
              "      <td>Healthy</td>\n",
              "    </tr>\n",
              "    <tr>\n",
              "      <th>2</th>\n",
              "      <td>561</td>\n",
              "      <td>154</td>\n",
              "      <td>154_4b4_Pr_mc_AKGC417L_4.wav</td>\n",
              "      <td>COPD</td>\n",
              "    </tr>\n",
              "    <tr>\n",
              "      <th>3</th>\n",
              "      <td>3165</td>\n",
              "      <td>209</td>\n",
              "      <td>209_1b1_Tc_sc_Meditron_2.wav</td>\n",
              "      <td>Healthy</td>\n",
              "    </tr>\n",
              "    <tr>\n",
              "      <th>4</th>\n",
              "      <td>1349</td>\n",
              "      <td>130</td>\n",
              "      <td>130_2b2_Ll_mc_AKGC417L_7.wav</td>\n",
              "      <td>COPD</td>\n",
              "    </tr>\n",
              "  </tbody>\n",
              "</table>\n",
              "</div>\n",
              "      <button class=\"colab-df-convert\" onclick=\"convertToInteractive('df-92f57085-2d13-4b43-98b2-1d48e963036f')\"\n",
              "              title=\"Convert this dataframe to an interactive table.\"\n",
              "              style=\"display:none;\">\n",
              "        \n",
              "  <svg xmlns=\"http://www.w3.org/2000/svg\" height=\"24px\"viewBox=\"0 0 24 24\"\n",
              "       width=\"24px\">\n",
              "    <path d=\"M0 0h24v24H0V0z\" fill=\"none\"/>\n",
              "    <path d=\"M18.56 5.44l.94 2.06.94-2.06 2.06-.94-2.06-.94-.94-2.06-.94 2.06-2.06.94zm-11 1L8.5 8.5l.94-2.06 2.06-.94-2.06-.94L8.5 2.5l-.94 2.06-2.06.94zm10 10l.94 2.06.94-2.06 2.06-.94-2.06-.94-.94-2.06-.94 2.06-2.06.94z\"/><path d=\"M17.41 7.96l-1.37-1.37c-.4-.4-.92-.59-1.43-.59-.52 0-1.04.2-1.43.59L10.3 9.45l-7.72 7.72c-.78.78-.78 2.05 0 2.83L4 21.41c.39.39.9.59 1.41.59.51 0 1.02-.2 1.41-.59l7.78-7.78 2.81-2.81c.8-.78.8-2.07 0-2.86zM5.41 20L4 18.59l7.72-7.72 1.47 1.35L5.41 20z\"/>\n",
              "  </svg>\n",
              "      </button>\n",
              "      \n",
              "  <style>\n",
              "    .colab-df-container {\n",
              "      display:flex;\n",
              "      flex-wrap:wrap;\n",
              "      gap: 12px;\n",
              "    }\n",
              "\n",
              "    .colab-df-convert {\n",
              "      background-color: #E8F0FE;\n",
              "      border: none;\n",
              "      border-radius: 50%;\n",
              "      cursor: pointer;\n",
              "      display: none;\n",
              "      fill: #1967D2;\n",
              "      height: 32px;\n",
              "      padding: 0 0 0 0;\n",
              "      width: 32px;\n",
              "    }\n",
              "\n",
              "    .colab-df-convert:hover {\n",
              "      background-color: #E2EBFA;\n",
              "      box-shadow: 0px 1px 2px rgba(60, 64, 67, 0.3), 0px 1px 3px 1px rgba(60, 64, 67, 0.15);\n",
              "      fill: #174EA6;\n",
              "    }\n",
              "\n",
              "    [theme=dark] .colab-df-convert {\n",
              "      background-color: #3B4455;\n",
              "      fill: #D2E3FC;\n",
              "    }\n",
              "\n",
              "    [theme=dark] .colab-df-convert:hover {\n",
              "      background-color: #434B5C;\n",
              "      box-shadow: 0px 1px 3px 1px rgba(0, 0, 0, 0.15);\n",
              "      filter: drop-shadow(0px 1px 2px rgba(0, 0, 0, 0.3));\n",
              "      fill: #FFFFFF;\n",
              "    }\n",
              "  </style>\n",
              "\n",
              "      <script>\n",
              "        const buttonEl =\n",
              "          document.querySelector('#df-92f57085-2d13-4b43-98b2-1d48e963036f button.colab-df-convert');\n",
              "        buttonEl.style.display =\n",
              "          google.colab.kernel.accessAllowed ? 'block' : 'none';\n",
              "\n",
              "        async function convertToInteractive(key) {\n",
              "          const element = document.querySelector('#df-92f57085-2d13-4b43-98b2-1d48e963036f');\n",
              "          const dataTable =\n",
              "            await google.colab.kernel.invokeFunction('convertToInteractive',\n",
              "                                                     [key], {});\n",
              "          if (!dataTable) return;\n",
              "\n",
              "          const docLinkHtml = 'Like what you see? Visit the ' +\n",
              "            '<a target=\"_blank\" href=https://colab.research.google.com/notebooks/data_table.ipynb>data table notebook</a>'\n",
              "            + ' to learn more about interactive tables.';\n",
              "          element.innerHTML = '';\n",
              "          dataTable['output_type'] = 'display_data';\n",
              "          await google.colab.output.renderOutput(dataTable, element);\n",
              "          const docLink = document.createElement('div');\n",
              "          docLink.innerHTML = docLinkHtml;\n",
              "          element.appendChild(docLink);\n",
              "        }\n",
              "      </script>\n",
              "    </div>\n",
              "  </div>\n",
              "  "
            ]
          },
          "metadata": {},
          "execution_count": 3
        }
      ]
    },
    {
      "cell_type": "code",
      "source": [
        "train.shape"
      ],
      "metadata": {
        "colab": {
          "base_uri": "https://localhost:8080/"
        },
        "id": "OHc640IXj3Vp",
        "outputId": "b7d65db3-e86c-48f7-96f0-9153689c27ae"
      },
      "execution_count": null,
      "outputs": [
        {
          "output_type": "execute_result",
          "data": {
            "text/plain": [
              "(5173, 4)"
            ]
          },
          "metadata": {},
          "execution_count": 4
        }
      ]
    },
    {
      "metadata": {
        "trusted": true,
        "colab": {
          "base_uri": "https://localhost:8080/"
        },
        "id": "G52GpRIQiYMD",
        "outputId": "10d64457-21aa-4733-e71f-31f0f9a85ab0"
      },
      "cell_type": "code",
      "source": [
        "ytrain=train.disease\n",
        "yval=val.disease\n",
        "yval"
      ],
      "execution_count": null,
      "outputs": [
        {
          "output_type": "execute_result",
          "data": {
            "text/plain": [
              "0       COPD\n",
              "1       COPD\n",
              "2       COPD\n",
              "3       COPD\n",
              "4       COPD\n",
              "        ... \n",
              "1720    COPD\n",
              "1721    COPD\n",
              "1722    COPD\n",
              "1723    COPD\n",
              "1724    COPD\n",
              "Name: disease, Length: 1725, dtype: object"
            ]
          },
          "metadata": {},
          "execution_count": 5
        }
      ]
    },
    {
      "metadata": {
        "id": "5_JP-ayZiYME"
      },
      "cell_type": "markdown",
      "source": [
        "* As our class labels are of **dtype: object** we must first convert them to **encoded values** or intergers"
      ]
    },
    {
      "metadata": {
        "trusted": true,
        "id": "J07hzWg4iYME"
      },
      "cell_type": "code",
      "source": [
        "from sklearn.preprocessing import LabelEncoder\n",
        "le=LabelEncoder()\n",
        "ytrain=le.fit_transform(ytrain)\n",
        "yval=le.transform(yval)"
      ],
      "execution_count": null,
      "outputs": []
    },
    {
      "metadata": {
        "id": "e5_NpdiqiYMF"
      },
      "cell_type": "markdown",
      "source": [
        "# Feature Extraction\n",
        "\n",
        "> I am going to use Librosa's feature extraction methods here\n",
        "\n",
        "> Note:- i first tried to extract features **1-by-1** and then test them, to see how they perform but most of then were giving **good accuracy** so i finally decided to use all of them\n",
        "\n"
      ]
    },
    {
      "metadata": {
        "trusted": true,
        "id": "lMvIbzaUiYMF"
      },
      "cell_type": "code",
      "source": [
        "def getFeatures(path):\n",
        "    soundArr,sample_rate=lb.load(path)\n",
        "    mfcc=lb.feature.mfcc(y=soundArr,sr=sample_rate)\n",
        "    cstft=lb.feature.chroma_stft(y=soundArr,sr=sample_rate)\n",
        "    mSpec=lb.feature.melspectrogram(y=soundArr,sr=sample_rate)\n",
        "\n",
        "    return mfcc,cstft,mSpec"
      ],
      "execution_count": null,
      "outputs": []
    },
    {
      "metadata": {
        "id": "24KmzrSYiYMF"
      },
      "cell_type": "markdown",
      "source": [
        "> In These functions i m iterating over **train and val dataset**, and using **filenames** to extract features and then converting them to **numpy arrays**\n"
      ]
    },
    {
      "metadata": {
        "trusted": true,
        "colab": {
          "base_uri": "https://localhost:8080/"
        },
        "id": "uj62oUVqiYMF",
        "outputId": "e0dbb13b-1ada-4031-90af-9cced7b3d7ee"
      },
      "cell_type": "code",
      "source": [
        "root='/content/drive/MyDrive/aiffel/aiffelthon/processed_audio_files/'\n",
        "mfcc_v,cstft_v,mSpec_v=[],[],[]\n",
        "i=0\n",
        "for idx,row in val.iterrows():\n",
        "    path=root + row['filename']\n",
        "    a,b,c=getFeatures(path) #wavform 하나 당 3개 피처 뽑아서 리스트에 추가\n",
        "    mfcc_v.append(a)\n",
        "    cstft_v.append(b)\n",
        "    mSpec_v.append(c)\n",
        "    \n"
      ],
      "execution_count": null,
      "outputs": [
        {
          "output_type": "stream",
          "name": "stderr",
          "text": [
            "/usr/local/lib/python3.7/dist-packages/librosa/core/pitch.py:153: UserWarning: Trying to estimate tuning from empty frequency set.\n",
            "  warnings.warn(\"Trying to estimate tuning from empty frequency set.\")\n"
          ]
        }
      ]
    },
    {
      "cell_type": "code",
      "source": [
        "mfcc_val=np.array(mfcc_v) # ndarray 배열로, 나중에 텐서로 바꾸나?\n",
        "cstft_val=np.array(cstft_v)\n",
        "mSpec_val=np.array(mSpec_v)\n",
        "\n",
        "np.savez('/content/drive/MyDrive/aiffel/aiffelthon/features/features_val.npz',mfcc_val=mfcc_val, cstft_val=cstft_val, mSpec_val=mSpec_val)"
      ],
      "metadata": {
        "id": "sW-qChIKFxCN"
      },
      "execution_count": null,
      "outputs": []
    },
    {
      "metadata": {
        "id": "NP8pCaWXiYMG"
      },
      "cell_type": "markdown",
      "source": [
        "The shape of features returned by the above function **(20, 259) (12, 259) (128, 259)** we need this for defining **input shape** of our model."
      ]
    },
    {
      "cell_type": "code",
      "source": [
        "mfcc_val.shape"
      ],
      "metadata": {
        "colab": {
          "base_uri": "https://localhost:8080/"
        },
        "id": "JF-tmXlMhB-p",
        "outputId": "61ebbef1-2ded-4acd-b11b-daae398ecdc4"
      },
      "execution_count": null,
      "outputs": [
        {
          "output_type": "execute_result",
          "data": {
            "text/plain": [
              "(5173, 20, 259)"
            ]
          },
          "metadata": {},
          "execution_count": 41
        }
      ]
    },
    {
      "metadata": {
        "trusted": true,
        "colab": {
          "base_uri": "https://localhost:8080/"
        },
        "id": "8Nq__VWwiYMG",
        "outputId": "acca9457-06ba-43f4-d1a4-f6c1e90276ef"
      },
      "cell_type": "code",
      "source": [
        "root='/content/drive/MyDrive/aiffel/aiffelthon/processed_audio_files/'\n",
        "mfcc,cstft,mSpec=[],[],[]\n",
        "i=0\n",
        "for idx,row in train.iterrows():\n",
        "    path=root + row['filename']\n",
        "    a,b,c=getFeatures(path)\n",
        "    mfcc.append(a)\n",
        "    cstft.append(b)\n",
        "    mSpec.append(c)\n",
        "    \n"
      ],
      "execution_count": null,
      "outputs": [
        {
          "output_type": "stream",
          "name": "stderr",
          "text": [
            "/usr/local/lib/python3.7/dist-packages/librosa/core/pitch.py:153: UserWarning: Trying to estimate tuning from empty frequency set.\n",
            "  warnings.warn(\"Trying to estimate tuning from empty frequency set.\")\n"
          ]
        }
      ]
    },
    {
      "cell_type": "code",
      "source": [
        "mfcc_train=np.array(mfcc)\n",
        "cstft_train=np.array(cstft)\n",
        "mSpec_train=np.array(mSpec)\n",
        "\n",
        "np.savez('/content/drive/MyDrive/aiffel/aiffelthon/features/features_train.npz',mfcc_train=mfcc_train, cstft_train=cstft_train, mSpec_train=mSpec_train)"
      ],
      "metadata": {
        "id": "SqH6PCbbH36Z"
      },
      "execution_count": null,
      "outputs": []
    },
    {
      "metadata": {
        "id": "TEbM_eCSiYMG"
      },
      "cell_type": "markdown",
      "source": [
        "> Discarded few features beacuse they were not important to performance"
      ]
    },
    {
      "cell_type": "code",
      "source": [
        "print(mfcc_train.shape)\n",
        "print(cstft_train.shape)\n",
        "print(mSpec_train.shape)"
      ],
      "metadata": {
        "colab": {
          "base_uri": "https://localhost:8080/"
        },
        "id": "IrMQYmAKe_Gf",
        "outputId": "f8b59af5-f932-44a8-93a6-95ef0e1fc919"
      },
      "execution_count": null,
      "outputs": [
        {
          "output_type": "stream",
          "name": "stdout",
          "text": [
            "(5173, 20, 259)\n",
            "(5173, 12, 259)\n",
            "(5173, 128, 259)\n"
          ]
        }
      ]
    }
  ],
  "metadata": {
    "kernelspec": {
      "name": "python3",
      "display_name": "Python 3",
      "language": "python"
    },
    "language_info": {
      "name": "python",
      "version": "3.7.6",
      "mimetype": "text/x-python",
      "codemirror_mode": {
        "name": "ipython",
        "version": 3
      },
      "pygments_lexer": "ipython3",
      "nbconvert_exporter": "python",
      "file_extension": ".py"
    },
    "colab": {
      "name": "Part_1-preprocessing_file.ipynb",
      "provenance": []
    },
    "accelerator": "GPU"
  },
  "nbformat": 4,
  "nbformat_minor": 0
}