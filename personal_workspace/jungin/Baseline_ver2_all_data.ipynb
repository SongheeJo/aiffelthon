{
  "nbformat": 4,
  "nbformat_minor": 0,
  "metadata": {
    "colab": {
      "name": "Baseline ver1.21_all_data.ipynb",
      "provenance": [],
      "authorship_tag": "ABX9TyNMyU57MSbReDjE6Pd2YqFq",
      "include_colab_link": true
    },
    "kernelspec": {
      "name": "python3",
      "display_name": "Python 3"
    },
    "language_info": {
      "name": "python"
    },
    "accelerator": "GPU"
  },
  "cells": [
    {
      "cell_type": "markdown",
      "metadata": {
        "id": "view-in-github",
        "colab_type": "text"
      },
      "source": [
        "<a href=\"https://colab.research.google.com/github/SongheeJo/aiffelthon/blob/main/jungin/Baseline_ver2_all_data.ipynb\" target=\"_parent\"><img src=\"https://colab.research.google.com/assets/colab-badge.svg\" alt=\"Open In Colab\"/></a>"
      ]
    },
    {
      "cell_type": "code",
      "execution_count": null,
      "metadata": {
        "colab": {
          "base_uri": "https://localhost:8080/"
        },
        "id": "1lI6jiKvK7yc",
        "outputId": "830916bb-1328-4f1a-a7c4-abc8b655cacc"
      },
      "outputs": [
        {
          "output_type": "stream",
          "name": "stdout",
          "text": [
            "Mounted at /content/drive\n"
          ]
        }
      ],
      "source": [
        "from google.colab import drive\n",
        "drive.mount('/content/drive')"
      ]
    },
    {
      "cell_type": "markdown",
      "source": [
        "필요한 라이브러리 다운로드"
      ],
      "metadata": {
        "id": "d0fzJ8hvqTF_"
      }
    },
    {
      "cell_type": "code",
      "source": [
        "!pip install tensorflow-io[tensorflow]"
      ],
      "metadata": {
        "colab": {
          "base_uri": "https://localhost:8080/"
        },
        "id": "dIHFtnNXLBBN",
        "outputId": "8abf3ce7-002a-4b32-b1a4-322c48356ab3"
      },
      "execution_count": null,
      "outputs": [
        {
          "output_type": "stream",
          "name": "stdout",
          "text": [
            "Looking in indexes: https://pypi.org/simple, https://us-python.pkg.dev/colab-wheels/public/simple/\n",
            "Collecting tensorflow-io[tensorflow]\n",
            "  Downloading tensorflow_io-0.26.0-cp37-cp37m-manylinux_2_12_x86_64.manylinux2010_x86_64.whl (25.9 MB)\n",
            "\u001b[K     |████████████████████████████████| 25.9 MB 1.3 MB/s \n",
            "\u001b[?25hRequirement already satisfied: tensorflow-io-gcs-filesystem==0.26.0 in /usr/local/lib/python3.7/dist-packages (from tensorflow-io[tensorflow]) (0.26.0)\n",
            "Collecting tensorflow<2.10.0,>=2.9.0\n",
            "  Downloading tensorflow-2.9.1-cp37-cp37m-manylinux_2_17_x86_64.manylinux2014_x86_64.whl (511.7 MB)\n",
            "\u001b[K     |████████████████████████████████| 511.7 MB 7.1 kB/s \n",
            "\u001b[?25hRequirement already satisfied: packaging in /usr/local/lib/python3.7/dist-packages (from tensorflow<2.10.0,>=2.9.0->tensorflow-io[tensorflow]) (21.3)\n",
            "Collecting gast<=0.4.0,>=0.2.1\n",
            "  Downloading gast-0.4.0-py3-none-any.whl (9.8 kB)\n",
            "Requirement already satisfied: keras-preprocessing>=1.1.1 in /usr/local/lib/python3.7/dist-packages (from tensorflow<2.10.0,>=2.9.0->tensorflow-io[tensorflow]) (1.1.2)\n",
            "Requirement already satisfied: google-pasta>=0.1.1 in /usr/local/lib/python3.7/dist-packages (from tensorflow<2.10.0,>=2.9.0->tensorflow-io[tensorflow]) (0.2.0)\n",
            "Collecting keras<2.10.0,>=2.9.0rc0\n",
            "  Downloading keras-2.9.0-py2.py3-none-any.whl (1.6 MB)\n",
            "\u001b[K     |████████████████████████████████| 1.6 MB 58.0 MB/s \n",
            "\u001b[?25hRequirement already satisfied: grpcio<2.0,>=1.24.3 in /usr/local/lib/python3.7/dist-packages (from tensorflow<2.10.0,>=2.9.0->tensorflow-io[tensorflow]) (1.46.3)\n",
            "Requirement already satisfied: libclang>=13.0.0 in /usr/local/lib/python3.7/dist-packages (from tensorflow<2.10.0,>=2.9.0->tensorflow-io[tensorflow]) (14.0.1)\n",
            "Requirement already satisfied: typing-extensions>=3.6.6 in /usr/local/lib/python3.7/dist-packages (from tensorflow<2.10.0,>=2.9.0->tensorflow-io[tensorflow]) (4.2.0)\n",
            "Requirement already satisfied: numpy>=1.20 in /usr/local/lib/python3.7/dist-packages (from tensorflow<2.10.0,>=2.9.0->tensorflow-io[tensorflow]) (1.21.6)\n",
            "Requirement already satisfied: termcolor>=1.1.0 in /usr/local/lib/python3.7/dist-packages (from tensorflow<2.10.0,>=2.9.0->tensorflow-io[tensorflow]) (1.1.0)\n",
            "Requirement already satisfied: h5py>=2.9.0 in /usr/local/lib/python3.7/dist-packages (from tensorflow<2.10.0,>=2.9.0->tensorflow-io[tensorflow]) (3.1.0)\n",
            "Collecting tensorflow-estimator<2.10.0,>=2.9.0rc0\n",
            "  Downloading tensorflow_estimator-2.9.0-py2.py3-none-any.whl (438 kB)\n",
            "\u001b[K     |████████████████████████████████| 438 kB 47.3 MB/s \n",
            "\u001b[?25hCollecting flatbuffers<2,>=1.12\n",
            "  Downloading flatbuffers-1.12-py2.py3-none-any.whl (15 kB)\n",
            "Collecting tensorboard<2.10,>=2.9\n",
            "  Downloading tensorboard-2.9.0-py3-none-any.whl (5.8 MB)\n",
            "\u001b[K     |████████████████████████████████| 5.8 MB 52.1 MB/s \n",
            "\u001b[?25hRequirement already satisfied: setuptools in /usr/local/lib/python3.7/dist-packages (from tensorflow<2.10.0,>=2.9.0->tensorflow-io[tensorflow]) (57.4.0)\n",
            "Requirement already satisfied: absl-py>=1.0.0 in /usr/local/lib/python3.7/dist-packages (from tensorflow<2.10.0,>=2.9.0->tensorflow-io[tensorflow]) (1.0.0)\n",
            "Requirement already satisfied: protobuf<3.20,>=3.9.2 in /usr/local/lib/python3.7/dist-packages (from tensorflow<2.10.0,>=2.9.0->tensorflow-io[tensorflow]) (3.17.3)\n",
            "Requirement already satisfied: wrapt>=1.11.0 in /usr/local/lib/python3.7/dist-packages (from tensorflow<2.10.0,>=2.9.0->tensorflow-io[tensorflow]) (1.14.1)\n",
            "Requirement already satisfied: astunparse>=1.6.0 in /usr/local/lib/python3.7/dist-packages (from tensorflow<2.10.0,>=2.9.0->tensorflow-io[tensorflow]) (1.6.3)\n",
            "Requirement already satisfied: opt-einsum>=2.3.2 in /usr/local/lib/python3.7/dist-packages (from tensorflow<2.10.0,>=2.9.0->tensorflow-io[tensorflow]) (3.3.0)\n",
            "Requirement already satisfied: six>=1.12.0 in /usr/local/lib/python3.7/dist-packages (from tensorflow<2.10.0,>=2.9.0->tensorflow-io[tensorflow]) (1.15.0)\n",
            "Requirement already satisfied: wheel<1.0,>=0.23.0 in /usr/local/lib/python3.7/dist-packages (from astunparse>=1.6.0->tensorflow<2.10.0,>=2.9.0->tensorflow-io[tensorflow]) (0.37.1)\n",
            "Requirement already satisfied: cached-property in /usr/local/lib/python3.7/dist-packages (from h5py>=2.9.0->tensorflow<2.10.0,>=2.9.0->tensorflow-io[tensorflow]) (1.5.2)\n",
            "Requirement already satisfied: markdown>=2.6.8 in /usr/local/lib/python3.7/dist-packages (from tensorboard<2.10,>=2.9->tensorflow<2.10.0,>=2.9.0->tensorflow-io[tensorflow]) (3.3.7)\n",
            "Requirement already satisfied: google-auth-oauthlib<0.5,>=0.4.1 in /usr/local/lib/python3.7/dist-packages (from tensorboard<2.10,>=2.9->tensorflow<2.10.0,>=2.9.0->tensorflow-io[tensorflow]) (0.4.6)\n",
            "Requirement already satisfied: requests<3,>=2.21.0 in /usr/local/lib/python3.7/dist-packages (from tensorboard<2.10,>=2.9->tensorflow<2.10.0,>=2.9.0->tensorflow-io[tensorflow]) (2.23.0)\n",
            "Requirement already satisfied: werkzeug>=1.0.1 in /usr/local/lib/python3.7/dist-packages (from tensorboard<2.10,>=2.9->tensorflow<2.10.0,>=2.9.0->tensorflow-io[tensorflow]) (1.0.1)\n",
            "Requirement already satisfied: tensorboard-data-server<0.7.0,>=0.6.0 in /usr/local/lib/python3.7/dist-packages (from tensorboard<2.10,>=2.9->tensorflow<2.10.0,>=2.9.0->tensorflow-io[tensorflow]) (0.6.1)\n",
            "Requirement already satisfied: google-auth<3,>=1.6.3 in /usr/local/lib/python3.7/dist-packages (from tensorboard<2.10,>=2.9->tensorflow<2.10.0,>=2.9.0->tensorflow-io[tensorflow]) (1.35.0)\n",
            "Requirement already satisfied: tensorboard-plugin-wit>=1.6.0 in /usr/local/lib/python3.7/dist-packages (from tensorboard<2.10,>=2.9->tensorflow<2.10.0,>=2.9.0->tensorflow-io[tensorflow]) (1.8.1)\n",
            "Requirement already satisfied: pyasn1-modules>=0.2.1 in /usr/local/lib/python3.7/dist-packages (from google-auth<3,>=1.6.3->tensorboard<2.10,>=2.9->tensorflow<2.10.0,>=2.9.0->tensorflow-io[tensorflow]) (0.2.8)\n",
            "Requirement already satisfied: cachetools<5.0,>=2.0.0 in /usr/local/lib/python3.7/dist-packages (from google-auth<3,>=1.6.3->tensorboard<2.10,>=2.9->tensorflow<2.10.0,>=2.9.0->tensorflow-io[tensorflow]) (4.2.4)\n",
            "Requirement already satisfied: rsa<5,>=3.1.4 in /usr/local/lib/python3.7/dist-packages (from google-auth<3,>=1.6.3->tensorboard<2.10,>=2.9->tensorflow<2.10.0,>=2.9.0->tensorflow-io[tensorflow]) (4.8)\n",
            "Requirement already satisfied: requests-oauthlib>=0.7.0 in /usr/local/lib/python3.7/dist-packages (from google-auth-oauthlib<0.5,>=0.4.1->tensorboard<2.10,>=2.9->tensorflow<2.10.0,>=2.9.0->tensorflow-io[tensorflow]) (1.3.1)\n",
            "Requirement already satisfied: importlib-metadata>=4.4 in /usr/local/lib/python3.7/dist-packages (from markdown>=2.6.8->tensorboard<2.10,>=2.9->tensorflow<2.10.0,>=2.9.0->tensorflow-io[tensorflow]) (4.11.4)\n",
            "Requirement already satisfied: zipp>=0.5 in /usr/local/lib/python3.7/dist-packages (from importlib-metadata>=4.4->markdown>=2.6.8->tensorboard<2.10,>=2.9->tensorflow<2.10.0,>=2.9.0->tensorflow-io[tensorflow]) (3.8.0)\n",
            "Requirement already satisfied: pyasn1<0.5.0,>=0.4.6 in /usr/local/lib/python3.7/dist-packages (from pyasn1-modules>=0.2.1->google-auth<3,>=1.6.3->tensorboard<2.10,>=2.9->tensorflow<2.10.0,>=2.9.0->tensorflow-io[tensorflow]) (0.4.8)\n",
            "Requirement already satisfied: urllib3!=1.25.0,!=1.25.1,<1.26,>=1.21.1 in /usr/local/lib/python3.7/dist-packages (from requests<3,>=2.21.0->tensorboard<2.10,>=2.9->tensorflow<2.10.0,>=2.9.0->tensorflow-io[tensorflow]) (1.24.3)\n",
            "Requirement already satisfied: certifi>=2017.4.17 in /usr/local/lib/python3.7/dist-packages (from requests<3,>=2.21.0->tensorboard<2.10,>=2.9->tensorflow<2.10.0,>=2.9.0->tensorflow-io[tensorflow]) (2022.5.18.1)\n",
            "Requirement already satisfied: idna<3,>=2.5 in /usr/local/lib/python3.7/dist-packages (from requests<3,>=2.21.0->tensorboard<2.10,>=2.9->tensorflow<2.10.0,>=2.9.0->tensorflow-io[tensorflow]) (2.10)\n",
            "Requirement already satisfied: chardet<4,>=3.0.2 in /usr/local/lib/python3.7/dist-packages (from requests<3,>=2.21.0->tensorboard<2.10,>=2.9->tensorflow<2.10.0,>=2.9.0->tensorflow-io[tensorflow]) (3.0.4)\n",
            "Requirement already satisfied: oauthlib>=3.0.0 in /usr/local/lib/python3.7/dist-packages (from requests-oauthlib>=0.7.0->google-auth-oauthlib<0.5,>=0.4.1->tensorboard<2.10,>=2.9->tensorflow<2.10.0,>=2.9.0->tensorflow-io[tensorflow]) (3.2.0)\n",
            "Requirement already satisfied: pyparsing!=3.0.5,>=2.0.2 in /usr/local/lib/python3.7/dist-packages (from packaging->tensorflow<2.10.0,>=2.9.0->tensorflow-io[tensorflow]) (3.0.9)\n",
            "Installing collected packages: tensorflow-estimator, tensorboard, keras, gast, flatbuffers, tensorflow-io, tensorflow\n",
            "  Attempting uninstall: tensorflow-estimator\n",
            "    Found existing installation: tensorflow-estimator 2.8.0\n",
            "    Uninstalling tensorflow-estimator-2.8.0:\n",
            "      Successfully uninstalled tensorflow-estimator-2.8.0\n",
            "  Attempting uninstall: tensorboard\n",
            "    Found existing installation: tensorboard 2.8.0\n",
            "    Uninstalling tensorboard-2.8.0:\n",
            "      Successfully uninstalled tensorboard-2.8.0\n",
            "  Attempting uninstall: keras\n",
            "    Found existing installation: keras 2.8.0\n",
            "    Uninstalling keras-2.8.0:\n",
            "      Successfully uninstalled keras-2.8.0\n",
            "  Attempting uninstall: gast\n",
            "    Found existing installation: gast 0.5.3\n",
            "    Uninstalling gast-0.5.3:\n",
            "      Successfully uninstalled gast-0.5.3\n",
            "  Attempting uninstall: flatbuffers\n",
            "    Found existing installation: flatbuffers 2.0\n",
            "    Uninstalling flatbuffers-2.0:\n",
            "      Successfully uninstalled flatbuffers-2.0\n",
            "  Attempting uninstall: tensorflow\n",
            "    Found existing installation: tensorflow 2.8.2+zzzcolab20220527125636\n",
            "    Uninstalling tensorflow-2.8.2+zzzcolab20220527125636:\n",
            "      Successfully uninstalled tensorflow-2.8.2+zzzcolab20220527125636\n",
            "Successfully installed flatbuffers-1.12 gast-0.4.0 keras-2.9.0 tensorboard-2.9.0 tensorflow-2.9.1 tensorflow-estimator-2.9.0 tensorflow-io-0.26.0\n"
          ]
        }
      ]
    },
    {
      "cell_type": "code",
      "source": [
        "!pip install nlpaug"
      ],
      "metadata": {
        "colab": {
          "base_uri": "https://localhost:8080/"
        },
        "id": "IrkxDtd5LA-O",
        "outputId": "bb135402-4077-43c6-ffc1-c1a06ff11619"
      },
      "execution_count": null,
      "outputs": [
        {
          "output_type": "stream",
          "name": "stdout",
          "text": [
            "Looking in indexes: https://pypi.org/simple, https://us-python.pkg.dev/colab-wheels/public/simple/\n",
            "Collecting nlpaug\n",
            "  Downloading nlpaug-1.1.10-py3-none-any.whl (410 kB)\n",
            "\u001b[K     |████████████████████████████████| 410 kB 11.7 MB/s \n",
            "\u001b[?25hRequirement already satisfied: pandas>=1.2.0 in /usr/local/lib/python3.7/dist-packages (from nlpaug) (1.3.5)\n",
            "Requirement already satisfied: requests>=2.22.0 in /usr/local/lib/python3.7/dist-packages (from nlpaug) (2.23.0)\n",
            "Requirement already satisfied: numpy>=1.16.2 in /usr/local/lib/python3.7/dist-packages (from nlpaug) (1.21.6)\n",
            "Requirement already satisfied: python-dateutil>=2.7.3 in /usr/local/lib/python3.7/dist-packages (from pandas>=1.2.0->nlpaug) (2.8.2)\n",
            "Requirement already satisfied: pytz>=2017.3 in /usr/local/lib/python3.7/dist-packages (from pandas>=1.2.0->nlpaug) (2022.1)\n",
            "Requirement already satisfied: six>=1.5 in /usr/local/lib/python3.7/dist-packages (from python-dateutil>=2.7.3->pandas>=1.2.0->nlpaug) (1.15.0)\n",
            "Requirement already satisfied: chardet<4,>=3.0.2 in /usr/local/lib/python3.7/dist-packages (from requests>=2.22.0->nlpaug) (3.0.4)\n",
            "Requirement already satisfied: urllib3!=1.25.0,!=1.25.1,<1.26,>=1.21.1 in /usr/local/lib/python3.7/dist-packages (from requests>=2.22.0->nlpaug) (1.24.3)\n",
            "Requirement already satisfied: idna<3,>=2.5 in /usr/local/lib/python3.7/dist-packages (from requests>=2.22.0->nlpaug) (2.10)\n",
            "Requirement already satisfied: certifi>=2017.4.17 in /usr/local/lib/python3.7/dist-packages (from requests>=2.22.0->nlpaug) (2022.5.18.1)\n",
            "Installing collected packages: nlpaug\n",
            "Successfully installed nlpaug-1.1.10\n"
          ]
        }
      ]
    },
    {
      "cell_type": "code",
      "source": [
        "!pip install cmapy"
      ],
      "metadata": {
        "colab": {
          "base_uri": "https://localhost:8080/"
        },
        "id": "aDLsPuOYLA7w",
        "outputId": "a59a9481-775f-453e-9159-faa217a15420"
      },
      "execution_count": null,
      "outputs": [
        {
          "output_type": "stream",
          "name": "stdout",
          "text": [
            "Looking in indexes: https://pypi.org/simple, https://us-python.pkg.dev/colab-wheels/public/simple/\n",
            "Collecting cmapy\n",
            "  Downloading cmapy-0.6.6.tar.gz (4.2 kB)\n",
            "Requirement already satisfied: matplotlib in /usr/local/lib/python3.7/dist-packages (from cmapy) (3.2.2)\n",
            "Requirement already satisfied: numpy in /usr/local/lib/python3.7/dist-packages (from cmapy) (1.21.6)\n",
            "Requirement already satisfied: opencv-python>=3.3 in /usr/local/lib/python3.7/dist-packages (from cmapy) (4.1.2.30)\n",
            "Requirement already satisfied: pyparsing!=2.0.4,!=2.1.2,!=2.1.6,>=2.0.1 in /usr/local/lib/python3.7/dist-packages (from matplotlib->cmapy) (3.0.9)\n",
            "Requirement already satisfied: python-dateutil>=2.1 in /usr/local/lib/python3.7/dist-packages (from matplotlib->cmapy) (2.8.2)\n",
            "Requirement already satisfied: kiwisolver>=1.0.1 in /usr/local/lib/python3.7/dist-packages (from matplotlib->cmapy) (1.4.2)\n",
            "Requirement already satisfied: cycler>=0.10 in /usr/local/lib/python3.7/dist-packages (from matplotlib->cmapy) (0.11.0)\n",
            "Requirement already satisfied: typing-extensions in /usr/local/lib/python3.7/dist-packages (from kiwisolver>=1.0.1->matplotlib->cmapy) (4.2.0)\n",
            "Requirement already satisfied: six>=1.5 in /usr/local/lib/python3.7/dist-packages (from python-dateutil>=2.1->matplotlib->cmapy) (1.15.0)\n",
            "Building wheels for collected packages: cmapy\n",
            "  Building wheel for cmapy (setup.py) ... \u001b[?25l\u001b[?25hdone\n",
            "  Created wheel for cmapy: filename=cmapy-0.6.6-py3-none-any.whl size=3959 sha256=bb99b0da33ac37dae3ca2cfa4d354987a8a2bbb14b870be0b49ab81b856f4b4a\n",
            "  Stored in directory: /root/.cache/pip/wheels/49/9a/c8/486d47fd07a9ca1b91602dd040f727313dbeaa059a45d77521\n",
            "Successfully built cmapy\n",
            "Installing collected packages: cmapy\n",
            "Successfully installed cmapy-0.6.6\n"
          ]
        }
      ]
    },
    {
      "cell_type": "code",
      "source": [
        "import numpy as np\n",
        "import pandas as pd\n",
        "import tensorflow as tf\n",
        "from tensorflow import keras\n",
        "import matplotlib.pyplot as plt\n",
        "import seaborn as sns\n",
        "import librosa.display\n",
        "import soundfile as sf\n",
        "import librosa as lb\n",
        "import cv2\n",
        "import cmapy\n",
        "import os\n"
      ],
      "metadata": {
        "id": "JbtFIVP0LA5R"
      },
      "execution_count": null,
      "outputs": []
    },
    {
      "cell_type": "code",
      "source": [
        "#butterworth\n",
        "from scipy.signal import butter, sosfilt, sosfreqz\n",
        "\n",
        "#frequency masking\n",
        "import tensorflow_io as tfio\n",
        "\n",
        "#shift\n",
        "import nlpaug.augmenter.audio as naa"
      ],
      "metadata": {
        "id": "-lqEUOyuLA22"
      },
      "execution_count": null,
      "outputs": []
    },
    {
      "cell_type": "code",
      "source": [
        "root = '/content/drive/MyDrive/aiffel/aiffelthon/'\n",
        "AUTOTUNE = tf.data.experimental.AUTOTUNE\n",
        "sr = 16000"
      ],
      "metadata": {
        "id": "VE9wD3xTLA0M"
      },
      "execution_count": null,
      "outputs": []
    },
    {
      "cell_type": "markdown",
      "source": [
        "wav 파일을 start end에 맞게 잘라줍니다\n",
        "\n",
        "crackle wheezing에 대한 컬럼을 추가합니다"
      ],
      "metadata": {
        "id": "53IiWI42LP3h"
      }
    },
    {
      "cell_type": "code",
      "source": [
        ""
      ],
      "metadata": {
        "id": "wbiGmCUBqZwj"
      },
      "execution_count": null,
      "outputs": []
    },
    {
      "cell_type": "markdown",
      "source": [
        "concatnate augmentation을 통해 data imbalance를 해결합니다"
      ],
      "metadata": {
        "id": "Atk1G5pxqnaj"
      }
    },
    {
      "cell_type": "code",
      "source": [
        ""
      ],
      "metadata": {
        "id": "6UtXTKq0LWFy"
      },
      "execution_count": null,
      "outputs": []
    },
    {
      "cell_type": "code",
      "source": [
        ""
      ],
      "metadata": {
        "id": "LnKPLlTBLWDM"
      },
      "execution_count": null,
      "outputs": []
    },
    {
      "cell_type": "markdown",
      "source": [
        "df = raw data + concatenate augmented data"
      ],
      "metadata": {
        "id": "T5wRl3eUqrvu"
      }
    },
    {
      "cell_type": "code",
      "source": [
        "processed = pd.read_csv(root + 'processed.csv') # raw = 6898\n",
        "df = pd.read_csv(root + 'aug_added_df.csv') # raw + concat = 13032"
      ],
      "metadata": {
        "id": "iwzbtwunLAyI"
      },
      "execution_count": null,
      "outputs": []
    },
    {
      "cell_type": "code",
      "source": [
        "df"
      ],
      "metadata": {
        "colab": {
          "base_uri": "https://localhost:8080/",
          "height": 505
        },
        "id": "p4I5VfSDLLRY",
        "outputId": "071770c3-6fba-4e12-8327-bb399d468059"
      },
      "execution_count": null,
      "outputs": [
        {
          "output_type": "execute_result",
          "data": {
            "text/plain": [
              "       Unnamed: 0  Unnamed: 0.1   start     end    pid mode  \\\n",
              "0               0           0.0   1.862   5.718  160.0   mc   \n",
              "1               1           1.0   5.718   9.725  160.0   mc   \n",
              "2               2           2.0   9.725  13.614  160.0   mc   \n",
              "3               3           3.0  13.614  17.671  160.0   mc   \n",
              "4               4           4.0  17.671  19.541  160.0   mc   \n",
              "...           ...           ...     ...     ...    ...  ...   \n",
              "13027       13027           NaN     NaN     NaN    NaN  NaN   \n",
              "13028       13028           NaN     NaN     NaN    NaN  NaN   \n",
              "13029       13029           NaN     NaN     NaN    NaN  NaN   \n",
              "13030       13030           NaN     NaN     NaN    NaN  NaN   \n",
              "13031       13031           NaN     NaN     NaN    NaN  NaN   \n",
              "\n",
              "                           filename disease  crack_wheeze  \n",
              "0      160_1b3_Al_mc_AKGC417L_0.wav    COPD             2  \n",
              "1      160_1b3_Al_mc_AKGC417L_1.wav    COPD             3  \n",
              "2      160_1b3_Al_mc_AKGC417L_2.wav    COPD             2  \n",
              "3      160_1b3_Al_mc_AKGC417L_3.wav    COPD             2  \n",
              "4      160_1b3_Al_mc_AKGC417L_4.wav    COPD             0  \n",
              "...                             ...     ...           ...  \n",
              "13027              aug_both_503.wav     NaN             3  \n",
              "13028              aug_both_504.wav     NaN             3  \n",
              "13029              aug_both_505.wav     NaN             3  \n",
              "13030              aug_both_506.wav     NaN             3  \n",
              "13031              aug_both_507.wav     NaN             3  \n",
              "\n",
              "[13032 rows x 9 columns]"
            ],
            "text/html": [
              "\n",
              "  <div id=\"df-f6bc0ff2-a65f-4ed9-8adc-aefd8c078bfe\">\n",
              "    <div class=\"colab-df-container\">\n",
              "      <div>\n",
              "<style scoped>\n",
              "    .dataframe tbody tr th:only-of-type {\n",
              "        vertical-align: middle;\n",
              "    }\n",
              "\n",
              "    .dataframe tbody tr th {\n",
              "        vertical-align: top;\n",
              "    }\n",
              "\n",
              "    .dataframe thead th {\n",
              "        text-align: right;\n",
              "    }\n",
              "</style>\n",
              "<table border=\"1\" class=\"dataframe\">\n",
              "  <thead>\n",
              "    <tr style=\"text-align: right;\">\n",
              "      <th></th>\n",
              "      <th>Unnamed: 0</th>\n",
              "      <th>Unnamed: 0.1</th>\n",
              "      <th>start</th>\n",
              "      <th>end</th>\n",
              "      <th>pid</th>\n",
              "      <th>mode</th>\n",
              "      <th>filename</th>\n",
              "      <th>disease</th>\n",
              "      <th>crack_wheeze</th>\n",
              "    </tr>\n",
              "  </thead>\n",
              "  <tbody>\n",
              "    <tr>\n",
              "      <th>0</th>\n",
              "      <td>0</td>\n",
              "      <td>0.0</td>\n",
              "      <td>1.862</td>\n",
              "      <td>5.718</td>\n",
              "      <td>160.0</td>\n",
              "      <td>mc</td>\n",
              "      <td>160_1b3_Al_mc_AKGC417L_0.wav</td>\n",
              "      <td>COPD</td>\n",
              "      <td>2</td>\n",
              "    </tr>\n",
              "    <tr>\n",
              "      <th>1</th>\n",
              "      <td>1</td>\n",
              "      <td>1.0</td>\n",
              "      <td>5.718</td>\n",
              "      <td>9.725</td>\n",
              "      <td>160.0</td>\n",
              "      <td>mc</td>\n",
              "      <td>160_1b3_Al_mc_AKGC417L_1.wav</td>\n",
              "      <td>COPD</td>\n",
              "      <td>3</td>\n",
              "    </tr>\n",
              "    <tr>\n",
              "      <th>2</th>\n",
              "      <td>2</td>\n",
              "      <td>2.0</td>\n",
              "      <td>9.725</td>\n",
              "      <td>13.614</td>\n",
              "      <td>160.0</td>\n",
              "      <td>mc</td>\n",
              "      <td>160_1b3_Al_mc_AKGC417L_2.wav</td>\n",
              "      <td>COPD</td>\n",
              "      <td>2</td>\n",
              "    </tr>\n",
              "    <tr>\n",
              "      <th>3</th>\n",
              "      <td>3</td>\n",
              "      <td>3.0</td>\n",
              "      <td>13.614</td>\n",
              "      <td>17.671</td>\n",
              "      <td>160.0</td>\n",
              "      <td>mc</td>\n",
              "      <td>160_1b3_Al_mc_AKGC417L_3.wav</td>\n",
              "      <td>COPD</td>\n",
              "      <td>2</td>\n",
              "    </tr>\n",
              "    <tr>\n",
              "      <th>4</th>\n",
              "      <td>4</td>\n",
              "      <td>4.0</td>\n",
              "      <td>17.671</td>\n",
              "      <td>19.541</td>\n",
              "      <td>160.0</td>\n",
              "      <td>mc</td>\n",
              "      <td>160_1b3_Al_mc_AKGC417L_4.wav</td>\n",
              "      <td>COPD</td>\n",
              "      <td>0</td>\n",
              "    </tr>\n",
              "    <tr>\n",
              "      <th>...</th>\n",
              "      <td>...</td>\n",
              "      <td>...</td>\n",
              "      <td>...</td>\n",
              "      <td>...</td>\n",
              "      <td>...</td>\n",
              "      <td>...</td>\n",
              "      <td>...</td>\n",
              "      <td>...</td>\n",
              "      <td>...</td>\n",
              "    </tr>\n",
              "    <tr>\n",
              "      <th>13027</th>\n",
              "      <td>13027</td>\n",
              "      <td>NaN</td>\n",
              "      <td>NaN</td>\n",
              "      <td>NaN</td>\n",
              "      <td>NaN</td>\n",
              "      <td>NaN</td>\n",
              "      <td>aug_both_503.wav</td>\n",
              "      <td>NaN</td>\n",
              "      <td>3</td>\n",
              "    </tr>\n",
              "    <tr>\n",
              "      <th>13028</th>\n",
              "      <td>13028</td>\n",
              "      <td>NaN</td>\n",
              "      <td>NaN</td>\n",
              "      <td>NaN</td>\n",
              "      <td>NaN</td>\n",
              "      <td>NaN</td>\n",
              "      <td>aug_both_504.wav</td>\n",
              "      <td>NaN</td>\n",
              "      <td>3</td>\n",
              "    </tr>\n",
              "    <tr>\n",
              "      <th>13029</th>\n",
              "      <td>13029</td>\n",
              "      <td>NaN</td>\n",
              "      <td>NaN</td>\n",
              "      <td>NaN</td>\n",
              "      <td>NaN</td>\n",
              "      <td>NaN</td>\n",
              "      <td>aug_both_505.wav</td>\n",
              "      <td>NaN</td>\n",
              "      <td>3</td>\n",
              "    </tr>\n",
              "    <tr>\n",
              "      <th>13030</th>\n",
              "      <td>13030</td>\n",
              "      <td>NaN</td>\n",
              "      <td>NaN</td>\n",
              "      <td>NaN</td>\n",
              "      <td>NaN</td>\n",
              "      <td>NaN</td>\n",
              "      <td>aug_both_506.wav</td>\n",
              "      <td>NaN</td>\n",
              "      <td>3</td>\n",
              "    </tr>\n",
              "    <tr>\n",
              "      <th>13031</th>\n",
              "      <td>13031</td>\n",
              "      <td>NaN</td>\n",
              "      <td>NaN</td>\n",
              "      <td>NaN</td>\n",
              "      <td>NaN</td>\n",
              "      <td>NaN</td>\n",
              "      <td>aug_both_507.wav</td>\n",
              "      <td>NaN</td>\n",
              "      <td>3</td>\n",
              "    </tr>\n",
              "  </tbody>\n",
              "</table>\n",
              "<p>13032 rows × 9 columns</p>\n",
              "</div>\n",
              "      <button class=\"colab-df-convert\" onclick=\"convertToInteractive('df-f6bc0ff2-a65f-4ed9-8adc-aefd8c078bfe')\"\n",
              "              title=\"Convert this dataframe to an interactive table.\"\n",
              "              style=\"display:none;\">\n",
              "        \n",
              "  <svg xmlns=\"http://www.w3.org/2000/svg\" height=\"24px\"viewBox=\"0 0 24 24\"\n",
              "       width=\"24px\">\n",
              "    <path d=\"M0 0h24v24H0V0z\" fill=\"none\"/>\n",
              "    <path d=\"M18.56 5.44l.94 2.06.94-2.06 2.06-.94-2.06-.94-.94-2.06-.94 2.06-2.06.94zm-11 1L8.5 8.5l.94-2.06 2.06-.94-2.06-.94L8.5 2.5l-.94 2.06-2.06.94zm10 10l.94 2.06.94-2.06 2.06-.94-2.06-.94-.94-2.06-.94 2.06-2.06.94z\"/><path d=\"M17.41 7.96l-1.37-1.37c-.4-.4-.92-.59-1.43-.59-.52 0-1.04.2-1.43.59L10.3 9.45l-7.72 7.72c-.78.78-.78 2.05 0 2.83L4 21.41c.39.39.9.59 1.41.59.51 0 1.02-.2 1.41-.59l7.78-7.78 2.81-2.81c.8-.78.8-2.07 0-2.86zM5.41 20L4 18.59l7.72-7.72 1.47 1.35L5.41 20z\"/>\n",
              "  </svg>\n",
              "      </button>\n",
              "      \n",
              "  <style>\n",
              "    .colab-df-container {\n",
              "      display:flex;\n",
              "      flex-wrap:wrap;\n",
              "      gap: 12px;\n",
              "    }\n",
              "\n",
              "    .colab-df-convert {\n",
              "      background-color: #E8F0FE;\n",
              "      border: none;\n",
              "      border-radius: 50%;\n",
              "      cursor: pointer;\n",
              "      display: none;\n",
              "      fill: #1967D2;\n",
              "      height: 32px;\n",
              "      padding: 0 0 0 0;\n",
              "      width: 32px;\n",
              "    }\n",
              "\n",
              "    .colab-df-convert:hover {\n",
              "      background-color: #E2EBFA;\n",
              "      box-shadow: 0px 1px 2px rgba(60, 64, 67, 0.3), 0px 1px 3px 1px rgba(60, 64, 67, 0.15);\n",
              "      fill: #174EA6;\n",
              "    }\n",
              "\n",
              "    [theme=dark] .colab-df-convert {\n",
              "      background-color: #3B4455;\n",
              "      fill: #D2E3FC;\n",
              "    }\n",
              "\n",
              "    [theme=dark] .colab-df-convert:hover {\n",
              "      background-color: #434B5C;\n",
              "      box-shadow: 0px 1px 3px 1px rgba(0, 0, 0, 0.15);\n",
              "      filter: drop-shadow(0px 1px 2px rgba(0, 0, 0, 0.3));\n",
              "      fill: #FFFFFF;\n",
              "    }\n",
              "  </style>\n",
              "\n",
              "      <script>\n",
              "        const buttonEl =\n",
              "          document.querySelector('#df-f6bc0ff2-a65f-4ed9-8adc-aefd8c078bfe button.colab-df-convert');\n",
              "        buttonEl.style.display =\n",
              "          google.colab.kernel.accessAllowed ? 'block' : 'none';\n",
              "\n",
              "        async function convertToInteractive(key) {\n",
              "          const element = document.querySelector('#df-f6bc0ff2-a65f-4ed9-8adc-aefd8c078bfe');\n",
              "          const dataTable =\n",
              "            await google.colab.kernel.invokeFunction('convertToInteractive',\n",
              "                                                     [key], {});\n",
              "          if (!dataTable) return;\n",
              "\n",
              "          const docLinkHtml = 'Like what you see? Visit the ' +\n",
              "            '<a target=\"_blank\" href=https://colab.research.google.com/notebooks/data_table.ipynb>data table notebook</a>'\n",
              "            + ' to learn more about interactive tables.';\n",
              "          element.innerHTML = '';\n",
              "          dataTable['output_type'] = 'display_data';\n",
              "          await google.colab.output.renderOutput(dataTable, element);\n",
              "          const docLink = document.createElement('div');\n",
              "          docLink.innerHTML = docLinkHtml;\n",
              "          element.appendChild(docLink);\n",
              "        }\n",
              "      </script>\n",
              "    </div>\n",
              "  </div>\n",
              "  "
            ]
          },
          "metadata": {},
          "execution_count": 9
        }
      ]
    },
    {
      "cell_type": "code",
      "source": [
        ""
      ],
      "metadata": {
        "id": "z3e8Ru_nq4sz"
      },
      "execution_count": null,
      "outputs": []
    },
    {
      "cell_type": "markdown",
      "source": [
        "모든 데이터에 duplicate padding을 적용하고 wav로 저장합니다.\n",
        "\n",
        "df는 그대로 사용할 수 있습니다."
      ],
      "metadata": {
        "id": "JgALs0VBqvel"
      }
    },
    {
      "cell_type": "code",
      "source": [
        "def check_length(audio, list_df, maxLen, save_path):\n",
        "    if len(audio)/16000 > maxLen:\n",
        "      audio = audio_slicing(audio)\n",
        "      sf.write(file = save_path, data = audio, samplerate= sr)\n",
        "      list_df.append(audio)\n",
        "    else:\n",
        "        new = np.concatenate((audio, audio))\n",
        "        return check_length(new, list_df, maxLen, save_path)"
      ],
      "metadata": {
        "id": "-sLflQKfLNno"
      },
      "execution_count": null,
      "outputs": []
    },
    {
      "cell_type": "code",
      "source": [
        "def audio_slicing(signal, max = 7 * sr):\n",
        "  if len(signal) > max:\n",
        "    return signal[:max]\n",
        "  else:\n",
        "    return signal"
      ],
      "metadata": {
        "id": "bkUW4h6QLXYz"
      },
      "execution_count": null,
      "outputs": []
    },
    {
      "cell_type": "code",
      "source": [
        "df_pad = []\n",
        "maxLen = 7"
      ],
      "metadata": {
        "id": "tXHZjggKLYfM"
      },
      "execution_count": null,
      "outputs": []
    },
    {
      "cell_type": "code",
      "source": [
        "'''#duplicated padding_train\n",
        "for index, row in df.iterrows():\n",
        "\n",
        "  filename = row['filename']  \n",
        "  audio_file = root + 'raw_concat_no_pad/'+ filename\n",
        "  audio_data, _ = lb.load(audio_file, sr=16000)\n",
        "  duplicated = np.concatenate((audio_data, audio_data))\n",
        "  check_data = len(duplicated) / 16000\n",
        "  save_path = root + 'raw_concat_pad_7sec_2/' + filename\n",
        "\n",
        "  if check_data > maxLen:\n",
        "    duplicated = audio_slicing(duplicated)\n",
        "    sf.write(file = save_path, data = duplicated, samplerate= sr)\n",
        "    df_pad.append(duplicated)\n",
        "    \n",
        "  else:\n",
        "    check_length(duplicated, df_pad, maxLen=maxLen, save_path=save_path)\n",
        "  \n",
        "  if index % 100 == 0:\n",
        "    print(index)'''"
      ],
      "metadata": {
        "colab": {
          "base_uri": "https://localhost:8080/",
          "height": 174
        },
        "id": "82BoreuDLaMt",
        "outputId": "5e20fcf1-82c9-4748-eafa-88cb52e661e1"
      },
      "execution_count": null,
      "outputs": [
        {
          "output_type": "execute_result",
          "data": {
            "text/plain": [
              "\"#duplicated padding_train\\nfor index, row in df.iterrows():\\n\\n  filename = row['filename']  \\n  audio_file = root + 'raw_concat_no_pad/'+ filename\\n  audio_data, _ = lb.load(audio_file, sr=16000)\\n  duplicated = np.concatenate((audio_data, audio_data))\\n  check_data = len(duplicated) / 16000\\n  save_path = root + 'raw_concat_pad_7sec_2/' + filename\\n\\n  if check_data > maxLen:\\n    duplicated = audio_slicing(duplicated)\\n    sf.write(file = save_path, data = duplicated, samplerate= sr)\\n    df_pad.append(duplicated)\\n    \\n  else:\\n    check_length(duplicated, df_pad, maxLen=maxLen, save_path=save_path)\\n  \\n  if index % 100 == 0:\\n    print(index)\""
            ],
            "application/vnd.google.colaboratory.intrinsic+json": {
              "type": "string"
            }
          },
          "metadata": {},
          "execution_count": 13
        }
      ]
    },
    {
      "cell_type": "markdown",
      "source": [
        "raw data에서만 test data를 뽑기 위해 processed에서 train test split을 해주고\n",
        "\n",
        "전체 df에서 test data를 뺀 것을 train data로 사용합니다."
      ],
      "metadata": {
        "id": "f8QUDBdNrA-q"
      }
    },
    {
      "cell_type": "code",
      "source": [
        "from sklearn.model_selection import train_test_split\n",
        "x_train, x_test, y_train, y_test = train_test_split(processed,\n",
        "                                                    processed.crack_wheeze,\n",
        "                                                    stratify=processed['crack_wheeze'],\n",
        "                                                    random_state=42,\n",
        "                                                    test_size=0.4)"
      ],
      "metadata": {
        "id": "7qPvs6hFLdk-"
      },
      "execution_count": null,
      "outputs": []
    },
    {
      "cell_type": "code",
      "source": [
        "test_df = x_test"
      ],
      "metadata": {
        "id": "wPEfxxL1Ldgr"
      },
      "execution_count": null,
      "outputs": []
    },
    {
      "cell_type": "code",
      "source": [
        "train_df = df.drop(x_test.index)\n",
        "y_train = train_df.crack_wheeze"
      ],
      "metadata": {
        "id": "H__PAuLaLddD"
      },
      "execution_count": null,
      "outputs": []
    },
    {
      "cell_type": "code",
      "source": [
        "len(train_df), len(y_train)"
      ],
      "metadata": {
        "colab": {
          "base_uri": "https://localhost:8080/"
        },
        "id": "WxCnunD6Ldab",
        "outputId": "3489f12b-5667-4966-f5ea-80149456e399"
      },
      "execution_count": null,
      "outputs": [
        {
          "output_type": "execute_result",
          "data": {
            "text/plain": [
              "(10272, 10272)"
            ]
          },
          "metadata": {},
          "execution_count": 10
        }
      ]
    },
    {
      "cell_type": "code",
      "source": [
        "len(test_df), len(y_test)"
      ],
      "metadata": {
        "colab": {
          "base_uri": "https://localhost:8080/"
        },
        "id": "QPylb9LdLdXb",
        "outputId": "0ef6dc3d-2541-499f-99ab-b7de9215bdb1"
      },
      "execution_count": null,
      "outputs": [
        {
          "output_type": "execute_result",
          "data": {
            "text/plain": [
              "(2760, 2760)"
            ]
          },
          "metadata": {},
          "execution_count": 11
        }
      ]
    },
    {
      "cell_type": "markdown",
      "source": [
        "wav 파일에 대해 shift, speed augmentation을 적용합니다"
      ],
      "metadata": {
        "id": "p3OnM6tWrGX0"
      }
    },
    {
      "cell_type": "code",
      "source": [
        "import nlpaug.augmenter.audio as naa\n",
        "from random import uniform\n",
        "\n",
        "def audio_shift(signal):\n",
        "  luck = np.random.randint(0,2) # 50% 확률 만들기\n",
        "  if luck == 0:\n",
        "    aug = naa.ShiftAug(sampling_rate=sr, duration=uniform(1.5,3.5)) #0과 1 사이의 실수\n",
        "    return aug.augment(signal)\n",
        "  else:\n",
        "    return signal"
      ],
      "metadata": {
        "id": "xswZUWaIMeoh"
      },
      "execution_count": null,
      "outputs": []
    },
    {
      "cell_type": "code",
      "source": [
        "def audio_speed(signal):\n",
        "  luck = np.random.randint(0,2)\n",
        "  if luck == 0:\n",
        "    aug = naa.SpeedAug(zone=(0.2, 0.8), coverage=0.5, factor=(0.5, 1), stateless=True) #0과 1 사이의 실수\n",
        "    return aug.augment(signal)\n",
        "  else:\n",
        "    return signal "
      ],
      "metadata": {
        "id": "8cCCCvHSMg1J"
      },
      "execution_count": null,
      "outputs": []
    },
    {
      "cell_type": "code",
      "source": [
        "def audio_slicing(signal, max = 7 * sr):\n",
        "  if len(signal) > max:\n",
        "    return signal[:max]\n",
        "  else:\n",
        "    return signal"
      ],
      "metadata": {
        "id": "1OSw_-qnMi4g"
      },
      "execution_count": null,
      "outputs": []
    },
    {
      "cell_type": "code",
      "source": [
        "def pre_aug(signal,sr=sr):\n",
        "  audio = audio_shift(signal)\n",
        "  audio = audio_speed(audio)\n",
        "  audio = audio_slicing(audio)\n",
        "  return audio"
      ],
      "metadata": {
        "id": "dOObdF1vMi2V"
      },
      "execution_count": null,
      "outputs": []
    },
    {
      "cell_type": "markdown",
      "source": [
        "wav 파일을 이미지화하는(Mel-spectrogram)함수입니다"
      ],
      "metadata": {
        "id": "Bn491M8crSXJ"
      }
    },
    {
      "cell_type": "code",
      "source": [
        "n_mels=128\n",
        "f_min=100\n",
        "f_max=16000\n",
        "nfft=2048\n",
        "hop= nfft//4"
      ],
      "metadata": {
        "id": "-hTXhdSRMi0t"
      },
      "execution_count": null,
      "outputs": []
    },
    {
      "cell_type": "code",
      "source": [
        "def create_mel_raw(signal, sr=16000, n_mels=128, f_min=100, f_max=16000, nfft=2048, hop=512, resz=1):\n",
        "    S = lb.feature.melspectrogram(y=signal, sr=sr, n_mels=n_mels, fmin=f_min, fmax=f_max, n_fft=nfft, hop_length=nfft//4)\n",
        "    S = lb.power_to_db(S, ref=np.max) # 다음엔 median으로\n",
        "    S = (S - np.min(S)) / (np.max(S) - np.min(S)) \n",
        "    S *= 255\n",
        "    img = cv2.applyColorMap(S.astype(np.uint8), cmapy.cmap('magma'))\n",
        "    height, width, _ = img.shape\n",
        "    if resz > 0:\n",
        "        img = cv2.resize(img, (width*resz, height*resz), interpolation=cv2.INTER_LINEAR) #bicubic interpolation\n",
        "    img = cv2.flip(img, 0)\n",
        "    return img"
      ],
      "metadata": {
        "id": "740bMmM7MiyS"
      },
      "execution_count": null,
      "outputs": []
    },
    {
      "cell_type": "markdown",
      "source": [
        "masking augmentation 함수입니다"
      ],
      "metadata": {
        "id": "4xg4cYdgrrtB"
      }
    },
    {
      "cell_type": "code",
      "source": [
        "def time_mask(mel, param = 30):\n",
        "  return tfio.audio.time_mask(mel, param = param)\n",
        "\n",
        "def freq_mask(mel):\n",
        "  return tfio.audio.freq_mask(mel, param = 30)\n",
        "\n",
        "def process_mask(mel):\n",
        "  prob = np.random.randint(0,3)\n",
        "  if prob == 0:\n",
        "    return time_mask(mel)\n",
        "  elif prob == 1:\n",
        "    return freq_mask(mel)\n",
        "  else:\n",
        "    return time_mask(mel, param = 1)"
      ],
      "metadata": {
        "id": "bcaEX_9LPV3W"
      },
      "execution_count": null,
      "outputs": []
    },
    {
      "cell_type": "markdown",
      "source": [
        "구현한 preprocess와 augmentation 함수를 하나의 for문에 넣고 돌립니다."
      ],
      "metadata": {
        "id": "Lza4hAZCuNGH"
      }
    },
    {
      "cell_type": "code",
      "source": [
        "train_list = [] # duplicate 패딩 된 데이터\n",
        "c = 0\n",
        "for idx, row in train_df.iterrows():\n",
        "  #데이터 load\n",
        "  sample_wav, _ = lb.load(root + 'raw_concat_pad_7sec_2/' + row.filename, sr = sr)\n",
        "  \n",
        "  #shift, speed augmentation\n",
        "  aug = pre_aug(sample_wav) \n",
        "\n",
        "  #creat Mel-spectrogram and apply blank region clipping\n",
        "  audio_image = cv2.cvtColor(create_mel_raw(aug), cv2.COLOR_BGR2RGB)\n",
        "\n",
        "  audio_raw_gray = cv2.cvtColor(create_mel_raw(aug), cv2.COLOR_BGR2GRAY)\n",
        "  audio_raw_gray[audio_raw_gray < 10] = 0\n",
        "  for row in range(audio_raw_gray.shape[0]):\n",
        "    black_percent = len(np.where(audio_raw_gray[row,:]==np.min(audio_raw_gray))[0])/len(audio_raw_gray[row,:])\n",
        "    if black_percent < 0.80:\n",
        "      break\n",
        "\n",
        "  if (row+1)*3 < audio_image.shape[0]:\n",
        "    audio_image = audio_image[(row+1)*3:, :, :]\n",
        "\n",
        "  audio_image = cv2.resize(audio_image, (audio_image.shape[1], n_mels*3), interpolation=cv2.INTER_LINEAR)\n",
        "  audio_image, _, __ = cv2.split(audio_image)\n",
        "  audio_image = cv2.resize(audio_image, (219,128), interpolation=cv2.INTER_LINEAR)\n",
        "  audio_image = np.array(audio_image, dtype=float)\n",
        "  audio_image = (audio_image - np.min(audio_image)) / (np.max(audio_image) - np.min(audio_image))\n",
        "\n",
        "  #masking augmentation\n",
        "  mask = process_mask(audio_image)\n",
        "  \n",
        "  train_list.append(mask)\n",
        "  c += 1\n",
        "\n",
        "  if c % 100 == 0:\n",
        "    print(c)"
      ],
      "metadata": {
        "id": "FoBu3o76LdUk"
      },
      "execution_count": null,
      "outputs": []
    },
    {
      "cell_type": "markdown",
      "source": [
        "넘파이 배열로 저장합니다"
      ],
      "metadata": {
        "id": "eoyQW-mbsX-U"
      }
    },
    {
      "cell_type": "code",
      "source": [
        "x_train_1 = np.array(train_list)\n",
        "np.save(root + 'ref_max_13032.npy', x_train_1)"
      ],
      "metadata": {
        "id": "PYJlfGGRO6WA"
      },
      "execution_count": null,
      "outputs": []
    },
    {
      "cell_type": "code",
      "source": [
        "x_train_1 = np.load(root + 'ref_max_13032.npy')"
      ],
      "metadata": {
        "id": "nJmonZP3tjQo"
      },
      "execution_count": null,
      "outputs": []
    },
    {
      "cell_type": "markdown",
      "source": [
        "augmentation 잘 적용됐는지 확인"
      ],
      "metadata": {
        "id": "PEE054vosb8P"
      }
    },
    {
      "cell_type": "code",
      "source": [
        "plt.figure(figsize = (10,10))\n",
        "\n",
        "for idx in range(4):\n",
        "  plt.subplot(4,1,idx+1)\n",
        "  plt.tight_layout()\n",
        "  plt.imshow(x_train_1[idx])"
      ],
      "metadata": {
        "colab": {
          "base_uri": "https://localhost:8080/",
          "height": 729
        },
        "id": "WWCQoGVPLdSN",
        "outputId": "e13233d8-594f-4258-d4e6-c3515f84050b"
      },
      "execution_count": null,
      "outputs": [
        {
          "output_type": "display_data",
          "data": {
            "text/plain": [
              "<Figure size 720x720 with 4 Axes>"
            ],
            "image/png": "[encoded data removed]"
          },
          "metadata": {
            "needs_background": "light"
          }
        }
      ]
    },
    {
      "cell_type": "markdown",
      "source": [
        "테스트 데이터에 Mel-spectrogram과 blank region clipping을  적용합니다(augmentation을 제외)"
      ],
      "metadata": {
        "id": "boyDf48sufIr"
      }
    },
    {
      "cell_type": "code",
      "source": [
        "test_list = [] # duplicate 패딩 된 데이터\n",
        "c = 0\n",
        "for idx, row in test_df.iterrows():\n",
        "  sample_wav, _ = lb.load(root + 'raw_concat_pad_7sec_2/' + row.filename, sr = sr)\n",
        "\n",
        "  audio_image = cv2.cvtColor(create_mel_raw(sample_wav), cv2.COLOR_BGR2RGB)\n",
        "\n",
        "  audio_raw_gray = cv2.cvtColor(create_mel_raw(sample_wav), cv2.COLOR_BGR2GRAY)\n",
        "  audio_raw_gray[audio_raw_gray < 10] = 0\n",
        "  for row in range(audio_raw_gray.shape[0]):\n",
        "    black_percent = len(np.where(audio_raw_gray[row,:]==np.min(audio_raw_gray))[0])/len(audio_raw_gray[row,:])\n",
        "    if black_percent < 0.80:\n",
        "      break\n",
        "\n",
        "  if (row+1)*3 < audio_image.shape[0]:\n",
        "    audio_image = audio_image[(row+1)*3:, :, :]\n",
        "\n",
        "  audio_image = cv2.resize(audio_image, (audio_image.shape[1], n_mels*3), interpolation=cv2.INTER_LINEAR)\n",
        "  audio_image, _, __ = cv2.split(audio_image)\n",
        "  audio_image = cv2.resize(audio_image, (219,128), interpolation=cv2.INTER_LINEAR)\n",
        "  audio_image = np.array(audio_image, dtype=float)\n",
        "  audio_image = (audio_image - np.min(audio_image)) / (np.max(audio_image) - np.min(audio_image))\n",
        "  \n",
        "  test_list.append(audio_image)\n",
        "  c += 1\n",
        "\n",
        "  if c % 100 == 0:\n",
        "    print(c)"
      ],
      "metadata": {
        "colab": {
          "base_uri": "https://localhost:8080/"
        },
        "id": "I9t5P9lsLdPw",
        "outputId": "34772ca9-fa8b-4bca-a489-ac361fa12561"
      },
      "execution_count": null,
      "outputs": [
        {
          "output_type": "stream",
          "name": "stderr",
          "text": [
            "/usr/local/lib/python3.7/dist-packages/librosa/filters.py:239: UserWarning: Empty filters detected in mel frequency basis. Some channels will produce empty responses. Try increasing your sampling rate (and fmax) or reducing n_mels.\n",
            "  \"Empty filters detected in mel frequency basis. \"\n"
          ]
        },
        {
          "output_type": "stream",
          "name": "stdout",
          "text": [
            "100\n",
            "200\n",
            "300\n",
            "400\n",
            "500\n",
            "600\n",
            "700\n",
            "800\n",
            "900\n",
            "1000\n",
            "1100\n",
            "1200\n",
            "1300\n",
            "1400\n",
            "1500\n",
            "1600\n",
            "1700\n",
            "1800\n",
            "1900\n",
            "2000\n",
            "2100\n",
            "2200\n",
            "2300\n",
            "2400\n",
            "2500\n",
            "2600\n",
            "2700\n"
          ]
        }
      ]
    },
    {
      "cell_type": "code",
      "source": [
        "len(train_list)"
      ],
      "metadata": {
        "colab": {
          "base_uri": "https://localhost:8080/"
        },
        "id": "nqMYFhNAm6AA",
        "outputId": "9cc0a72f-c878-4677-c0b0-ff3aadb050cd"
      },
      "execution_count": null,
      "outputs": [
        {
          "output_type": "execute_result",
          "data": {
            "text/plain": [
              "10272"
            ]
          },
          "metadata": {},
          "execution_count": 45
        }
      ]
    },
    {
      "cell_type": "code",
      "source": [
        "x_test_1 = np.array(test_list)\n",
        "np.save(root + 'ref_max_13032_test.npy', x_test_1)"
      ],
      "metadata": {
        "id": "1EgxKFAoX2Hn"
      },
      "execution_count": null,
      "outputs": []
    },
    {
      "cell_type": "code",
      "source": [
        "x_test_1 = np.load(root + 'ref_max_13032_test.npy')"
      ],
      "metadata": {
        "id": "_DdA-jvYt1j0"
      },
      "execution_count": null,
      "outputs": []
    },
    {
      "cell_type": "code",
      "source": [
        "y_train_1 = np.array(y_train)\n",
        "y_test_1 = np.array(y_test)"
      ],
      "metadata": {
        "id": "EgcM3lAMt6yJ"
      },
      "execution_count": null,
      "outputs": []
    },
    {
      "cell_type": "code",
      "source": [
        "# ResNet34 block\n",
        "def build_resnet_block_34(input_layer, num_cnn, channel, block_num, unit_one=False):\n",
        "\n",
        "  x = input_layer\n",
        "  \n",
        "\n",
        "  for cnn_num in range(num_cnn):\n",
        "\n",
        "            skip = x\n",
        "\n",
        "            if not unit_one and cnn_num == 0: #첫번쨰 유닛이 아니고 첫번째 레이어일 때 stride=2 추가\n",
        "              \n",
        "              x = keras.layers.Conv2D(\n",
        "                filters=channel,\n",
        "                kernel_size=(3,3),\n",
        "                strides = 2,\n",
        "                activation='relu',\n",
        "                kernel_initializer='he_normal',\n",
        "                padding='same',\n",
        "                name=f'block{block_num}_first_conv{cnn_num}'\n",
        "                )(x)\n",
        "\n",
        "            else:\n",
        "              x = keras.layers.Conv2D(\n",
        "                filters=channel,\n",
        "                kernel_size=(3,3),\n",
        "                activation='relu',\n",
        "                kernel_initializer='he_normal',\n",
        "                padding='same',\n",
        "                name=f'block{block_num}_1_conv{cnn_num}'\n",
        "                )(x)\n",
        "\n",
        "            \n",
        "            x = keras.layers.BatchNormalization(\n",
        "                name=f'block{block_num}_1_bn_{cnn_num}')(x)\n",
        "\n",
        "\n",
        "            x = keras.layers.Activation(\n",
        "                'relu', name = f'block{block_num}_activtion_{cnn_num}')(x)\n",
        "            \n",
        "            x = keras.layers.Conv2D(\n",
        "                filters=channel,\n",
        "                kernel_size=(3,3),\n",
        "                activation='relu',\n",
        "                kernel_initializer='he_normal',\n",
        "                padding='same',\n",
        "                name=f'block{block_num}_2_conv{cnn_num}'\n",
        "            )(x)\n",
        "\n",
        "            if not unit_one: #첫번째 유닛이 아니고 첫번째 레이어일 때 skip레이어 추가\n",
        "              if cnn_num == 0:\n",
        "\n",
        "                skip = keras.layers.Conv2D(\n",
        "                 filters=channel,\n",
        "                 kernel_size=(1,1),\n",
        "                 strides = 2,\n",
        "                 activation='relu',\n",
        "                 kernel_initializer='he_normal',\n",
        "                 padding='same',\n",
        "                 name=f'block{block_num}_skip_conv{cnn_num}'\n",
        "                 )(skip)\n",
        "\n",
        "\n",
        "            x = keras.layers.BatchNormalization(\n",
        "                name=f'block{block_num}_2_bn_{cnn_num}')(x)\n",
        "\n",
        "\n",
        "            if not unit_one: #첫번째 유닛이 아니고 첫번째 레이어일 때 batchnorm 추가\n",
        "              if cnn_num == 0:\n",
        "                skip = keras.layers.BatchNormalization(\n",
        "                  name=f'block{block_num}_skip_bn_{cnn_num}')(skip)\n",
        "\n",
        "\n",
        "            x = keras.layers.Add()([x,skip])\n",
        "\n",
        "            x = keras.layers.Activation(\n",
        "                'relu', name = f'block{block_num}_1_activtion_{cnn_num}')(x)\n",
        "\n",
        "  return x\n",
        "\n"
      ],
      "metadata": {
        "id": "qPzMXm6ZalZg"
      },
      "execution_count": null,
      "outputs": []
    },
    {
      "cell_type": "code",
      "source": [
        "def resnet_34(input_shape=(128,219,1),\n",
        "              num_cnn_list=[3,4,6,3],\n",
        "              channel_list=[64,128,256,512],\n",
        "              num_classes=4):\n",
        "\n",
        "  input_layer = keras.layers.Input(shape=input_shape) #input layer 만들기\n",
        "  output = input_layer\n",
        "\n",
        "  output = keras.layers.Conv2D(\n",
        "                 filters=64,\n",
        "                 kernel_size=(7,7),\n",
        "                 strides = 2,\n",
        "                 activation='relu',\n",
        "                 kernel_initializer='he_normal',\n",
        "                 padding='same',\n",
        "                 name='block_0_conv'\n",
        "              )(output)\n",
        "\n",
        "  output = keras.layers.BatchNormalization(\n",
        "                name='block_0_bn')(output)\n",
        "\n",
        "  output = keras.layers.Activation(\n",
        "                'relu', name = 'block_0_activtion')(output)\n",
        "\n",
        "  output = keras.layers.MaxPooling2D(pool_size = (2,2),\n",
        "                                      strides = 2, name = 'MaxPooling')(output)\n",
        "    \n",
        "\n",
        "  for i, (num_cnn, channel) in enumerate(zip(num_cnn_list, channel_list)): #첫번째 유닛일 때 unit_one = True\n",
        "    if i == 0:\n",
        "      output = build_resnet_block_34(output, num_cnn=num_cnn, channel=channel, block_num=i, unit_one = True)\n",
        "    else:\n",
        "      output = build_resnet_block_34(output, num_cnn=num_cnn, channel=channel, block_num=i)\n",
        "\n",
        "\n",
        "  output = keras.layers.AveragePooling2D(pool_size = (1,1),\n",
        "                                      name = 'last_AveragePooling')(output)\n",
        "\n",
        "  output = keras.layers.Flatten(name = 'Flatten')(output)\n",
        "  \n",
        "  output = keras.layers.Dense(num_classes, activation='softmax', name='predictions')(output)\n",
        "\n",
        "  model = keras.Model(inputs=input_layer, outputs=output)\n",
        "\n",
        "  return model"
      ],
      "metadata": {
        "id": "_C6yNy-SalXE"
      },
      "execution_count": null,
      "outputs": []
    },
    {
      "cell_type": "code",
      "source": [
        "resnet_34 = resnet_34()\n",
        "resnet_34.summary()"
      ],
      "metadata": {
        "colab": {
          "base_uri": "https://localhost:8080/"
        },
        "id": "PJfayR9zalVS",
        "outputId": "db468c4b-745f-4c58-e403-e71eb3090a3c"
      },
      "execution_count": null,
      "outputs": [
        {
          "output_type": "stream",
          "name": "stdout",
          "text": [
            "Model: \"model\"\n",
            "__________________________________________________________________________________________________\n",
            " Layer (type)                   Output Shape         Param #     Connected to                     \n",
            "==================================================================================================\n",
            " input_1 (InputLayer)           [(None, 128, 219, 1  0           []                               \n",
            "                                )]                                                                \n",
            "                                                                                                  \n",
            " block_0_conv (Conv2D)          (None, 64, 110, 64)  3200        ['input_1[0][0]']                \n",
            "                                                                                                  \n",
            " block_0_bn (BatchNormalization  (None, 64, 110, 64)  256        ['block_0_conv[0][0]']           \n",
            " )                                                                                                \n",
            "                                                                                                  \n",
            " block_0_activtion (Activation)  (None, 64, 110, 64)  0          ['block_0_bn[0][0]']             \n",
            "                                                                                                  \n",
            " MaxPooling (MaxPooling2D)      (None, 32, 55, 64)   0           ['block_0_activtion[0][0]']      \n",
            "                                                                                                  \n",
            " block0_1_conv0 (Conv2D)        (None, 32, 55, 64)   36928       ['MaxPooling[0][0]']             \n",
            "                                                                                                  \n",
            " block0_1_bn_0 (BatchNormalizat  (None, 32, 55, 64)  256         ['block0_1_conv0[0][0]']         \n",
            " ion)                                                                                             \n",
            "                                                                                                  \n",
            " block0_activtion_0 (Activation  (None, 32, 55, 64)  0           ['block0_1_bn_0[0][0]']          \n",
            " )                                                                                                \n",
            "                                                                                                  \n",
            " block0_2_conv0 (Conv2D)        (None, 32, 55, 64)   36928       ['block0_activtion_0[0][0]']     \n",
            "                                                                                                  \n",
            " block0_2_bn_0 (BatchNormalizat  (None, 32, 55, 64)  256         ['block0_2_conv0[0][0]']         \n",
            " ion)                                                                                             \n",
            "                                                                                                  \n",
            " add (Add)                      (None, 32, 55, 64)   0           ['block0_2_bn_0[0][0]',          \n",
            "                                                                  'MaxPooling[0][0]']             \n",
            "                                                                                                  \n",
            " block0_1_activtion_0 (Activati  (None, 32, 55, 64)  0           ['add[0][0]']                    \n",
            " on)                                                                                              \n",
            "                                                                                                  \n",
            " block0_1_conv1 (Conv2D)        (None, 32, 55, 64)   36928       ['block0_1_activtion_0[0][0]']   \n",
            "                                                                                                  \n",
            " block0_1_bn_1 (BatchNormalizat  (None, 32, 55, 64)  256         ['block0_1_conv1[0][0]']         \n",
            " ion)                                                                                             \n",
            "                                                                                                  \n",
            " block0_activtion_1 (Activation  (None, 32, 55, 64)  0           ['block0_1_bn_1[0][0]']          \n",
            " )                                                                                                \n",
            "                                                                                                  \n",
            " block0_2_conv1 (Conv2D)        (None, 32, 55, 64)   36928       ['block0_activtion_1[0][0]']     \n",
            "                                                                                                  \n",
            " block0_2_bn_1 (BatchNormalizat  (None, 32, 55, 64)  256         ['block0_2_conv1[0][0]']         \n",
            " ion)                                                                                             \n",
            "                                                                                                  \n",
            " add_1 (Add)                    (None, 32, 55, 64)   0           ['block0_2_bn_1[0][0]',          \n",
            "                                                                  'block0_1_activtion_0[0][0]']   \n",
            "                                                                                                  \n",
            " block0_1_activtion_1 (Activati  (None, 32, 55, 64)  0           ['add_1[0][0]']                  \n",
            " on)                                                                                              \n",
            "                                                                                                  \n",
            " block0_1_conv2 (Conv2D)        (None, 32, 55, 64)   36928       ['block0_1_activtion_1[0][0]']   \n",
            "                                                                                                  \n",
            " block0_1_bn_2 (BatchNormalizat  (None, 32, 55, 64)  256         ['block0_1_conv2[0][0]']         \n",
            " ion)                                                                                             \n",
            "                                                                                                  \n",
            " block0_activtion_2 (Activation  (None, 32, 55, 64)  0           ['block0_1_bn_2[0][0]']          \n",
            " )                                                                                                \n",
            "                                                                                                  \n",
            " block0_2_conv2 (Conv2D)        (None, 32, 55, 64)   36928       ['block0_activtion_2[0][0]']     \n",
            "                                                                                                  \n",
            " block0_2_bn_2 (BatchNormalizat  (None, 32, 55, 64)  256         ['block0_2_conv2[0][0]']         \n",
            " ion)                                                                                             \n",
            "                                                                                                  \n",
            " add_2 (Add)                    (None, 32, 55, 64)   0           ['block0_2_bn_2[0][0]',          \n",
            "                                                                  'block0_1_activtion_1[0][0]']   \n",
            "                                                                                                  \n",
            " block0_1_activtion_2 (Activati  (None, 32, 55, 64)  0           ['add_2[0][0]']                  \n",
            " on)                                                                                              \n",
            "                                                                                                  \n",
            " block1_first_conv0 (Conv2D)    (None, 16, 28, 128)  73856       ['block0_1_activtion_2[0][0]']   \n",
            "                                                                                                  \n",
            " block1_1_bn_0 (BatchNormalizat  (None, 16, 28, 128)  512        ['block1_first_conv0[0][0]']     \n",
            " ion)                                                                                             \n",
            "                                                                                                  \n",
            " block1_activtion_0 (Activation  (None, 16, 28, 128)  0          ['block1_1_bn_0[0][0]']          \n",
            " )                                                                                                \n",
            "                                                                                                  \n",
            " block1_2_conv0 (Conv2D)        (None, 16, 28, 128)  147584      ['block1_activtion_0[0][0]']     \n",
            "                                                                                                  \n",
            " block1_skip_conv0 (Conv2D)     (None, 16, 28, 128)  8320        ['block0_1_activtion_2[0][0]']   \n",
            "                                                                                                  \n",
            " block1_2_bn_0 (BatchNormalizat  (None, 16, 28, 128)  512        ['block1_2_conv0[0][0]']         \n",
            " ion)                                                                                             \n",
            "                                                                                                  \n",
            " block1_skip_bn_0 (BatchNormali  (None, 16, 28, 128)  512        ['block1_skip_conv0[0][0]']      \n",
            " zation)                                                                                          \n",
            "                                                                                                  \n",
            " add_3 (Add)                    (None, 16, 28, 128)  0           ['block1_2_bn_0[0][0]',          \n",
            "                                                                  'block1_skip_bn_0[0][0]']       \n",
            "                                                                                                  \n",
            " block1_1_activtion_0 (Activati  (None, 16, 28, 128)  0          ['add_3[0][0]']                  \n",
            " on)                                                                                              \n",
            "                                                                                                  \n",
            " block1_1_conv1 (Conv2D)        (None, 16, 28, 128)  147584      ['block1_1_activtion_0[0][0]']   \n",
            "                                                                                                  \n",
            " block1_1_bn_1 (BatchNormalizat  (None, 16, 28, 128)  512        ['block1_1_conv1[0][0]']         \n",
            " ion)                                                                                             \n",
            "                                                                                                  \n",
            " block1_activtion_1 (Activation  (None, 16, 28, 128)  0          ['block1_1_bn_1[0][0]']          \n",
            " )                                                                                                \n",
            "                                                                                                  \n",
            " block1_2_conv1 (Conv2D)        (None, 16, 28, 128)  147584      ['block1_activtion_1[0][0]']     \n",
            "                                                                                                  \n",
            " block1_2_bn_1 (BatchNormalizat  (None, 16, 28, 128)  512        ['block1_2_conv1[0][0]']         \n",
            " ion)                                                                                             \n",
            "                                                                                                  \n",
            " add_4 (Add)                    (None, 16, 28, 128)  0           ['block1_2_bn_1[0][0]',          \n",
            "                                                                  'block1_1_activtion_0[0][0]']   \n",
            "                                                                                                  \n",
            " block1_1_activtion_1 (Activati  (None, 16, 28, 128)  0          ['add_4[0][0]']                  \n",
            " on)                                                                                              \n",
            "                                                                                                  \n",
            " block1_1_conv2 (Conv2D)        (None, 16, 28, 128)  147584      ['block1_1_activtion_1[0][0]']   \n",
            "                                                                                                  \n",
            " block1_1_bn_2 (BatchNormalizat  (None, 16, 28, 128)  512        ['block1_1_conv2[0][0]']         \n",
            " ion)                                                                                             \n",
            "                                                                                                  \n",
            " block1_activtion_2 (Activation  (None, 16, 28, 128)  0          ['block1_1_bn_2[0][0]']          \n",
            " )                                                                                                \n",
            "                                                                                                  \n",
            " block1_2_conv2 (Conv2D)        (None, 16, 28, 128)  147584      ['block1_activtion_2[0][0]']     \n",
            "                                                                                                  \n",
            " block1_2_bn_2 (BatchNormalizat  (None, 16, 28, 128)  512        ['block1_2_conv2[0][0]']         \n",
            " ion)                                                                                             \n",
            "                                                                                                  \n",
            " add_5 (Add)                    (None, 16, 28, 128)  0           ['block1_2_bn_2[0][0]',          \n",
            "                                                                  'block1_1_activtion_1[0][0]']   \n",
            "                                                                                                  \n",
            " block1_1_activtion_2 (Activati  (None, 16, 28, 128)  0          ['add_5[0][0]']                  \n",
            " on)                                                                                              \n",
            "                                                                                                  \n",
            " block1_1_conv3 (Conv2D)        (None, 16, 28, 128)  147584      ['block1_1_activtion_2[0][0]']   \n",
            "                                                                                                  \n",
            " block1_1_bn_3 (BatchNormalizat  (None, 16, 28, 128)  512        ['block1_1_conv3[0][0]']         \n",
            " ion)                                                                                             \n",
            "                                                                                                  \n",
            " block1_activtion_3 (Activation  (None, 16, 28, 128)  0          ['block1_1_bn_3[0][0]']          \n",
            " )                                                                                                \n",
            "                                                                                                  \n",
            " block1_2_conv3 (Conv2D)        (None, 16, 28, 128)  147584      ['block1_activtion_3[0][0]']     \n",
            "                                                                                                  \n",
            " block1_2_bn_3 (BatchNormalizat  (None, 16, 28, 128)  512        ['block1_2_conv3[0][0]']         \n",
            " ion)                                                                                             \n",
            "                                                                                                  \n",
            " add_6 (Add)                    (None, 16, 28, 128)  0           ['block1_2_bn_3[0][0]',          \n",
            "                                                                  'block1_1_activtion_2[0][0]']   \n",
            "                                                                                                  \n",
            " block1_1_activtion_3 (Activati  (None, 16, 28, 128)  0          ['add_6[0][0]']                  \n",
            " on)                                                                                              \n",
            "                                                                                                  \n",
            " block2_first_conv0 (Conv2D)    (None, 8, 14, 256)   295168      ['block1_1_activtion_3[0][0]']   \n",
            "                                                                                                  \n",
            " block2_1_bn_0 (BatchNormalizat  (None, 8, 14, 256)  1024        ['block2_first_conv0[0][0]']     \n",
            " ion)                                                                                             \n",
            "                                                                                                  \n",
            " block2_activtion_0 (Activation  (None, 8, 14, 256)  0           ['block2_1_bn_0[0][0]']          \n",
            " )                                                                                                \n",
            "                                                                                                  \n",
            " block2_2_conv0 (Conv2D)        (None, 8, 14, 256)   590080      ['block2_activtion_0[0][0]']     \n",
            "                                                                                                  \n",
            " block2_skip_conv0 (Conv2D)     (None, 8, 14, 256)   33024       ['block1_1_activtion_3[0][0]']   \n",
            "                                                                                                  \n",
            " block2_2_bn_0 (BatchNormalizat  (None, 8, 14, 256)  1024        ['block2_2_conv0[0][0]']         \n",
            " ion)                                                                                             \n",
            "                                                                                                  \n",
            " block2_skip_bn_0 (BatchNormali  (None, 8, 14, 256)  1024        ['block2_skip_conv0[0][0]']      \n",
            " zation)                                                                                          \n",
            "                                                                                                  \n",
            " add_7 (Add)                    (None, 8, 14, 256)   0           ['block2_2_bn_0[0][0]',          \n",
            "                                                                  'block2_skip_bn_0[0][0]']       \n",
            "                                                                                                  \n",
            " block2_1_activtion_0 (Activati  (None, 8, 14, 256)  0           ['add_7[0][0]']                  \n",
            " on)                                                                                              \n",
            "                                                                                                  \n",
            " block2_1_conv1 (Conv2D)        (None, 8, 14, 256)   590080      ['block2_1_activtion_0[0][0]']   \n",
            "                                                                                                  \n",
            " block2_1_bn_1 (BatchNormalizat  (None, 8, 14, 256)  1024        ['block2_1_conv1[0][0]']         \n",
            " ion)                                                                                             \n",
            "                                                                                                  \n",
            " block2_activtion_1 (Activation  (None, 8, 14, 256)  0           ['block2_1_bn_1[0][0]']          \n",
            " )                                                                                                \n",
            "                                                                                                  \n",
            " block2_2_conv1 (Conv2D)        (None, 8, 14, 256)   590080      ['block2_activtion_1[0][0]']     \n",
            "                                                                                                  \n",
            " block2_2_bn_1 (BatchNormalizat  (None, 8, 14, 256)  1024        ['block2_2_conv1[0][0]']         \n",
            " ion)                                                                                             \n",
            "                                                                                                  \n",
            " add_8 (Add)                    (None, 8, 14, 256)   0           ['block2_2_bn_1[0][0]',          \n",
            "                                                                  'block2_1_activtion_0[0][0]']   \n",
            "                                                                                                  \n",
            " block2_1_activtion_1 (Activati  (None, 8, 14, 256)  0           ['add_8[0][0]']                  \n",
            " on)                                                                                              \n",
            "                                                                                                  \n",
            " block2_1_conv2 (Conv2D)        (None, 8, 14, 256)   590080      ['block2_1_activtion_1[0][0]']   \n",
            "                                                                                                  \n",
            " block2_1_bn_2 (BatchNormalizat  (None, 8, 14, 256)  1024        ['block2_1_conv2[0][0]']         \n",
            " ion)                                                                                             \n",
            "                                                                                                  \n",
            " block2_activtion_2 (Activation  (None, 8, 14, 256)  0           ['block2_1_bn_2[0][0]']          \n",
            " )                                                                                                \n",
            "                                                                                                  \n",
            " block2_2_conv2 (Conv2D)        (None, 8, 14, 256)   590080      ['block2_activtion_2[0][0]']     \n",
            "                                                                                                  \n",
            " block2_2_bn_2 (BatchNormalizat  (None, 8, 14, 256)  1024        ['block2_2_conv2[0][0]']         \n",
            " ion)                                                                                             \n",
            "                                                                                                  \n",
            " add_9 (Add)                    (None, 8, 14, 256)   0           ['block2_2_bn_2[0][0]',          \n",
            "                                                                  'block2_1_activtion_1[0][0]']   \n",
            "                                                                                                  \n",
            " block2_1_activtion_2 (Activati  (None, 8, 14, 256)  0           ['add_9[0][0]']                  \n",
            " on)                                                                                              \n",
            "                                                                                                  \n",
            " block2_1_conv3 (Conv2D)        (None, 8, 14, 256)   590080      ['block2_1_activtion_2[0][0]']   \n",
            "                                                                                                  \n",
            " block2_1_bn_3 (BatchNormalizat  (None, 8, 14, 256)  1024        ['block2_1_conv3[0][0]']         \n",
            " ion)                                                                                             \n",
            "                                                                                                  \n",
            " block2_activtion_3 (Activation  (None, 8, 14, 256)  0           ['block2_1_bn_3[0][0]']          \n",
            " )                                                                                                \n",
            "                                                                                                  \n",
            " block2_2_conv3 (Conv2D)        (None, 8, 14, 256)   590080      ['block2_activtion_3[0][0]']     \n",
            "                                                                                                  \n",
            " block2_2_bn_3 (BatchNormalizat  (None, 8, 14, 256)  1024        ['block2_2_conv3[0][0]']         \n",
            " ion)                                                                                             \n",
            "                                                                                                  \n",
            " add_10 (Add)                   (None, 8, 14, 256)   0           ['block2_2_bn_3[0][0]',          \n",
            "                                                                  'block2_1_activtion_2[0][0]']   \n",
            "                                                                                                  \n",
            " block2_1_activtion_3 (Activati  (None, 8, 14, 256)  0           ['add_10[0][0]']                 \n",
            " on)                                                                                              \n",
            "                                                                                                  \n",
            " block2_1_conv4 (Conv2D)        (None, 8, 14, 256)   590080      ['block2_1_activtion_3[0][0]']   \n",
            "                                                                                                  \n",
            " block2_1_bn_4 (BatchNormalizat  (None, 8, 14, 256)  1024        ['block2_1_conv4[0][0]']         \n",
            " ion)                                                                                             \n",
            "                                                                                                  \n",
            " block2_activtion_4 (Activation  (None, 8, 14, 256)  0           ['block2_1_bn_4[0][0]']          \n",
            " )                                                                                                \n",
            "                                                                                                  \n",
            " block2_2_conv4 (Conv2D)        (None, 8, 14, 256)   590080      ['block2_activtion_4[0][0]']     \n",
            "                                                                                                  \n",
            " block2_2_bn_4 (BatchNormalizat  (None, 8, 14, 256)  1024        ['block2_2_conv4[0][0]']         \n",
            " ion)                                                                                             \n",
            "                                                                                                  \n",
            " add_11 (Add)                   (None, 8, 14, 256)   0           ['block2_2_bn_4[0][0]',          \n",
            "                                                                  'block2_1_activtion_3[0][0]']   \n",
            "                                                                                                  \n",
            " block2_1_activtion_4 (Activati  (None, 8, 14, 256)  0           ['add_11[0][0]']                 \n",
            " on)                                                                                              \n",
            "                                                                                                  \n",
            " block2_1_conv5 (Conv2D)        (None, 8, 14, 256)   590080      ['block2_1_activtion_4[0][0]']   \n",
            "                                                                                                  \n",
            " block2_1_bn_5 (BatchNormalizat  (None, 8, 14, 256)  1024        ['block2_1_conv5[0][0]']         \n",
            " ion)                                                                                             \n",
            "                                                                                                  \n",
            " block2_activtion_5 (Activation  (None, 8, 14, 256)  0           ['block2_1_bn_5[0][0]']          \n",
            " )                                                                                                \n",
            "                                                                                                  \n",
            " block2_2_conv5 (Conv2D)        (None, 8, 14, 256)   590080      ['block2_activtion_5[0][0]']     \n",
            "                                                                                                  \n",
            " block2_2_bn_5 (BatchNormalizat  (None, 8, 14, 256)  1024        ['block2_2_conv5[0][0]']         \n",
            " ion)                                                                                             \n",
            "                                                                                                  \n",
            " add_12 (Add)                   (None, 8, 14, 256)   0           ['block2_2_bn_5[0][0]',          \n",
            "                                                                  'block2_1_activtion_4[0][0]']   \n",
            "                                                                                                  \n",
            " block2_1_activtion_5 (Activati  (None, 8, 14, 256)  0           ['add_12[0][0]']                 \n",
            " on)                                                                                              \n",
            "                                                                                                  \n",
            " block3_first_conv0 (Conv2D)    (None, 4, 7, 512)    1180160     ['block2_1_activtion_5[0][0]']   \n",
            "                                                                                                  \n",
            " block3_1_bn_0 (BatchNormalizat  (None, 4, 7, 512)   2048        ['block3_first_conv0[0][0]']     \n",
            " ion)                                                                                             \n",
            "                                                                                                  \n",
            " block3_activtion_0 (Activation  (None, 4, 7, 512)   0           ['block3_1_bn_0[0][0]']          \n",
            " )                                                                                                \n",
            "                                                                                                  \n",
            " block3_2_conv0 (Conv2D)        (None, 4, 7, 512)    2359808     ['block3_activtion_0[0][0]']     \n",
            "                                                                                                  \n",
            " block3_skip_conv0 (Conv2D)     (None, 4, 7, 512)    131584      ['block2_1_activtion_5[0][0]']   \n",
            "                                                                                                  \n",
            " block3_2_bn_0 (BatchNormalizat  (None, 4, 7, 512)   2048        ['block3_2_conv0[0][0]']         \n",
            " ion)                                                                                             \n",
            "                                                                                                  \n",
            " block3_skip_bn_0 (BatchNormali  (None, 4, 7, 512)   2048        ['block3_skip_conv0[0][0]']      \n",
            " zation)                                                                                          \n",
            "                                                                                                  \n",
            " add_13 (Add)                   (None, 4, 7, 512)    0           ['block3_2_bn_0[0][0]',          \n",
            "                                                                  'block3_skip_bn_0[0][0]']       \n",
            "                                                                                                  \n",
            " block3_1_activtion_0 (Activati  (None, 4, 7, 512)   0           ['add_13[0][0]']                 \n",
            " on)                                                                                              \n",
            "                                                                                                  \n",
            " block3_1_conv1 (Conv2D)        (None, 4, 7, 512)    2359808     ['block3_1_activtion_0[0][0]']   \n",
            "                                                                                                  \n",
            " block3_1_bn_1 (BatchNormalizat  (None, 4, 7, 512)   2048        ['block3_1_conv1[0][0]']         \n",
            " ion)                                                                                             \n",
            "                                                                                                  \n",
            " block3_activtion_1 (Activation  (None, 4, 7, 512)   0           ['block3_1_bn_1[0][0]']          \n",
            " )                                                                                                \n",
            "                                                                                                  \n",
            " block3_2_conv1 (Conv2D)        (None, 4, 7, 512)    2359808     ['block3_activtion_1[0][0]']     \n",
            "                                                                                                  \n",
            " block3_2_bn_1 (BatchNormalizat  (None, 4, 7, 512)   2048        ['block3_2_conv1[0][0]']         \n",
            " ion)                                                                                             \n",
            "                                                                                                  \n",
            " add_14 (Add)                   (None, 4, 7, 512)    0           ['block3_2_bn_1[0][0]',          \n",
            "                                                                  'block3_1_activtion_0[0][0]']   \n",
            "                                                                                                  \n",
            " block3_1_activtion_1 (Activati  (None, 4, 7, 512)   0           ['add_14[0][0]']                 \n",
            " on)                                                                                              \n",
            "                                                                                                  \n",
            " block3_1_conv2 (Conv2D)        (None, 4, 7, 512)    2359808     ['block3_1_activtion_1[0][0]']   \n",
            "                                                                                                  \n",
            " block3_1_bn_2 (BatchNormalizat  (None, 4, 7, 512)   2048        ['block3_1_conv2[0][0]']         \n",
            " ion)                                                                                             \n",
            "                                                                                                  \n",
            " block3_activtion_2 (Activation  (None, 4, 7, 512)   0           ['block3_1_bn_2[0][0]']          \n",
            " )                                                                                                \n",
            "                                                                                                  \n",
            " block3_2_conv2 (Conv2D)        (None, 4, 7, 512)    2359808     ['block3_activtion_2[0][0]']     \n",
            "                                                                                                  \n",
            " block3_2_bn_2 (BatchNormalizat  (None, 4, 7, 512)   2048        ['block3_2_conv2[0][0]']         \n",
            " ion)                                                                                             \n",
            "                                                                                                  \n",
            " add_15 (Add)                   (None, 4, 7, 512)    0           ['block3_2_bn_2[0][0]',          \n",
            "                                                                  'block3_1_activtion_1[0][0]']   \n",
            "                                                                                                  \n",
            " block3_1_activtion_2 (Activati  (None, 4, 7, 512)   0           ['add_15[0][0]']                 \n",
            " on)                                                                                              \n",
            "                                                                                                  \n",
            " last_AveragePooling (AveragePo  (None, 4, 7, 512)   0           ['block3_1_activtion_2[0][0]']   \n",
            " oling2D)                                                                                         \n",
            "                                                                                                  \n",
            " Flatten (Flatten)              (None, 14336)        0           ['last_AveragePooling[0][0]']    \n",
            "                                                                                                  \n",
            " predictions (Dense)            (None, 4)            57348       ['Flatten[0][0]']                \n",
            "                                                                                                  \n",
            "==================================================================================================\n",
            "Total params: 21,361,284\n",
            "Trainable params: 21,344,260\n",
            "Non-trainable params: 17,024\n",
            "__________________________________________________________________________________________________\n"
          ]
        }
      ]
    },
    {
      "cell_type": "code",
      "source": [
        "accuracy='sparse_categorical_accuracy'\n",
        "sparseLoss=keras.losses.SparseCategoricalCrossentropy()\n",
        "\n",
        "from keras import backend as K\n",
        "K.clear_session()\n",
        "resnet_34.compile(optimizer='nadam', loss=sparseLoss, metrics=[accuracy])\n",
        "K.set_value(resnet_34.optimizer.learning_rate, 0.001)"
      ],
      "metadata": {
        "id": "F3NVG1vEalQB"
      },
      "execution_count": null,
      "outputs": []
    },
    {
      "cell_type": "code",
      "source": [
        "file_name = '/content/drive/MyDrive/aiffel/aiffelthon/model/resnet-001.h5'\n",
        "my_callbacks = [\n",
        "    tf.keras.callbacks.EarlyStopping(patience=10),\n",
        "    tf.keras.callbacks.ReduceLROnPlateau(monitor='val_loss', factor=0.1,\n",
        "                              patience=3, min_lr=1e-12,mode='min'), #미분하다 막히면 lr 변경해줌\n",
        "    tf.keras.callbacks.ModelCheckpoint(file_name, monitor='val_loss', verbose=0, save_best_only=True,)\n",
        "]"
      ],
      "metadata": {
        "id": "bBqbVA19bA87"
      },
      "execution_count": null,
      "outputs": []
    },
    {
      "cell_type": "code",
      "source": [
        "history=resnet_34.fit(\n",
        "    x_train_1,\n",
        "    y_train_1,\n",
        "    batch_size = 64,\n",
        "    validation_data=(x_test_1,y_test_1),\n",
        "    epochs=100,\n",
        "    verbose=1,\n",
        "    callbacks=my_callbacks\n",
        ")"
      ],
      "metadata": {
        "colab": {
          "base_uri": "https://localhost:8080/"
        },
        "id": "-dYVN9QlbFE7",
        "outputId": "ec8a0e1d-3488-4941-e6dc-b270326eec04"
      },
      "execution_count": null,
      "outputs": [
        {
          "output_type": "stream",
          "name": "stdout",
          "text": [
            "Epoch 1/100\n",
            "161/161 [==============================] - 38s 163ms/step - loss: 5.5308 - sparse_categorical_accuracy: 0.2703 - val_loss: 1.3866 - val_sparse_categorical_accuracy: 0.0732 - lr: 0.0010\n",
            "Epoch 2/100\n",
            "161/161 [==============================] - 21s 131ms/step - loss: 3.9139 - sparse_categorical_accuracy: 0.2842 - val_loss: 1.3892 - val_sparse_categorical_accuracy: 0.1649 - lr: 0.0010\n",
            "Epoch 3/100\n",
            "161/161 [==============================] - 22s 138ms/step - loss: 3.1522 - sparse_categorical_accuracy: 0.3050 - val_loss: 1.9560 - val_sparse_categorical_accuracy: 0.1275 - lr: 0.0010\n",
            "Epoch 4/100\n",
            "161/161 [==============================] - 22s 139ms/step - loss: 3.0033 - sparse_categorical_accuracy: 0.2979 - val_loss: 17.8123 - val_sparse_categorical_accuracy: 0.4837 - lr: 0.0010\n",
            "Epoch 5/100\n",
            "161/161 [==============================] - 22s 138ms/step - loss: 1.7020 - sparse_categorical_accuracy: 0.3508 - val_loss: 1.4698 - val_sparse_categorical_accuracy: 0.2620 - lr: 1.0000e-04\n",
            "Epoch 6/100\n",
            "161/161 [==============================] - 26s 163ms/step - loss: 1.4192 - sparse_categorical_accuracy: 0.3848 - val_loss: 1.3605 - val_sparse_categorical_accuracy: 0.3920 - lr: 1.0000e-04\n",
            "Epoch 7/100\n",
            "161/161 [==============================] - 24s 147ms/step - loss: 1.3718 - sparse_categorical_accuracy: 0.4079 - val_loss: 1.3278 - val_sparse_categorical_accuracy: 0.4036 - lr: 1.0000e-04\n",
            "Epoch 8/100\n",
            "161/161 [==============================] - 23s 145ms/step - loss: 1.3408 - sparse_categorical_accuracy: 0.4246 - val_loss: 1.2830 - val_sparse_categorical_accuracy: 0.4395 - lr: 1.0000e-04\n",
            "Epoch 9/100\n",
            "161/161 [==============================] - 21s 129ms/step - loss: 1.2964 - sparse_categorical_accuracy: 0.4484 - val_loss: 1.2937 - val_sparse_categorical_accuracy: 0.4420 - lr: 1.0000e-04\n",
            "Epoch 10/100\n",
            "161/161 [==============================] - 21s 128ms/step - loss: 1.2600 - sparse_categorical_accuracy: 0.4680 - val_loss: 1.3873 - val_sparse_categorical_accuracy: 0.4094 - lr: 1.0000e-04\n",
            "Epoch 11/100\n",
            "161/161 [==============================] - 21s 130ms/step - loss: 1.2374 - sparse_categorical_accuracy: 0.4875 - val_loss: 1.4162 - val_sparse_categorical_accuracy: 0.3674 - lr: 1.0000e-04\n",
            "Epoch 12/100\n",
            "161/161 [==============================] - 21s 128ms/step - loss: 1.1077 - sparse_categorical_accuracy: 0.5425 - val_loss: 1.3148 - val_sparse_categorical_accuracy: 0.4167 - lr: 1.0000e-05\n",
            "Epoch 13/100\n",
            "161/161 [==============================] - 21s 128ms/step - loss: 1.0948 - sparse_categorical_accuracy: 0.5523 - val_loss: 1.2995 - val_sparse_categorical_accuracy: 0.4330 - lr: 1.0000e-05\n",
            "Epoch 14/100\n",
            "161/161 [==============================] - 21s 128ms/step - loss: 1.0821 - sparse_categorical_accuracy: 0.5541 - val_loss: 1.3190 - val_sparse_categorical_accuracy: 0.4236 - lr: 1.0000e-05\n",
            "Epoch 15/100\n",
            "161/161 [==============================] - 21s 130ms/step - loss: 1.0680 - sparse_categorical_accuracy: 0.5621 - val_loss: 1.3165 - val_sparse_categorical_accuracy: 0.4232 - lr: 1.0000e-06\n",
            "Epoch 16/100\n",
            "161/161 [==============================] - 21s 130ms/step - loss: 1.0601 - sparse_categorical_accuracy: 0.5678 - val_loss: 1.3161 - val_sparse_categorical_accuracy: 0.4243 - lr: 1.0000e-06\n",
            "Epoch 17/100\n",
            "161/161 [==============================] - 21s 128ms/step - loss: 1.0600 - sparse_categorical_accuracy: 0.5672 - val_loss: 1.3130 - val_sparse_categorical_accuracy: 0.4210 - lr: 1.0000e-06\n",
            "Epoch 18/100\n",
            "161/161 [==============================] - 21s 129ms/step - loss: 1.0644 - sparse_categorical_accuracy: 0.5575 - val_loss: 1.3078 - val_sparse_categorical_accuracy: 0.4243 - lr: 1.0000e-07\n"
          ]
        }
      ]
    },
    {
      "cell_type": "code",
      "source": [
        "plt.figure(figsize=(15,8))\n",
        "\n",
        "plt.plot(history.history['sparse_categorical_accuracy'], label = 'train_accuracy', linestyle='solid', color='r')\n",
        "plt.plot(history.history['val_sparse_categorical_accuracy'], label = 'val_accuracy', linestyle='solid', color='b')\n",
        "\n",
        "plt.xlabel('Epochs', fontsize = 15)\n",
        "plt.ylabel('Accuracy', fontsize = 15)\n",
        "plt.legend()\n",
        "plt.title('With_aug_Mel_Blank_Clipping', fontsize = 20)\n",
        "plt.show()"
      ],
      "metadata": {
        "colab": {
          "base_uri": "https://localhost:8080/",
          "height": 374
        },
        "id": "QdMwDGZax2AL",
        "outputId": "61d0291d-a7a7-41ae-f148-a80f02590308"
      },
      "execution_count": null,
      "outputs": [
        {
          "output_type": "display_data",
          "data": {
            "text/plain": [
              "<Figure size 1080x576 with 1 Axes>"
            ],
            "image/png": "[encoded data removed]"
          },
          "metadata": {
            "needs_background": "light"
          }
        }
      ]
    },
    {
      "cell_type": "markdown",
      "source": [
        "classification report"
      ],
      "metadata": {
        "id": "rRR-HdkKvukh"
      }
    },
    {
      "cell_type": "code",
      "source": [
        "y_pred = resnet_34.predict(x_test_1)"
      ],
      "metadata": {
        "id": "8U6lsAJZvuMw"
      },
      "execution_count": null,
      "outputs": []
    },
    {
      "cell_type": "code",
      "source": [
        "from sklearn.metrics import confusion_matrix, plot_confusion_matrix\n",
        "confusion_matrix(np.argmax(y_pred, axis = 1), y_test_1)"
      ],
      "metadata": {
        "colab": {
          "base_uri": "https://localhost:8080/"
        },
        "id": "884Cw_GPvuKS",
        "outputId": "2ce85444-b06f-49a9-ff2f-6689858dba3d"
      },
      "execution_count": null,
      "outputs": [
        {
          "output_type": "execute_result",
          "data": {
            "text/plain": [
              "array([[795, 292, 136,  78],\n",
              "       [290, 259,  84,  54],\n",
              "       [200,  71,  76,  29],\n",
              "       [172, 124,  59,  41]])"
            ]
          },
          "metadata": {},
          "execution_count": 35
        }
      ]
    },
    {
      "cell_type": "code",
      "source": [
        "from sklearn.metrics import classification_report\n",
        "\n",
        "target_names=['Normal', 'Crackle', 'Wheeze', 'Both']\n",
        "\n",
        "clf_report = classification_report(y_test_1, np.argmax(y_pred, axis = 1), target_names=target_names, output_dict=True)\n",
        "print(classification_report(y_test_1, np.argmax(y_pred, axis = 1), target_names=target_names))\n"
      ],
      "metadata": {
        "colab": {
          "base_uri": "https://localhost:8080/"
        },
        "id": "4hE6y7q6vuIc",
        "outputId": "952c8101-4e65-42be-9e20-600384376ed3"
      },
      "execution_count": null,
      "outputs": [
        {
          "output_type": "stream",
          "name": "stdout",
          "text": [
            "              precision    recall  f1-score   support\n",
            "\n",
            "      Normal       0.61      0.55      0.58      1457\n",
            "     Crackle       0.38      0.35      0.36       746\n",
            "      Wheeze       0.20      0.21      0.21       355\n",
            "        Both       0.10      0.20      0.14       202\n",
            "\n",
            "    accuracy                           0.42      2760\n",
            "   macro avg       0.32      0.33      0.32      2760\n",
            "weighted avg       0.46      0.42      0.44      2760\n",
            "\n"
          ]
        }
      ]
    },
    {
      "cell_type": "markdown",
      "source": [
        "trial_2(resnet 보다 더 간단한 모델인데 더 성능 잘 나옴)"
      ],
      "metadata": {
        "id": "WMnf3Wf20TBK"
      }
    },
    {
      "cell_type": "code",
      "source": [
        "#주석 부분은 skip layer 시도했다가 잘 안돼서 주석처리한 것입니다.\n",
        "\n",
        "mSpec_input=keras.layers.Input(shape=(128,219,1),name=\"mSpecInput\")\n",
        "x=keras.layers.Conv2D(32,5,strides=(2,3),padding='same')(mSpec_input)\n",
        "x=keras.layers.BatchNormalization()(x)\n",
        "x=keras.layers.Activation(keras.activations.relu)(x)\n",
        "x=keras.layers.MaxPooling2D(pool_size=2,padding='valid')(x)\n",
        "\n",
        "skip_x = x\n",
        "skip_x = keras.layers.Conv2D(96,3,strides=(2,4),padding='same')(skip_x)\n",
        "\n",
        "x=keras.layers.Conv2D(64,3,strides=(1,2),padding='same')(x)\n",
        "x=keras.layers.BatchNormalization()(x)\n",
        "x=keras.layers.Activation(keras.activations.relu)(x)\n",
        "x=keras.layers.MaxPooling2D(pool_size=2,padding='valid')(x)\n",
        "\n",
        "x=keras.layers.Conv2D(96,2,padding='same')(x)\n",
        "x = keras.layers.Add()([x,skip_x])\n",
        "x=keras.layers.BatchNormalization()(x)\n",
        "x=keras.layers.Activation(keras.activations.relu)(x)\n",
        "x=keras.layers.MaxPooling2D(pool_size=2,padding='valid')(x)\n",
        "\n",
        "x=keras.layers.Conv2D(128,2,padding='same')(x)\n",
        "x=keras.layers.BatchNormalization()(x)\n",
        "x=keras.layers.Activation(keras.activations.relu)(x)\n",
        "x=keras.layers.GlobalMaxPooling2D()(x)\n",
        "\n",
        "x=keras.layers.Dropout(0.2)(x)\n",
        "x=keras.layers.Dense(50,activation='relu')(x)\n",
        "x=keras.layers.Dropout(0.3)(x)\n",
        "x=keras.layers.Dense(25,activation='relu')(x)\n",
        "x=keras.layers.Dropout(0.3)(x)\n",
        "output=keras.layers.Dense(4,activation='softmax')(x)\n",
        "\n",
        "\n",
        "mSpec_model=keras.Model(mSpec_input, output, name=\"mSpecModel\")"
      ],
      "metadata": {
        "id": "PM-rWewf5edP"
      },
      "execution_count": null,
      "outputs": []
    },
    {
      "cell_type": "code",
      "source": [
        "mSpec_model.summary()"
      ],
      "metadata": {
        "colab": {
          "base_uri": "https://localhost:8080/"
        },
        "id": "bBbB1vuh5jcp",
        "outputId": "70ab82be-4b6e-4f0e-c510-906856000157"
      },
      "execution_count": null,
      "outputs": [
        {
          "output_type": "stream",
          "name": "stdout",
          "text": [
            "Model: \"mSpecModel\"\n",
            "__________________________________________________________________________________________________\n",
            " Layer (type)                   Output Shape         Param #     Connected to                     \n",
            "==================================================================================================\n",
            " mSpecInput (InputLayer)        [(None, 128, 219, 1  0           []                               \n",
            "                                )]                                                                \n",
            "                                                                                                  \n",
            " conv2d (Conv2D)                (None, 64, 73, 32)   832         ['mSpecInput[0][0]']             \n",
            "                                                                                                  \n",
            " batch_normalization (BatchNorm  (None, 64, 73, 32)  128         ['conv2d[0][0]']                 \n",
            " alization)                                                                                       \n",
            "                                                                                                  \n",
            " activation (Activation)        (None, 64, 73, 32)   0           ['batch_normalization[0][0]']    \n",
            "                                                                                                  \n",
            " max_pooling2d (MaxPooling2D)   (None, 32, 36, 32)   0           ['activation[0][0]']             \n",
            "                                                                                                  \n",
            " conv2d_2 (Conv2D)              (None, 32, 18, 64)   18496       ['max_pooling2d[0][0]']          \n",
            "                                                                                                  \n",
            " batch_normalization_1 (BatchNo  (None, 32, 18, 64)  256         ['conv2d_2[0][0]']               \n",
            " rmalization)                                                                                     \n",
            "                                                                                                  \n",
            " activation_1 (Activation)      (None, 32, 18, 64)   0           ['batch_normalization_1[0][0]']  \n",
            "                                                                                                  \n",
            " max_pooling2d_1 (MaxPooling2D)  (None, 16, 9, 64)   0           ['activation_1[0][0]']           \n",
            "                                                                                                  \n",
            " conv2d_3 (Conv2D)              (None, 16, 9, 96)    24672       ['max_pooling2d_1[0][0]']        \n",
            "                                                                                                  \n",
            " conv2d_1 (Conv2D)              (None, 16, 9, 96)    27744       ['max_pooling2d[0][0]']          \n",
            "                                                                                                  \n",
            " add (Add)                      (None, 16, 9, 96)    0           ['conv2d_3[0][0]',               \n",
            "                                                                  'conv2d_1[0][0]']               \n",
            "                                                                                                  \n",
            " batch_normalization_2 (BatchNo  (None, 16, 9, 96)   384         ['add[0][0]']                    \n",
            " rmalization)                                                                                     \n",
            "                                                                                                  \n",
            " activation_2 (Activation)      (None, 16, 9, 96)    0           ['batch_normalization_2[0][0]']  \n",
            "                                                                                                  \n",
            " max_pooling2d_2 (MaxPooling2D)  (None, 8, 4, 96)    0           ['activation_2[0][0]']           \n",
            "                                                                                                  \n",
            " conv2d_4 (Conv2D)              (None, 8, 4, 128)    49280       ['max_pooling2d_2[0][0]']        \n",
            "                                                                                                  \n",
            " batch_normalization_3 (BatchNo  (None, 8, 4, 128)   512         ['conv2d_4[0][0]']               \n",
            " rmalization)                                                                                     \n",
            "                                                                                                  \n",
            " activation_3 (Activation)      (None, 8, 4, 128)    0           ['batch_normalization_3[0][0]']  \n",
            "                                                                                                  \n",
            " global_max_pooling2d (GlobalMa  (None, 128)         0           ['activation_3[0][0]']           \n",
            " xPooling2D)                                                                                      \n",
            "                                                                                                  \n",
            " dropout (Dropout)              (None, 128)          0           ['global_max_pooling2d[0][0]']   \n",
            "                                                                                                  \n",
            " dense (Dense)                  (None, 50)           6450        ['dropout[0][0]']                \n",
            "                                                                                                  \n",
            " dropout_1 (Dropout)            (None, 50)           0           ['dense[0][0]']                  \n",
            "                                                                                                  \n",
            " dense_1 (Dense)                (None, 25)           1275        ['dropout_1[0][0]']              \n",
            "                                                                                                  \n",
            " dropout_2 (Dropout)            (None, 25)           0           ['dense_1[0][0]']                \n",
            "                                                                                                  \n",
            " dense_2 (Dense)                (None, 4)            104         ['dropout_2[0][0]']              \n",
            "                                                                                                  \n",
            "==================================================================================================\n",
            "Total params: 130,133\n",
            "Trainable params: 129,493\n",
            "Non-trainable params: 640\n",
            "__________________________________________________________________________________________________\n"
          ]
        }
      ]
    },
    {
      "cell_type": "code",
      "source": [
        "accuracy='sparse_categorical_accuracy'\n",
        "sparseLoss=keras.losses.SparseCategoricalCrossentropy()\n",
        "\n",
        "from keras import backend as K\n",
        "K.clear_session()\n",
        "mSpec_model.compile(optimizer='nadam', loss=sparseLoss, metrics=[accuracy])\n",
        "K.set_value(mSpec_model.optimizer.learning_rate, 0.001)"
      ],
      "metadata": {
        "id": "JmHsigf2vuFl"
      },
      "execution_count": null,
      "outputs": []
    },
    {
      "cell_type": "code",
      "source": [
        "file_name = '/content/drive/MyDrive/aiffel/aiffelthon/model/mSpec_model-001.h5'\n",
        "my_callbacks = [\n",
        "    #tf.keras.callbacks.EarlyStopping(patience=10),\n",
        "    tf.keras.callbacks.ReduceLROnPlateau(monitor='val_loss', factor=0.1,\n",
        "                              patience=10, min_lr=1e-12,mode='min'), #미분하다 막히면 lr 변경해줌\n",
        "    tf.keras.callbacks.ModelCheckpoint(file_name, monitor='val_loss', verbose=0, save_best_only=True,)\n",
        "]"
      ],
      "metadata": {
        "id": "0l3Tq3bivuDR"
      },
      "execution_count": null,
      "outputs": []
    },
    {
      "cell_type": "code",
      "source": [
        "history_2 = mSpec_model.fit(\n",
        "    x_train_1,\n",
        "    y_train_1,\n",
        "    batch_size = 16,\n",
        "    validation_data=(x_test_1,y_test_1),\n",
        "    epochs=200,\n",
        "    verbose=1,\n",
        "    callbacks=my_callbacks\n",
        ")"
      ],
      "metadata": {
        "colab": {
          "base_uri": "https://localhost:8080/"
        },
        "id": "0l9ITiiN0j6X",
        "outputId": "202a64ee-25d0-4651-abb3-6945047f272c"
      },
      "execution_count": null,
      "outputs": [
        {
          "output_type": "stream",
          "name": "stdout",
          "text": [
            "Epoch 1/200\n",
            "642/642 [==============================] - 9s 11ms/step - loss: 1.4168 - sparse_categorical_accuracy: 0.2705 - val_loss: 1.4161 - val_sparse_categorical_accuracy: 0.0732 - lr: 0.0010\n",
            "Epoch 2/200\n",
            "642/642 [==============================] - 6s 10ms/step - loss: 1.3773 - sparse_categorical_accuracy: 0.2940 - val_loss: 1.4092 - val_sparse_categorical_accuracy: 0.1562 - lr: 0.0010\n",
            "Epoch 3/200\n",
            "642/642 [==============================] - 6s 9ms/step - loss: 1.3503 - sparse_categorical_accuracy: 0.3221 - val_loss: 1.2663 - val_sparse_categorical_accuracy: 0.5286 - lr: 0.0010\n",
            "Epoch 4/200\n",
            "642/642 [==============================] - 6s 10ms/step - loss: 1.3290 - sparse_categorical_accuracy: 0.3386 - val_loss: 1.1952 - val_sparse_categorical_accuracy: 0.5243 - lr: 0.0010\n",
            "Epoch 5/200\n",
            "642/642 [==============================] - 7s 11ms/step - loss: 1.3118 - sparse_categorical_accuracy: 0.3502 - val_loss: 1.2665 - val_sparse_categorical_accuracy: 0.4909 - lr: 0.0010\n",
            "Epoch 6/200\n",
            "642/642 [==============================] - 7s 10ms/step - loss: 1.2970 - sparse_categorical_accuracy: 0.3677 - val_loss: 1.1728 - val_sparse_categorical_accuracy: 0.5225 - lr: 0.0010\n",
            "Epoch 7/200\n",
            "642/642 [==============================] - 6s 9ms/step - loss: 1.2812 - sparse_categorical_accuracy: 0.3806 - val_loss: 1.1750 - val_sparse_categorical_accuracy: 0.5232 - lr: 0.0010\n",
            "Epoch 8/200\n",
            "642/642 [==============================] - 7s 11ms/step - loss: 1.2697 - sparse_categorical_accuracy: 0.3910 - val_loss: 1.1140 - val_sparse_categorical_accuracy: 0.5272 - lr: 0.0010\n",
            "Epoch 9/200\n",
            "642/642 [==============================] - 6s 9ms/step - loss: 1.2593 - sparse_categorical_accuracy: 0.4005 - val_loss: 1.1568 - val_sparse_categorical_accuracy: 0.5380 - lr: 0.0010\n",
            "Epoch 10/200\n",
            "642/642 [==============================] - 6s 9ms/step - loss: 1.2538 - sparse_categorical_accuracy: 0.4077 - val_loss: 1.1277 - val_sparse_categorical_accuracy: 0.5246 - lr: 0.0010\n",
            "Epoch 11/200\n",
            "642/642 [==============================] - 7s 11ms/step - loss: 1.2367 - sparse_categorical_accuracy: 0.4062 - val_loss: 1.1335 - val_sparse_categorical_accuracy: 0.5185 - lr: 0.0010\n",
            "Epoch 12/200\n",
            "642/642 [==============================] - 7s 12ms/step - loss: 1.2250 - sparse_categorical_accuracy: 0.4164 - val_loss: 1.1105 - val_sparse_categorical_accuracy: 0.5362 - lr: 0.0010\n",
            "Epoch 13/200\n",
            "642/642 [==============================] - 10s 15ms/step - loss: 1.2155 - sparse_categorical_accuracy: 0.4211 - val_loss: 1.1020 - val_sparse_categorical_accuracy: 0.5409 - lr: 0.0010\n",
            "Epoch 14/200\n",
            "642/642 [==============================] - 12s 19ms/step - loss: 1.1961 - sparse_categorical_accuracy: 0.4376 - val_loss: 1.1973 - val_sparse_categorical_accuracy: 0.4801 - lr: 0.0010\n",
            "Epoch 15/200\n",
            "642/642 [==============================] - 6s 9ms/step - loss: 1.1883 - sparse_categorical_accuracy: 0.4393 - val_loss: 1.1149 - val_sparse_categorical_accuracy: 0.5192 - lr: 0.0010\n",
            "Epoch 16/200\n",
            "642/642 [==============================] - 6s 9ms/step - loss: 1.1652 - sparse_categorical_accuracy: 0.4529 - val_loss: 1.1697 - val_sparse_categorical_accuracy: 0.5007 - lr: 0.0010\n",
            "Epoch 17/200\n",
            "642/642 [==============================] - 6s 9ms/step - loss: 1.1539 - sparse_categorical_accuracy: 0.4582 - val_loss: 1.1394 - val_sparse_categorical_accuracy: 0.5337 - lr: 0.0010\n",
            "Epoch 18/200\n",
            "642/642 [==============================] - 6s 10ms/step - loss: 1.1335 - sparse_categorical_accuracy: 0.4705 - val_loss: 1.0627 - val_sparse_categorical_accuracy: 0.5554 - lr: 0.0010\n",
            "Epoch 19/200\n",
            "642/642 [==============================] - 6s 9ms/step - loss: 1.1244 - sparse_categorical_accuracy: 0.4814 - val_loss: 1.0957 - val_sparse_categorical_accuracy: 0.5025 - lr: 0.0010\n",
            "Epoch 20/200\n",
            "642/642 [==============================] - 7s 10ms/step - loss: 1.1076 - sparse_categorical_accuracy: 0.4920 - val_loss: 1.0464 - val_sparse_categorical_accuracy: 0.5612 - lr: 0.0010\n",
            "Epoch 21/200\n",
            "642/642 [==============================] - 6s 9ms/step - loss: 1.0982 - sparse_categorical_accuracy: 0.4917 - val_loss: 1.0577 - val_sparse_categorical_accuracy: 0.5540 - lr: 0.0010\n",
            "Epoch 22/200\n",
            "642/642 [==============================] - 6s 10ms/step - loss: 1.0741 - sparse_categorical_accuracy: 0.5085 - val_loss: 1.0321 - val_sparse_categorical_accuracy: 0.5685 - lr: 0.0010\n",
            "Epoch 23/200\n",
            "642/642 [==============================] - 6s 9ms/step - loss: 1.0545 - sparse_categorical_accuracy: 0.5065 - val_loss: 1.2217 - val_sparse_categorical_accuracy: 0.5319 - lr: 0.0010\n",
            "Epoch 24/200\n",
            "642/642 [==============================] - 6s 9ms/step - loss: 1.0579 - sparse_categorical_accuracy: 0.5109 - val_loss: 1.2974 - val_sparse_categorical_accuracy: 0.4989 - lr: 0.0010\n",
            "Epoch 25/200\n",
            "642/642 [==============================] - 6s 9ms/step - loss: 1.0299 - sparse_categorical_accuracy: 0.5269 - val_loss: 1.1289 - val_sparse_categorical_accuracy: 0.4873 - lr: 0.0010\n",
            "Epoch 26/200\n",
            "642/642 [==============================] - 6s 9ms/step - loss: 1.0218 - sparse_categorical_accuracy: 0.5367 - val_loss: 1.0402 - val_sparse_categorical_accuracy: 0.5594 - lr: 0.0010\n",
            "Epoch 27/200\n",
            "642/642 [==============================] - 6s 9ms/step - loss: 1.0070 - sparse_categorical_accuracy: 0.5417 - val_loss: 1.8001 - val_sparse_categorical_accuracy: 0.3438 - lr: 0.0010\n",
            "Epoch 28/200\n",
            "642/642 [==============================] - 6s 9ms/step - loss: 1.0008 - sparse_categorical_accuracy: 0.5489 - val_loss: 1.0513 - val_sparse_categorical_accuracy: 0.5543 - lr: 0.0010\n",
            "Epoch 29/200\n",
            "642/642 [==============================] - 6s 9ms/step - loss: 0.9749 - sparse_categorical_accuracy: 0.5587 - val_loss: 1.4791 - val_sparse_categorical_accuracy: 0.4822 - lr: 0.0010\n",
            "Epoch 30/200\n",
            "642/642 [==============================] - 6s 9ms/step - loss: 0.9554 - sparse_categorical_accuracy: 0.5686 - val_loss: 1.1826 - val_sparse_categorical_accuracy: 0.5290 - lr: 0.0010\n",
            "Epoch 31/200\n",
            "642/642 [==============================] - 6s 9ms/step - loss: 0.9452 - sparse_categorical_accuracy: 0.5705 - val_loss: 1.0859 - val_sparse_categorical_accuracy: 0.5547 - lr: 0.0010\n",
            "Epoch 32/200\n",
            "642/642 [==============================] - 7s 10ms/step - loss: 0.9294 - sparse_categorical_accuracy: 0.5808 - val_loss: 1.1020 - val_sparse_categorical_accuracy: 0.5522 - lr: 0.0010\n",
            "Epoch 33/200\n",
            "642/642 [==============================] - 6s 9ms/step - loss: 0.8593 - sparse_categorical_accuracy: 0.6201 - val_loss: 1.1240 - val_sparse_categorical_accuracy: 0.5862 - lr: 1.0000e-04\n",
            "Epoch 34/200\n",
            "642/642 [==============================] - 6s 9ms/step - loss: 0.8266 - sparse_categorical_accuracy: 0.6300 - val_loss: 1.1370 - val_sparse_categorical_accuracy: 0.5862 - lr: 1.0000e-04\n",
            "Epoch 35/200\n",
            "642/642 [==============================] - 6s 9ms/step - loss: 0.8177 - sparse_categorical_accuracy: 0.6349 - val_loss: 1.1833 - val_sparse_categorical_accuracy: 0.5873 - lr: 1.0000e-04\n",
            "Epoch 36/200\n",
            "642/642 [==============================] - 6s 9ms/step - loss: 0.8086 - sparse_categorical_accuracy: 0.6485 - val_loss: 1.2023 - val_sparse_categorical_accuracy: 0.5841 - lr: 1.0000e-04\n",
            "Epoch 37/200\n",
            "642/642 [==============================] - 6s 9ms/step - loss: 0.7947 - sparse_categorical_accuracy: 0.6460 - val_loss: 1.2132 - val_sparse_categorical_accuracy: 0.5902 - lr: 1.0000e-04\n",
            "Epoch 38/200\n",
            "642/642 [==============================] - 6s 9ms/step - loss: 0.7880 - sparse_categorical_accuracy: 0.6580 - val_loss: 1.1959 - val_sparse_categorical_accuracy: 0.5826 - lr: 1.0000e-04\n",
            "Epoch 39/200\n",
            "642/642 [==============================] - 7s 11ms/step - loss: 0.7838 - sparse_categorical_accuracy: 0.6551 - val_loss: 1.2545 - val_sparse_categorical_accuracy: 0.5822 - lr: 1.0000e-04\n",
            "Epoch 40/200\n",
            "642/642 [==============================] - 6s 9ms/step - loss: 0.7652 - sparse_categorical_accuracy: 0.6639 - val_loss: 1.3529 - val_sparse_categorical_accuracy: 0.5623 - lr: 1.0000e-04\n",
            "Epoch 41/200\n",
            "642/642 [==============================] - 6s 9ms/step - loss: 0.7629 - sparse_categorical_accuracy: 0.6664 - val_loss: 1.3308 - val_sparse_categorical_accuracy: 0.5870 - lr: 1.0000e-04\n",
            "Epoch 42/200\n",
            "642/642 [==============================] - 6s 9ms/step - loss: 0.7522 - sparse_categorical_accuracy: 0.6658 - val_loss: 1.3194 - val_sparse_categorical_accuracy: 0.5808 - lr: 1.0000e-04\n",
            "Epoch 43/200\n",
            "642/642 [==============================] - 6s 9ms/step - loss: 0.7429 - sparse_categorical_accuracy: 0.6763 - val_loss: 1.2859 - val_sparse_categorical_accuracy: 0.5909 - lr: 1.0000e-05\n",
            "Epoch 44/200\n",
            "642/642 [==============================] - 6s 9ms/step - loss: 0.7484 - sparse_categorical_accuracy: 0.6702 - val_loss: 1.3010 - val_sparse_categorical_accuracy: 0.5870 - lr: 1.0000e-05\n",
            "Epoch 45/200\n",
            "642/642 [==============================] - 6s 9ms/step - loss: 0.7310 - sparse_categorical_accuracy: 0.6788 - val_loss: 1.3052 - val_sparse_categorical_accuracy: 0.5844 - lr: 1.0000e-05\n",
            "Epoch 46/200\n",
            "642/642 [==============================] - 6s 9ms/step - loss: 0.7474 - sparse_categorical_accuracy: 0.6750 - val_loss: 1.2858 - val_sparse_categorical_accuracy: 0.5870 - lr: 1.0000e-05\n",
            "Epoch 47/200\n",
            "642/642 [==============================] - 6s 9ms/step - loss: 0.7444 - sparse_categorical_accuracy: 0.6795 - val_loss: 1.2910 - val_sparse_categorical_accuracy: 0.5873 - lr: 1.0000e-05\n",
            "Epoch 48/200\n",
            "642/642 [==============================] - 6s 9ms/step - loss: 0.7315 - sparse_categorical_accuracy: 0.6787 - val_loss: 1.2969 - val_sparse_categorical_accuracy: 0.5844 - lr: 1.0000e-05\n",
            "Epoch 49/200\n",
            "642/642 [==============================] - 6s 10ms/step - loss: 0.7392 - sparse_categorical_accuracy: 0.6770 - val_loss: 1.2972 - val_sparse_categorical_accuracy: 0.5877 - lr: 1.0000e-05\n",
            "Epoch 50/200\n",
            "642/642 [==============================] - 6s 9ms/step - loss: 0.7400 - sparse_categorical_accuracy: 0.6780 - val_loss: 1.3024 - val_sparse_categorical_accuracy: 0.5866 - lr: 1.0000e-05\n",
            "Epoch 51/200\n",
            "642/642 [==============================] - 6s 9ms/step - loss: 0.7443 - sparse_categorical_accuracy: 0.6775 - val_loss: 1.2986 - val_sparse_categorical_accuracy: 0.5873 - lr: 1.0000e-05\n",
            "Epoch 52/200\n",
            "642/642 [==============================] - 6s 9ms/step - loss: 0.7327 - sparse_categorical_accuracy: 0.6821 - val_loss: 1.3081 - val_sparse_categorical_accuracy: 0.5815 - lr: 1.0000e-05\n",
            "Epoch 53/200\n",
            "642/642 [==============================] - 6s 9ms/step - loss: 0.7300 - sparse_categorical_accuracy: 0.6828 - val_loss: 1.3050 - val_sparse_categorical_accuracy: 0.5848 - lr: 1.0000e-06\n",
            "Epoch 54/200\n",
            "642/642 [==============================] - 6s 9ms/step - loss: 0.7325 - sparse_categorical_accuracy: 0.6774 - val_loss: 1.3073 - val_sparse_categorical_accuracy: 0.5848 - lr: 1.0000e-06\n",
            "Epoch 55/200\n",
            "642/642 [==============================] - 6s 9ms/step - loss: 0.7308 - sparse_categorical_accuracy: 0.6831 - val_loss: 1.3097 - val_sparse_categorical_accuracy: 0.5833 - lr: 1.0000e-06\n",
            "Epoch 56/200\n",
            "642/642 [==============================] - 6s 9ms/step - loss: 0.7277 - sparse_categorical_accuracy: 0.6776 - val_loss: 1.3063 - val_sparse_categorical_accuracy: 0.5855 - lr: 1.0000e-06\n",
            "Epoch 57/200\n",
            "642/642 [==============================] - 6s 9ms/step - loss: 0.7358 - sparse_categorical_accuracy: 0.6825 - val_loss: 1.3100 - val_sparse_categorical_accuracy: 0.5841 - lr: 1.0000e-06\n",
            "Epoch 58/200\n",
            "642/642 [==============================] - 6s 9ms/step - loss: 0.7325 - sparse_categorical_accuracy: 0.6821 - val_loss: 1.3076 - val_sparse_categorical_accuracy: 0.5877 - lr: 1.0000e-06\n",
            "Epoch 59/200\n",
            "642/642 [==============================] - 6s 9ms/step - loss: 0.7280 - sparse_categorical_accuracy: 0.6867 - val_loss: 1.3078 - val_sparse_categorical_accuracy: 0.5859 - lr: 1.0000e-06\n",
            "Epoch 60/200\n",
            "642/642 [==============================] - 6s 9ms/step - loss: 0.7398 - sparse_categorical_accuracy: 0.6820 - val_loss: 1.3126 - val_sparse_categorical_accuracy: 0.5859 - lr: 1.0000e-06\n",
            "Epoch 61/200\n",
            "642/642 [==============================] - 6s 9ms/step - loss: 0.7302 - sparse_categorical_accuracy: 0.6857 - val_loss: 1.3122 - val_sparse_categorical_accuracy: 0.5844 - lr: 1.0000e-06\n",
            "Epoch 62/200\n",
            "642/642 [==============================] - 6s 9ms/step - loss: 0.7297 - sparse_categorical_accuracy: 0.6803 - val_loss: 1.3149 - val_sparse_categorical_accuracy: 0.5866 - lr: 1.0000e-06\n",
            "Epoch 63/200\n",
            "642/642 [==============================] - 6s 9ms/step - loss: 0.7335 - sparse_categorical_accuracy: 0.6774 - val_loss: 1.3160 - val_sparse_categorical_accuracy: 0.5841 - lr: 1.0000e-07\n",
            "Epoch 64/200\n",
            "642/642 [==============================] - 6s 9ms/step - loss: 0.7287 - sparse_categorical_accuracy: 0.6896 - val_loss: 1.3157 - val_sparse_categorical_accuracy: 0.5862 - lr: 1.0000e-07\n",
            "Epoch 65/200\n",
            "642/642 [==============================] - 6s 10ms/step - loss: 0.7346 - sparse_categorical_accuracy: 0.6801 - val_loss: 1.3102 - val_sparse_categorical_accuracy: 0.5877 - lr: 1.0000e-07\n",
            "Epoch 66/200\n",
            "642/642 [==============================] - 6s 9ms/step - loss: 0.7320 - sparse_categorical_accuracy: 0.6824 - val_loss: 1.3124 - val_sparse_categorical_accuracy: 0.5884 - lr: 1.0000e-07\n",
            "Epoch 67/200\n",
            "642/642 [==============================] - 6s 9ms/step - loss: 0.7355 - sparse_categorical_accuracy: 0.6771 - val_loss: 1.3110 - val_sparse_categorical_accuracy: 0.5848 - lr: 1.0000e-07\n",
            "Epoch 68/200\n",
            "642/642 [==============================] - 6s 9ms/step - loss: 0.7429 - sparse_categorical_accuracy: 0.6741 - val_loss: 1.3120 - val_sparse_categorical_accuracy: 0.5848 - lr: 1.0000e-07\n",
            "Epoch 69/200\n",
            "642/642 [==============================] - 6s 9ms/step - loss: 0.7338 - sparse_categorical_accuracy: 0.6878 - val_loss: 1.3125 - val_sparse_categorical_accuracy: 0.5851 - lr: 1.0000e-07\n",
            "Epoch 70/200\n",
            "642/642 [==============================] - 6s 9ms/step - loss: 0.7344 - sparse_categorical_accuracy: 0.6817 - val_loss: 1.3154 - val_sparse_categorical_accuracy: 0.5877 - lr: 1.0000e-07\n",
            "Epoch 71/200\n",
            "642/642 [==============================] - 6s 9ms/step - loss: 0.7300 - sparse_categorical_accuracy: 0.6799 - val_loss: 1.3112 - val_sparse_categorical_accuracy: 0.5855 - lr: 1.0000e-07\n",
            "Epoch 72/200\n",
            "642/642 [==============================] - 6s 9ms/step - loss: 0.7345 - sparse_categorical_accuracy: 0.6772 - val_loss: 1.3088 - val_sparse_categorical_accuracy: 0.5880 - lr: 1.0000e-07\n",
            "Epoch 73/200\n",
            "642/642 [==============================] - 7s 11ms/step - loss: 0.7366 - sparse_categorical_accuracy: 0.6803 - val_loss: 1.3141 - val_sparse_categorical_accuracy: 0.5844 - lr: 1.0000e-08\n",
            "Epoch 74/200\n",
            "642/642 [==============================] - 6s 9ms/step - loss: 0.7384 - sparse_categorical_accuracy: 0.6820 - val_loss: 1.3104 - val_sparse_categorical_accuracy: 0.5880 - lr: 1.0000e-08\n",
            "Epoch 75/200\n",
            "642/642 [==============================] - 6s 9ms/step - loss: 0.7327 - sparse_categorical_accuracy: 0.6830 - val_loss: 1.3163 - val_sparse_categorical_accuracy: 0.5855 - lr: 1.0000e-08\n",
            "Epoch 76/200\n",
            "642/642 [==============================] - 6s 9ms/step - loss: 0.7309 - sparse_categorical_accuracy: 0.6846 - val_loss: 1.3138 - val_sparse_categorical_accuracy: 0.5855 - lr: 1.0000e-08\n",
            "Epoch 77/200\n",
            "642/642 [==============================] - 6s 9ms/step - loss: 0.7257 - sparse_categorical_accuracy: 0.6810 - val_loss: 1.3126 - val_sparse_categorical_accuracy: 0.5884 - lr: 1.0000e-08\n",
            "Epoch 78/200\n",
            "642/642 [==============================] - 6s 9ms/step - loss: 0.7284 - sparse_categorical_accuracy: 0.6805 - val_loss: 1.3111 - val_sparse_categorical_accuracy: 0.5851 - lr: 1.0000e-08\n",
            "Epoch 79/200\n",
            "642/642 [==============================] - 6s 9ms/step - loss: 0.7311 - sparse_categorical_accuracy: 0.6860 - val_loss: 1.3141 - val_sparse_categorical_accuracy: 0.5873 - lr: 1.0000e-08\n",
            "Epoch 80/200\n",
            "642/642 [==============================] - 6s 9ms/step - loss: 0.7356 - sparse_categorical_accuracy: 0.6796 - val_loss: 1.3124 - val_sparse_categorical_accuracy: 0.5841 - lr: 1.0000e-08\n",
            "Epoch 81/200\n",
            "642/642 [==============================] - 6s 9ms/step - loss: 0.7315 - sparse_categorical_accuracy: 0.6897 - val_loss: 1.3115 - val_sparse_categorical_accuracy: 0.5870 - lr: 1.0000e-08\n",
            "Epoch 82/200\n",
            "642/642 [==============================] - 6s 9ms/step - loss: 0.7273 - sparse_categorical_accuracy: 0.6827 - val_loss: 1.3163 - val_sparse_categorical_accuracy: 0.5873 - lr: 1.0000e-08\n",
            "Epoch 83/200\n",
            "642/642 [==============================] - 6s 9ms/step - loss: 0.7274 - sparse_categorical_accuracy: 0.6856 - val_loss: 1.3145 - val_sparse_categorical_accuracy: 0.5862 - lr: 1.0000e-09\n",
            "Epoch 84/200\n",
            "642/642 [==============================] - 6s 9ms/step - loss: 0.7197 - sparse_categorical_accuracy: 0.6917 - val_loss: 1.3129 - val_sparse_categorical_accuracy: 0.5848 - lr: 1.0000e-09\n",
            "Epoch 85/200\n",
            "642/642 [==============================] - 6s 9ms/step - loss: 0.7385 - sparse_categorical_accuracy: 0.6785 - val_loss: 1.3163 - val_sparse_categorical_accuracy: 0.5841 - lr: 1.0000e-09\n",
            "Epoch 86/200\n",
            "642/642 [==============================] - 6s 9ms/step - loss: 0.7351 - sparse_categorical_accuracy: 0.6801 - val_loss: 1.3142 - val_sparse_categorical_accuracy: 0.5877 - lr: 1.0000e-09\n",
            "Epoch 87/200\n",
            "642/642 [==============================] - 6s 9ms/step - loss: 0.7320 - sparse_categorical_accuracy: 0.6839 - val_loss: 1.3128 - val_sparse_categorical_accuracy: 0.5855 - lr: 1.0000e-09\n",
            "Epoch 88/200\n",
            "642/642 [==============================] - 6s 9ms/step - loss: 0.7336 - sparse_categorical_accuracy: 0.6868 - val_loss: 1.3121 - val_sparse_categorical_accuracy: 0.5870 - lr: 1.0000e-09\n",
            "Epoch 89/200\n",
            "642/642 [==============================] - 6s 9ms/step - loss: 0.7359 - sparse_categorical_accuracy: 0.6770 - val_loss: 1.3082 - val_sparse_categorical_accuracy: 0.5884 - lr: 1.0000e-09\n",
            "Epoch 90/200\n",
            "642/642 [==============================] - 6s 9ms/step - loss: 0.7269 - sparse_categorical_accuracy: 0.6857 - val_loss: 1.3171 - val_sparse_categorical_accuracy: 0.5855 - lr: 1.0000e-09\n",
            "Epoch 91/200\n",
            "642/642 [==============================] - 6s 9ms/step - loss: 0.7321 - sparse_categorical_accuracy: 0.6794 - val_loss: 1.3117 - val_sparse_categorical_accuracy: 0.5862 - lr: 1.0000e-09\n",
            "Epoch 92/200\n",
            "642/642 [==============================] - 6s 9ms/step - loss: 0.7346 - sparse_categorical_accuracy: 0.6831 - val_loss: 1.3099 - val_sparse_categorical_accuracy: 0.5884 - lr: 1.0000e-09\n",
            "Epoch 93/200\n",
            "642/642 [==============================] - 6s 9ms/step - loss: 0.7214 - sparse_categorical_accuracy: 0.6842 - val_loss: 1.3136 - val_sparse_categorical_accuracy: 0.5841 - lr: 1.0000e-10\n",
            "Epoch 94/200\n",
            "642/642 [==============================] - 6s 9ms/step - loss: 0.7315 - sparse_categorical_accuracy: 0.6794 - val_loss: 1.3207 - val_sparse_categorical_accuracy: 0.5870 - lr: 1.0000e-10\n",
            "Epoch 95/200\n",
            "642/642 [==============================] - 6s 9ms/step - loss: 0.7388 - sparse_categorical_accuracy: 0.6848 - val_loss: 1.3149 - val_sparse_categorical_accuracy: 0.5848 - lr: 1.0000e-10\n",
            "Epoch 96/200\n",
            "642/642 [==============================] - 6s 9ms/step - loss: 0.7260 - sparse_categorical_accuracy: 0.6925 - val_loss: 1.3130 - val_sparse_categorical_accuracy: 0.5859 - lr: 1.0000e-10\n",
            "Epoch 97/200\n",
            "642/642 [==============================] - 6s 9ms/step - loss: 0.7303 - sparse_categorical_accuracy: 0.6812 - val_loss: 1.3120 - val_sparse_categorical_accuracy: 0.5888 - lr: 1.0000e-10\n",
            "Epoch 98/200\n",
            "642/642 [==============================] - 6s 9ms/step - loss: 0.7315 - sparse_categorical_accuracy: 0.6820 - val_loss: 1.3161 - val_sparse_categorical_accuracy: 0.5826 - lr: 1.0000e-10\n",
            "Epoch 99/200\n",
            "642/642 [==============================] - 6s 9ms/step - loss: 0.7273 - sparse_categorical_accuracy: 0.6857 - val_loss: 1.3094 - val_sparse_categorical_accuracy: 0.5866 - lr: 1.0000e-10\n",
            "Epoch 100/200\n",
            "642/642 [==============================] - 6s 9ms/step - loss: 0.7249 - sparse_categorical_accuracy: 0.6877 - val_loss: 1.3178 - val_sparse_categorical_accuracy: 0.5826 - lr: 1.0000e-10\n",
            "Epoch 101/200\n",
            "642/642 [==============================] - 6s 9ms/step - loss: 0.7281 - sparse_categorical_accuracy: 0.6834 - val_loss: 1.3094 - val_sparse_categorical_accuracy: 0.5862 - lr: 1.0000e-10\n",
            "Epoch 102/200\n",
            "642/642 [==============================] - 6s 9ms/step - loss: 0.7371 - sparse_categorical_accuracy: 0.6771 - val_loss: 1.3081 - val_sparse_categorical_accuracy: 0.5884 - lr: 1.0000e-10\n",
            "Epoch 103/200\n",
            "642/642 [==============================] - 6s 9ms/step - loss: 0.7304 - sparse_categorical_accuracy: 0.6845 - val_loss: 1.3169 - val_sparse_categorical_accuracy: 0.5841 - lr: 1.0000e-11\n",
            "Epoch 104/200\n",
            "642/642 [==============================] - 6s 9ms/step - loss: 0.7355 - sparse_categorical_accuracy: 0.6806 - val_loss: 1.3102 - val_sparse_categorical_accuracy: 0.5895 - lr: 1.0000e-11\n",
            "Epoch 105/200\n",
            "642/642 [==============================] - 6s 9ms/step - loss: 0.7378 - sparse_categorical_accuracy: 0.6776 - val_loss: 1.3120 - val_sparse_categorical_accuracy: 0.5866 - lr: 1.0000e-11\n",
            "Epoch 106/200\n",
            "642/642 [==============================] - 6s 9ms/step - loss: 0.7304 - sparse_categorical_accuracy: 0.6878 - val_loss: 1.3118 - val_sparse_categorical_accuracy: 0.5866 - lr: 1.0000e-11\n",
            "Epoch 107/200\n",
            "642/642 [==============================] - 6s 9ms/step - loss: 0.7311 - sparse_categorical_accuracy: 0.6825 - val_loss: 1.3106 - val_sparse_categorical_accuracy: 0.5841 - lr: 1.0000e-11\n",
            "Epoch 108/200\n",
            "642/642 [==============================] - 6s 9ms/step - loss: 0.7332 - sparse_categorical_accuracy: 0.6813 - val_loss: 1.3054 - val_sparse_categorical_accuracy: 0.5884 - lr: 1.0000e-11\n",
            "Epoch 109/200\n",
            "642/642 [==============================] - 6s 9ms/step - loss: 0.7319 - sparse_categorical_accuracy: 0.6826 - val_loss: 1.3122 - val_sparse_categorical_accuracy: 0.5844 - lr: 1.0000e-11\n",
            "Epoch 110/200\n",
            "642/642 [==============================] - 6s 9ms/step - loss: 0.7262 - sparse_categorical_accuracy: 0.6861 - val_loss: 1.3106 - val_sparse_categorical_accuracy: 0.5866 - lr: 1.0000e-11\n",
            "Epoch 111/200\n",
            "642/642 [==============================] - 6s 9ms/step - loss: 0.7286 - sparse_categorical_accuracy: 0.6864 - val_loss: 1.3117 - val_sparse_categorical_accuracy: 0.5844 - lr: 1.0000e-11\n",
            "Epoch 112/200\n",
            "642/642 [==============================] - 6s 9ms/step - loss: 0.7325 - sparse_categorical_accuracy: 0.6829 - val_loss: 1.3096 - val_sparse_categorical_accuracy: 0.5880 - lr: 1.0000e-11\n",
            "Epoch 113/200\n",
            "642/642 [==============================] - 7s 10ms/step - loss: 0.7268 - sparse_categorical_accuracy: 0.6868 - val_loss: 1.3117 - val_sparse_categorical_accuracy: 0.5877 - lr: 1.0000e-12\n",
            "Epoch 114/200\n",
            "642/642 [==============================] - 6s 9ms/step - loss: 0.7292 - sparse_categorical_accuracy: 0.6809 - val_loss: 1.3061 - val_sparse_categorical_accuracy: 0.5880 - lr: 1.0000e-12\n",
            "Epoch 115/200\n",
            "642/642 [==============================] - 6s 9ms/step - loss: 0.7414 - sparse_categorical_accuracy: 0.6733 - val_loss: 1.3138 - val_sparse_categorical_accuracy: 0.5848 - lr: 1.0000e-12\n",
            "Epoch 116/200\n",
            "642/642 [==============================] - 6s 9ms/step - loss: 0.7354 - sparse_categorical_accuracy: 0.6811 - val_loss: 1.3110 - val_sparse_categorical_accuracy: 0.5841 - lr: 1.0000e-12\n",
            "Epoch 117/200\n",
            "642/642 [==============================] - 6s 9ms/step - loss: 0.7259 - sparse_categorical_accuracy: 0.6873 - val_loss: 1.3096 - val_sparse_categorical_accuracy: 0.5880 - lr: 1.0000e-12\n",
            "Epoch 118/200\n",
            "642/642 [==============================] - 6s 9ms/step - loss: 0.7304 - sparse_categorical_accuracy: 0.6859 - val_loss: 1.3105 - val_sparse_categorical_accuracy: 0.5851 - lr: 1.0000e-12\n",
            "Epoch 119/200\n",
            "642/642 [==============================] - 6s 9ms/step - loss: 0.7264 - sparse_categorical_accuracy: 0.6844 - val_loss: 1.3104 - val_sparse_categorical_accuracy: 0.5873 - lr: 1.0000e-12\n",
            "Epoch 120/200\n",
            "642/642 [==============================] - 6s 9ms/step - loss: 0.7368 - sparse_categorical_accuracy: 0.6841 - val_loss: 1.3126 - val_sparse_categorical_accuracy: 0.5862 - lr: 1.0000e-12\n",
            "Epoch 121/200\n",
            "642/642 [==============================] - 6s 9ms/step - loss: 0.7309 - sparse_categorical_accuracy: 0.6871 - val_loss: 1.3110 - val_sparse_categorical_accuracy: 0.5859 - lr: 1.0000e-12\n",
            "Epoch 122/200\n",
            "642/642 [==============================] - 6s 9ms/step - loss: 0.7358 - sparse_categorical_accuracy: 0.6753 - val_loss: 1.3098 - val_sparse_categorical_accuracy: 0.5855 - lr: 1.0000e-12\n",
            "Epoch 123/200\n",
            "642/642 [==============================] - 6s 9ms/step - loss: 0.7375 - sparse_categorical_accuracy: 0.6790 - val_loss: 1.3087 - val_sparse_categorical_accuracy: 0.5891 - lr: 1.0000e-12\n",
            "Epoch 124/200\n",
            "642/642 [==============================] - 6s 9ms/step - loss: 0.7270 - sparse_categorical_accuracy: 0.6903 - val_loss: 1.3157 - val_sparse_categorical_accuracy: 0.5833 - lr: 1.0000e-12\n",
            "Epoch 125/200\n",
            "642/642 [==============================] - 6s 9ms/step - loss: 0.7301 - sparse_categorical_accuracy: 0.6874 - val_loss: 1.3096 - val_sparse_categorical_accuracy: 0.5837 - lr: 1.0000e-12\n",
            "Epoch 126/200\n",
            "642/642 [==============================] - 6s 9ms/step - loss: 0.7300 - sparse_categorical_accuracy: 0.6825 - val_loss: 1.3104 - val_sparse_categorical_accuracy: 0.5862 - lr: 1.0000e-12\n",
            "Epoch 127/200\n",
            "642/642 [==============================] - 6s 9ms/step - loss: 0.7253 - sparse_categorical_accuracy: 0.6886 - val_loss: 1.3090 - val_sparse_categorical_accuracy: 0.5870 - lr: 1.0000e-12\n",
            "Epoch 128/200\n",
            "642/642 [==============================] - 6s 9ms/step - loss: 0.7325 - sparse_categorical_accuracy: 0.6808 - val_loss: 1.3098 - val_sparse_categorical_accuracy: 0.5873 - lr: 1.0000e-12\n",
            "Epoch 129/200\n",
            "642/642 [==============================] - 6s 9ms/step - loss: 0.7284 - sparse_categorical_accuracy: 0.6851 - val_loss: 1.3098 - val_sparse_categorical_accuracy: 0.5848 - lr: 1.0000e-12\n",
            "Epoch 130/200\n",
            "642/642 [==============================] - 6s 9ms/step - loss: 0.7259 - sparse_categorical_accuracy: 0.6839 - val_loss: 1.3097 - val_sparse_categorical_accuracy: 0.5851 - lr: 1.0000e-12\n",
            "Epoch 131/200\n",
            "642/642 [==============================] - 6s 9ms/step - loss: 0.7367 - sparse_categorical_accuracy: 0.6836 - val_loss: 1.3116 - val_sparse_categorical_accuracy: 0.5866 - lr: 1.0000e-12\n",
            "Epoch 132/200\n",
            "642/642 [==============================] - 6s 9ms/step - loss: 0.7233 - sparse_categorical_accuracy: 0.6861 - val_loss: 1.3109 - val_sparse_categorical_accuracy: 0.5862 - lr: 1.0000e-12\n",
            "Epoch 133/200\n",
            "642/642 [==============================] - 6s 9ms/step - loss: 0.7338 - sparse_categorical_accuracy: 0.6810 - val_loss: 1.3111 - val_sparse_categorical_accuracy: 0.5870 - lr: 1.0000e-12\n",
            "Epoch 134/200\n",
            "642/642 [==============================] - 6s 9ms/step - loss: 0.7302 - sparse_categorical_accuracy: 0.6824 - val_loss: 1.3111 - val_sparse_categorical_accuracy: 0.5870 - lr: 1.0000e-12\n",
            "Epoch 135/200\n",
            "642/642 [==============================] - 6s 9ms/step - loss: 0.7245 - sparse_categorical_accuracy: 0.6867 - val_loss: 1.3104 - val_sparse_categorical_accuracy: 0.5855 - lr: 1.0000e-12\n",
            "Epoch 136/200\n",
            "642/642 [==============================] - 6s 9ms/step - loss: 0.7404 - sparse_categorical_accuracy: 0.6795 - val_loss: 1.3091 - val_sparse_categorical_accuracy: 0.5855 - lr: 1.0000e-12\n",
            "Epoch 137/200\n",
            "642/642 [==============================] - 6s 9ms/step - loss: 0.7378 - sparse_categorical_accuracy: 0.6823 - val_loss: 1.3145 - val_sparse_categorical_accuracy: 0.5862 - lr: 1.0000e-12\n",
            "Epoch 138/200\n",
            "642/642 [==============================] - 6s 9ms/step - loss: 0.7420 - sparse_categorical_accuracy: 0.6766 - val_loss: 1.3107 - val_sparse_categorical_accuracy: 0.5866 - lr: 1.0000e-12\n",
            "Epoch 139/200\n",
            "642/642 [==============================] - 6s 9ms/step - loss: 0.7329 - sparse_categorical_accuracy: 0.6815 - val_loss: 1.3133 - val_sparse_categorical_accuracy: 0.5826 - lr: 1.0000e-12\n",
            "Epoch 140/200\n",
            "642/642 [==============================] - 6s 9ms/step - loss: 0.7257 - sparse_categorical_accuracy: 0.6845 - val_loss: 1.3122 - val_sparse_categorical_accuracy: 0.5873 - lr: 1.0000e-12\n",
            "Epoch 141/200\n",
            "642/642 [==============================] - 6s 9ms/step - loss: 0.7306 - sparse_categorical_accuracy: 0.6808 - val_loss: 1.3089 - val_sparse_categorical_accuracy: 0.5844 - lr: 1.0000e-12\n",
            "Epoch 142/200\n",
            "642/642 [==============================] - 6s 9ms/step - loss: 0.7374 - sparse_categorical_accuracy: 0.6792 - val_loss: 1.3106 - val_sparse_categorical_accuracy: 0.5837 - lr: 1.0000e-12\n",
            "Epoch 143/200\n",
            "642/642 [==============================] - 6s 9ms/step - loss: 0.7302 - sparse_categorical_accuracy: 0.6799 - val_loss: 1.3120 - val_sparse_categorical_accuracy: 0.5851 - lr: 1.0000e-12\n",
            "Epoch 144/200\n",
            "642/642 [==============================] - 6s 9ms/step - loss: 0.7441 - sparse_categorical_accuracy: 0.6789 - val_loss: 1.3102 - val_sparse_categorical_accuracy: 0.5880 - lr: 1.0000e-12\n",
            "Epoch 145/200\n",
            "642/642 [==============================] - 6s 9ms/step - loss: 0.7298 - sparse_categorical_accuracy: 0.6830 - val_loss: 1.3127 - val_sparse_categorical_accuracy: 0.5859 - lr: 1.0000e-12\n",
            "Epoch 146/200\n",
            "642/642 [==============================] - 6s 10ms/step - loss: 0.7327 - sparse_categorical_accuracy: 0.6789 - val_loss: 1.3137 - val_sparse_categorical_accuracy: 0.5866 - lr: 1.0000e-12\n",
            "Epoch 147/200\n",
            "642/642 [==============================] - 6s 9ms/step - loss: 0.7300 - sparse_categorical_accuracy: 0.6823 - val_loss: 1.3079 - val_sparse_categorical_accuracy: 0.5862 - lr: 1.0000e-12\n",
            "Epoch 148/200\n",
            "642/642 [==============================] - 6s 9ms/step - loss: 0.7272 - sparse_categorical_accuracy: 0.6872 - val_loss: 1.3110 - val_sparse_categorical_accuracy: 0.5855 - lr: 1.0000e-12\n",
            "Epoch 149/200\n",
            "642/642 [==============================] - 7s 11ms/step - loss: 0.7327 - sparse_categorical_accuracy: 0.6851 - val_loss: 1.3128 - val_sparse_categorical_accuracy: 0.5873 - lr: 1.0000e-12\n",
            "Epoch 150/200\n",
            "642/642 [==============================] - 6s 10ms/step - loss: 0.7279 - sparse_categorical_accuracy: 0.6808 - val_loss: 1.3114 - val_sparse_categorical_accuracy: 0.5848 - lr: 1.0000e-12\n",
            "Epoch 151/200\n",
            "642/642 [==============================] - 6s 9ms/step - loss: 0.7345 - sparse_categorical_accuracy: 0.6771 - val_loss: 1.3136 - val_sparse_categorical_accuracy: 0.5837 - lr: 1.0000e-12\n",
            "Epoch 152/200\n",
            "642/642 [==============================] - 6s 9ms/step - loss: 0.7361 - sparse_categorical_accuracy: 0.6786 - val_loss: 1.3114 - val_sparse_categorical_accuracy: 0.5877 - lr: 1.0000e-12\n",
            "Epoch 153/200\n",
            "642/642 [==============================] - 6s 10ms/step - loss: 0.7351 - sparse_categorical_accuracy: 0.6823 - val_loss: 1.3070 - val_sparse_categorical_accuracy: 0.5855 - lr: 1.0000e-12\n",
            "Epoch 154/200\n",
            "642/642 [==============================] - 6s 9ms/step - loss: 0.7324 - sparse_categorical_accuracy: 0.6829 - val_loss: 1.3030 - val_sparse_categorical_accuracy: 0.5873 - lr: 1.0000e-12\n",
            "Epoch 155/200\n",
            "642/642 [==============================] - 6s 9ms/step - loss: 0.7329 - sparse_categorical_accuracy: 0.6806 - val_loss: 1.3081 - val_sparse_categorical_accuracy: 0.5880 - lr: 1.0000e-12\n",
            "Epoch 156/200\n",
            "642/642 [==============================] - 6s 9ms/step - loss: 0.7359 - sparse_categorical_accuracy: 0.6770 - val_loss: 1.3138 - val_sparse_categorical_accuracy: 0.5870 - lr: 1.0000e-12\n",
            "Epoch 157/200\n",
            "642/642 [==============================] - 6s 10ms/step - loss: 0.7359 - sparse_categorical_accuracy: 0.6791 - val_loss: 1.3133 - val_sparse_categorical_accuracy: 0.5851 - lr: 1.0000e-12\n",
            "Epoch 158/200\n",
            "642/642 [==============================] - 6s 9ms/step - loss: 0.7395 - sparse_categorical_accuracy: 0.6781 - val_loss: 1.3099 - val_sparse_categorical_accuracy: 0.5884 - lr: 1.0000e-12\n",
            "Epoch 159/200\n",
            "642/642 [==============================] - 6s 9ms/step - loss: 0.7353 - sparse_categorical_accuracy: 0.6801 - val_loss: 1.3149 - val_sparse_categorical_accuracy: 0.5848 - lr: 1.0000e-12\n",
            "Epoch 160/200\n",
            "642/642 [==============================] - 6s 9ms/step - loss: 0.7313 - sparse_categorical_accuracy: 0.6800 - val_loss: 1.3070 - val_sparse_categorical_accuracy: 0.5855 - lr: 1.0000e-12\n",
            "Epoch 161/200\n",
            "642/642 [==============================] - 6s 9ms/step - loss: 0.7311 - sparse_categorical_accuracy: 0.6829 - val_loss: 1.3093 - val_sparse_categorical_accuracy: 0.5873 - lr: 1.0000e-12\n",
            "Epoch 162/200\n",
            "642/642 [==============================] - 6s 9ms/step - loss: 0.7362 - sparse_categorical_accuracy: 0.6799 - val_loss: 1.3113 - val_sparse_categorical_accuracy: 0.5866 - lr: 1.0000e-12\n",
            "Epoch 163/200\n",
            "642/642 [==============================] - 6s 9ms/step - loss: 0.7322 - sparse_categorical_accuracy: 0.6805 - val_loss: 1.3124 - val_sparse_categorical_accuracy: 0.5866 - lr: 1.0000e-12\n",
            "Epoch 164/200\n",
            "642/642 [==============================] - 6s 9ms/step - loss: 0.7352 - sparse_categorical_accuracy: 0.6825 - val_loss: 1.3110 - val_sparse_categorical_accuracy: 0.5870 - lr: 1.0000e-12\n",
            "Epoch 165/200\n",
            "642/642 [==============================] - 6s 10ms/step - loss: 0.7269 - sparse_categorical_accuracy: 0.6857 - val_loss: 1.3099 - val_sparse_categorical_accuracy: 0.5873 - lr: 1.0000e-12\n",
            "Epoch 166/200\n",
            "642/642 [==============================] - 6s 9ms/step - loss: 0.7356 - sparse_categorical_accuracy: 0.6815 - val_loss: 1.3112 - val_sparse_categorical_accuracy: 0.5848 - lr: 1.0000e-12\n",
            "Epoch 167/200\n",
            "642/642 [==============================] - 6s 9ms/step - loss: 0.7257 - sparse_categorical_accuracy: 0.6812 - val_loss: 1.3152 - val_sparse_categorical_accuracy: 0.5866 - lr: 1.0000e-12\n",
            "Epoch 168/200\n",
            "642/642 [==============================] - 6s 9ms/step - loss: 0.7260 - sparse_categorical_accuracy: 0.6866 - val_loss: 1.3147 - val_sparse_categorical_accuracy: 0.5862 - lr: 1.0000e-12\n",
            "Epoch 169/200\n",
            "642/642 [==============================] - 6s 9ms/step - loss: 0.7380 - sparse_categorical_accuracy: 0.6834 - val_loss: 1.3146 - val_sparse_categorical_accuracy: 0.5844 - lr: 1.0000e-12\n",
            "Epoch 170/200\n",
            "642/642 [==============================] - 6s 9ms/step - loss: 0.7173 - sparse_categorical_accuracy: 0.6870 - val_loss: 1.3085 - val_sparse_categorical_accuracy: 0.5844 - lr: 1.0000e-12\n",
            "Epoch 171/200\n",
            "642/642 [==============================] - 6s 9ms/step - loss: 0.7319 - sparse_categorical_accuracy: 0.6837 - val_loss: 1.3127 - val_sparse_categorical_accuracy: 0.5877 - lr: 1.0000e-12\n",
            "Epoch 172/200\n",
            "642/642 [==============================] - 6s 9ms/step - loss: 0.7346 - sparse_categorical_accuracy: 0.6802 - val_loss: 1.3181 - val_sparse_categorical_accuracy: 0.5855 - lr: 1.0000e-12\n",
            "Epoch 173/200\n",
            "642/642 [==============================] - 6s 9ms/step - loss: 0.7399 - sparse_categorical_accuracy: 0.6749 - val_loss: 1.3075 - val_sparse_categorical_accuracy: 0.5888 - lr: 1.0000e-12\n",
            "Epoch 174/200\n",
            "642/642 [==============================] - 6s 9ms/step - loss: 0.7401 - sparse_categorical_accuracy: 0.6813 - val_loss: 1.3105 - val_sparse_categorical_accuracy: 0.5855 - lr: 1.0000e-12\n",
            "Epoch 175/200\n",
            "642/642 [==============================] - 6s 10ms/step - loss: 0.7315 - sparse_categorical_accuracy: 0.6767 - val_loss: 1.3099 - val_sparse_categorical_accuracy: 0.5841 - lr: 1.0000e-12\n",
            "Epoch 176/200\n",
            "642/642 [==============================] - 6s 9ms/step - loss: 0.7333 - sparse_categorical_accuracy: 0.6774 - val_loss: 1.3118 - val_sparse_categorical_accuracy: 0.5837 - lr: 1.0000e-12\n",
            "Epoch 177/200\n",
            "642/642 [==============================] - 6s 9ms/step - loss: 0.7339 - sparse_categorical_accuracy: 0.6874 - val_loss: 1.3116 - val_sparse_categorical_accuracy: 0.5859 - lr: 1.0000e-12\n",
            "Epoch 178/200\n",
            "642/642 [==============================] - 6s 9ms/step - loss: 0.7349 - sparse_categorical_accuracy: 0.6795 - val_loss: 1.3089 - val_sparse_categorical_accuracy: 0.5891 - lr: 1.0000e-12\n",
            "Epoch 179/200\n",
            "642/642 [==============================] - 6s 9ms/step - loss: 0.7410 - sparse_categorical_accuracy: 0.6783 - val_loss: 1.3067 - val_sparse_categorical_accuracy: 0.5873 - lr: 1.0000e-12\n",
            "Epoch 180/200\n",
            "642/642 [==============================] - 6s 9ms/step - loss: 0.7339 - sparse_categorical_accuracy: 0.6818 - val_loss: 1.3076 - val_sparse_categorical_accuracy: 0.5873 - lr: 1.0000e-12\n",
            "Epoch 181/200\n",
            "642/642 [==============================] - 6s 9ms/step - loss: 0.7244 - sparse_categorical_accuracy: 0.6857 - val_loss: 1.3139 - val_sparse_categorical_accuracy: 0.5877 - lr: 1.0000e-12\n",
            "Epoch 182/200\n",
            "642/642 [==============================] - 6s 9ms/step - loss: 0.7310 - sparse_categorical_accuracy: 0.6849 - val_loss: 1.3011 - val_sparse_categorical_accuracy: 0.5895 - lr: 1.0000e-12\n",
            "Epoch 183/200\n",
            "642/642 [==============================] - 6s 9ms/step - loss: 0.7341 - sparse_categorical_accuracy: 0.6790 - val_loss: 1.3142 - val_sparse_categorical_accuracy: 0.5844 - lr: 1.0000e-12\n",
            "Epoch 184/200\n",
            "642/642 [==============================] - 6s 9ms/step - loss: 0.7271 - sparse_categorical_accuracy: 0.6881 - val_loss: 1.3084 - val_sparse_categorical_accuracy: 0.5880 - lr: 1.0000e-12\n",
            "Epoch 185/200\n",
            "642/642 [==============================] - 7s 10ms/step - loss: 0.7313 - sparse_categorical_accuracy: 0.6865 - val_loss: 1.3095 - val_sparse_categorical_accuracy: 0.5870 - lr: 1.0000e-12\n",
            "Epoch 186/200\n",
            "642/642 [==============================] - 6s 10ms/step - loss: 0.7322 - sparse_categorical_accuracy: 0.6804 - val_loss: 1.3119 - val_sparse_categorical_accuracy: 0.5870 - lr: 1.0000e-12\n",
            "Epoch 187/200\n",
            "642/642 [==============================] - 6s 10ms/step - loss: 0.7280 - sparse_categorical_accuracy: 0.6801 - val_loss: 1.3111 - val_sparse_categorical_accuracy: 0.5891 - lr: 1.0000e-12\n",
            "Epoch 188/200\n",
            "642/642 [==============================] - 6s 10ms/step - loss: 0.7248 - sparse_categorical_accuracy: 0.6822 - val_loss: 1.3080 - val_sparse_categorical_accuracy: 0.5855 - lr: 1.0000e-12\n",
            "Epoch 189/200\n",
            "642/642 [==============================] - 6s 10ms/step - loss: 0.7292 - sparse_categorical_accuracy: 0.6830 - val_loss: 1.3099 - val_sparse_categorical_accuracy: 0.5873 - lr: 1.0000e-12\n",
            "Epoch 190/200\n",
            "642/642 [==============================] - 6s 10ms/step - loss: 0.7315 - sparse_categorical_accuracy: 0.6798 - val_loss: 1.3142 - val_sparse_categorical_accuracy: 0.5862 - lr: 1.0000e-12\n",
            "Epoch 191/200\n",
            "642/642 [==============================] - 6s 10ms/step - loss: 0.7438 - sparse_categorical_accuracy: 0.6747 - val_loss: 1.3151 - val_sparse_categorical_accuracy: 0.5855 - lr: 1.0000e-12\n",
            "Epoch 192/200\n",
            "642/642 [==============================] - 6s 10ms/step - loss: 0.7297 - sparse_categorical_accuracy: 0.6878 - val_loss: 1.3125 - val_sparse_categorical_accuracy: 0.5870 - lr: 1.0000e-12\n",
            "Epoch 193/200\n",
            "642/642 [==============================] - 6s 9ms/step - loss: 0.7241 - sparse_categorical_accuracy: 0.6874 - val_loss: 1.3132 - val_sparse_categorical_accuracy: 0.5851 - lr: 1.0000e-12\n",
            "Epoch 194/200\n",
            "642/642 [==============================] - 6s 10ms/step - loss: 0.7317 - sparse_categorical_accuracy: 0.6837 - val_loss: 1.3128 - val_sparse_categorical_accuracy: 0.5851 - lr: 1.0000e-12\n",
            "Epoch 195/200\n",
            "642/642 [==============================] - 6s 10ms/step - loss: 0.7257 - sparse_categorical_accuracy: 0.6794 - val_loss: 1.3096 - val_sparse_categorical_accuracy: 0.5862 - lr: 1.0000e-12\n",
            "Epoch 196/200\n",
            "642/642 [==============================] - 6s 10ms/step - loss: 0.7339 - sparse_categorical_accuracy: 0.6777 - val_loss: 1.3106 - val_sparse_categorical_accuracy: 0.5877 - lr: 1.0000e-12\n",
            "Epoch 197/200\n",
            "642/642 [==============================] - 6s 10ms/step - loss: 0.7325 - sparse_categorical_accuracy: 0.6826 - val_loss: 1.3095 - val_sparse_categorical_accuracy: 0.5877 - lr: 1.0000e-12\n",
            "Epoch 198/200\n",
            "642/642 [==============================] - 6s 10ms/step - loss: 0.7260 - sparse_categorical_accuracy: 0.6839 - val_loss: 1.3109 - val_sparse_categorical_accuracy: 0.5891 - lr: 1.0000e-12\n",
            "Epoch 199/200\n",
            "642/642 [==============================] - 6s 10ms/step - loss: 0.7288 - sparse_categorical_accuracy: 0.6832 - val_loss: 1.3118 - val_sparse_categorical_accuracy: 0.5837 - lr: 1.0000e-12\n",
            "Epoch 200/200\n",
            "642/642 [==============================] - 6s 10ms/step - loss: 0.7333 - sparse_categorical_accuracy: 0.6827 - val_loss: 1.3144 - val_sparse_categorical_accuracy: 0.5873 - lr: 1.0000e-12\n"
          ]
        }
      ]
    },
    {
      "cell_type": "code",
      "source": [
        "plt.figure(figsize=(15,8))\n",
        "\n",
        "plt.plot(history_2.history['sparse_categorical_accuracy'], label = 'train_accuracy', linestyle='solid', color='r')\n",
        "plt.plot(history_2.history['val_sparse_categorical_accuracy'], label = 'val_accuracy', linestyle='solid', color='b')\n",
        "\n",
        "plt.xlabel('Epochs', fontsize = 15)\n",
        "plt.ylabel('Accuracy', fontsize = 15)\n",
        "plt.legend()\n",
        "plt.title('With_aug_Mel_Blank_Clipping', fontsize = 20)\n",
        "plt.show()"
      ],
      "metadata": {
        "colab": {
          "base_uri": "https://localhost:8080/",
          "height": 374
        },
        "id": "grywWOrO0j3w",
        "outputId": "46a7a3e6-6e3e-492c-8ccd-c020be049ec4"
      },
      "execution_count": null,
      "outputs": [
        {
          "output_type": "display_data",
          "data": {
            "text/plain": [
              "<Figure size 1080x576 with 1 Axes>"
            ],
            "image/png": "[encoded data removed]"
          },
          "metadata": {
            "needs_background": "light"
          }
        }
      ]
    },
    {
      "cell_type": "code",
      "source": [
        "y_pred = mSpec_model.predict(x_test_1)"
      ],
      "metadata": {
        "id": "8rbpvi187xmW"
      },
      "execution_count": null,
      "outputs": []
    },
    {
      "cell_type": "code",
      "source": [
        "clf_report = classification_report(y_test_1, np.argmax(y_pred, axis = 1), target_names=target_names, output_dict=True)\n",
        "print(classification_report(y_test_1, np.argmax(y_pred, axis = 1), target_names=target_names))"
      ],
      "metadata": {
        "colab": {
          "base_uri": "https://localhost:8080/"
        },
        "id": "IU6mHQYC0jnY",
        "outputId": "6bab2fef-1933-4bff-a940-69b8d6e162f0"
      },
      "execution_count": null,
      "outputs": [
        {
          "output_type": "stream",
          "name": "stdout",
          "text": [
            "              precision    recall  f1-score   support\n",
            "\n",
            "      Normal       0.68      0.73      0.71      1457\n",
            "     Crackle       0.47      0.48      0.47       746\n",
            "      Wheeze       0.52      0.38      0.44       355\n",
            "        Both       0.36      0.32      0.34       202\n",
            "\n",
            "    accuracy                           0.59      2760\n",
            "   macro avg       0.51      0.48      0.49      2760\n",
            "weighted avg       0.58      0.59      0.58      2760\n",
            "\n"
          ]
        }
      ]
    },
    {
      "cell_type": "code",
      "source": [
        "with open( root+ \"clf_report_resnet34_1.txt\", \"w\") as text_file:\n",
        "    print(classification_report(y_test_1, np.argmax(y_pred, axis = 1), target_names=target_names), file=text_file)\n"
      ],
      "metadata": {
        "id": "EQFopY85Aao4"
      },
      "execution_count": null,
      "outputs": []
    }
  ]
}