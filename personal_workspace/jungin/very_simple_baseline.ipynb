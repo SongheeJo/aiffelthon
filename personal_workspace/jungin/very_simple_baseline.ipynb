{
  "nbformat": 4,
  "nbformat_minor": 0,
  "metadata": {
    "colab": {
      "name": "very_simple_baseline.ipynb",
      "provenance": [],
      "authorship_tag": "ABX9TyOOm5K5sYl2+f6WHLbStapr",
      "include_colab_link": true
    },
    "kernelspec": {
      "name": "python3",
      "display_name": "Python 3"
    },
    "language_info": {
      "name": "python"
    },
    "accelerator": "GPU"
  },
  "cells": [
    {
      "cell_type": "markdown",
      "metadata": {
        "id": "view-in-github",
        "colab_type": "text"
      },
      "source": [
        "<a href=\"https://colab.research.google.com/github/SongheeJo/aiffelthon/blob/main/jungin/very_simple_baseline.ipynb\" target=\"_parent\"><img src=\"https://colab.research.google.com/assets/colab-badge.svg\" alt=\"Open In Colab\"/></a>"
      ]
    },
    {
      "cell_type": "code",
      "execution_count": 1,
      "metadata": {
        "colab": {
          "base_uri": "https://localhost:8080/"
        },
        "id": "CMiEPa25znRX",
        "outputId": "d4dcdc3d-a3b8-4fc7-8e99-fdf124c7ee39"
      },
      "outputs": [
        {
          "output_type": "stream",
          "name": "stdout",
          "text": [
            "Mounted at /content/drive\n"
          ]
        }
      ],
      "source": [
        "from google.colab import drive\n",
        "drive.mount('/content/drive')###"
      ]
    },
    {
      "cell_type": "code",
      "source": [
        "import numpy as np # linear algebra\n",
        "import pandas as pd # data processing, CSV file I/O (e.g. pd.read_csv)\n",
        "import tensorflow as tf\n",
        "from tensorflow import keras\n",
        "import matplotlib.pyplot as plt\n",
        "import seaborn as sns\n",
        "import librosa.display\n",
        "import librosa as lb\n",
        "\n",
        "import os"
      ],
      "metadata": {
        "id": "obGqFRJozuH6"
      },
      "execution_count": 2,
      "outputs": []
    },
    {
      "cell_type": "code",
      "source": [
        "root = '/content/drive/MyDrive/aiffel/aiffelthon/' #기본 경로를 설정합니다\n",
        "wav_path = root + 'processed_audio_files_8/' #패딩 안하고 나눈 데이터 경로, 패딩할 땐 이 파일을 씁니다\n",
        "processed = pd.read_csv(root + 'processed.csv') #우리가 계속 쓸 컬럼입니다"
      ],
      "metadata": {
        "id": "BPKtB9mAzuGF"
      },
      "execution_count": 3,
      "outputs": []
    },
    {
      "cell_type": "markdown",
      "source": [
        "##데이터 분석"
      ],
      "metadata": {
        "id": "RPOWANWu3rvr"
      }
    },
    {
      "cell_type": "markdown",
      "source": [
        "##데이터 전처리"
      ],
      "metadata": {
        "id": "W3gAHJCT3bb0"
      }
    },
    {
      "cell_type": "markdown",
      "source": [
        "###패딩 안 넣고 자르는 코드(안돌려도 됩니다)\n",
        "참고 코드에서 패딩과 관련된 부분 다 주석처리하면 됩니다.\n",
        "\n",
        "이 친구는 .wav로 저장했습니다."
      ],
      "metadata": {
        "id": "Mhs4d0zOGimT"
      }
    },
    {
      "cell_type": "code",
      "source": [
        "import soundfile as sf\n",
        "i,c=0,0\n",
        "for index,row in data.iterrows(): #enumerte 과 비슷\n",
        "    #maxLen=6 #여기서는 호흡 주기를 6초로\n",
        "    start=row['start']\n",
        "    end=row['end']\n",
        "    filename=row['filename']\n",
        "    \n",
        "    #If len > maxLen , change it to maxLen\n",
        "    #if end-start>maxLen:\n",
        "        #end=start+maxLen #시작점 + 6초에서 자름\n",
        "    \n",
        "    audio_file_loc=path + filename + '.wav' #wav 파일 경로 저장\n",
        "    \n",
        "    if index > 0:\n",
        "        #check if more cycles exits for same patient if so then add i to change filename\n",
        "        if data.iloc[index-1]['filename']==filename:\n",
        "            i+=1\n",
        "        else:\n",
        "            i=0\n",
        "    filename= filename + '_' + str(i) + '.wav' #새로운 파일 이름\n",
        "    \n",
        "    save_path='/content/drive/MyDrive/aiffel/aiffelthon/processed_audio_files_2/' + filename\n",
        "    c+=1 #파일 개수 세기\n",
        "    \n",
        "    audioArr,sampleRate=lb.load(audio_file_loc)\n",
        "    pureSample=getPureSample(audioArr,start,end,sampleRate) #잘린 데이터 return, 길이는 상관 없음\n",
        "    \n",
        "    #pad audio if pureSample len < max_len\n",
        "    #reqLen=6*sampleRate\n",
        "    #padded_data = lb.util.pad_center(pureSample, reqLen) #여기서 6초로 맞춤, 이거 대신에 smart padding을 넣어야할텐데...\n",
        "    \n",
        "    sf.write(file=save_path,data=pureSample,samplerate=sampleRate)\n",
        "print('Total Files Processed: ',c)"
      ],
      "metadata": {
        "id": "QA86-C7aGiPk"
      },
      "execution_count": null,
      "outputs": []
    },
    {
      "cell_type": "markdown",
      "source": [
        "###butter worth filter"
      ],
      "metadata": {
        "id": "OOC0k1B43kOO"
      }
    },
    {
      "cell_type": "markdown",
      "source": [
        "###normalization"
      ],
      "metadata": {
        "id": "nwDwyWJz3u4w"
      }
    },
    {
      "cell_type": "markdown",
      "source": [
        "##패딩"
      ],
      "metadata": {
        "id": "8JcdV4Ik31fr"
      }
    },
    {
      "cell_type": "markdown",
      "source": [
        "###안돌려도 되는 셀"
      ],
      "metadata": {
        "id": "-eyF7wUy1-bv"
      }
    },
    {
      "cell_type": "markdown",
      "source": [
        "이건 processed.csv 에 crack_wheeze 컬럼을 추가하기 위해 만든 셀입니다."
      ],
      "metadata": {
        "id": "XBfXSJMl25J6"
      }
    },
    {
      "cell_type": "code",
      "source": [
        "i,c=0,0\n",
        "df = pd.DataFrame()\n",
        "filename2 = []\n",
        "start2 = []\n",
        "end2 = []\n",
        "crack_wheeze = []\n",
        "for index,row in data.iterrows(): #enumerte 과 비슷\n",
        "    start=row['start']\n",
        "    end=row['end']\n",
        "    filename=row['filename']\n",
        "    \n",
        "    audio_file_loc=path + filename + '.wav' # 불러올 wav 파일 경로 저장\n",
        "    \n",
        "    if index > 0:\n",
        "\n",
        "        if data.iloc[index-1]['filename']==filename:\n",
        "            i+=1\n",
        "        else:\n",
        "            i=0\n",
        "    filename = filename + '_' + str(i) + '.wav' #새로운 파일 이름\n",
        "\n",
        "    df['filenames'] = filename\n",
        "\n",
        "    filename2.append(filename)\n",
        "    start2.append(row['start'])\n",
        "    end2.append(row['end'])\n",
        "    if row['crackles'] == 0 and row['weezels'] == 0:\n",
        "      crack_wheeze.append(0)\n",
        "    elif row['crackles'] == 1 and row['weezels'] == 0:\n",
        "      crack_wheeze.append(1)\n",
        "    elif row['crackles'] == 0 and row['weezels'] == 1:\n",
        "      crack_wheeze.append(2)\n",
        "    else:\n",
        "      crack_wheeze.append(3)\n",
        "    \n",
        "    audioArr,sampleRate=lb.load(audio_file_loc)\n",
        "\n",
        "print('Total Files Processed: ',c)"
      ],
      "metadata": {
        "id": "YrF5nZlb2ycX"
      },
      "execution_count": null,
      "outputs": []
    },
    {
      "cell_type": "markdown",
      "source": [
        "이건 패딩을 위한 셀입니다 "
      ],
      "metadata": {
        "id": "D8hUl1qz3CM0"
      }
    },
    {
      "cell_type": "code",
      "source": [
        "\n",
        "\n",
        "sr=4000\n",
        "\n",
        "#7초로 패딩하고 싶을 때 함수입니다\n",
        "def zero_padding(pureSample, reqLen = 7 * sr): \n",
        "  padded = lb.util.pad_center(pureSample, reqLen)\n",
        "  return padded\n",
        "\n",
        "zero_padded_7sec = [] #시간에 따라 이름 바꿔주세요\n",
        "\n",
        "for index,row in processed.iterrows():\n",
        "  maxLen=7 #바꾸고 싶은 주기 5,6,7로 값 바꾸기\n",
        "  start=row['start']\n",
        "  end=row['end']\n",
        "  filename=row['filename']\n",
        "    \n",
        "  audio_file_loc= wav_path + filename\n",
        "  processed_sample, _ = lb.load(audio_file_loc, sr = sr) #아직 패딩 안 한 데이터를 불러옵니다\n",
        "\n",
        "  #If len > maxLen , change it to maxLen\n",
        "  if end-start>maxLen:\n",
        "      end=start+maxLen\n",
        "      processed_sample = processed_sample[int(start * sr) : int(end * sr)]\n",
        "  \n",
        "  #zero_pad = zero_padding(processed_sample)\n",
        "  zero_padded_7sec.append(zero_padding(processed_sample, reqLen = 7 * sr)) #바꾸고 싶은 주기 5,6,7로 reqLen 값 바꾸기\n",
        "  \n",
        "\n"
      ],
      "metadata": {
        "id": "E1fJUe7MzuDV"
      },
      "execution_count": null,
      "outputs": []
    },
    {
      "cell_type": "code",
      "source": [
        "np.save(root + 'zero_padded_7sec.npy',zero_padded_7sec) #패딩할 때 오래 걸리니 넘파이 파일로 저장해줍니다, 시간에 따라 이름 바꿔주세요"
      ],
      "metadata": {
        "id": "5SEnKAoUzuAO"
      },
      "execution_count": null,
      "outputs": []
    },
    {
      "cell_type": "code",
      "source": [
        "len(zero_padded_7sec) # 잘 되었는지 확인"
      ],
      "metadata": {
        "id": "q6mvX1e2zt-B"
      },
      "execution_count": null,
      "outputs": []
    },
    {
      "cell_type": "markdown",
      "source": [
        "##저장 해둔 패딩파일 불러오기\n",
        "필요없는 부분이었다ㅜㅜ(실행 안하셔도 됩니다!)"
      ],
      "metadata": {
        "id": "QLlJl3BD2Clh"
      }
    },
    {
      "cell_type": "code",
      "source": [
        "zero_padded_5sec = np.load(root + 'zero_padded_5sec.npy') # 5초 제로패딩 sr = 4000\n",
        "zero_padded_6sec = np.load(root + 'zero_padded_6sec.npy') # 6초 제로패딩 sr = 4000\n",
        "zero_padded_7sec = np.load(root + 'zero_padded_7sec.npy') # 7초 제로패딩 sr = 4000"
      ],
      "metadata": {
        "id": "gCPtfJCCzt7-"
      },
      "execution_count": 4,
      "outputs": []
    },
    {
      "cell_type": "markdown",
      "source": [
        "##질병 분류 & Crack_Weeze 분기점"
      ],
      "metadata": {
        "id": "yiK_EnXi1kni"
      }
    },
    {
      "cell_type": "code",
      "source": [
        "from sklearn.model_selection import train_test_split\n",
        "Xtrain,Xval,ytrain,yval=train_test_split(zero_padded_7sec,processed.disease,stratify=processed.disease,random_state=42,test_size=0.2)"
      ],
      "metadata": {
        "id": "7iyLioD5zt5t"
      },
      "execution_count": 5,
      "outputs": []
    },
    {
      "cell_type": "code",
      "source": [
        "Xtrain_1,Xval_1,ytrain_1,yval_1=train_test_split(zero_padded_7sec,processed.crack_wheeze,stratify=processed.crack_wheeze,random_state=42,test_size=0.2)"
      ],
      "metadata": {
        "id": "T7_67f1rMmxA"
      },
      "execution_count": 24,
      "outputs": []
    },
    {
      "cell_type": "code",
      "source": [
        "Xtrain_1.crack_wheeze.value_counts()/Xtrain_1.shape[0]"
      ],
      "metadata": {
        "colab": {
          "base_uri": "https://localhost:8080/",
          "height": 166
        },
        "id": "F98W2Ia5M4r2",
        "outputId": "f2511b67-2e30-484e-cd79-1728bb2616e5"
      },
      "execution_count": 25,
      "outputs": [
        {
          "output_type": "error",
          "ename": "AttributeError",
          "evalue": "ignored",
          "traceback": [
            "\u001b[0;31m---------------------------------------------------------------------------\u001b[0m",
            "\u001b[0;31mAttributeError\u001b[0m                            Traceback (most recent call last)",
            "\u001b[0;32m<ipython-input-25-165f106acdee>\u001b[0m in \u001b[0;36m<module>\u001b[0;34m()\u001b[0m\n\u001b[0;32m----> 1\u001b[0;31m \u001b[0mXtrain_1\u001b[0m\u001b[0;34m.\u001b[0m\u001b[0mcrack_wheeze\u001b[0m\u001b[0;34m.\u001b[0m\u001b[0mvalue_counts\u001b[0m\u001b[0;34m(\u001b[0m\u001b[0;34m)\u001b[0m\u001b[0;34m/\u001b[0m\u001b[0mXtrain_1\u001b[0m\u001b[0;34m.\u001b[0m\u001b[0mshape\u001b[0m\u001b[0;34m[\u001b[0m\u001b[0;36m0\u001b[0m\u001b[0;34m]\u001b[0m\u001b[0;34m\u001b[0m\u001b[0;34m\u001b[0m\u001b[0m\n\u001b[0m",
            "\u001b[0;31mAttributeError\u001b[0m: 'numpy.ndarray' object has no attribute 'crack_wheeze'"
          ]
        }
      ]
    },
    {
      "cell_type": "code",
      "source": [
        "Xtrain_2,Xval_2,ytrain_2,yval_2=train_test_split(processed,processed.disease,stratify=processed.disease,random_state=42,test_size=0.2)"
      ],
      "metadata": {
        "id": "Ctm0jVdpNMMb"
      },
      "execution_count": 26,
      "outputs": []
    },
    {
      "cell_type": "code",
      "source": [
        "Xtrain_3,Xval_3,ytrain_3,yval_3=train_test_split(processed,processed.crack_wheeze,stratify=processed.crack_wheeze,random_state=42,test_size=0.2)"
      ],
      "metadata": {
        "id": "3w7xoqZSWxZx"
      },
      "execution_count": 56,
      "outputs": []
    },
    {
      "cell_type": "code",
      "source": [
        "Xtrain_3.crack_wheeze.value_counts()/Xtrain_3.shape[0]"
      ],
      "metadata": {
        "colab": {
          "base_uri": "https://localhost:8080/"
        },
        "id": "bFVytzSxNX4m",
        "outputId": "aae9cf1f-49f3-42b4-d37a-09d010fba7e8"
      },
      "execution_count": 58,
      "outputs": [
        {
          "output_type": "execute_result",
          "data": {
            "text/plain": [
              "0    0.527909\n",
              "1    0.270207\n",
              "2    0.128489\n",
              "3    0.073396\n",
              "Name: crack_wheeze, dtype: float64"
            ]
          },
          "metadata": {},
          "execution_count": 58
        }
      ]
    },
    {
      "cell_type": "code",
      "source": [
        "Xtrain_3.shape,Xval_3.shape"
      ],
      "metadata": {
        "colab": {
          "base_uri": "https://localhost:8080/"
        },
        "id": "a8ZGHdc-zt3a",
        "outputId": "975c7d3a-378c-413e-a3cb-2d95b9208fed"
      },
      "execution_count": 59,
      "outputs": [
        {
          "output_type": "execute_result",
          "data": {
            "text/plain": [
              "((5518, 8), (1380, 8))"
            ]
          },
          "metadata": {},
          "execution_count": 59
        }
      ]
    },
    {
      "cell_type": "code",
      "source": [
        "#object인 레이블(정답)의 자료형을 모델에 넣기 위해 숫자로 변환\n",
        "from sklearn.preprocessing import LabelEncoder\n",
        "le=LabelEncoder()\n",
        "ytrain_2=le.fit_transform(ytrain_2)\n",
        "yval_2=le.transform(yval_2)"
      ],
      "metadata": {
        "id": "8YJ6yIbz2R18"
      },
      "execution_count": 29,
      "outputs": []
    },
    {
      "cell_type": "markdown",
      "source": [
        "##augmentation(나중에)"
      ],
      "metadata": {
        "id": "xcrKKbtS2g8E"
      }
    },
    {
      "cell_type": "markdown",
      "source": [
        "##feature Extraction"
      ],
      "metadata": {
        "id": "kflVYTkF4FJW"
      }
    },
    {
      "cell_type": "code",
      "source": [
        "sr = 4000\n",
        "\n",
        "\n",
        "#이 값들 조정\n",
        "frame_length = 0.025\n",
        "frame_stride = 0.010\n",
        "\n",
        "input_nfft = int(round(sr*frame_length))\n",
        "input_stride = int(round(sr*frame_stride))\n",
        "\n",
        "def Mel_S(padded_wav, frame_length = 0.025, frame_stride = 0.010): #제로패딩한 데이터 하나 씩 넣자\n",
        "    # mel-spectrogram\n",
        "    # y, sr = librosa.load(wav_file, sr=16000)\n",
        "\n",
        "    # wav_length = len(y)/sr\n",
        "    input_nfft = int(round(sr*frame_length))\n",
        "    input_stride = int(round(sr*frame_stride))\n",
        "\n",
        "    mel = librosa.feature.melspectrogram(y=padded_wav, n_mels=40, n_fft=input_nfft, hop_length=input_stride)#nfft는 푸리에 변환 개수\n",
        "    #print(\"Wav length: {}, Mel_S shape:{}\".format(len(padded_wav)/sr,np.shape(mel)))\n",
        "    \n",
        "    return mel"
      ],
      "metadata": {
        "id": "3NSarZtk2gXL"
      },
      "execution_count": 8,
      "outputs": []
    },
    {
      "cell_type": "code",
      "source": [
        "#train과 val의 mel을 각각 뽑습니다\n",
        "Mel_spectrogram = []\n",
        "\n",
        "for padded_wav in Xtrain_2:\n",
        "  Mel_spectrogram.append(Mel_S(padded_wav))\n",
        "\n",
        "Mel_spectrogram_val = []\n",
        "\n",
        "for padded_wav in Xval_2:\n",
        "  Mel_spectrogram_val.append(Mel_S(padded_wav))"
      ],
      "metadata": {
        "colab": {
          "base_uri": "https://localhost:8080/"
        },
        "id": "0RiNvu1H2a5u",
        "outputId": "6d168c01-b7c3-454f-966f-8871a9f53764"
      },
      "execution_count": 9,
      "outputs": [
        {
          "output_type": "stream",
          "name": "stderr",
          "text": [
            "/usr/local/lib/python3.7/dist-packages/librosa/filters.py:239: UserWarning: Empty filters detected in mel frequency basis. Some channels will produce empty responses. Try increasing your sampling rate (and fmax) or reducing n_mels.\n",
            "  \"Empty filters detected in mel frequency basis. \"\n"
          ]
        }
      ]
    },
    {
      "cell_type": "code",
      "source": [
        "#이것도 혹시 모르니 저장해 둡니다\n",
        "np.save(root + 'Mel_spectrogram.npy',Mel_spectrogram)\n",
        "np.save(root + 'Mel_spectrogram_val.npy',Mel_spectrogram_val)"
      ],
      "metadata": {
        "id": "QuQOthLJ41BL"
      },
      "execution_count": 10,
      "outputs": []
    },
    {
      "cell_type": "code",
      "source": [
        "#랜덤으로 몇개 뽑아 봅니다. 검은 줄이 계속 가 있습니다ㅜ butterworth filter를 안해서 그런 걸까요? 아님 sr=4000은 너무 낮아서?\n",
        "randFiles = [10 * x for x in range(1,5)]\n",
        "\n",
        "for i,audioFile in enumerate(randFiles):\n",
        "  \n",
        "  plt.figure(figsize=(10, 4))\n",
        "  plt.title('Mel-Spectrogram') \n",
        "  librosa.display.specshow(\n",
        "      librosa.power_to_db(Mel_spectrogram[audioFile], ref=np.max), y_axis='mel', sr=sr, hop_length=input_stride, x_axis='time')\n",
        "  plt.colorbar(format='%+2.0f dB')\n",
        "  \n",
        "  plt.tight_layout()\n",
        "  plt.savefig('Mel-Spectrogram example.png')\n",
        "  plt.show()"
      ],
      "metadata": {
        "colab": {
          "base_uri": "https://localhost:8080/",
          "height": 1000
        },
        "id": "9-lyPZDI49zg",
        "outputId": "e74d67bc-6b9c-468b-9a91-7f66a203d298"
      },
      "execution_count": 11,
      "outputs": [
        {
          "output_type": "display_data",
          "data": {
            "text/plain": [
              "<Figure size 720x288 with 2 Axes>"
            ],
            "image/png": "[encoded data removed]"
          },
          "metadata": {
            "needs_background": "light"
          }
        },
        {
          "output_type": "display_data",
          "data": {
            "text/plain": [
              "<Figure size 720x288 with 2 Axes>"
            ],
            "image/png": "[encoded data removed]"
          },
          "metadata": {
            "needs_background": "light"
          }
        },
        {
          "output_type": "display_data",
          "data": {
            "text/plain": [
              "<Figure size 720x288 with 2 Axes>"
            ],
            "image/png": "[encoded data removed]"
          },
          "metadata": {
            "needs_background": "light"
          }
        },
        {
          "output_type": "display_data",
          "data": {
            "text/plain": [
              "<Figure size 720x288 with 2 Axes>"
            ],
            "image/png": "[encoded data removed]"
          },
          "metadata": {
            "needs_background": "light"
          }
        }
      ]
    },
    {
      "cell_type": "code",
      "source": [
        "mSpec_train=np.array(Mel_spectrogram)\n",
        "mSpec_val = np.array(Mel_spectrogram_val)"
      ],
      "metadata": {
        "id": "3dQnNd1H5jgr"
      },
      "execution_count": 12,
      "outputs": []
    },
    {
      "cell_type": "code",
      "source": [
        "mSpec_train.shape, mSpec_val.shape"
      ],
      "metadata": {
        "colab": {
          "base_uri": "https://localhost:8080/"
        },
        "id": "UBWv8dSi5jet",
        "outputId": "ad0b3b67-3344-46ff-84af-a5a4d6a328b1"
      },
      "execution_count": 13,
      "outputs": [
        {
          "output_type": "execute_result",
          "data": {
            "text/plain": [
              "((5518, 40, 701), (1380, 40, 701))"
            ]
          },
          "metadata": {},
          "execution_count": 13
        }
      ]
    },
    {
      "cell_type": "code",
      "source": [
        "ytrain_2.shape, yval_2.shape"
      ],
      "metadata": {
        "colab": {
          "base_uri": "https://localhost:8080/"
        },
        "id": "OWtzrlrJ5jbW",
        "outputId": "e0dec6f0-8ea1-409a-cf95-e9fcd068d452"
      },
      "execution_count": 30,
      "outputs": [
        {
          "output_type": "execute_result",
          "data": {
            "text/plain": [
              "((5518,), (1380,))"
            ]
          },
          "metadata": {},
          "execution_count": 30
        }
      ]
    },
    {
      "cell_type": "markdown",
      "source": [
        "##모델"
      ],
      "metadata": {
        "id": "jMK1fini5vh1"
      }
    },
    {
      "cell_type": "code",
      "source": [
        "#주석 부분은 skip layer 시도했다가 잘 안돼서 주석처리한 것입니다.\n",
        "\n",
        "mSpec_input=keras.layers.Input(shape=(40,701,1),name=\"mSpecInput\") #(128,259,1)(40, 701, 1)\n",
        "x=keras.layers.Conv2D(32,5,strides=(2,3),padding='same')(mSpec_input) # (64, 87, 32) (20, 233, 32)\n",
        "x=keras.layers.BatchNormalization()(x)\n",
        "x=keras.layers.Activation(keras.activations.relu)(x)\n",
        "x=keras.layers.MaxPooling2D(pool_size=2,padding='valid')(x) # (32, 43, 32) (10, 116,32)\n",
        "\n",
        "#skip_x = x # (32, 43, 32)\n",
        "#skip_x = keras.layers.Conv2D(96,3,strides=(2,4),padding='same')(skip_x) #(8, 11, 96) (5, 29, 96)####\n",
        "\n",
        "x=keras.layers.Conv2D(64,3,strides=(1,2),padding='same')(x) #(16, 22, 64) (10, 58, 64)###\n",
        "x=keras.layers.BatchNormalization()(x)\n",
        "x=keras.layers.Activation(keras.activations.relu)(x)\n",
        "x=keras.layers.MaxPooling2D(pool_size=2,padding='valid')(x) #(8, 11, 64) (5, 29, 64)\n",
        "\n",
        "x=keras.layers.Conv2D(96,2,padding='same')(x) #(8, 11, 96) (5, 29, 96)#####\n",
        "#x = keras.layers.Add()([x,skip_x])\n",
        "x=keras.layers.BatchNormalization()(x)\n",
        "x=keras.layers.Activation(keras.activations.relu)(x)\n",
        "x=keras.layers.MaxPooling2D(pool_size=2,padding='valid')(x) #(4, 5, 96) (3, 14, 96)\n",
        "\n",
        "x=keras.layers.Conv2D(128,2,padding='same')(x) #(4, 5, 128)(3, 14, 128)\n",
        "x=keras.layers.BatchNormalization()(x)\n",
        "x=keras.layers.Activation(keras.activations.relu)(x)\n",
        "x=keras.layers.GlobalMaxPooling2D()(x) #(, 128) (, 128)\n",
        "\n",
        "x=keras.layers.Dropout(0.2)(x)\n",
        "x=keras.layers.Dense(50,activation='relu')(x)\n",
        "x=keras.layers.Dropout(0.3)(x)\n",
        "x=keras.layers.Dense(25,activation='relu')(x)\n",
        "x=keras.layers.Dropout(0.3)(x)\n",
        "output=keras.layers.Dense(8,activation='softmax')(x)\n",
        "\n",
        "\n",
        "mSpec_model=keras.Model(mSpec_input, output, name=\"mSpecModel\")"
      ],
      "metadata": {
        "id": "98_foWjx5jYN"
      },
      "execution_count": 48,
      "outputs": []
    },
    {
      "cell_type": "code",
      "source": [
        "mSpec_model.summary()"
      ],
      "metadata": {
        "colab": {
          "base_uri": "https://localhost:8080/"
        },
        "id": "PSgIl5pt5jVv",
        "outputId": "6c1b7c04-1451-4c1f-afe6-f47979a7b085"
      },
      "execution_count": 49,
      "outputs": [
        {
          "output_type": "stream",
          "name": "stdout",
          "text": [
            "Model: \"mSpecModel\"\n",
            "_________________________________________________________________\n",
            " Layer (type)                Output Shape              Param #   \n",
            "=================================================================\n",
            " mSpecInput (InputLayer)     [(None, 40, 701, 1)]      0         \n",
            "                                                                 \n",
            " conv2d (Conv2D)             (None, 20, 234, 32)       832       \n",
            "                                                                 \n",
            " batch_normalization (BatchN  (None, 20, 234, 32)      128       \n",
            " ormalization)                                                   \n",
            "                                                                 \n",
            " activation (Activation)     (None, 20, 234, 32)       0         \n",
            "                                                                 \n",
            " max_pooling2d (MaxPooling2D  (None, 10, 117, 32)      0         \n",
            " )                                                               \n",
            "                                                                 \n",
            " conv2d_1 (Conv2D)           (None, 10, 59, 64)        18496     \n",
            "                                                                 \n",
            " batch_normalization_1 (Batc  (None, 10, 59, 64)       256       \n",
            " hNormalization)                                                 \n",
            "                                                                 \n",
            " activation_1 (Activation)   (None, 10, 59, 64)        0         \n",
            "                                                                 \n",
            " max_pooling2d_1 (MaxPooling  (None, 5, 29, 64)        0         \n",
            " 2D)                                                             \n",
            "                                                                 \n",
            " conv2d_2 (Conv2D)           (None, 5, 29, 96)         24672     \n",
            "                                                                 \n",
            " batch_normalization_2 (Batc  (None, 5, 29, 96)        384       \n",
            " hNormalization)                                                 \n",
            "                                                                 \n",
            " activation_2 (Activation)   (None, 5, 29, 96)         0         \n",
            "                                                                 \n",
            " max_pooling2d_2 (MaxPooling  (None, 2, 14, 96)        0         \n",
            " 2D)                                                             \n",
            "                                                                 \n",
            " conv2d_3 (Conv2D)           (None, 2, 14, 128)        49280     \n",
            "                                                                 \n",
            " batch_normalization_3 (Batc  (None, 2, 14, 128)       512       \n",
            " hNormalization)                                                 \n",
            "                                                                 \n",
            " activation_3 (Activation)   (None, 2, 14, 128)        0         \n",
            "                                                                 \n",
            " global_max_pooling2d (Globa  (None, 128)              0         \n",
            " lMaxPooling2D)                                                  \n",
            "                                                                 \n",
            " dropout (Dropout)           (None, 128)               0         \n",
            "                                                                 \n",
            " dense (Dense)               (None, 50)                6450      \n",
            "                                                                 \n",
            " dropout_1 (Dropout)         (None, 50)                0         \n",
            "                                                                 \n",
            " dense_1 (Dense)             (None, 25)                1275      \n",
            "                                                                 \n",
            " dropout_2 (Dropout)         (None, 25)                0         \n",
            "                                                                 \n",
            " dense_2 (Dense)             (None, 8)                 208       \n",
            "                                                                 \n",
            "=================================================================\n",
            "Total params: 102,493\n",
            "Trainable params: 101,853\n",
            "Non-trainable params: 640\n",
            "_________________________________________________________________\n"
          ]
        }
      ]
    },
    {
      "cell_type": "markdown",
      "source": [
        "##학습"
      ],
      "metadata": {
        "id": "QWv8UggzLNua"
      }
    },
    {
      "cell_type": "code",
      "source": [
        "accuracy='sparse_categorical_accuracy'\n",
        "sparseLoss=keras.losses.SparseCategoricalCrossentropy()\n",
        "\n",
        "from keras import backend as K\n",
        "K.clear_session()\n",
        "mSpec_model.compile(optimizer='nadam', loss=sparseLoss, metrics=[accuracy])\n",
        "K.set_value(mSpec_model.optimizer.learning_rate, 0.001)"
      ],
      "metadata": {
        "id": "OqUj6j3U6AdZ"
      },
      "execution_count": 50,
      "outputs": []
    },
    {
      "cell_type": "code",
      "source": [
        "file_name = '/content/drive/MyDrive/aiffel/aiffelthon/model/checkpoint-only-zero-001.h5'\n",
        "my_callbacks = [\n",
        "    tf.keras.callbacks.EarlyStopping(patience=10),\n",
        "    tf.keras.callbacks.ReduceLROnPlateau(monitor='val_loss', factor=0.1,\n",
        "                              patience=3, min_lr=1e-12,mode='min'), #미분하다 막히면 lr 변경해줌\n",
        "    tf.keras.callbacks.ModelCheckpoint(file_name, monitor='val_loss', verbose=0, save_best_only=True,)\n",
        "]"
      ],
      "metadata": {
        "id": "Jo_fsNnx6CUa"
      },
      "execution_count": 51,
      "outputs": []
    },
    {
      "cell_type": "code",
      "source": [
        "history=mSpec_model.fit(\n",
        "    mSpec_train, # fit 할 때 ndarray > tensor로 바꾸는 느낌?\n",
        "    ytrain_2,\n",
        "    validation_data=(mSpec_val,yval_2),\n",
        "    epochs=100,verbose=1,\n",
        "    callbacks=my_callbacks\n",
        ")"
      ],
      "metadata": {
        "colab": {
          "base_uri": "https://localhost:8080/"
        },
        "id": "0qEMd-7V6CSN",
        "outputId": "6f1ddb40-59fd-4b3e-acbd-2cd66be9346f"
      },
      "execution_count": 52,
      "outputs": [
        {
          "output_type": "stream",
          "name": "stdout",
          "text": [
            "Epoch 1/100\n",
            "173/173 [==============================] - 6s 18ms/step - loss: 0.8128 - sparse_categorical_accuracy: 0.7976 - val_loss: 0.8287 - val_sparse_categorical_accuracy: 0.8333 - lr: 0.0010\n",
            "Epoch 2/100\n",
            "173/173 [==============================] - 2s 14ms/step - loss: 0.6809 - sparse_categorical_accuracy: 0.8313 - val_loss: 0.7257 - val_sparse_categorical_accuracy: 0.8333 - lr: 0.0010\n",
            "Epoch 3/100\n",
            "173/173 [==============================] - 2s 13ms/step - loss: 0.6249 - sparse_categorical_accuracy: 0.8320 - val_loss: 0.5955 - val_sparse_categorical_accuracy: 0.8333 - lr: 0.0010\n",
            "Epoch 4/100\n",
            "173/173 [==============================] - 2s 13ms/step - loss: 0.5890 - sparse_categorical_accuracy: 0.8327 - val_loss: 1.8371 - val_sparse_categorical_accuracy: 0.8333 - lr: 0.0010\n",
            "Epoch 5/100\n",
            "173/173 [==============================] - 2s 13ms/step - loss: 0.5822 - sparse_categorical_accuracy: 0.8329 - val_loss: 2.8390 - val_sparse_categorical_accuracy: 0.8333 - lr: 0.0010\n",
            "Epoch 6/100\n",
            "173/173 [==============================] - 2s 12ms/step - loss: 0.5537 - sparse_categorical_accuracy: 0.8329 - val_loss: 2.1799 - val_sparse_categorical_accuracy: 0.8333 - lr: 0.0010\n",
            "Epoch 7/100\n",
            "173/173 [==============================] - 2s 13ms/step - loss: 0.5280 - sparse_categorical_accuracy: 0.8329 - val_loss: 1.3782 - val_sparse_categorical_accuracy: 0.8333 - lr: 1.0000e-04\n",
            "Epoch 8/100\n",
            "173/173 [==============================] - 2s 13ms/step - loss: 0.5223 - sparse_categorical_accuracy: 0.8329 - val_loss: 0.8009 - val_sparse_categorical_accuracy: 0.8333 - lr: 1.0000e-04\n",
            "Epoch 9/100\n",
            "173/173 [==============================] - 2s 13ms/step - loss: 0.5117 - sparse_categorical_accuracy: 0.8329 - val_loss: 1.0715 - val_sparse_categorical_accuracy: 0.8333 - lr: 1.0000e-04\n",
            "Epoch 10/100\n",
            "173/173 [==============================] - 3s 15ms/step - loss: 0.5084 - sparse_categorical_accuracy: 0.8329 - val_loss: 0.5510 - val_sparse_categorical_accuracy: 0.8333 - lr: 1.0000e-05\n",
            "Epoch 11/100\n",
            "173/173 [==============================] - 2s 14ms/step - loss: 0.5038 - sparse_categorical_accuracy: 0.8329 - val_loss: 0.4948 - val_sparse_categorical_accuracy: 0.8333 - lr: 1.0000e-05\n",
            "Epoch 12/100\n",
            "173/173 [==============================] - 2s 13ms/step - loss: 0.5088 - sparse_categorical_accuracy: 0.8329 - val_loss: 0.5019 - val_sparse_categorical_accuracy: 0.8333 - lr: 1.0000e-05\n",
            "Epoch 13/100\n",
            "173/173 [==============================] - 2s 13ms/step - loss: 0.5118 - sparse_categorical_accuracy: 0.8329 - val_loss: 0.4973 - val_sparse_categorical_accuracy: 0.8333 - lr: 1.0000e-05\n",
            "Epoch 14/100\n",
            "173/173 [==============================] - 2s 12ms/step - loss: 0.5039 - sparse_categorical_accuracy: 0.8329 - val_loss: 0.4961 - val_sparse_categorical_accuracy: 0.8333 - lr: 1.0000e-05\n",
            "Epoch 15/100\n",
            "173/173 [==============================] - 3s 15ms/step - loss: 0.5064 - sparse_categorical_accuracy: 0.8329 - val_loss: 0.4936 - val_sparse_categorical_accuracy: 0.8333 - lr: 1.0000e-06\n",
            "Epoch 16/100\n",
            "173/173 [==============================] - 2s 13ms/step - loss: 0.5065 - sparse_categorical_accuracy: 0.8327 - val_loss: 0.4936 - val_sparse_categorical_accuracy: 0.8333 - lr: 1.0000e-06\n",
            "Epoch 17/100\n",
            "173/173 [==============================] - 2s 13ms/step - loss: 0.5091 - sparse_categorical_accuracy: 0.8329 - val_loss: 0.4939 - val_sparse_categorical_accuracy: 0.8333 - lr: 1.0000e-06\n",
            "Epoch 18/100\n",
            "173/173 [==============================] - 2s 13ms/step - loss: 0.5069 - sparse_categorical_accuracy: 0.8329 - val_loss: 0.4943 - val_sparse_categorical_accuracy: 0.8333 - lr: 1.0000e-06\n",
            "Epoch 19/100\n",
            "173/173 [==============================] - 2s 13ms/step - loss: 0.5091 - sparse_categorical_accuracy: 0.8327 - val_loss: 0.4937 - val_sparse_categorical_accuracy: 0.8333 - lr: 1.0000e-07\n",
            "Epoch 20/100\n",
            "173/173 [==============================] - 2s 13ms/step - loss: 0.5073 - sparse_categorical_accuracy: 0.8329 - val_loss: 0.4938 - val_sparse_categorical_accuracy: 0.8333 - lr: 1.0000e-07\n",
            "Epoch 21/100\n",
            "173/173 [==============================] - 2s 13ms/step - loss: 0.5125 - sparse_categorical_accuracy: 0.8331 - val_loss: 0.4938 - val_sparse_categorical_accuracy: 0.8333 - lr: 1.0000e-07\n",
            "Epoch 22/100\n",
            "173/173 [==============================] - 3s 15ms/step - loss: 0.5010 - sparse_categorical_accuracy: 0.8329 - val_loss: 0.4936 - val_sparse_categorical_accuracy: 0.8333 - lr: 1.0000e-08\n",
            "Epoch 23/100\n",
            "173/173 [==============================] - 2s 13ms/step - loss: 0.5059 - sparse_categorical_accuracy: 0.8327 - val_loss: 0.4936 - val_sparse_categorical_accuracy: 0.8333 - lr: 1.0000e-08\n",
            "Epoch 24/100\n",
            "173/173 [==============================] - 2s 12ms/step - loss: 0.5042 - sparse_categorical_accuracy: 0.8327 - val_loss: 0.4938 - val_sparse_categorical_accuracy: 0.8333 - lr: 1.0000e-08\n",
            "Epoch 25/100\n",
            "173/173 [==============================] - 2s 13ms/step - loss: 0.5030 - sparse_categorical_accuracy: 0.8329 - val_loss: 0.4935 - val_sparse_categorical_accuracy: 0.8333 - lr: 1.0000e-09\n",
            "Epoch 26/100\n",
            "173/173 [==============================] - 2s 12ms/step - loss: 0.5020 - sparse_categorical_accuracy: 0.8329 - val_loss: 0.4938 - val_sparse_categorical_accuracy: 0.8333 - lr: 1.0000e-09\n",
            "Epoch 27/100\n",
            "173/173 [==============================] - 2s 12ms/step - loss: 0.5049 - sparse_categorical_accuracy: 0.8329 - val_loss: 0.4939 - val_sparse_categorical_accuracy: 0.8333 - lr: 1.0000e-09\n",
            "Epoch 28/100\n",
            "173/173 [==============================] - 2s 12ms/step - loss: 0.5033 - sparse_categorical_accuracy: 0.8329 - val_loss: 0.4936 - val_sparse_categorical_accuracy: 0.8333 - lr: 1.0000e-09\n",
            "Epoch 29/100\n",
            "173/173 [==============================] - 2s 13ms/step - loss: 0.5045 - sparse_categorical_accuracy: 0.8329 - val_loss: 0.4937 - val_sparse_categorical_accuracy: 0.8333 - lr: 1.0000e-10\n",
            "Epoch 30/100\n",
            "173/173 [==============================] - 2s 12ms/step - loss: 0.5073 - sparse_categorical_accuracy: 0.8327 - val_loss: 0.4936 - val_sparse_categorical_accuracy: 0.8333 - lr: 1.0000e-10\n",
            "Epoch 31/100\n",
            "173/173 [==============================] - 3s 15ms/step - loss: 0.5073 - sparse_categorical_accuracy: 0.8329 - val_loss: 0.4935 - val_sparse_categorical_accuracy: 0.8333 - lr: 1.0000e-10\n",
            "Epoch 32/100\n",
            "173/173 [==============================] - 2s 13ms/step - loss: 0.5053 - sparse_categorical_accuracy: 0.8333 - val_loss: 0.4934 - val_sparse_categorical_accuracy: 0.8333 - lr: 1.0000e-11\n",
            "Epoch 33/100\n",
            "173/173 [==============================] - 2s 12ms/step - loss: 0.5084 - sparse_categorical_accuracy: 0.8327 - val_loss: 0.4934 - val_sparse_categorical_accuracy: 0.8333 - lr: 1.0000e-11\n",
            "Epoch 34/100\n",
            "173/173 [==============================] - 2s 12ms/step - loss: 0.5091 - sparse_categorical_accuracy: 0.8329 - val_loss: 0.4935 - val_sparse_categorical_accuracy: 0.8333 - lr: 1.0000e-11\n",
            "Epoch 35/100\n",
            "173/173 [==============================] - 2s 13ms/step - loss: 0.5106 - sparse_categorical_accuracy: 0.8327 - val_loss: 0.4937 - val_sparse_categorical_accuracy: 0.8333 - lr: 1.0000e-11\n",
            "Epoch 36/100\n",
            "173/173 [==============================] - 2s 13ms/step - loss: 0.5070 - sparse_categorical_accuracy: 0.8329 - val_loss: 0.4940 - val_sparse_categorical_accuracy: 0.8333 - lr: 1.0000e-12\n",
            "Epoch 37/100\n",
            "173/173 [==============================] - 2s 12ms/step - loss: 0.4993 - sparse_categorical_accuracy: 0.8329 - val_loss: 0.4940 - val_sparse_categorical_accuracy: 0.8333 - lr: 1.0000e-12\n",
            "Epoch 38/100\n",
            "173/173 [==============================] - 3s 15ms/step - loss: 0.5074 - sparse_categorical_accuracy: 0.8329 - val_loss: 0.4934 - val_sparse_categorical_accuracy: 0.8333 - lr: 1.0000e-12\n",
            "Epoch 39/100\n",
            "173/173 [==============================] - 2s 13ms/step - loss: 0.5133 - sparse_categorical_accuracy: 0.8329 - val_loss: 0.4936 - val_sparse_categorical_accuracy: 0.8333 - lr: 1.0000e-12\n",
            "Epoch 40/100\n",
            "173/173 [==============================] - 2s 12ms/step - loss: 0.5061 - sparse_categorical_accuracy: 0.8327 - val_loss: 0.4937 - val_sparse_categorical_accuracy: 0.8333 - lr: 1.0000e-12\n",
            "Epoch 41/100\n",
            "173/173 [==============================] - 2s 12ms/step - loss: 0.5028 - sparse_categorical_accuracy: 0.8329 - val_loss: 0.4937 - val_sparse_categorical_accuracy: 0.8333 - lr: 1.0000e-12\n",
            "Epoch 42/100\n",
            "173/173 [==============================] - 2s 13ms/step - loss: 0.5050 - sparse_categorical_accuracy: 0.8329 - val_loss: 0.4933 - val_sparse_categorical_accuracy: 0.8333 - lr: 1.0000e-12\n",
            "Epoch 43/100\n",
            "173/173 [==============================] - 2s 13ms/step - loss: 0.5034 - sparse_categorical_accuracy: 0.8329 - val_loss: 0.4936 - val_sparse_categorical_accuracy: 0.8333 - lr: 1.0000e-12\n",
            "Epoch 44/100\n",
            "173/173 [==============================] - 3s 17ms/step - loss: 0.5087 - sparse_categorical_accuracy: 0.8327 - val_loss: 0.4933 - val_sparse_categorical_accuracy: 0.8333 - lr: 1.0000e-12\n",
            "Epoch 45/100\n",
            "173/173 [==============================] - 2s 13ms/step - loss: 0.5110 - sparse_categorical_accuracy: 0.8327 - val_loss: 0.4932 - val_sparse_categorical_accuracy: 0.8333 - lr: 1.0000e-12\n",
            "Epoch 46/100\n",
            "173/173 [==============================] - 2s 13ms/step - loss: 0.5039 - sparse_categorical_accuracy: 0.8329 - val_loss: 0.4937 - val_sparse_categorical_accuracy: 0.8333 - lr: 1.0000e-12\n",
            "Epoch 47/100\n",
            "173/173 [==============================] - 2s 13ms/step - loss: 0.5048 - sparse_categorical_accuracy: 0.8329 - val_loss: 0.4940 - val_sparse_categorical_accuracy: 0.8333 - lr: 1.0000e-12\n",
            "Epoch 48/100\n",
            "173/173 [==============================] - 2s 13ms/step - loss: 0.5041 - sparse_categorical_accuracy: 0.8331 - val_loss: 0.4933 - val_sparse_categorical_accuracy: 0.8333 - lr: 1.0000e-12\n",
            "Epoch 49/100\n",
            "173/173 [==============================] - 2s 13ms/step - loss: 0.5086 - sparse_categorical_accuracy: 0.8325 - val_loss: 0.4941 - val_sparse_categorical_accuracy: 0.8333 - lr: 1.0000e-12\n",
            "Epoch 50/100\n",
            "173/173 [==============================] - 2s 13ms/step - loss: 0.5065 - sparse_categorical_accuracy: 0.8329 - val_loss: 0.4939 - val_sparse_categorical_accuracy: 0.8333 - lr: 1.0000e-12\n",
            "Epoch 51/100\n",
            "173/173 [==============================] - 2s 12ms/step - loss: 0.5104 - sparse_categorical_accuracy: 0.8329 - val_loss: 0.4934 - val_sparse_categorical_accuracy: 0.8333 - lr: 1.0000e-12\n",
            "Epoch 52/100\n",
            "173/173 [==============================] - 2s 12ms/step - loss: 0.5125 - sparse_categorical_accuracy: 0.8329 - val_loss: 0.4938 - val_sparse_categorical_accuracy: 0.8333 - lr: 1.0000e-12\n",
            "Epoch 53/100\n",
            "173/173 [==============================] - 2s 13ms/step - loss: 0.5088 - sparse_categorical_accuracy: 0.8329 - val_loss: 0.4940 - val_sparse_categorical_accuracy: 0.8333 - lr: 1.0000e-12\n",
            "Epoch 54/100\n",
            "173/173 [==============================] - 2s 13ms/step - loss: 0.5020 - sparse_categorical_accuracy: 0.8327 - val_loss: 0.4939 - val_sparse_categorical_accuracy: 0.8333 - lr: 1.0000e-12\n",
            "Epoch 55/100\n",
            "173/173 [==============================] - 2s 12ms/step - loss: 0.5030 - sparse_categorical_accuracy: 0.8327 - val_loss: 0.4939 - val_sparse_categorical_accuracy: 0.8333 - lr: 1.0000e-12\n"
          ]
        }
      ]
    },
    {
      "cell_type": "code",
      "source": [
        "y_pred = mSpec_model.predict(mSpec_val)"
      ],
      "metadata": {
        "id": "yu6AIYhP6COs"
      },
      "execution_count": 53,
      "outputs": []
    },
    {
      "cell_type": "code",
      "source": [
        "from sklearn.metrics import confusion_matrix, plot_confusion_matrix\n",
        "confusion_matrix(np.argmax(y_pred, axis = 1), yval_2)"
      ],
      "metadata": {
        "colab": {
          "base_uri": "https://localhost:8080/"
        },
        "id": "ZL3s0M7S6CMn",
        "outputId": "9cc2ba78-5d97-4adf-e74f-c70b76dfbcc5"
      },
      "execution_count": 54,
      "outputs": [
        {
          "output_type": "execute_result",
          "data": {
            "text/plain": [
              "array([[   0,    0,    0,    0,    0,    0,    0,    0],\n",
              "       [   0,    0,    0,    0,    0,    0,    0,    0],\n",
              "       [   0,    0,    0,    0,    0,    0,    0,    0],\n",
              "       [   1,   21,   32, 1150,   64,    6,   57,   49],\n",
              "       [   0,    0,    0,    0,    0,    0,    0,    0],\n",
              "       [   0,    0,    0,    0,    0,    0,    0,    0],\n",
              "       [   0,    0,    0,    0,    0,    0,    0,    0],\n",
              "       [   0,    0,    0,    0,    0,    0,    0,    0]])"
            ]
          },
          "metadata": {},
          "execution_count": 54
        }
      ]
    },
    {
      "cell_type": "code",
      "source": [
        "from sklearn.metrics import classification_report\n",
        "\n",
        "target_names=['URTI', 'Healthy', 'Asthma', 'COPD', 'LRTI', 'Bronchiectasis', 'Pheumonia', 'Bronchiolitis']\n",
        "clf_report = classification_report(yval_2, np.argmax(y_pred, axis = 1), target_names=target_names, output_dict=True)\n",
        "print(classification_report(yval_2, np.argmax(y_pred, axis = 1), target_names=target_names))"
      ],
      "metadata": {
        "colab": {
          "base_uri": "https://localhost:8080/"
        },
        "id": "qyDViwbv6CKh",
        "outputId": "8781b3cc-a6b2-44f7-f894-d9c0fe2c341a"
      },
      "execution_count": 55,
      "outputs": [
        {
          "output_type": "stream",
          "name": "stdout",
          "text": [
            "                precision    recall  f1-score   support\n",
            "\n",
            "          URTI       0.00      0.00      0.00         1\n",
            "       Healthy       0.00      0.00      0.00        21\n",
            "        Asthma       0.00      0.00      0.00        32\n",
            "          COPD       0.83      1.00      0.91      1150\n",
            "          LRTI       0.00      0.00      0.00        64\n",
            "Bronchiectasis       0.00      0.00      0.00         6\n",
            "     Pheumonia       0.00      0.00      0.00        57\n",
            " Bronchiolitis       0.00      0.00      0.00        49\n",
            "\n",
            "      accuracy                           0.83      1380\n",
            "     macro avg       0.10      0.12      0.11      1380\n",
            "  weighted avg       0.69      0.83      0.76      1380\n",
            "\n"
          ]
        },
        {
          "output_type": "stream",
          "name": "stderr",
          "text": [
            "/usr/local/lib/python3.7/dist-packages/sklearn/metrics/_classification.py:1318: UndefinedMetricWarning: Precision and F-score are ill-defined and being set to 0.0 in labels with no predicted samples. Use `zero_division` parameter to control this behavior.\n",
            "  _warn_prf(average, modifier, msg_start, len(result))\n",
            "/usr/local/lib/python3.7/dist-packages/sklearn/metrics/_classification.py:1318: UndefinedMetricWarning: Precision and F-score are ill-defined and being set to 0.0 in labels with no predicted samples. Use `zero_division` parameter to control this behavior.\n",
            "  _warn_prf(average, modifier, msg_start, len(result))\n",
            "/usr/local/lib/python3.7/dist-packages/sklearn/metrics/_classification.py:1318: UndefinedMetricWarning: Precision and F-score are ill-defined and being set to 0.0 in labels with no predicted samples. Use `zero_division` parameter to control this behavior.\n",
            "  _warn_prf(average, modifier, msg_start, len(result))\n",
            "/usr/local/lib/python3.7/dist-packages/sklearn/metrics/_classification.py:1318: UndefinedMetricWarning: Precision and F-score are ill-defined and being set to 0.0 in labels with no predicted samples. Use `zero_division` parameter to control this behavior.\n",
            "  _warn_prf(average, modifier, msg_start, len(result))\n",
            "/usr/local/lib/python3.7/dist-packages/sklearn/metrics/_classification.py:1318: UndefinedMetricWarning: Precision and F-score are ill-defined and being set to 0.0 in labels with no predicted samples. Use `zero_division` parameter to control this behavior.\n",
            "  _warn_prf(average, modifier, msg_start, len(result))\n",
            "/usr/local/lib/python3.7/dist-packages/sklearn/metrics/_classification.py:1318: UndefinedMetricWarning: Precision and F-score are ill-defined and being set to 0.0 in labels with no predicted samples. Use `zero_division` parameter to control this behavior.\n",
            "  _warn_prf(average, modifier, msg_start, len(result))\n"
          ]
        }
      ]
    }
  ]
}