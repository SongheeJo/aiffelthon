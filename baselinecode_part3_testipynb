{
  "nbformat": 4,
  "nbformat_minor": 0,
  "metadata": {
    "colab": {
      "name": "Respiratory-Disease-Detection_part-3-feature-extraction-modeling-95-acc.ipynb",
      "provenance": [],
      "collapsed_sections": [],
      "machine_shape": "hm",
      "mount_file_id": "1thvtW1_6s6S9Qj_jEcN2FAQAgCfXiJJ-",
      "authorship_tag": "ABX9TyMJ/tVXQYEvqOFvQJmkaJYa",
      "include_colab_link": true
    },
    "kernelspec": {
      "name": "python3",
      "display_name": "Python 3"
    },
    "language_info": {
      "name": "python"
    },
    "accelerator": "GPU"
  },
  "cells": [
    {
      "cell_type": "markdown",
      "metadata": {
        "id": "view-in-github",
        "colab_type": "text"
      },
      "source": [
        "<a href=\"https://colab.research.google.com/github/SongheeJo/aiffelthon/blob/main/baselinecode_part3_testipynb\" target=\"_parent\"><img src=\"https://colab.research.google.com/assets/colab-badge.svg\" alt=\"Open In Colab\"/></a>"
      ]
    },
    {
      "cell_type": "code",
      "execution_count": 1,
      "metadata": {
        "id": "3K_dex7BkIWa"
      },
      "outputs": [],
      "source": [
        "import numpy as np\n",
        "import pandas as pd\n",
        "import tensorflow as tf\n",
        "from tensorflow import keras\n",
        "import matplotlib.pyplot as plt\n",
        "import seaborn as sns\n",
        "\n",
        "import librosa as lb\n",
        "import librosa.display as lbd\n",
        "import os"
      ]
    },
    {
      "cell_type": "code",
      "source": [
        "train = pd.read_csv('/content/drive/MyDrive/train.csv')\n",
        "val= pd.read_csv('/content/drive/MyDrive/val.csv')\n",
        "train.head()"
      ],
      "metadata": {
        "colab": {
          "base_uri": "https://localhost:8080/",
          "height": 206
        },
        "id": "8nSVoB2eka-L",
        "outputId": "afe30cab-cd42-4ca5-c396-56c014fac78a"
      },
      "execution_count": 2,
      "outputs": [
        {
          "output_type": "execute_result",
          "data": {
            "text/plain": [
              "   Unnamed: 0  pid                       filename  disease\n",
              "0        1572  132   132_2b2_Lr_mc_LittC2SE_1.wav     COPD\n",
              "1        2266  143  143_1b1_Al_sc_Meditron_17.wav  Healthy\n",
              "2         561  154   154_4b4_Pr_mc_AKGC417L_4.wav     COPD\n",
              "3        3165  209   209_1b1_Tc_sc_Meditron_2.wav  Healthy\n",
              "4        1349  130   130_2b2_Ll_mc_AKGC417L_7.wav     COPD"
            ],
            "text/html": [
              "\n",
              "  <div id=\"df-69832f4a-bd33-4c59-944f-a409ec4944d3\">\n",
              "    <div class=\"colab-df-container\">\n",
              "      <div>\n",
              "<style scoped>\n",
              "    .dataframe tbody tr th:only-of-type {\n",
              "        vertical-align: middle;\n",
              "    }\n",
              "\n",
              "    .dataframe tbody tr th {\n",
              "        vertical-align: top;\n",
              "    }\n",
              "\n",
              "    .dataframe thead th {\n",
              "        text-align: right;\n",
              "    }\n",
              "</style>\n",
              "<table border=\"1\" class=\"dataframe\">\n",
              "  <thead>\n",
              "    <tr style=\"text-align: right;\">\n",
              "      <th></th>\n",
              "      <th>Unnamed: 0</th>\n",
              "      <th>pid</th>\n",
              "      <th>filename</th>\n",
              "      <th>disease</th>\n",
              "    </tr>\n",
              "  </thead>\n",
              "  <tbody>\n",
              "    <tr>\n",
              "      <th>0</th>\n",
              "      <td>1572</td>\n",
              "      <td>132</td>\n",
              "      <td>132_2b2_Lr_mc_LittC2SE_1.wav</td>\n",
              "      <td>COPD</td>\n",
              "    </tr>\n",
              "    <tr>\n",
              "      <th>1</th>\n",
              "      <td>2266</td>\n",
              "      <td>143</td>\n",
              "      <td>143_1b1_Al_sc_Meditron_17.wav</td>\n",
              "      <td>Healthy</td>\n",
              "    </tr>\n",
              "    <tr>\n",
              "      <th>2</th>\n",
              "      <td>561</td>\n",
              "      <td>154</td>\n",
              "      <td>154_4b4_Pr_mc_AKGC417L_4.wav</td>\n",
              "      <td>COPD</td>\n",
              "    </tr>\n",
              "    <tr>\n",
              "      <th>3</th>\n",
              "      <td>3165</td>\n",
              "      <td>209</td>\n",
              "      <td>209_1b1_Tc_sc_Meditron_2.wav</td>\n",
              "      <td>Healthy</td>\n",
              "    </tr>\n",
              "    <tr>\n",
              "      <th>4</th>\n",
              "      <td>1349</td>\n",
              "      <td>130</td>\n",
              "      <td>130_2b2_Ll_mc_AKGC417L_7.wav</td>\n",
              "      <td>COPD</td>\n",
              "    </tr>\n",
              "  </tbody>\n",
              "</table>\n",
              "</div>\n",
              "      <button class=\"colab-df-convert\" onclick=\"convertToInteractive('df-69832f4a-bd33-4c59-944f-a409ec4944d3')\"\n",
              "              title=\"Convert this dataframe to an interactive table.\"\n",
              "              style=\"display:none;\">\n",
              "        \n",
              "  <svg xmlns=\"http://www.w3.org/2000/svg\" height=\"24px\"viewBox=\"0 0 24 24\"\n",
              "       width=\"24px\">\n",
              "    <path d=\"M0 0h24v24H0V0z\" fill=\"none\"/>\n",
              "    <path d=\"M18.56 5.44l.94 2.06.94-2.06 2.06-.94-2.06-.94-.94-2.06-.94 2.06-2.06.94zm-11 1L8.5 8.5l.94-2.06 2.06-.94-2.06-.94L8.5 2.5l-.94 2.06-2.06.94zm10 10l.94 2.06.94-2.06 2.06-.94-2.06-.94-.94-2.06-.94 2.06-2.06.94z\"/><path d=\"M17.41 7.96l-1.37-1.37c-.4-.4-.92-.59-1.43-.59-.52 0-1.04.2-1.43.59L10.3 9.45l-7.72 7.72c-.78.78-.78 2.05 0 2.83L4 21.41c.39.39.9.59 1.41.59.51 0 1.02-.2 1.41-.59l7.78-7.78 2.81-2.81c.8-.78.8-2.07 0-2.86zM5.41 20L4 18.59l7.72-7.72 1.47 1.35L5.41 20z\"/>\n",
              "  </svg>\n",
              "      </button>\n",
              "      \n",
              "  <style>\n",
              "    .colab-df-container {\n",
              "      display:flex;\n",
              "      flex-wrap:wrap;\n",
              "      gap: 12px;\n",
              "    }\n",
              "\n",
              "    .colab-df-convert {\n",
              "      background-color: #E8F0FE;\n",
              "      border: none;\n",
              "      border-radius: 50%;\n",
              "      cursor: pointer;\n",
              "      display: none;\n",
              "      fill: #1967D2;\n",
              "      height: 32px;\n",
              "      padding: 0 0 0 0;\n",
              "      width: 32px;\n",
              "    }\n",
              "\n",
              "    .colab-df-convert:hover {\n",
              "      background-color: #E2EBFA;\n",
              "      box-shadow: 0px 1px 2px rgba(60, 64, 67, 0.3), 0px 1px 3px 1px rgba(60, 64, 67, 0.15);\n",
              "      fill: #174EA6;\n",
              "    }\n",
              "\n",
              "    [theme=dark] .colab-df-convert {\n",
              "      background-color: #3B4455;\n",
              "      fill: #D2E3FC;\n",
              "    }\n",
              "\n",
              "    [theme=dark] .colab-df-convert:hover {\n",
              "      background-color: #434B5C;\n",
              "      box-shadow: 0px 1px 3px 1px rgba(0, 0, 0, 0.15);\n",
              "      filter: drop-shadow(0px 1px 2px rgba(0, 0, 0, 0.3));\n",
              "      fill: #FFFFFF;\n",
              "    }\n",
              "  </style>\n",
              "\n",
              "      <script>\n",
              "        const buttonEl =\n",
              "          document.querySelector('#df-69832f4a-bd33-4c59-944f-a409ec4944d3 button.colab-df-convert');\n",
              "        buttonEl.style.display =\n",
              "          google.colab.kernel.accessAllowed ? 'block' : 'none';\n",
              "\n",
              "        async function convertToInteractive(key) {\n",
              "          const element = document.querySelector('#df-69832f4a-bd33-4c59-944f-a409ec4944d3');\n",
              "          const dataTable =\n",
              "            await google.colab.kernel.invokeFunction('convertToInteractive',\n",
              "                                                     [key], {});\n",
              "          if (!dataTable) return;\n",
              "\n",
              "          const docLinkHtml = 'Like what you see? Visit the ' +\n",
              "            '<a target=\"_blank\" href=https://colab.research.google.com/notebooks/data_table.ipynb>data table notebook</a>'\n",
              "            + ' to learn more about interactive tables.';\n",
              "          element.innerHTML = '';\n",
              "          dataTable['output_type'] = 'display_data';\n",
              "          await google.colab.output.renderOutput(dataTable, element);\n",
              "          const docLink = document.createElement('div');\n",
              "          docLink.innerHTML = docLinkHtml;\n",
              "          element.appendChild(docLink);\n",
              "        }\n",
              "      </script>\n",
              "    </div>\n",
              "  </div>\n",
              "  "
            ]
          },
          "metadata": {},
          "execution_count": 2
        }
      ]
    },
    {
      "cell_type": "code",
      "source": [
        "ytrain = train.disease # 훈련세트의 정답(레이블)\n",
        "yval = val.disease # 검증세트의 정답(레이블)\n",
        "yval"
      ],
      "metadata": {
        "colab": {
          "base_uri": "https://localhost:8080/"
        },
        "id": "dtrN3fxKkhCq",
        "outputId": "5469b193-645e-4a63-b1f8-828caf95d607"
      },
      "execution_count": 3,
      "outputs": [
        {
          "output_type": "execute_result",
          "data": {
            "text/plain": [
              "0       COPD\n",
              "1       COPD\n",
              "2       COPD\n",
              "3       COPD\n",
              "4       COPD\n",
              "        ... \n",
              "1720    COPD\n",
              "1721    COPD\n",
              "1722    COPD\n",
              "1723    COPD\n",
              "1724    COPD\n",
              "Name: disease, Length: 1725, dtype: object"
            ]
          },
          "metadata": {},
          "execution_count": 3
        }
      ]
    },
    {
      "cell_type": "code",
      "source": [
        "ytrain"
      ],
      "metadata": {
        "colab": {
          "base_uri": "https://localhost:8080/"
        },
        "id": "hREHCzP6kzzs",
        "outputId": "b4bcd90e-508c-4986-aea9-87a0ccfa4c43"
      },
      "execution_count": 4,
      "outputs": [
        {
          "output_type": "execute_result",
          "data": {
            "text/plain": [
              "0          COPD\n",
              "1       Healthy\n",
              "2          COPD\n",
              "3       Healthy\n",
              "4          COPD\n",
              "         ...   \n",
              "5168       COPD\n",
              "5169       COPD\n",
              "5170       COPD\n",
              "5171       COPD\n",
              "5172       COPD\n",
              "Name: disease, Length: 5173, dtype: object"
            ]
          },
          "metadata": {},
          "execution_count": 4
        }
      ]
    },
    {
      "cell_type": "code",
      "source": [
        "# LabelEncoder - object인 레이블(정답)의 자료형을 모델에 넣기 위해 숫자로 변환\n",
        "from sklearn.preprocessing import LabelEncoder\n",
        "le=LabelEncoder()\n",
        "ytrain = le.fit_transform(ytrain)\n",
        "yval = le.transform(yval)"
      ],
      "metadata": {
        "id": "LONibV-hkknj"
      },
      "execution_count": 5,
      "outputs": []
    },
    {
      "cell_type": "markdown",
      "source": [
        "# Feature Extraction\n",
        "\n",
        "리브로사의 feture extraction 방식을 써보자! + 1-by-1으로 각각의 성능을 확인하자!\n"
      ],
      "metadata": {
        "id": "cLc2sj1dlBpU"
      }
    },
    {
      "cell_type": "code",
      "source": [
        "def getFeatures(path):\n",
        "    soundArr,sample_rate=lb.load(path)\n",
        "    mfcc=lb.feature.mfcc(y=soundArr,sr=sample_rate) # 오디오 데이터에서 특성을 뽑는 가장 대표적인 방법\n",
        "    cstft=lb.feature.chroma_stft(y=soundArr, sr=sample_rate) # 특성 추출 방법2\n",
        "    mSpec=lb.feature.melspectrogram(y=soundArr, sr=sample_rate) # 특성 추출 방법3 - 스펙트로그램에 인간의 귀가 주파수 대역이 높고 낮음에 따라 소리를 둔하게/민감하게 받아들이는 정도를 반영하는 mel-scale을 적용하여 구하는 mel-filter bank라는 필터를 적용해서 얻음\n",
        "\n",
        "    return mfcc, cstft, mSpec\n",
        "\n",
        "# to these function,"
      ],
      "metadata": {
        "id": "uwYdBWKbnCdN"
      },
      "execution_count": 6,
      "outputs": []
    },
    {
      "cell_type": "code",
      "source": [
        "# train, val셋 iteration - lb.featureextraction \n",
        "# val 셋\n",
        "root='/content/drive/MyDrive/processed_audio_files/'\n",
        "mfcc,cstft,mSpec=[],[],[]\n",
        "i=0\n",
        "for idx, row in val.iterrows():\n",
        "    path=root + row['filename']\n",
        "    a,b,c=getFeatures(path)\n",
        "    mfcc.append(a)\n",
        "    cstft.append(b)\n",
        "    mSpec.append(c)\n",
        "\n",
        "mfcc_val=np.array(mfcc)\n",
        "cstft_val=np.array(cstft)\n",
        "mSpec_val=np.array(mSpec)\n"
      ],
      "metadata": {
        "colab": {
          "base_uri": "https://localhost:8080/"
        },
        "id": "MFf7py27n1UV",
        "outputId": "5cf8174e-2ba3-450a-9ef3-cf3eaaf5ccea"
      },
      "execution_count": 7,
      "outputs": [
        {
          "output_type": "stream",
          "name": "stderr",
          "text": [
            "/usr/local/lib/python3.7/dist-packages/librosa/core/pitch.py:153: UserWarning: Trying to estimate tuning from empty frequency set.\n",
            "  warnings.warn(\"Trying to estimate tuning from empty frequency set.\")\n"
          ]
        }
      ]
    },
    {
      "cell_type": "code",
      "source": [
        "print(mfcc_val) # append의 결과가 궁금하다."
      ],
      "metadata": {
        "colab": {
          "base_uri": "https://localhost:8080/"
        },
        "id": "-fP2LgWww7_3",
        "outputId": "9796303f-d11d-405b-c08e-7707072a2fd1"
      },
      "execution_count": 8,
      "outputs": [
        {
          "output_type": "stream",
          "name": "stdout",
          "text": [
            "[[[-510.1834  -510.1834  -510.1834  ... -510.1834  -510.1834  -510.1834 ]\n",
            "  [   0.         0.         0.      ...    0.         0.         0.     ]\n",
            "  [   0.         0.         0.      ...    0.         0.         0.     ]\n",
            "  ...\n",
            "  [   0.         0.         0.      ...    0.         0.         0.     ]\n",
            "  [   0.         0.         0.      ...    0.         0.         0.     ]\n",
            "  [   0.         0.         0.      ...    0.         0.         0.     ]]\n",
            "\n",
            " [[-479.44424 -479.44424 -479.44424 ... -479.44424 -479.44424 -479.44424]\n",
            "  [   0.         0.         0.      ...    0.         0.         0.     ]\n",
            "  [   0.         0.         0.      ...    0.         0.         0.     ]\n",
            "  ...\n",
            "  [   0.         0.         0.      ...    0.         0.         0.     ]\n",
            "  [   0.         0.         0.      ...    0.         0.         0.     ]\n",
            "  [   0.         0.         0.      ...    0.         0.         0.     ]]\n",
            "\n",
            " [[-448.7851  -448.7851  -448.7851  ... -448.7851  -448.7851  -448.7851 ]\n",
            "  [   0.         0.         0.      ...    0.         0.         0.     ]\n",
            "  [   0.         0.         0.      ...    0.         0.         0.     ]\n",
            "  ...\n",
            "  [   0.         0.         0.      ...    0.         0.         0.     ]\n",
            "  [   0.         0.         0.      ...    0.         0.         0.     ]\n",
            "  [   0.         0.         0.      ...    0.         0.         0.     ]]\n",
            "\n",
            " ...\n",
            "\n",
            " [[-596.9849  -596.9849  -596.9849  ... -596.9849  -596.9849  -596.9849 ]\n",
            "  [   0.         0.         0.      ...    0.         0.         0.     ]\n",
            "  [   0.         0.         0.      ...    0.         0.         0.     ]\n",
            "  ...\n",
            "  [   0.         0.         0.      ...    0.         0.         0.     ]\n",
            "  [   0.         0.         0.      ...    0.         0.         0.     ]\n",
            "  [   0.         0.         0.      ...    0.         0.         0.     ]]\n",
            "\n",
            " [[-479.41843 -479.41843 -479.41843 ... -479.41843 -479.41843 -479.41843]\n",
            "  [   0.         0.         0.      ...    0.         0.         0.     ]\n",
            "  [   0.         0.         0.      ...    0.         0.         0.     ]\n",
            "  ...\n",
            "  [   0.         0.         0.      ...    0.         0.         0.     ]\n",
            "  [   0.         0.         0.      ...    0.         0.         0.     ]\n",
            "  [   0.         0.         0.      ...    0.         0.         0.     ]]\n",
            "\n",
            " [[-515.36597 -515.36597 -515.36597 ... -515.36597 -515.36597 -515.36597]\n",
            "  [   0.         0.         0.      ...    0.         0.         0.     ]\n",
            "  [   0.         0.         0.      ...    0.         0.         0.     ]\n",
            "  ...\n",
            "  [   0.         0.         0.      ...    0.         0.         0.     ]\n",
            "  [   0.         0.         0.      ...    0.         0.         0.     ]\n",
            "  [   0.         0.         0.      ...    0.         0.         0.     ]]]\n"
          ]
        }
      ]
    },
    {
      "cell_type": "code",
      "source": [
        "# train 셋\n",
        "root='/content/drive/MyDrive/processed_audio_files/'\n",
        "mfcc,cstft,mSpec=[],[],[]\n",
        "i=0\n",
        "for idx,row in train.iterrows():\n",
        "    path=root + row['filename']\n",
        "    a,b,c=getFeatures(path)\n",
        "    mfcc.append(a)\n",
        "    cstft.append(b)\n",
        "    mSpec.append(c)\n",
        "    \n",
        "mfcc_train=np.array(mfcc)\n",
        "cstft_train=np.array(cstft)\n",
        "mSpec_train=np.array(mSpec)"
      ],
      "metadata": {
        "colab": {
          "base_uri": "https://localhost:8080/"
        },
        "id": "tIFdXnGeVae_",
        "outputId": "319644d7-bfd1-4ec0-8988-3c25fcbea9c6"
      },
      "execution_count": 9,
      "outputs": [
        {
          "output_type": "stream",
          "name": "stderr",
          "text": [
            "/usr/local/lib/python3.7/dist-packages/librosa/core/pitch.py:153: UserWarning: Trying to estimate tuning from empty frequency set.\n",
            "  warnings.warn(\"Trying to estimate tuning from empty frequency set.\")\n"
          ]
        }
      ]
    },
    {
      "cell_type": "markdown",
      "source": [
        "# Testing Features\n",
        "Let's create model using Keras Functional API to check how the features perform.\n",
        "\n",
        "* Functional API(함수형 API)\n",
        "케라스의 모델 설계 방식은 Sequential API와 Fuctional API 두 가지가 있다. Sequential API는 단순히 층을 쌓는 것으로 직관적이고 편리하다. 하지만 좀 더 복잡한 신경망은 구현할 수 없다. Fuctional API는 Sequential API만으로는 구현할 수 없는 모델을 만들 수 있다. (여러 층을 공유하거나 다양한 종류의 입력과 출력을 사용하는 등..)"
      ],
      "metadata": {
        "id": "vhkL_uwJsheY"
      }
    },
    {
      "cell_type": "code",
      "source": [
        "my_callbacks = [\n",
        "                tf.keras.callbacks.EarlyStopping(patience=5),\n",
        "                tf.keras.callbacks.ReduceLROnPlateau(monitor='val_loss', factor=0.1,\n",
        "                                                     patience=3, min_lr=0.00001, mode='min'),\n",
        "                tf.keras.callbacks.ModelCheckpoint('hbNet', monitor='val_loss', verbose=0, save_best_only=True,)\n",
        "]"
      ],
      "metadata": {
        "id": "TgZmL5tMsgzZ"
      },
      "execution_count": 10,
      "outputs": []
    },
    {
      "cell_type": "markdown",
      "source": [
        "3가지 CNN을 만들고, 이것들 Dense Network로 combine"
      ],
      "metadata": {
        "id": "EjKMGvl90Rfk"
      }
    },
    {
      "cell_type": "code",
      "source": [
        "mfcc_input=keras.layers.Input(shape=(20,259,1),name=\"mfccInput\")\n",
        "x=keras.layers.Conv2D(32,5,strides=(1,3),padding='same')(mfcc_input)\n",
        "x=keras.layers.BatchNormalization()(x)\n",
        "x=keras.layers.Activation(keras.activations.relu)(x)\n",
        "x=keras.layers.MaxPooling2D(pool_size=2,padding='valid')(x)\n",
        "\n",
        "x=keras.layers.Conv2D(64,3,strides=(1,2),padding='same')(x)\n",
        "x=keras.layers.BatchNormalization()(x)\n",
        "x=keras.layers.Activation(keras.activations.relu)(x)\n",
        "x=keras.layers.MaxPooling2D(pool_size=2,padding='valid')(x)\n",
        "\n",
        "x=keras.layers.Conv2D(96,2,padding='same')(x)\n",
        "x=keras.layers.BatchNormalization()(x)\n",
        "x=keras.layers.Activation(keras.activations.relu)(x)\n",
        "x=keras.layers.MaxPooling2D(pool_size=2,padding='valid')(x)\n",
        "\n",
        "x=keras.layers.Conv2D(128,2,padding='same')(x)\n",
        "x=keras.layers.BatchNormalization()(x)\n",
        "x=keras.layers.Activation(keras.activations.relu)(x)\n",
        "mfcc_output=keras.layers.GlobalMaxPooling2D()(x)\n",
        "\n",
        "mfcc_model=keras.Model(mfcc_input, mfcc_output, name=\"mfccModel\")"
      ],
      "metadata": {
        "id": "AbPJdR7D0Qz1"
      },
      "execution_count": 11,
      "outputs": []
    },
    {
      "cell_type": "code",
      "source": [
        "mfcc_model.summary()"
      ],
      "metadata": {
        "colab": {
          "base_uri": "https://localhost:8080/"
        },
        "id": "CHaqJxth4RS8",
        "outputId": "e1c61c6c-40f9-4096-cc24-79c29186e063"
      },
      "execution_count": 12,
      "outputs": [
        {
          "output_type": "stream",
          "name": "stdout",
          "text": [
            "Model: \"mfccModel\"\n",
            "_________________________________________________________________\n",
            " Layer (type)                Output Shape              Param #   \n",
            "=================================================================\n",
            " mfccInput (InputLayer)      [(None, 20, 259, 1)]      0         \n",
            "                                                                 \n",
            " conv2d (Conv2D)             (None, 20, 87, 32)        832       \n",
            "                                                                 \n",
            " batch_normalization (BatchN  (None, 20, 87, 32)       128       \n",
            " ormalization)                                                   \n",
            "                                                                 \n",
            " activation (Activation)     (None, 20, 87, 32)        0         \n",
            "                                                                 \n",
            " max_pooling2d (MaxPooling2D  (None, 10, 43, 32)       0         \n",
            " )                                                               \n",
            "                                                                 \n",
            " conv2d_1 (Conv2D)           (None, 10, 22, 64)        18496     \n",
            "                                                                 \n",
            " batch_normalization_1 (Batc  (None, 10, 22, 64)       256       \n",
            " hNormalization)                                                 \n",
            "                                                                 \n",
            " activation_1 (Activation)   (None, 10, 22, 64)        0         \n",
            "                                                                 \n",
            " max_pooling2d_1 (MaxPooling  (None, 5, 11, 64)        0         \n",
            " 2D)                                                             \n",
            "                                                                 \n",
            " conv2d_2 (Conv2D)           (None, 5, 11, 96)         24672     \n",
            "                                                                 \n",
            " batch_normalization_2 (Batc  (None, 5, 11, 96)        384       \n",
            " hNormalization)                                                 \n",
            "                                                                 \n",
            " activation_2 (Activation)   (None, 5, 11, 96)         0         \n",
            "                                                                 \n",
            " max_pooling2d_2 (MaxPooling  (None, 2, 5, 96)         0         \n",
            " 2D)                                                             \n",
            "                                                                 \n",
            " conv2d_3 (Conv2D)           (None, 2, 5, 128)         49280     \n",
            "                                                                 \n",
            " batch_normalization_3 (Batc  (None, 2, 5, 128)        512       \n",
            " hNormalization)                                                 \n",
            "                                                                 \n",
            " activation_3 (Activation)   (None, 2, 5, 128)         0         \n",
            "                                                                 \n",
            " global_max_pooling2d (Globa  (None, 128)              0         \n",
            " lMaxPooling2D)                                                  \n",
            "                                                                 \n",
            "=================================================================\n",
            "Total params: 94,560\n",
            "Trainable params: 93,920\n",
            "Non-trainable params: 640\n",
            "_________________________________________________________________\n"
          ]
        }
      ]
    },
    {
      "cell_type": "code",
      "source": [
        "croma_input=keras.layers.Input(shape=(12,259,1),name=\"cromaInput\")\n",
        "x=keras.layers.Conv2D(32,5,strides=(1,3),padding='same')(croma_input)\n",
        "x=keras.layers.BatchNormalization()(x)\n",
        "x=keras.layers.Activation(keras.activations.relu)(x)\n",
        "x=keras.layers.MaxPooling2D(pool_size=2, padding='valid')(x)\n",
        "\n",
        "x=keras.layers.Conv2D(64,3,strides=(1,2),padding='same')(x)\n",
        "x=keras.layers.BatchNormalization()(x)\n",
        "x=keras.layers.Activation(keras.activations.relu)(x)\n",
        "x=keras.layers.MaxPooling2D(pool_size=2,padding='valid')(x)\n",
        "\n",
        "x=keras.layers.Conv2D(128,2,padding='same')(x)\n",
        "x=keras.layers.BatchNormalization()(x)\n",
        "x=keras.layers.Activation(keras.activations.relu)(x)\n",
        "croma_output=keras.layers.GlobalMaxPooling2D()(x)\n",
        "\n",
        "croma_model=keras.Model(croma_input, croma_output, name=\"cromaModel\")"
      ],
      "metadata": {
        "id": "GHpZ9v5l4l9r"
      },
      "execution_count": 13,
      "outputs": []
    },
    {
      "cell_type": "code",
      "source": [
        "croma_model.summary()"
      ],
      "metadata": {
        "colab": {
          "base_uri": "https://localhost:8080/"
        },
        "id": "gtdm9sRyDHEO",
        "outputId": "08a0dba1-efa8-4644-d491-f278ad8a6411"
      },
      "execution_count": 14,
      "outputs": [
        {
          "output_type": "stream",
          "name": "stdout",
          "text": [
            "Model: \"cromaModel\"\n",
            "_________________________________________________________________\n",
            " Layer (type)                Output Shape              Param #   \n",
            "=================================================================\n",
            " cromaInput (InputLayer)     [(None, 12, 259, 1)]      0         \n",
            "                                                                 \n",
            " conv2d_4 (Conv2D)           (None, 12, 87, 32)        832       \n",
            "                                                                 \n",
            " batch_normalization_4 (Batc  (None, 12, 87, 32)       128       \n",
            " hNormalization)                                                 \n",
            "                                                                 \n",
            " activation_4 (Activation)   (None, 12, 87, 32)        0         \n",
            "                                                                 \n",
            " max_pooling2d_3 (MaxPooling  (None, 6, 43, 32)        0         \n",
            " 2D)                                                             \n",
            "                                                                 \n",
            " conv2d_5 (Conv2D)           (None, 6, 22, 64)         18496     \n",
            "                                                                 \n",
            " batch_normalization_5 (Batc  (None, 6, 22, 64)        256       \n",
            " hNormalization)                                                 \n",
            "                                                                 \n",
            " activation_5 (Activation)   (None, 6, 22, 64)         0         \n",
            "                                                                 \n",
            " max_pooling2d_4 (MaxPooling  (None, 3, 11, 64)        0         \n",
            " 2D)                                                             \n",
            "                                                                 \n",
            " conv2d_6 (Conv2D)           (None, 3, 11, 128)        32896     \n",
            "                                                                 \n",
            " batch_normalization_6 (Batc  (None, 3, 11, 128)       512       \n",
            " hNormalization)                                                 \n",
            "                                                                 \n",
            " activation_6 (Activation)   (None, 3, 11, 128)        0         \n",
            "                                                                 \n",
            " global_max_pooling2d_1 (Glo  (None, 128)              0         \n",
            " balMaxPooling2D)                                                \n",
            "                                                                 \n",
            "=================================================================\n",
            "Total params: 53,120\n",
            "Trainable params: 52,672\n",
            "Non-trainable params: 448\n",
            "_________________________________________________________________\n"
          ]
        }
      ]
    },
    {
      "cell_type": "code",
      "source": [
        "mSpec_input=keras.layers.Input(shape=(128,259,1),name=\"mSpecInput\")\n",
        "x=keras.layers.Conv2D(32,5,strides=(2,3),padding='same')(mSpec_input)\n",
        "x=keras.layers.BatchNormalization()(x)\n",
        "x=keras.layers.Activation(keras.activations.relu)(x)\n",
        "x=keras.layers.MaxPooling2D(pool_size=2,padding='valid')(x)\n",
        "\n",
        "x=keras.layers.Conv2D(64,3,strides=(2,2),padding='same')(x)\n",
        "x=keras.layers.BatchNormalization()(x)\n",
        "x=keras.layers.Activation(keras.activations.relu)(x)\n",
        "x=keras.layers.MaxPooling2D(pool_size=2,padding='valid')(x)\n",
        "\n",
        "x=keras.layers.Conv2D(96,2,padding='same')(x)\n",
        "x=keras.layers.BatchNormalization()(x)\n",
        "x=keras.layers.Activation(keras.activations.relu)(x)\n",
        "x=keras.layers.MaxPooling2D(pool_size=2,padding='valid')(x)\n",
        "\n",
        "x=keras.layers.Conv2D(128,2,padding='same')(x)\n",
        "x=keras.layers.BatchNormalization()(x)\n",
        "x=keras.layers.Activation(keras.activations.relu)(x)\n",
        "mSpec_output=keras.layers.GlobalMaxPooling2D()(x)\n",
        "\n",
        "mSpec_model=keras.Model(mSpec_input, mSpec_output, name=\"mSpecModel\")"
      ],
      "metadata": {
        "id": "A7AD_srFDJld"
      },
      "execution_count": 15,
      "outputs": []
    },
    {
      "cell_type": "code",
      "source": [
        "mSpec_model.summary()"
      ],
      "metadata": {
        "colab": {
          "base_uri": "https://localhost:8080/"
        },
        "id": "oTeEi5f-EKK9",
        "outputId": "1b4594de-d3d0-4201-fc69-5b96c7348b92"
      },
      "execution_count": 16,
      "outputs": [
        {
          "output_type": "stream",
          "name": "stdout",
          "text": [
            "Model: \"mSpecModel\"\n",
            "_________________________________________________________________\n",
            " Layer (type)                Output Shape              Param #   \n",
            "=================================================================\n",
            " mSpecInput (InputLayer)     [(None, 128, 259, 1)]     0         \n",
            "                                                                 \n",
            " conv2d_7 (Conv2D)           (None, 64, 87, 32)        832       \n",
            "                                                                 \n",
            " batch_normalization_7 (Batc  (None, 64, 87, 32)       128       \n",
            " hNormalization)                                                 \n",
            "                                                                 \n",
            " activation_7 (Activation)   (None, 64, 87, 32)        0         \n",
            "                                                                 \n",
            " max_pooling2d_5 (MaxPooling  (None, 32, 43, 32)       0         \n",
            " 2D)                                                             \n",
            "                                                                 \n",
            " conv2d_8 (Conv2D)           (None, 16, 22, 64)        18496     \n",
            "                                                                 \n",
            " batch_normalization_8 (Batc  (None, 16, 22, 64)       256       \n",
            " hNormalization)                                                 \n",
            "                                                                 \n",
            " activation_8 (Activation)   (None, 16, 22, 64)        0         \n",
            "                                                                 \n",
            " max_pooling2d_6 (MaxPooling  (None, 8, 11, 64)        0         \n",
            " 2D)                                                             \n",
            "                                                                 \n",
            " conv2d_9 (Conv2D)           (None, 8, 11, 96)         24672     \n",
            "                                                                 \n",
            " batch_normalization_9 (Batc  (None, 8, 11, 96)        384       \n",
            " hNormalization)                                                 \n",
            "                                                                 \n",
            " activation_9 (Activation)   (None, 8, 11, 96)         0         \n",
            "                                                                 \n",
            " max_pooling2d_7 (MaxPooling  (None, 4, 5, 96)         0         \n",
            " 2D)                                                             \n",
            "                                                                 \n",
            " conv2d_10 (Conv2D)          (None, 4, 5, 128)         49280     \n",
            "                                                                 \n",
            " batch_normalization_10 (Bat  (None, 4, 5, 128)        512       \n",
            " chNormalization)                                                \n",
            "                                                                 \n",
            " activation_10 (Activation)  (None, 4, 5, 128)         0         \n",
            "                                                                 \n",
            " global_max_pooling2d_2 (Glo  (None, 128)              0         \n",
            " balMaxPooling2D)                                                \n",
            "                                                                 \n",
            "=================================================================\n",
            "Total params: 94,560\n",
            "Trainable params: 93,920\n",
            "Non-trainable params: 640\n",
            "_________________________________________________________________\n"
          ]
        }
      ]
    },
    {
      "cell_type": "code",
      "source": [
        "# combining 3*CNN 모델\n",
        "input_mfcc=keras.layers.Input(shape=(20,259,1),name=\"mfcc\")\n",
        "mfcc=mfcc_model(input_mfcc)\n",
        "\n",
        "input_croma=keras.layers.Input(shape=(12,259,1),name=\"croma\")\n",
        "croma=croma_model(input_croma)\n",
        "\n",
        "input_mSpec=keras.layers.Input(shape=(128,259,1),name=\"mspec\")\n",
        "mSpec=mSpec_model(input_mSpec)\n",
        "\n",
        "\n",
        "concat=keras.layers.concatenate([mfcc,croma,mSpec])\n",
        "hidden=keras.layers.Dropout(0.2)(concat)\n",
        "hidden=keras.layers.Dense(50,activation='relu')(concat)\n",
        "hidden=keras.layers.Dropout(0.3)(hidden)\n",
        "hidden=keras.layers.Dense(25,activation='relu')(hidden)\n",
        "hidden=keras.layers.Dropout(0.3)(hidden)\n",
        "output=keras.layers.Dense(8,activation='softmax')(hidden)\n",
        "\n",
        "net=keras.Model([input_mfcc,input_croma,input_mSpec], output, name=\"Net\") # 이름은 net로 하자."
      ],
      "metadata": {
        "id": "IMesOkyxEM8W"
      },
      "execution_count": 17,
      "outputs": []
    },
    {
      "cell_type": "code",
      "source": [
        "net.summary()"
      ],
      "metadata": {
        "colab": {
          "base_uri": "https://localhost:8080/"
        },
        "id": "D0TDepktFUwV",
        "outputId": "2be865e4-4a80-42d7-df39-3100c36ad8ea"
      },
      "execution_count": 18,
      "outputs": [
        {
          "output_type": "stream",
          "name": "stdout",
          "text": [
            "Model: \"Net\"\n",
            "__________________________________________________________________________________________________\n",
            " Layer (type)                   Output Shape         Param #     Connected to                     \n",
            "==================================================================================================\n",
            " mfcc (InputLayer)              [(None, 20, 259, 1)  0           []                               \n",
            "                                ]                                                                 \n",
            "                                                                                                  \n",
            " croma (InputLayer)             [(None, 12, 259, 1)  0           []                               \n",
            "                                ]                                                                 \n",
            "                                                                                                  \n",
            " mspec (InputLayer)             [(None, 128, 259, 1  0           []                               \n",
            "                                )]                                                                \n",
            "                                                                                                  \n",
            " mfccModel (Functional)         (None, 128)          94560       ['mfcc[0][0]']                   \n",
            "                                                                                                  \n",
            " cromaModel (Functional)        (None, 128)          53120       ['croma[0][0]']                  \n",
            "                                                                                                  \n",
            " mSpecModel (Functional)        (None, 128)          94560       ['mspec[0][0]']                  \n",
            "                                                                                                  \n",
            " concatenate (Concatenate)      (None, 384)          0           ['mfccModel[0][0]',              \n",
            "                                                                  'cromaModel[0][0]',             \n",
            "                                                                  'mSpecModel[0][0]']             \n",
            "                                                                                                  \n",
            " dense (Dense)                  (None, 50)           19250       ['concatenate[0][0]']            \n",
            "                                                                                                  \n",
            " dropout_1 (Dropout)            (None, 50)           0           ['dense[0][0]']                  \n",
            "                                                                                                  \n",
            " dense_1 (Dense)                (None, 25)           1275        ['dropout_1[0][0]']              \n",
            "                                                                                                  \n",
            " dropout_2 (Dropout)            (None, 25)           0           ['dense_1[0][0]']                \n",
            "                                                                                                  \n",
            " dense_2 (Dense)                (None, 8)            208         ['dropout_2[0][0]']              \n",
            "                                                                                                  \n",
            "==================================================================================================\n",
            "Total params: 262,973\n",
            "Trainable params: 261,245\n",
            "Non-trainable params: 1,728\n",
            "__________________________________________________________________________________________________\n"
          ]
        }
      ]
    },
    {
      "cell_type": "code",
      "source": [
        "keras.utils.plot_model(net, \"net.png\", show_shapes=True)"
      ],
      "metadata": {
        "colab": {
          "base_uri": "https://localhost:8080/",
          "height": 609
        },
        "id": "RMLgR85iFWpF",
        "outputId": "1c8b0839-df71-40e0-f43b-5dc4dc1802e6"
      },
      "execution_count": 19,
      "outputs": [
        {
          "output_type": "execute_result",
          "data": {
            "text/plain": [
              "<IPython.core.display.Image object>"
            ],
            "image/png": "[encoded data removed]"
          },
          "metadata": {},
          "execution_count": 19
        }
      ]
    },
    {
      "cell_type": "code",
      "source": [
        "accuracy='sparse_categorical_accuracy'\n",
        "sparseLoss=keras.losses.SparseCategoricalCrossentropy()\n",
        "\n",
        "from keras import backend as K\n",
        "K.clear_session()\n",
        "net.compile(optimizer='nadam', loss=sparseLoss,metrics=[accuracy])\n",
        "K.set_value(net.optimizer.learning_rate, 0.001)"
      ],
      "metadata": {
        "id": "jTzLzFNSFa19"
      },
      "execution_count": 20,
      "outputs": []
    },
    {
      "cell_type": "code",
      "source": [
        "\n",
        "history=net.fit(\n",
        "    {\"mfcc\":mfcc_train,\"croma\":cstft_train,\"mspec\":mSpec_train},\n",
        "    ytrain,\n",
        "    validation_data=({\"mfcc\":mfcc_val,\"croma\":cstft_val,\"mspec\":mSpec_val},yval),\n",
        "    epochs=100,verbose=0,\n",
        "    callbacks=my_callbacks\n",
        ")"
      ],
      "metadata": {
        "colab": {
          "base_uri": "https://localhost:8080/"
        },
        "id": "oN0lpQMdFtuW",
        "outputId": "1f05108f-da7a-4d48-b103-84439c9c5a18"
      },
      "execution_count": 21,
      "outputs": [
        {
          "output_type": "stream",
          "name": "stdout",
          "text": [
            "INFO:tensorflow:Assets written to: hbNet/assets\n",
            "INFO:tensorflow:Assets written to: hbNet/assets\n",
            "INFO:tensorflow:Assets written to: hbNet/assets\n",
            "INFO:tensorflow:Assets written to: hbNet/assets\n",
            "INFO:tensorflow:Assets written to: hbNet/assets\n",
            "INFO:tensorflow:Assets written to: hbNet/assets\n",
            "INFO:tensorflow:Assets written to: hbNet/assets\n",
            "INFO:tensorflow:Assets written to: hbNet/assets\n",
            "INFO:tensorflow:Assets written to: hbNet/assets\n",
            "INFO:tensorflow:Assets written to: hbNet/assets\n",
            "INFO:tensorflow:Assets written to: hbNet/assets\n",
            "INFO:tensorflow:Assets written to: hbNet/assets\n",
            "INFO:tensorflow:Assets written to: hbNet/assets\n",
            "INFO:tensorflow:Assets written to: hbNet/assets\n",
            "INFO:tensorflow:Assets written to: hbNet/assets\n",
            "INFO:tensorflow:Assets written to: hbNet/assets\n"
          ]
        }
      ]
    },
    {
      "cell_type": "code",
      "source": [
        "pd.DataFrame(history.history).plot()\n",
        "plt.grid(True)\n",
        "plt.gca().set_ylim(-0.1, 1.1) # gca() - Get the current Axes instance on the current figure matching the given keyword args, or create one.\n",
        "plt.show()"
      ],
      "metadata": {
        "colab": {
          "base_uri": "https://localhost:8080/",
          "height": 265
        },
        "id": "w56Hap_YGABO",
        "outputId": "aac7f32a-78d9-4728-ac82-5c7857972abf"
      },
      "execution_count": 22,
      "outputs": [
        {
          "output_type": "display_data",
          "data": {
            "text/plain": [
              "<Figure size 432x288 with 1 Axes>"
            ],
            "image/png": "[encoded data removed]"
          },
          "metadata": {
            "needs_background": "light"
          }
        }
      ]
    },
    {
      "cell_type": "markdown",
      "source": [
        "* The model is a little less accurate but this must account to the use of classes that have very less samples, you can crop these out and i am sure this will improve accuracy to 98% accuracy.\n",
        "<-- HOW??"
      ],
      "metadata": {
        "id": "WbD395oWkyvZ"
      }
    },
    {
      "cell_type": "code",
      "source": [
        "net.evaluate({\"mfcc\":mfcc_val, \"croma\":cstft_val, \"mspec\":mSpec_val},yval)"
      ],
      "metadata": {
        "colab": {
          "base_uri": "https://localhost:8080/"
        },
        "id": "TboK7EmCHKaG",
        "outputId": "f127d10d-ba5a-4280-8164-a83f8540c0cf"
      },
      "execution_count": 23,
      "outputs": [
        {
          "output_type": "stream",
          "name": "stdout",
          "text": [
            "54/54 [==============================] - 0s 6ms/step - loss: 0.1703 - sparse_categorical_accuracy: 0.9403\n"
          ]
        },
        {
          "output_type": "execute_result",
          "data": {
            "text/plain": [
              "[0.1703372299671173, 0.9402898550033569]"
            ]
          },
          "metadata": {},
          "execution_count": 23
        }
      ]
    },
    {
      "cell_type": "code",
      "source": [
        "model=keras.models.load_model('./hbNet')"
      ],
      "metadata": {
        "id": "BXtPfEPKHmBW"
      },
      "execution_count": 24,
      "outputs": []
    },
    {
      "cell_type": "code",
      "source": [
        "model.compile(optimizer='nadam', loss=sparseLoss,metrics=[accuracy])"
      ],
      "metadata": {
        "id": "dPxL7qGYHpU1"
      },
      "execution_count": 25,
      "outputs": []
    },
    {
      "cell_type": "code",
      "source": [
        "loss, acc = model.evaluate({\"mfcc\":mfcc_val,\"croma\":cstft_val,\"mspec\":mSpec_val},yval,verbose=2)\n",
        "print('Restroed model, accuracy: {:5.2f}%'.format(100*acc))"
      ],
      "metadata": {
        "colab": {
          "base_uri": "https://localhost:8080/"
        },
        "id": "ZdwhJizgH2Mu",
        "outputId": "3e08d535-d764-452e-c9c9-7a9ec3990379"
      },
      "execution_count": 26,
      "outputs": [
        {
          "output_type": "stream",
          "name": "stdout",
          "text": [
            "54/54 - 1s - loss: 0.1680 - sparse_categorical_accuracy: 0.9397 - 709ms/epoch - 13ms/step\n",
            "Restroed model, accuracy: 93.97%\n"
          ]
        }
      ]
    },
    {
      "cell_type": "code",
      "source": [
        ""
      ],
      "metadata": {
        "id": "ejoCjQ1gr1Kp"
      },
      "execution_count": 26,
      "outputs": []
    }
  ]
}